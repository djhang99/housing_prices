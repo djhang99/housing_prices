{
 "cells": [
  {
   "cell_type": "code",
   "execution_count": 1,
   "metadata": {},
   "outputs": [],
   "source": [
    "import numpy as np\n",
    "import pandas as pd\n",
    "from sklearn.linear_model import LinearRegression, Ridge, Lasso, ElasticNet\n",
    "from sklearn.preprocessing import StandardScaler, MinMaxScaler\n",
    "from sklearn.model_selection import train_test_split, GridSearchCV, KFold\n",
    "from data_preprocessing_final import initiate_data"
   ]
  },
  {
   "cell_type": "code",
   "execution_count": 2,
   "metadata": {},
   "outputs": [],
   "source": [
    "data = pd.read_csv('Ames_HousePrice.csv', index_col=0)"
   ]
  },
  {
   "cell_type": "code",
   "execution_count": 3,
   "metadata": {},
   "outputs": [],
   "source": [
    "train_data_linear, train_target_linear, test_data_linear, test_target_linear, train_data_tree, train_target_tree, test_data_tree, test_target_tree = initiate_data(data)"
   ]
  },
  {
   "cell_type": "code",
   "execution_count": 4,
   "metadata": {},
   "outputs": [
    {
     "data": {
      "text/html": [
       "<div>\n",
       "<style scoped>\n",
       "    .dataframe tbody tr th:only-of-type {\n",
       "        vertical-align: middle;\n",
       "    }\n",
       "\n",
       "    .dataframe tbody tr th {\n",
       "        vertical-align: top;\n",
       "    }\n",
       "\n",
       "    .dataframe thead th {\n",
       "        text-align: right;\n",
       "    }\n",
       "</style>\n",
       "<table border=\"1\" class=\"dataframe\">\n",
       "  <thead>\n",
       "    <tr style=\"text-align: right;\">\n",
       "      <th></th>\n",
       "      <th>PID</th>\n",
       "      <th>MSZoning</th>\n",
       "      <th>LotShape</th>\n",
       "      <th>LandContour</th>\n",
       "      <th>LotConfig</th>\n",
       "      <th>LandSlope</th>\n",
       "      <th>Neighborhood</th>\n",
       "      <th>Condition1</th>\n",
       "      <th>BldgType</th>\n",
       "      <th>HouseStyle</th>\n",
       "      <th>...</th>\n",
       "      <th>GarageYrBlt</th>\n",
       "      <th>GarageArea</th>\n",
       "      <th>WoodDeckSF</th>\n",
       "      <th>OpenPorchSF</th>\n",
       "      <th>EnclosedPorch</th>\n",
       "      <th>3SsnPorch</th>\n",
       "      <th>ScreenPorch</th>\n",
       "      <th>TotalBath</th>\n",
       "      <th>Bsmt_Unfin_Ratio</th>\n",
       "      <th>TotalLivArea</th>\n",
       "    </tr>\n",
       "  </thead>\n",
       "  <tbody>\n",
       "    <tr>\n",
       "      <th>0</th>\n",
       "      <td>923125030</td>\n",
       "      <td>0.0</td>\n",
       "      <td>1.0</td>\n",
       "      <td>3.0</td>\n",
       "      <td>4.0</td>\n",
       "      <td>0.0</td>\n",
       "      <td>14.0</td>\n",
       "      <td>0.0</td>\n",
       "      <td>0.0</td>\n",
       "      <td>2.0</td>\n",
       "      <td>...</td>\n",
       "      <td>0.491228</td>\n",
       "      <td>0.181452</td>\n",
       "      <td>0.000000</td>\n",
       "      <td>0.000000</td>\n",
       "      <td>0.133399</td>\n",
       "      <td>0.0</td>\n",
       "      <td>0.000000</td>\n",
       "      <td>0.083333</td>\n",
       "      <td>0.000000</td>\n",
       "      <td>0.207745</td>\n",
       "    </tr>\n",
       "    <tr>\n",
       "      <th>1</th>\n",
       "      <td>902207150</td>\n",
       "      <td>6.0</td>\n",
       "      <td>1.0</td>\n",
       "      <td>3.0</td>\n",
       "      <td>4.0</td>\n",
       "      <td>0.0</td>\n",
       "      <td>20.0</td>\n",
       "      <td>2.0</td>\n",
       "      <td>0.0</td>\n",
       "      <td>2.0</td>\n",
       "      <td>...</td>\n",
       "      <td>0.350877</td>\n",
       "      <td>0.322581</td>\n",
       "      <td>0.000000</td>\n",
       "      <td>0.000000</td>\n",
       "      <td>0.181818</td>\n",
       "      <td>0.0</td>\n",
       "      <td>0.000000</td>\n",
       "      <td>0.000000</td>\n",
       "      <td>1.000000</td>\n",
       "      <td>0.262882</td>\n",
       "    </tr>\n",
       "    <tr>\n",
       "      <th>2</th>\n",
       "      <td>902106060</td>\n",
       "      <td>6.0</td>\n",
       "      <td>1.0</td>\n",
       "      <td>3.0</td>\n",
       "      <td>0.0</td>\n",
       "      <td>0.0</td>\n",
       "      <td>20.0</td>\n",
       "      <td>2.0</td>\n",
       "      <td>0.0</td>\n",
       "      <td>5.0</td>\n",
       "      <td>...</td>\n",
       "      <td>0.789474</td>\n",
       "      <td>0.290323</td>\n",
       "      <td>0.000000</td>\n",
       "      <td>0.503509</td>\n",
       "      <td>0.000000</td>\n",
       "      <td>0.0</td>\n",
       "      <td>0.000000</td>\n",
       "      <td>0.166667</td>\n",
       "      <td>1.000000</td>\n",
       "      <td>0.497539</td>\n",
       "    </tr>\n",
       "    <tr>\n",
       "      <th>3</th>\n",
       "      <td>528120030</td>\n",
       "      <td>5.0</td>\n",
       "      <td>0.0</td>\n",
       "      <td>3.0</td>\n",
       "      <td>4.0</td>\n",
       "      <td>0.0</td>\n",
       "      <td>19.0</td>\n",
       "      <td>2.0</td>\n",
       "      <td>0.0</td>\n",
       "      <td>2.0</td>\n",
       "      <td>...</td>\n",
       "      <td>0.991228</td>\n",
       "      <td>0.622984</td>\n",
       "      <td>0.117978</td>\n",
       "      <td>0.078947</td>\n",
       "      <td>0.000000</td>\n",
       "      <td>0.0</td>\n",
       "      <td>0.000000</td>\n",
       "      <td>0.333333</td>\n",
       "      <td>0.416331</td>\n",
       "      <td>0.516574</td>\n",
       "    </tr>\n",
       "    <tr>\n",
       "      <th>4</th>\n",
       "      <td>908127060</td>\n",
       "      <td>5.0</td>\n",
       "      <td>1.0</td>\n",
       "      <td>3.0</td>\n",
       "      <td>4.0</td>\n",
       "      <td>0.0</td>\n",
       "      <td>7.0</td>\n",
       "      <td>2.0</td>\n",
       "      <td>0.0</td>\n",
       "      <td>0.0</td>\n",
       "      <td>...</td>\n",
       "      <td>0.701754</td>\n",
       "      <td>0.387097</td>\n",
       "      <td>0.000000</td>\n",
       "      <td>0.000000</td>\n",
       "      <td>0.042490</td>\n",
       "      <td>0.0</td>\n",
       "      <td>0.204082</td>\n",
       "      <td>0.166667</td>\n",
       "      <td>0.739179</td>\n",
       "      <td>0.314736</td>\n",
       "    </tr>\n",
       "    <tr>\n",
       "      <th>...</th>\n",
       "      <td>...</td>\n",
       "      <td>...</td>\n",
       "      <td>...</td>\n",
       "      <td>...</td>\n",
       "      <td>...</td>\n",
       "      <td>...</td>\n",
       "      <td>...</td>\n",
       "      <td>...</td>\n",
       "      <td>...</td>\n",
       "      <td>...</td>\n",
       "      <td>...</td>\n",
       "      <td>...</td>\n",
       "      <td>...</td>\n",
       "      <td>...</td>\n",
       "      <td>...</td>\n",
       "      <td>...</td>\n",
       "      <td>...</td>\n",
       "      <td>...</td>\n",
       "      <td>...</td>\n",
       "      <td>...</td>\n",
       "      <td>...</td>\n",
       "    </tr>\n",
       "    <tr>\n",
       "      <th>1921</th>\n",
       "      <td>906380030</td>\n",
       "      <td>5.0</td>\n",
       "      <td>0.0</td>\n",
       "      <td>3.0</td>\n",
       "      <td>4.0</td>\n",
       "      <td>0.0</td>\n",
       "      <td>5.0</td>\n",
       "      <td>2.0</td>\n",
       "      <td>0.0</td>\n",
       "      <td>2.0</td>\n",
       "      <td>...</td>\n",
       "      <td>0.982456</td>\n",
       "      <td>0.580645</td>\n",
       "      <td>0.117978</td>\n",
       "      <td>0.052632</td>\n",
       "      <td>0.000000</td>\n",
       "      <td>0.0</td>\n",
       "      <td>0.000000</td>\n",
       "      <td>0.166667</td>\n",
       "      <td>1.000000</td>\n",
       "      <td>0.475222</td>\n",
       "    </tr>\n",
       "    <tr>\n",
       "      <th>1922</th>\n",
       "      <td>904350045</td>\n",
       "      <td>5.0</td>\n",
       "      <td>0.0</td>\n",
       "      <td>0.0</td>\n",
       "      <td>4.0</td>\n",
       "      <td>1.0</td>\n",
       "      <td>21.0</td>\n",
       "      <td>2.0</td>\n",
       "      <td>0.0</td>\n",
       "      <td>0.0</td>\n",
       "      <td>...</td>\n",
       "      <td>0.394737</td>\n",
       "      <td>0.155242</td>\n",
       "      <td>0.000000</td>\n",
       "      <td>0.000000</td>\n",
       "      <td>0.044466</td>\n",
       "      <td>0.0</td>\n",
       "      <td>0.000000</td>\n",
       "      <td>0.000000</td>\n",
       "      <td>0.386667</td>\n",
       "      <td>0.194454</td>\n",
       "    </tr>\n",
       "    <tr>\n",
       "      <th>1923</th>\n",
       "      <td>905201080</td>\n",
       "      <td>5.0</td>\n",
       "      <td>1.0</td>\n",
       "      <td>0.0</td>\n",
       "      <td>4.0</td>\n",
       "      <td>1.0</td>\n",
       "      <td>22.0</td>\n",
       "      <td>3.0</td>\n",
       "      <td>0.0</td>\n",
       "      <td>2.0</td>\n",
       "      <td>...</td>\n",
       "      <td>0.535088</td>\n",
       "      <td>0.217070</td>\n",
       "      <td>0.000000</td>\n",
       "      <td>0.000000</td>\n",
       "      <td>0.000000</td>\n",
       "      <td>0.0</td>\n",
       "      <td>0.000000</td>\n",
       "      <td>0.166667</td>\n",
       "      <td>0.267742</td>\n",
       "      <td>0.374303</td>\n",
       "    </tr>\n",
       "    <tr>\n",
       "      <th>1924</th>\n",
       "      <td>535301080</td>\n",
       "      <td>5.0</td>\n",
       "      <td>1.0</td>\n",
       "      <td>3.0</td>\n",
       "      <td>4.0</td>\n",
       "      <td>0.0</td>\n",
       "      <td>15.0</td>\n",
       "      <td>2.0</td>\n",
       "      <td>0.0</td>\n",
       "      <td>2.0</td>\n",
       "      <td>...</td>\n",
       "      <td>0.500000</td>\n",
       "      <td>0.161290</td>\n",
       "      <td>0.000000</td>\n",
       "      <td>0.000000</td>\n",
       "      <td>0.000000</td>\n",
       "      <td>0.0</td>\n",
       "      <td>0.000000</td>\n",
       "      <td>0.166667</td>\n",
       "      <td>0.794444</td>\n",
       "      <td>0.208074</td>\n",
       "    </tr>\n",
       "    <tr>\n",
       "      <th>1925</th>\n",
       "      <td>907202160</td>\n",
       "      <td>5.0</td>\n",
       "      <td>0.0</td>\n",
       "      <td>2.0</td>\n",
       "      <td>4.0</td>\n",
       "      <td>1.0</td>\n",
       "      <td>5.0</td>\n",
       "      <td>2.0</td>\n",
       "      <td>0.0</td>\n",
       "      <td>7.0</td>\n",
       "      <td>...</td>\n",
       "      <td>0.754386</td>\n",
       "      <td>0.387097</td>\n",
       "      <td>0.000000</td>\n",
       "      <td>0.000000</td>\n",
       "      <td>0.033597</td>\n",
       "      <td>0.0</td>\n",
       "      <td>0.000000</td>\n",
       "      <td>0.166667</td>\n",
       "      <td>0.000000</td>\n",
       "      <td>0.267804</td>\n",
       "    </tr>\n",
       "  </tbody>\n",
       "</table>\n",
       "<p>1926 rows × 56 columns</p>\n",
       "</div>"
      ],
      "text/plain": [
       "            PID  MSZoning  LotShape  LandContour  LotConfig  LandSlope  \\\n",
       "0     923125030       0.0       1.0          3.0        4.0        0.0   \n",
       "1     902207150       6.0       1.0          3.0        4.0        0.0   \n",
       "2     902106060       6.0       1.0          3.0        0.0        0.0   \n",
       "3     528120030       5.0       0.0          3.0        4.0        0.0   \n",
       "4     908127060       5.0       1.0          3.0        4.0        0.0   \n",
       "...         ...       ...       ...          ...        ...        ...   \n",
       "1921  906380030       5.0       0.0          3.0        4.0        0.0   \n",
       "1922  904350045       5.0       0.0          0.0        4.0        1.0   \n",
       "1923  905201080       5.0       1.0          0.0        4.0        1.0   \n",
       "1924  535301080       5.0       1.0          3.0        4.0        0.0   \n",
       "1925  907202160       5.0       0.0          2.0        4.0        1.0   \n",
       "\n",
       "      Neighborhood  Condition1  BldgType  HouseStyle  ...  GarageYrBlt  \\\n",
       "0             14.0         0.0       0.0         2.0  ...     0.491228   \n",
       "1             20.0         2.0       0.0         2.0  ...     0.350877   \n",
       "2             20.0         2.0       0.0         5.0  ...     0.789474   \n",
       "3             19.0         2.0       0.0         2.0  ...     0.991228   \n",
       "4              7.0         2.0       0.0         0.0  ...     0.701754   \n",
       "...            ...         ...       ...         ...  ...          ...   \n",
       "1921           5.0         2.0       0.0         2.0  ...     0.982456   \n",
       "1922          21.0         2.0       0.0         0.0  ...     0.394737   \n",
       "1923          22.0         3.0       0.0         2.0  ...     0.535088   \n",
       "1924          15.0         2.0       0.0         2.0  ...     0.500000   \n",
       "1925           5.0         2.0       0.0         7.0  ...     0.754386   \n",
       "\n",
       "      GarageArea  WoodDeckSF  OpenPorchSF  EnclosedPorch  3SsnPorch  \\\n",
       "0       0.181452    0.000000     0.000000       0.133399        0.0   \n",
       "1       0.322581    0.000000     0.000000       0.181818        0.0   \n",
       "2       0.290323    0.000000     0.503509       0.000000        0.0   \n",
       "3       0.622984    0.117978     0.078947       0.000000        0.0   \n",
       "4       0.387097    0.000000     0.000000       0.042490        0.0   \n",
       "...          ...         ...          ...            ...        ...   \n",
       "1921    0.580645    0.117978     0.052632       0.000000        0.0   \n",
       "1922    0.155242    0.000000     0.000000       0.044466        0.0   \n",
       "1923    0.217070    0.000000     0.000000       0.000000        0.0   \n",
       "1924    0.161290    0.000000     0.000000       0.000000        0.0   \n",
       "1925    0.387097    0.000000     0.000000       0.033597        0.0   \n",
       "\n",
       "      ScreenPorch  TotalBath  Bsmt_Unfin_Ratio  TotalLivArea  \n",
       "0        0.000000   0.083333          0.000000      0.207745  \n",
       "1        0.000000   0.000000          1.000000      0.262882  \n",
       "2        0.000000   0.166667          1.000000      0.497539  \n",
       "3        0.000000   0.333333          0.416331      0.516574  \n",
       "4        0.204082   0.166667          0.739179      0.314736  \n",
       "...           ...        ...               ...           ...  \n",
       "1921     0.000000   0.166667          1.000000      0.475222  \n",
       "1922     0.000000   0.000000          0.386667      0.194454  \n",
       "1923     0.000000   0.166667          0.267742      0.374303  \n",
       "1924     0.000000   0.166667          0.794444      0.208074  \n",
       "1925     0.000000   0.166667          0.000000      0.267804  \n",
       "\n",
       "[1926 rows x 56 columns]"
      ]
     },
     "execution_count": 4,
     "metadata": {},
     "output_type": "execute_result"
    }
   ],
   "source": [
    "train_data_tree"
   ]
  },
  {
   "cell_type": "code",
   "execution_count": 5,
   "metadata": {},
   "outputs": [
    {
     "data": {
      "text/html": [
       "<div>\n",
       "<style scoped>\n",
       "    .dataframe tbody tr th:only-of-type {\n",
       "        vertical-align: middle;\n",
       "    }\n",
       "\n",
       "    .dataframe tbody tr th {\n",
       "        vertical-align: top;\n",
       "    }\n",
       "\n",
       "    .dataframe thead th {\n",
       "        text-align: right;\n",
       "    }\n",
       "</style>\n",
       "<table border=\"1\" class=\"dataframe\">\n",
       "  <thead>\n",
       "    <tr style=\"text-align: right;\">\n",
       "      <th></th>\n",
       "      <th>MSZoning_C (all)</th>\n",
       "      <th>MSZoning_FV</th>\n",
       "      <th>MSZoning_I (all)</th>\n",
       "      <th>MSZoning_RH</th>\n",
       "      <th>MSZoning_RL</th>\n",
       "      <th>MSZoning_RM</th>\n",
       "      <th>LotShape_Reg</th>\n",
       "      <th>LandContour_HLS</th>\n",
       "      <th>LandContour_Low</th>\n",
       "      <th>LandContour_Lvl</th>\n",
       "      <th>...</th>\n",
       "      <th>GarageYrBlt</th>\n",
       "      <th>GarageArea</th>\n",
       "      <th>WoodDeckSF</th>\n",
       "      <th>OpenPorchSF</th>\n",
       "      <th>EnclosedPorch</th>\n",
       "      <th>3SsnPorch</th>\n",
       "      <th>ScreenPorch</th>\n",
       "      <th>TotalBath</th>\n",
       "      <th>Bsmt_Unfin_Ratio</th>\n",
       "      <th>TotalLivArea</th>\n",
       "    </tr>\n",
       "  </thead>\n",
       "  <tbody>\n",
       "    <tr>\n",
       "      <th>0</th>\n",
       "      <td>0</td>\n",
       "      <td>0</td>\n",
       "      <td>0</td>\n",
       "      <td>0</td>\n",
       "      <td>1</td>\n",
       "      <td>0</td>\n",
       "      <td>0</td>\n",
       "      <td>0</td>\n",
       "      <td>0</td>\n",
       "      <td>1</td>\n",
       "      <td>...</td>\n",
       "      <td>0.894737</td>\n",
       "      <td>0.268817</td>\n",
       "      <td>0.295646</td>\n",
       "      <td>0.126316</td>\n",
       "      <td>0.0</td>\n",
       "      <td>0.0</td>\n",
       "      <td>0.000000</td>\n",
       "      <td>0.416667</td>\n",
       "      <td>0.138991</td>\n",
       "      <td>0.328848</td>\n",
       "    </tr>\n",
       "    <tr>\n",
       "      <th>1</th>\n",
       "      <td>0</td>\n",
       "      <td>0</td>\n",
       "      <td>0</td>\n",
       "      <td>0</td>\n",
       "      <td>1</td>\n",
       "      <td>0</td>\n",
       "      <td>1</td>\n",
       "      <td>0</td>\n",
       "      <td>0</td>\n",
       "      <td>1</td>\n",
       "      <td>...</td>\n",
       "      <td>0.535088</td>\n",
       "      <td>0.214382</td>\n",
       "      <td>0.000000</td>\n",
       "      <td>0.000000</td>\n",
       "      <td>0.0</td>\n",
       "      <td>0.0</td>\n",
       "      <td>0.587755</td>\n",
       "      <td>0.000000</td>\n",
       "      <td>0.514428</td>\n",
       "      <td>0.275025</td>\n",
       "    </tr>\n",
       "    <tr>\n",
       "      <th>2</th>\n",
       "      <td>0</td>\n",
       "      <td>0</td>\n",
       "      <td>0</td>\n",
       "      <td>0</td>\n",
       "      <td>1</td>\n",
       "      <td>0</td>\n",
       "      <td>1</td>\n",
       "      <td>0</td>\n",
       "      <td>0</td>\n",
       "      <td>1</td>\n",
       "      <td>...</td>\n",
       "      <td>0.850877</td>\n",
       "      <td>0.325269</td>\n",
       "      <td>0.000000</td>\n",
       "      <td>0.217544</td>\n",
       "      <td>0.0</td>\n",
       "      <td>0.0</td>\n",
       "      <td>0.000000</td>\n",
       "      <td>0.250000</td>\n",
       "      <td>0.491459</td>\n",
       "      <td>0.333115</td>\n",
       "    </tr>\n",
       "    <tr>\n",
       "      <th>3</th>\n",
       "      <td>0</td>\n",
       "      <td>0</td>\n",
       "      <td>0</td>\n",
       "      <td>0</td>\n",
       "      <td>0</td>\n",
       "      <td>1</td>\n",
       "      <td>1</td>\n",
       "      <td>0</td>\n",
       "      <td>0</td>\n",
       "      <td>1</td>\n",
       "      <td>...</td>\n",
       "      <td>0.614035</td>\n",
       "      <td>0.295699</td>\n",
       "      <td>0.000000</td>\n",
       "      <td>0.000000</td>\n",
       "      <td>0.0</td>\n",
       "      <td>0.0</td>\n",
       "      <td>0.000000</td>\n",
       "      <td>0.000000</td>\n",
       "      <td>0.646288</td>\n",
       "      <td>0.346570</td>\n",
       "    </tr>\n",
       "    <tr>\n",
       "      <th>4</th>\n",
       "      <td>0</td>\n",
       "      <td>0</td>\n",
       "      <td>0</td>\n",
       "      <td>0</td>\n",
       "      <td>0</td>\n",
       "      <td>1</td>\n",
       "      <td>1</td>\n",
       "      <td>0</td>\n",
       "      <td>0</td>\n",
       "      <td>1</td>\n",
       "      <td>...</td>\n",
       "      <td>0.403509</td>\n",
       "      <td>0.161290</td>\n",
       "      <td>0.000000</td>\n",
       "      <td>0.000000</td>\n",
       "      <td>0.0</td>\n",
       "      <td>0.0</td>\n",
       "      <td>0.000000</td>\n",
       "      <td>0.000000</td>\n",
       "      <td>0.107143</td>\n",
       "      <td>0.254020</td>\n",
       "    </tr>\n",
       "    <tr>\n",
       "      <th>...</th>\n",
       "      <td>...</td>\n",
       "      <td>...</td>\n",
       "      <td>...</td>\n",
       "      <td>...</td>\n",
       "      <td>...</td>\n",
       "      <td>...</td>\n",
       "      <td>...</td>\n",
       "      <td>...</td>\n",
       "      <td>...</td>\n",
       "      <td>...</td>\n",
       "      <td>...</td>\n",
       "      <td>...</td>\n",
       "      <td>...</td>\n",
       "      <td>...</td>\n",
       "      <td>...</td>\n",
       "      <td>...</td>\n",
       "      <td>...</td>\n",
       "      <td>...</td>\n",
       "      <td>...</td>\n",
       "      <td>...</td>\n",
       "      <td>...</td>\n",
       "    </tr>\n",
       "    <tr>\n",
       "      <th>477</th>\n",
       "      <td>0</td>\n",
       "      <td>0</td>\n",
       "      <td>0</td>\n",
       "      <td>0</td>\n",
       "      <td>1</td>\n",
       "      <td>0</td>\n",
       "      <td>0</td>\n",
       "      <td>0</td>\n",
       "      <td>0</td>\n",
       "      <td>1</td>\n",
       "      <td>...</td>\n",
       "      <td>0.938596</td>\n",
       "      <td>0.318548</td>\n",
       "      <td>0.101124</td>\n",
       "      <td>0.168421</td>\n",
       "      <td>0.0</td>\n",
       "      <td>0.0</td>\n",
       "      <td>0.000000</td>\n",
       "      <td>0.250000</td>\n",
       "      <td>1.000000</td>\n",
       "      <td>0.390220</td>\n",
       "    </tr>\n",
       "    <tr>\n",
       "      <th>478</th>\n",
       "      <td>0</td>\n",
       "      <td>0</td>\n",
       "      <td>0</td>\n",
       "      <td>0</td>\n",
       "      <td>1</td>\n",
       "      <td>0</td>\n",
       "      <td>0</td>\n",
       "      <td>0</td>\n",
       "      <td>0</td>\n",
       "      <td>1</td>\n",
       "      <td>...</td>\n",
       "      <td>0.771930</td>\n",
       "      <td>0.401882</td>\n",
       "      <td>0.106742</td>\n",
       "      <td>0.000000</td>\n",
       "      <td>0.0</td>\n",
       "      <td>0.0</td>\n",
       "      <td>0.000000</td>\n",
       "      <td>0.333333</td>\n",
       "      <td>0.407143</td>\n",
       "      <td>0.358713</td>\n",
       "    </tr>\n",
       "    <tr>\n",
       "      <th>479</th>\n",
       "      <td>0</td>\n",
       "      <td>0</td>\n",
       "      <td>0</td>\n",
       "      <td>0</td>\n",
       "      <td>1</td>\n",
       "      <td>0</td>\n",
       "      <td>1</td>\n",
       "      <td>0</td>\n",
       "      <td>0</td>\n",
       "      <td>1</td>\n",
       "      <td>...</td>\n",
       "      <td>0.596491</td>\n",
       "      <td>0.322581</td>\n",
       "      <td>0.000000</td>\n",
       "      <td>0.140351</td>\n",
       "      <td>0.0</td>\n",
       "      <td>0.0</td>\n",
       "      <td>0.000000</td>\n",
       "      <td>0.166667</td>\n",
       "      <td>0.419269</td>\n",
       "      <td>0.313095</td>\n",
       "    </tr>\n",
       "    <tr>\n",
       "      <th>480</th>\n",
       "      <td>0</td>\n",
       "      <td>0</td>\n",
       "      <td>0</td>\n",
       "      <td>0</td>\n",
       "      <td>1</td>\n",
       "      <td>0</td>\n",
       "      <td>0</td>\n",
       "      <td>0</td>\n",
       "      <td>0</td>\n",
       "      <td>1</td>\n",
       "      <td>...</td>\n",
       "      <td>0.903509</td>\n",
       "      <td>0.358871</td>\n",
       "      <td>0.000000</td>\n",
       "      <td>0.129825</td>\n",
       "      <td>0.0</td>\n",
       "      <td>0.0</td>\n",
       "      <td>0.000000</td>\n",
       "      <td>0.416667</td>\n",
       "      <td>0.252052</td>\n",
       "      <td>0.372826</td>\n",
       "    </tr>\n",
       "    <tr>\n",
       "      <th>481</th>\n",
       "      <td>0</td>\n",
       "      <td>0</td>\n",
       "      <td>0</td>\n",
       "      <td>0</td>\n",
       "      <td>1</td>\n",
       "      <td>0</td>\n",
       "      <td>0</td>\n",
       "      <td>0</td>\n",
       "      <td>0</td>\n",
       "      <td>1</td>\n",
       "      <td>...</td>\n",
       "      <td>0.938596</td>\n",
       "      <td>0.356183</td>\n",
       "      <td>0.134831</td>\n",
       "      <td>0.063158</td>\n",
       "      <td>0.0</td>\n",
       "      <td>0.0</td>\n",
       "      <td>0.000000</td>\n",
       "      <td>0.333333</td>\n",
       "      <td>0.382865</td>\n",
       "      <td>0.435510</td>\n",
       "    </tr>\n",
       "  </tbody>\n",
       "</table>\n",
       "<p>482 rows × 235 columns</p>\n",
       "</div>"
      ],
      "text/plain": [
       "     MSZoning_C (all)  MSZoning_FV  MSZoning_I (all)  MSZoning_RH  \\\n",
       "0                   0            0                 0            0   \n",
       "1                   0            0                 0            0   \n",
       "2                   0            0                 0            0   \n",
       "3                   0            0                 0            0   \n",
       "4                   0            0                 0            0   \n",
       "..                ...          ...               ...          ...   \n",
       "477                 0            0                 0            0   \n",
       "478                 0            0                 0            0   \n",
       "479                 0            0                 0            0   \n",
       "480                 0            0                 0            0   \n",
       "481                 0            0                 0            0   \n",
       "\n",
       "     MSZoning_RL  MSZoning_RM  LotShape_Reg  LandContour_HLS  LandContour_Low  \\\n",
       "0              1            0             0                0                0   \n",
       "1              1            0             1                0                0   \n",
       "2              1            0             1                0                0   \n",
       "3              0            1             1                0                0   \n",
       "4              0            1             1                0                0   \n",
       "..           ...          ...           ...              ...              ...   \n",
       "477            1            0             0                0                0   \n",
       "478            1            0             0                0                0   \n",
       "479            1            0             1                0                0   \n",
       "480            1            0             0                0                0   \n",
       "481            1            0             0                0                0   \n",
       "\n",
       "     LandContour_Lvl  ...  GarageYrBlt  GarageArea  WoodDeckSF  OpenPorchSF  \\\n",
       "0                  1  ...     0.894737    0.268817    0.295646     0.126316   \n",
       "1                  1  ...     0.535088    0.214382    0.000000     0.000000   \n",
       "2                  1  ...     0.850877    0.325269    0.000000     0.217544   \n",
       "3                  1  ...     0.614035    0.295699    0.000000     0.000000   \n",
       "4                  1  ...     0.403509    0.161290    0.000000     0.000000   \n",
       "..               ...  ...          ...         ...         ...          ...   \n",
       "477                1  ...     0.938596    0.318548    0.101124     0.168421   \n",
       "478                1  ...     0.771930    0.401882    0.106742     0.000000   \n",
       "479                1  ...     0.596491    0.322581    0.000000     0.140351   \n",
       "480                1  ...     0.903509    0.358871    0.000000     0.129825   \n",
       "481                1  ...     0.938596    0.356183    0.134831     0.063158   \n",
       "\n",
       "     EnclosedPorch  3SsnPorch  ScreenPorch  TotalBath  Bsmt_Unfin_Ratio  \\\n",
       "0              0.0        0.0     0.000000   0.416667          0.138991   \n",
       "1              0.0        0.0     0.587755   0.000000          0.514428   \n",
       "2              0.0        0.0     0.000000   0.250000          0.491459   \n",
       "3              0.0        0.0     0.000000   0.000000          0.646288   \n",
       "4              0.0        0.0     0.000000   0.000000          0.107143   \n",
       "..             ...        ...          ...        ...               ...   \n",
       "477            0.0        0.0     0.000000   0.250000          1.000000   \n",
       "478            0.0        0.0     0.000000   0.333333          0.407143   \n",
       "479            0.0        0.0     0.000000   0.166667          0.419269   \n",
       "480            0.0        0.0     0.000000   0.416667          0.252052   \n",
       "481            0.0        0.0     0.000000   0.333333          0.382865   \n",
       "\n",
       "     TotalLivArea  \n",
       "0        0.328848  \n",
       "1        0.275025  \n",
       "2        0.333115  \n",
       "3        0.346570  \n",
       "4        0.254020  \n",
       "..            ...  \n",
       "477      0.390220  \n",
       "478      0.358713  \n",
       "479      0.313095  \n",
       "480      0.372826  \n",
       "481      0.435510  \n",
       "\n",
       "[482 rows x 235 columns]"
      ]
     },
     "execution_count": 5,
     "metadata": {},
     "output_type": "execute_result"
    }
   ],
   "source": [
    "train_data_linear = train_data_linear.drop('PID', axis = 1)\n",
    "test_data_linear = test_data_linear.drop('PID', axis = 1)\n",
    "test_data_linear"
   ]
  },
  {
   "cell_type": "code",
   "execution_count": 51,
   "metadata": {},
   "outputs": [
    {
     "data": {
      "text/plain": [
       "0      12.119970\n",
       "1      11.801857\n",
       "2      12.077671\n",
       "3      11.512925\n",
       "4      11.728037\n",
       "         ...    \n",
       "477    12.167851\n",
       "478    12.111212\n",
       "479    11.842229\n",
       "480    12.287653\n",
       "481    12.305918\n",
       "Name: SalePrice, Length: 482, dtype: float64"
      ]
     },
     "execution_count": 51,
     "metadata": {},
     "output_type": "execute_result"
    }
   ],
   "source": [
    "test_target_linear"
   ]
  },
  {
   "cell_type": "code",
   "execution_count": 6,
   "metadata": {},
   "outputs": [],
   "source": [
    "lasso = Lasso()\n",
    "ridge = Ridge()\n",
    "elasticnet = ElasticNet()"
   ]
  },
  {
   "cell_type": "code",
   "execution_count": 7,
   "metadata": {},
   "outputs": [
    {
     "name": "stdout",
     "output_type": "stream",
     "text": [
      "0.0\n",
      "-0.007144294938522755\n"
     ]
    }
   ],
   "source": [
    "lasso.fit(train_data_linear, train_target_linear)\n",
    "print(lasso.score(train_data_linear, train_target_linear))\n",
    "print(lasso.score(test_data_linear, test_target_linear))"
   ]
  },
  {
   "cell_type": "code",
   "execution_count": 8,
   "metadata": {},
   "outputs": [
    {
     "name": "stdout",
     "output_type": "stream",
     "text": [
      "0.9551389721247564\n",
      "0.9324595410483839\n"
     ]
    }
   ],
   "source": [
    "ridge.fit(train_data_linear, train_target_linear)\n",
    "print(ridge.score(train_data_linear, train_target_linear))\n",
    "print(ridge.score(test_data_linear, test_target_linear))"
   ]
  },
  {
   "cell_type": "code",
   "execution_count": 9,
   "metadata": {},
   "outputs": [
    {
     "name": "stdout",
     "output_type": "stream",
     "text": [
      "0.0\n",
      "-0.007144294938522755\n"
     ]
    }
   ],
   "source": [
    "elasticnet.fit(train_data_linear, train_target_linear)\n",
    "print(elasticnet.score(train_data_linear, train_target_linear))\n",
    "print(elasticnet.score(test_data_linear, test_target_linear))"
   ]
  },
  {
   "cell_type": "code",
   "execution_count": 19,
   "metadata": {},
   "outputs": [],
   "source": [
    "alphaRange = np.linspace(0.0001,0.00015,5)\n",
    "rhoRange   = np.linspace(0.1,1.0, 5)"
   ]
  },
  {
   "cell_type": "code",
   "execution_count": 20,
   "metadata": {},
   "outputs": [],
   "source": [
    "params = {'alpha': alphaRange, 'l1_ratio': rhoRange, 'max_iter':[10000]}"
   ]
  },
  {
   "cell_type": "code",
   "execution_count": 21,
   "metadata": {},
   "outputs": [
    {
     "name": "stdout",
     "output_type": "stream",
     "text": [
      "The best parameters are:  {'alpha': 0.0001, 'l1_ratio': 0.775, 'max_iter': 10000}\n",
      "The best score is:  0.9363043671118312\n",
      "The score r2 score of the final model:  0.9336672078190579\n"
     ]
    }
   ],
   "source": [
    "gs = GridSearchCV(elasticnet, params, cv= 5, scoring=\"r2\")\n",
    "gs.fit(train_data_linear, train_target_linear)\n",
    "print(\"The best parameters are: \", gs.best_params_)\n",
    "print(\"The best score is: \", gs.best_score_)\n",
    "print(\"The score r2 score of the final model: \", gs.score(test_data_linear, test_target_linear))"
   ]
  },
  {
   "cell_type": "code",
   "execution_count": 28,
   "metadata": {},
   "outputs": [
    {
     "name": "stdout",
     "output_type": "stream",
     "text": [
      "0.9549388074779619\n",
      "0.9336672078190579\n"
     ]
    }
   ],
   "source": [
    "elasticnet = ElasticNet(alpha = .0001, l1_ratio = .775, max_iter = 10000)\n",
    "elasticnet.fit(train_data_linear, train_target_linear)\n",
    "print(elasticnet.score(train_data_linear, train_target_linear))\n",
    "print(elasticnet.score(test_data_linear, test_target_linear))"
   ]
  },
  {
   "cell_type": "code",
   "execution_count": 48,
   "metadata": {},
   "outputs": [],
   "source": [
    "import pickle\n",
    "pickle.dump(elasticnet, open('elasticnet_model.pkl', 'wb'))"
   ]
  },
  {
   "cell_type": "code",
   "execution_count": 46,
   "metadata": {},
   "outputs": [],
   "source": [
    "alphaRange = np.linspace(0.00007,0.000073,5)\n",
    "params = {'alpha': alphaRange, 'max_iter' : [10000]}"
   ]
  },
  {
   "cell_type": "code",
   "execution_count": 47,
   "metadata": {},
   "outputs": [
    {
     "name": "stdout",
     "output_type": "stream",
     "text": [
      "The best parameters are:  {'alpha': 7.225e-05, 'max_iter': 10000}\n",
      "The best score is:  0.9363118651812016\n",
      "The score r2 score of the final model:  0.9338213647470089\n"
     ]
    }
   ],
   "source": [
    "gs = GridSearchCV(lasso, params, cv = 5, scoring = 'r2')\n",
    "gs.fit(train_data_linear, train_target_linear)\n",
    "print(\"The best parameters are: \", gs.best_params_)\n",
    "print(\"The best score is: \", gs.best_score_)\n",
    "print(\"The score r2 score of the final model: \", gs.score(test_data_linear, test_target_linear))"
   ]
  },
  {
   "cell_type": "code",
   "execution_count": 45,
   "metadata": {},
   "outputs": [
    {
     "name": "stdout",
     "output_type": "stream",
     "text": [
      "0.9551000242042237\n",
      "0.9338188513353499\n"
     ]
    }
   ],
   "source": [
    "lasso = Lasso(alpha=.0000725, max_iter=10000)\n",
    "lasso.fit(train_data_linear, train_target_linear)\n",
    "print(lasso.score(train_data_linear, train_target_linear))\n",
    "print(lasso.score(test_data_linear, test_target_linear))"
   ]
  },
  {
   "cell_type": "code",
   "execution_count": 49,
   "metadata": {},
   "outputs": [],
   "source": [
    "pickle.dump(lasso, open('lasso_model.pkl', 'wb'))"
   ]
  },
  {
   "cell_type": "code",
   "execution_count": 39,
   "metadata": {},
   "outputs": [],
   "source": [
    "alphaRange = np.linspace(0.4,0.6,5)\n",
    "params = {'alpha': alphaRange, 'max_iter' : [10000]}"
   ]
  },
  {
   "cell_type": "code",
   "execution_count": 40,
   "metadata": {},
   "outputs": [
    {
     "name": "stdout",
     "output_type": "stream",
     "text": [
      "The best parameters are:  {'alpha': 0.55, 'max_iter': 10000}\n",
      "The best score is:  0.9340609919839948\n",
      "The score r2 score of the final model:  0.9333354612497556\n"
     ]
    }
   ],
   "source": [
    "gs = GridSearchCV(ridge, params, scoring = 'r2')\n",
    "gs.fit(train_data_linear, train_target_linear)\n",
    "print(\"The best parameters are: \", gs.best_params_)\n",
    "print(\"The best score is: \", gs.best_score_)\n",
    "print(\"The score r2 score of the final model: \", gs.score(test_data_linear, test_target_linear))"
   ]
  },
  {
   "cell_type": "code",
   "execution_count": 36,
   "metadata": {},
   "outputs": [
    {
     "name": "stdout",
     "output_type": "stream",
     "text": [
      "0.9560962727549932\n",
      "0.9333354612497556\n"
     ]
    }
   ],
   "source": [
    "ridge = Ridge(alpha = 0.55, max_iter = 10000)\n",
    "ridge.fit(train_data_linear, train_target_linear)\n",
    "print(ridge.score(train_data_linear, train_target_linear))\n",
    "print(ridge.score(test_data_linear, test_target_linear))"
   ]
  },
  {
   "cell_type": "code",
   "execution_count": 50,
   "metadata": {},
   "outputs": [],
   "source": [
    "pickle.dump(ridge, open('ridge_model.pkl', 'wb'))"
   ]
  },
  {
   "cell_type": "code",
   "execution_count": 29,
   "metadata": {},
   "outputs": [
    {
     "name": "stdout",
     "output_type": "stream",
     "text": [
      "0.9355594646030185\n",
      "0.9164754212683592\n"
     ]
    }
   ],
   "source": [
    "lasso_best = Lasso(alpha=0.0001625, max_iter = 10000)\n",
    "lasso_best.fit(train_data_linear, train_target_linear)\n",
    "print(lasso_best.score(train_data_linear, train_target_linear))\n",
    "print(lasso_best.score(test_data_linear, test_target_linear))"
   ]
  },
  {
   "cell_type": "code",
   "execution_count": 30,
   "metadata": {},
   "outputs": [
    {
     "name": "stdout",
     "output_type": "stream",
     "text": [
      "0.9381658210113853\n",
      "0.9180990572785387\n"
     ]
    }
   ],
   "source": [
    "ridge_best = Ridge(alpha=1.0, max_iter = 10000)\n",
    "ridge_best.fit(train_data_linear, train_target_linear)\n",
    "print(ridge_best.score(train_data_linear, train_target_linear))\n",
    "print(ridge_best.score(test_data_linear, test_target_linear))"
   ]
  },
  {
   "cell_type": "code",
   "execution_count": 31,
   "metadata": {},
   "outputs": [
    {
     "name": "stdout",
     "output_type": "stream",
     "text": [
      "0.9355926435898408\n",
      "0.9192203720218622\n"
     ]
    }
   ],
   "source": [
    "elasticnet_best = ElasticNet(alpha=0.00065, l1_ratio=0.1, max_iter = 10000)\n",
    "elasticnet_best.fit(train_data_linear, train_target_linear)\n",
    "print(elasticnet_best.score(train_data_linear, train_target_linear))\n",
    "print(elasticnet_best.score(test_data_linear, test_target_linear))"
   ]
  },
  {
   "cell_type": "code",
   "execution_count": 28,
   "metadata": {},
   "outputs": [],
   "source": [
    "from sklearn.ensemble import VotingRegressor"
   ]
  },
  {
   "cell_type": "code",
   "execution_count": 29,
   "metadata": {},
   "outputs": [
    {
     "data": {
      "text/plain": [
       "0.92747101249259"
      ]
     },
     "execution_count": 29,
     "metadata": {},
     "output_type": "execute_result"
    }
   ],
   "source": [
    "er = VotingRegressor([('lr', lasso_best), ('rf', ridge_best), ('en', elasticnet_best)])\n",
    "er.fit(train_data_linear, train_target_linear)\n",
    "er.score(test_data_linear, test_target_linear)"
   ]
  },
  {
   "cell_type": "code",
   "execution_count": 33,
   "metadata": {},
   "outputs": [],
   "source": [
    "from sklearn.ensemble import StackingRegressor"
   ]
  },
  {
   "cell_type": "code",
   "execution_count": 34,
   "metadata": {},
   "outputs": [
    {
     "data": {
      "text/plain": [
       "0.926318285427399"
      ]
     },
     "execution_count": 34,
     "metadata": {},
     "output_type": "execute_result"
    }
   ],
   "source": [
    "estimators = [('ridge', ridge_best),\n",
    "              ('elasticnet', elasticnet_best)]\n",
    "final_estimator = lasso_best\n",
    "stack = StackingRegressor(estimators=estimators, final_estimator=final_estimator)\n",
    "stack.fit(train_data_linear, train_target_linear)\n",
    "stack.score(test_data_linear, test_target_linear)"
   ]
  },
  {
   "cell_type": "code",
   "execution_count": 37,
   "metadata": {},
   "outputs": [
    {
     "name": "stdout",
     "output_type": "stream",
     "text": [
      "R2 score: 0.93\n"
     ]
    }
   ],
   "source": [
    "from sklearn.metrics import r2_score\n",
    "print('R2 score: {:.2f}'.format(r2_score(test_target_linear, stack.predict(test_data_linear))))"
   ]
  },
  {
   "cell_type": "code",
   "execution_count": null,
   "metadata": {},
   "outputs": [],
   "source": []
  }
 ],
 "metadata": {
  "kernelspec": {
   "display_name": "Python 3",
   "language": "python",
   "name": "python3"
  },
  "language_info": {
   "codemirror_mode": {
    "name": "ipython",
    "version": 3
   },
   "file_extension": ".py",
   "mimetype": "text/x-python",
   "name": "python",
   "nbconvert_exporter": "python",
   "pygments_lexer": "ipython3",
   "version": "3.8.3"
  }
 },
 "nbformat": 4,
 "nbformat_minor": 4
}

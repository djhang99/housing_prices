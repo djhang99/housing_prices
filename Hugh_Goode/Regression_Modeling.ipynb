{
 "cells": [
  {
   "cell_type": "code",
   "execution_count": 1,
   "metadata": {},
   "outputs": [],
   "source": [
    "import numpy as np\n",
    "import pandas as pd\n",
    "from sklearn.linear_model import LinearRegression, Ridge, Lasso, ElasticNet\n",
    "from sklearn.preprocessing import StandardScaler, MinMaxScaler\n",
    "from sklearn.model_selection import train_test_split, GridSearchCV, KFold\n",
    "from data_preprocessing_final import cleaning, dummify_func"
   ]
  },
  {
   "cell_type": "code",
   "execution_count": 2,
   "metadata": {},
   "outputs": [],
   "source": [
    "data = pd.read_csv('Ames_HousePrice.csv', index_col=0)"
   ]
  },
  {
   "cell_type": "code",
   "execution_count": 3,
   "metadata": {},
   "outputs": [],
   "source": [
    "cleaned = cleaning(data)"
   ]
  },
  {
   "cell_type": "code",
   "execution_count": 4,
   "metadata": {},
   "outputs": [],
   "source": [
    "x,y = dummify_func(cleaned)"
   ]
  },
  {
   "cell_type": "code",
   "execution_count": 5,
   "metadata": {},
   "outputs": [],
   "source": [
    "x = x.drop('PID', axis = 1)"
   ]
  },
  {
   "cell_type": "code",
   "execution_count": 6,
   "metadata": {},
   "outputs": [
    {
     "data": {
      "text/plain": [
       "GrLivArea       float64\n",
       "LotArea         float64\n",
       "YearBuilt       float64\n",
       "YearRemodAdd    float64\n",
       "1stFlrSF        float64\n",
       "                 ...   \n",
       "MiscVal_750       uint8\n",
       "MiscVal_80        uint8\n",
       "MiscVal_800       uint8\n",
       "MiscVal_8300      uint8\n",
       "MiscVal_900       uint8\n",
       "Length: 331, dtype: object"
      ]
     },
     "execution_count": 6,
     "metadata": {},
     "output_type": "execute_result"
    }
   ],
   "source": [
    "x.dtypes"
   ]
  },
  {
   "cell_type": "code",
   "execution_count": 7,
   "metadata": {},
   "outputs": [
    {
     "data": {
      "text/plain": [
       "array(['GrLivArea', 'LotArea', 'YearBuilt', 'YearRemodAdd', '1stFlrSF',\n",
       "       '2ndFlrSF', 'LowQualFinSF', 'FullBath', 'HalfBath', 'BedroomAbvGr',\n",
       "       'KitchenAbvGr', 'TotRmsAbvGrd', 'Fireplaces', 'WoodDeckSF',\n",
       "       'OpenPorchSF', 'EnclosedPorch', '3SsnPorch', 'ScreenPorch',\n",
       "       'PoolArea', 'MSZoning_C (all)', 'MSZoning_FV', 'MSZoning_I (all)',\n",
       "       'MSZoning_RH', 'MSZoning_RL', 'MSZoning_RM', 'Street_Pave',\n",
       "       'Alley_No_alley', 'Alley_Pave', 'LotShape_IR2', 'LotShape_IR3',\n",
       "       'LotShape_Reg', 'LandContour_HLS', 'LandContour_Low',\n",
       "       'LandContour_Lvl', 'Utilities_NoSewr', 'LotConfig_CulDSac',\n",
       "       'LotConfig_FR2', 'LotConfig_FR3', 'LotConfig_Inside',\n",
       "       'LandSlope_Mod', 'LandSlope_Sev', 'Neighborhood_Blueste',\n",
       "       'Neighborhood_BrDale', 'Neighborhood_BrkSide',\n",
       "       'Neighborhood_ClearCr', 'Neighborhood_CollgCr',\n",
       "       'Neighborhood_Crawfor', 'Neighborhood_Edwards',\n",
       "       'Neighborhood_Gilbert', 'Neighborhood_Greens',\n",
       "       'Neighborhood_GrnHill', 'Neighborhood_IDOTRR',\n",
       "       'Neighborhood_Landmrk', 'Neighborhood_MeadowV',\n",
       "       'Neighborhood_Mitchel', 'Neighborhood_NAmes',\n",
       "       'Neighborhood_NPkVill', 'Neighborhood_NWAmes',\n",
       "       'Neighborhood_NoRidge', 'Neighborhood_NridgHt',\n",
       "       'Neighborhood_OldTown', 'Neighborhood_SWISU',\n",
       "       'Neighborhood_Sawyer', 'Neighborhood_SawyerW',\n",
       "       'Neighborhood_Somerst', 'Neighborhood_StoneBr',\n",
       "       'Neighborhood_Timber', 'Neighborhood_Veenker', 'Condition1_Feedr',\n",
       "       'Condition1_Norm', 'Condition1_PosA', 'Condition1_PosN',\n",
       "       'Condition1_RRAe', 'Condition1_RRAn', 'Condition1_RRNe',\n",
       "       'Condition1_RRNn', 'Condition2_Feedr', 'Condition2_Norm',\n",
       "       'Condition2_PosA', 'Condition2_PosN', 'Condition2_RRAe',\n",
       "       'Condition2_RRAn', 'Condition2_RRNn', 'BldgType_2fmCon',\n",
       "       'BldgType_Duplex', 'BldgType_Twnhs', 'BldgType_TwnhsE',\n",
       "       'HouseStyle_1.5Unf', 'HouseStyle_1Story', 'HouseStyle_2.5Fin',\n",
       "       'HouseStyle_2.5Unf', 'HouseStyle_2Story', 'HouseStyle_SFoyer',\n",
       "       'HouseStyle_SLvl', 'RoofStyle_Gable', 'RoofStyle_Gambrel',\n",
       "       'RoofStyle_Hip', 'RoofStyle_Mansard', 'RoofStyle_Shed',\n",
       "       'RoofMatl_Membran', 'RoofMatl_Metal', 'RoofMatl_Roll',\n",
       "       'RoofMatl_Tar&Grv', 'RoofMatl_WdShake', 'RoofMatl_WdShngl',\n",
       "       'Exterior1st_AsphShn', 'Exterior1st_BrkComm',\n",
       "       'Exterior1st_BrkFace', 'Exterior1st_CBlock', 'Exterior1st_CemntBd',\n",
       "       'Exterior1st_HdBoard', 'Exterior1st_ImStucc',\n",
       "       'Exterior1st_MetalSd', 'Exterior1st_Plywood',\n",
       "       'Exterior1st_PreCast', 'Exterior1st_Stucco', 'Exterior1st_VinylSd',\n",
       "       'Exterior1st_Wd Sdng', 'Exterior1st_WdShing',\n",
       "       'Exterior2nd_AsphShn', 'Exterior2nd_Brk Cmn',\n",
       "       'Exterior2nd_BrkFace', 'Exterior2nd_CBlock', 'Exterior2nd_CmentBd',\n",
       "       'Exterior2nd_HdBoard', 'Exterior2nd_ImStucc',\n",
       "       'Exterior2nd_MetalSd', 'Exterior2nd_Plywood',\n",
       "       'Exterior2nd_PreCast', 'Exterior2nd_Stone', 'Exterior2nd_Stucco',\n",
       "       'Exterior2nd_VinylSd', 'Exterior2nd_Wd Sdng',\n",
       "       'Exterior2nd_Wd Shng', 'MasVnrType_BrkCmn', 'MasVnrType_BrkFace',\n",
       "       'MasVnrType_None', 'MasVnrType_Stone', 'ExterQual_Fa',\n",
       "       'ExterQual_Gd', 'ExterQual_TA', 'ExterCond_Fa', 'ExterCond_Gd',\n",
       "       'ExterCond_Po', 'ExterCond_TA', 'Foundation_CBlock',\n",
       "       'Foundation_PConc', 'Foundation_Slab', 'Foundation_Stone',\n",
       "       'Foundation_Wood', 'BsmtQual_Fa', 'BsmtQual_Gd',\n",
       "       'BsmtQual_No_Basement', 'BsmtQual_Po', 'BsmtQual_TA',\n",
       "       'BsmtCond_Fa', 'BsmtCond_Gd', 'BsmtCond_No_Basement',\n",
       "       'BsmtCond_Po', 'BsmtCond_TA', 'BsmtExposure_Gd', 'BsmtExposure_Mn',\n",
       "       'BsmtExposure_No', 'BsmtExposure_No_Basement', 'BsmtFinType1_BLQ',\n",
       "       'BsmtFinType1_GLQ', 'BsmtFinType1_LwQ', 'BsmtFinType1_No_Basement',\n",
       "       'BsmtFinType1_Rec', 'BsmtFinType1_Unf', 'BsmtFinType2_BLQ',\n",
       "       'BsmtFinType2_GLQ', 'BsmtFinType2_LwQ', 'BsmtFinType2_No_Basement',\n",
       "       'BsmtFinType2_Rec', 'BsmtFinType2_Unf', 'Heating_GasA',\n",
       "       'Heating_GasW', 'Heating_Grav', 'Heating_OthW', 'Heating_Wall',\n",
       "       'HeatingQC_Fa', 'HeatingQC_Gd', 'HeatingQC_Po', 'HeatingQC_TA',\n",
       "       'CentralAir_Y', 'Electrical_FuseF', 'Electrical_FuseP',\n",
       "       'Electrical_SBrkr', 'KitchenQual_Fa', 'KitchenQual_Gd',\n",
       "       'KitchenQual_Po', 'KitchenQual_TA', 'Functional_Maj2',\n",
       "       'Functional_Min1', 'Functional_Min2', 'Functional_Mod',\n",
       "       'Functional_Sal', 'Functional_Typ', 'FireplaceQu_Fa',\n",
       "       'FireplaceQu_Gd', 'FireplaceQu_No_Fireplace', 'FireplaceQu_Po',\n",
       "       'FireplaceQu_TA', 'GarageType_Attchd', 'GarageType_Basment',\n",
       "       'GarageType_BuiltIn', 'GarageType_CarPort', 'GarageType_Detchd',\n",
       "       'GarageType_No_Garage', 'GarageFinish_No_Garage',\n",
       "       'GarageFinish_RFn', 'GarageFinish_Unf', 'GarageQual_Fa',\n",
       "       'GarageQual_Gd', 'GarageQual_No_Garage', 'GarageQual_Po',\n",
       "       'GarageQual_TA', 'GarageCond_Fa', 'GarageCond_Gd',\n",
       "       'GarageCond_No_Garage', 'GarageCond_Po', 'GarageCond_TA',\n",
       "       'PavedDrive_P', 'PavedDrive_Y', 'PoolQC_Fa', 'PoolQC_Gd',\n",
       "       'PoolQC_No_Pool', 'PoolQC_TA', 'Fence_GdWo', 'Fence_MnPrv',\n",
       "       'Fence_MnWw', 'Fence_No_Fence', 'MiscFeature_No_Misc',\n",
       "       'MiscFeature_Othr', 'MiscFeature_Shed', 'MiscFeature_TenC',\n",
       "       'SaleType_CWD', 'SaleType_Con', 'SaleType_ConLD', 'SaleType_ConLI',\n",
       "       'SaleType_ConLw', 'SaleType_New', 'SaleType_Oth', 'SaleType_VWD',\n",
       "       'SaleType_WD ', 'SaleCondition_AdjLand', 'SaleCondition_Alloca',\n",
       "       'SaleCondition_Family', 'SaleCondition_Normal',\n",
       "       'SaleCondition_Partial', 'MSSubClass_150', 'MSSubClass_160',\n",
       "       'MSSubClass_180', 'MSSubClass_190', 'MSSubClass_20',\n",
       "       'MSSubClass_30', 'MSSubClass_40', 'MSSubClass_45', 'MSSubClass_50',\n",
       "       'MSSubClass_60', 'MSSubClass_70', 'MSSubClass_75', 'MSSubClass_80',\n",
       "       'MSSubClass_85', 'MSSubClass_90', 'OverallQual_10',\n",
       "       'OverallQual_2', 'OverallQual_3', 'OverallQual_4', 'OverallQual_5',\n",
       "       'OverallQual_6', 'OverallQual_7', 'OverallQual_8', 'OverallQual_9',\n",
       "       'OverallCond_2', 'OverallCond_3', 'OverallCond_4', 'OverallCond_5',\n",
       "       'OverallCond_6', 'OverallCond_7', 'OverallCond_8', 'OverallCond_9',\n",
       "       'MoSold_10', 'MoSold_11', 'MoSold_12', 'MoSold_2', 'MoSold_3',\n",
       "       'MoSold_4', 'MoSold_5', 'MoSold_6', 'MoSold_7', 'MoSold_8',\n",
       "       'MoSold_9', 'YrSold_2007', 'YrSold_2008', 'YrSold_2009',\n",
       "       'YrSold_2010', 'MiscVal_1000', 'MiscVal_1150', 'MiscVal_1200',\n",
       "       'MiscVal_12500', 'MiscVal_1300', 'MiscVal_1400', 'MiscVal_1500',\n",
       "       'MiscVal_1512', 'MiscVal_15500', 'MiscVal_2000', 'MiscVal_2500',\n",
       "       'MiscVal_300', 'MiscVal_3000', 'MiscVal_350', 'MiscVal_3500',\n",
       "       'MiscVal_400', 'MiscVal_420', 'MiscVal_450', 'MiscVal_4500',\n",
       "       'MiscVal_455', 'MiscVal_480', 'MiscVal_490', 'MiscVal_500',\n",
       "       'MiscVal_560', 'MiscVal_600', 'MiscVal_650', 'MiscVal_6500',\n",
       "       'MiscVal_700', 'MiscVal_750', 'MiscVal_80', 'MiscVal_800',\n",
       "       'MiscVal_8300', 'MiscVal_900'], dtype=object)"
      ]
     },
     "execution_count": 7,
     "metadata": {},
     "output_type": "execute_result"
    }
   ],
   "source": [
    "np.array(x.columns)"
   ]
  },
  {
   "cell_type": "code",
   "execution_count": 8,
   "metadata": {},
   "outputs": [
    {
     "data": {
      "text/html": [
       "<div>\n",
       "<style scoped>\n",
       "    .dataframe tbody tr th:only-of-type {\n",
       "        vertical-align: middle;\n",
       "    }\n",
       "\n",
       "    .dataframe tbody tr th {\n",
       "        vertical-align: top;\n",
       "    }\n",
       "\n",
       "    .dataframe thead th {\n",
       "        text-align: right;\n",
       "    }\n",
       "</style>\n",
       "<table border=\"1\" class=\"dataframe\">\n",
       "  <thead>\n",
       "    <tr style=\"text-align: right;\">\n",
       "      <th></th>\n",
       "      <th>SalePrice</th>\n",
       "    </tr>\n",
       "  </thead>\n",
       "  <tbody>\n",
       "    <tr>\n",
       "      <th>0</th>\n",
       "      <td>126000</td>\n",
       "    </tr>\n",
       "    <tr>\n",
       "      <th>1</th>\n",
       "      <td>139500</td>\n",
       "    </tr>\n",
       "    <tr>\n",
       "      <th>2</th>\n",
       "      <td>124900</td>\n",
       "    </tr>\n",
       "    <tr>\n",
       "      <th>3</th>\n",
       "      <td>114000</td>\n",
       "    </tr>\n",
       "    <tr>\n",
       "      <th>4</th>\n",
       "      <td>227000</td>\n",
       "    </tr>\n",
       "    <tr>\n",
       "      <th>...</th>\n",
       "      <td>...</td>\n",
       "    </tr>\n",
       "    <tr>\n",
       "      <th>2574</th>\n",
       "      <td>121000</td>\n",
       "    </tr>\n",
       "    <tr>\n",
       "      <th>2575</th>\n",
       "      <td>139600</td>\n",
       "    </tr>\n",
       "    <tr>\n",
       "      <th>2576</th>\n",
       "      <td>145000</td>\n",
       "    </tr>\n",
       "    <tr>\n",
       "      <th>2577</th>\n",
       "      <td>217500</td>\n",
       "    </tr>\n",
       "    <tr>\n",
       "      <th>2578</th>\n",
       "      <td>215000</td>\n",
       "    </tr>\n",
       "  </tbody>\n",
       "</table>\n",
       "<p>2579 rows × 1 columns</p>\n",
       "</div>"
      ],
      "text/plain": [
       "      SalePrice\n",
       "0        126000\n",
       "1        139500\n",
       "2        124900\n",
       "3        114000\n",
       "4        227000\n",
       "...         ...\n",
       "2574     121000\n",
       "2575     139600\n",
       "2576     145000\n",
       "2577     217500\n",
       "2578     215000\n",
       "\n",
       "[2579 rows x 1 columns]"
      ]
     },
     "execution_count": 8,
     "metadata": {},
     "output_type": "execute_result"
    }
   ],
   "source": [
    "y = pd.DataFrame(y)\n",
    "y"
   ]
  },
  {
   "cell_type": "code",
   "execution_count": 9,
   "metadata": {},
   "outputs": [],
   "source": [
    "lasso = Lasso()\n",
    "ridge = Ridge()\n",
    "elasticnet = ElasticNet()"
   ]
  },
  {
   "cell_type": "code",
   "execution_count": 10,
   "metadata": {},
   "outputs": [],
   "source": [
    "X_train, X_test, y_train, y_test = train_test_split(x, y, test_size=0.3, random_state=0)"
   ]
  },
  {
   "cell_type": "code",
   "execution_count": 17,
   "metadata": {},
   "outputs": [],
   "source": [
    "alphaRange = np.linspace(0.005,0.01,5)\n",
    "rhoRange   = np.linspace(0.5,1, 5) # we avoid very small rho by starting at 0.1"
   ]
  },
  {
   "cell_type": "code",
   "execution_count": 18,
   "metadata": {},
   "outputs": [],
   "source": [
    "params = {'alpha': alphaRange, 'l1_ratio': rhoRange, 'max_iter':[10000]}\n",
    "#kfold = KFold(n_splits=3)"
   ]
  },
  {
   "cell_type": "code",
   "execution_count": 19,
   "metadata": {},
   "outputs": [
    {
     "name": "stderr",
     "output_type": "stream",
     "text": [
      "/opt/anaconda3/lib/python3.8/site-packages/sklearn/linear_model/_coordinate_descent.py:529: ConvergenceWarning: Objective did not converge. You might want to increase the number of iterations. Duality gap: 96211420352.51736, tolerance: 860075520.3847616\n",
      "  model = cd_fast.enet_coordinate_descent(\n",
      "/opt/anaconda3/lib/python3.8/site-packages/sklearn/linear_model/_coordinate_descent.py:529: ConvergenceWarning: Objective did not converge. You might want to increase the number of iterations. Duality gap: 112636713062.76758, tolerance: 754896649.9345515\n",
      "  model = cd_fast.enet_coordinate_descent(\n",
      "/opt/anaconda3/lib/python3.8/site-packages/sklearn/linear_model/_coordinate_descent.py:529: ConvergenceWarning: Objective did not converge. You might want to increase the number of iterations. Duality gap: 99290096645.24802, tolerance: 824635610.4010966\n",
      "  model = cd_fast.enet_coordinate_descent(\n",
      "/opt/anaconda3/lib/python3.8/site-packages/sklearn/linear_model/_coordinate_descent.py:529: ConvergenceWarning: Objective did not converge. You might want to increase the number of iterations. Duality gap: 111644416458.69394, tolerance: 820889862.0313493\n",
      "  model = cd_fast.enet_coordinate_descent(\n",
      "/opt/anaconda3/lib/python3.8/site-packages/sklearn/linear_model/_coordinate_descent.py:529: ConvergenceWarning: Objective did not converge. You might want to increase the number of iterations. Duality gap: 103252073172.21924, tolerance: 738496359.7062885\n",
      "  model = cd_fast.enet_coordinate_descent(\n",
      "/opt/anaconda3/lib/python3.8/site-packages/sklearn/linear_model/_coordinate_descent.py:529: ConvergenceWarning: Objective did not converge. You might want to increase the number of iterations. Duality gap: 96228125070.30899, tolerance: 860075520.3847616\n",
      "  model = cd_fast.enet_coordinate_descent(\n",
      "/opt/anaconda3/lib/python3.8/site-packages/sklearn/linear_model/_coordinate_descent.py:529: ConvergenceWarning: Objective did not converge. You might want to increase the number of iterations. Duality gap: 112646959422.21634, tolerance: 754896649.9345515\n",
      "  model = cd_fast.enet_coordinate_descent(\n",
      "/opt/anaconda3/lib/python3.8/site-packages/sklearn/linear_model/_coordinate_descent.py:529: ConvergenceWarning: Objective did not converge. You might want to increase the number of iterations. Duality gap: 99099704927.11685, tolerance: 824635610.4010966\n",
      "  model = cd_fast.enet_coordinate_descent(\n",
      "/opt/anaconda3/lib/python3.8/site-packages/sklearn/linear_model/_coordinate_descent.py:529: ConvergenceWarning: Objective did not converge. You might want to increase the number of iterations. Duality gap: 110421260091.47742, tolerance: 820889862.0313493\n",
      "  model = cd_fast.enet_coordinate_descent(\n",
      "/opt/anaconda3/lib/python3.8/site-packages/sklearn/linear_model/_coordinate_descent.py:529: ConvergenceWarning: Objective did not converge. You might want to increase the number of iterations. Duality gap: 103262409195.63602, tolerance: 738496359.7062885\n",
      "  model = cd_fast.enet_coordinate_descent(\n",
      "/opt/anaconda3/lib/python3.8/site-packages/sklearn/linear_model/_coordinate_descent.py:529: ConvergenceWarning: Objective did not converge. You might want to increase the number of iterations. Duality gap: 96236378730.70117, tolerance: 860075520.3847616\n",
      "  model = cd_fast.enet_coordinate_descent(\n",
      "/opt/anaconda3/lib/python3.8/site-packages/sklearn/linear_model/_coordinate_descent.py:529: ConvergenceWarning: Objective did not converge. You might want to increase the number of iterations. Duality gap: 112656866169.96976, tolerance: 754896649.9345515\n",
      "  model = cd_fast.enet_coordinate_descent(\n",
      "/opt/anaconda3/lib/python3.8/site-packages/sklearn/linear_model/_coordinate_descent.py:529: ConvergenceWarning: Objective did not converge. You might want to increase the number of iterations. Duality gap: 99120574711.34409, tolerance: 824635610.4010966\n",
      "  model = cd_fast.enet_coordinate_descent(\n",
      "/opt/anaconda3/lib/python3.8/site-packages/sklearn/linear_model/_coordinate_descent.py:529: ConvergenceWarning: Objective did not converge. You might want to increase the number of iterations. Duality gap: 110430422991.62646, tolerance: 820889862.0313493\n",
      "  model = cd_fast.enet_coordinate_descent(\n",
      "/opt/anaconda3/lib/python3.8/site-packages/sklearn/linear_model/_coordinate_descent.py:529: ConvergenceWarning: Objective did not converge. You might want to increase the number of iterations. Duality gap: 103271308957.621, tolerance: 738496359.7062885\n",
      "  model = cd_fast.enet_coordinate_descent(\n",
      "/opt/anaconda3/lib/python3.8/site-packages/sklearn/linear_model/_coordinate_descent.py:529: ConvergenceWarning: Objective did not converge. You might want to increase the number of iterations. Duality gap: 96244340760.66534, tolerance: 860075520.3847616\n",
      "  model = cd_fast.enet_coordinate_descent(\n",
      "/opt/anaconda3/lib/python3.8/site-packages/sklearn/linear_model/_coordinate_descent.py:529: ConvergenceWarning: Objective did not converge. You might want to increase the number of iterations. Duality gap: 112666356653.43234, tolerance: 754896649.9345515\n",
      "  model = cd_fast.enet_coordinate_descent(\n",
      "/opt/anaconda3/lib/python3.8/site-packages/sklearn/linear_model/_coordinate_descent.py:529: ConvergenceWarning: Objective did not converge. You might want to increase the number of iterations. Duality gap: 98188456496.78091, tolerance: 824635610.4010966\n",
      "  model = cd_fast.enet_coordinate_descent(\n",
      "/opt/anaconda3/lib/python3.8/site-packages/sklearn/linear_model/_coordinate_descent.py:529: ConvergenceWarning: Objective did not converge. You might want to increase the number of iterations. Duality gap: 110439407997.89432, tolerance: 820889862.0313493\n",
      "  model = cd_fast.enet_coordinate_descent(\n",
      "/opt/anaconda3/lib/python3.8/site-packages/sklearn/linear_model/_coordinate_descent.py:529: ConvergenceWarning: Objective did not converge. You might want to increase the number of iterations. Duality gap: 103485040606.89795, tolerance: 738496359.7062885\n",
      "  model = cd_fast.enet_coordinate_descent(\n",
      "/opt/anaconda3/lib/python3.8/site-packages/sklearn/linear_model/_coordinate_descent.py:529: ConvergenceWarning: Objective did not converge. You might want to increase the number of iterations. Duality gap: 63177395440.70108, tolerance: 860075520.3847616\n",
      "  model = cd_fast.enet_coordinate_descent(\n",
      "/opt/anaconda3/lib/python3.8/site-packages/sklearn/linear_model/_coordinate_descent.py:529: ConvergenceWarning: Objective did not converge. You might want to increase the number of iterations. Duality gap: 112675674846.69366, tolerance: 754896649.9345515\n",
      "  model = cd_fast.enet_coordinate_descent(\n",
      "/opt/anaconda3/lib/python3.8/site-packages/sklearn/linear_model/_coordinate_descent.py:529: ConvergenceWarning: Objective did not converge. You might want to increase the number of iterations. Duality gap: 97208256690.60806, tolerance: 824635610.4010966\n",
      "  model = cd_fast.enet_coordinate_descent(\n",
      "/opt/anaconda3/lib/python3.8/site-packages/sklearn/linear_model/_coordinate_descent.py:529: ConvergenceWarning: Objective did not converge. You might want to increase the number of iterations. Duality gap: 110444154764.78745, tolerance: 820889862.0313493\n",
      "  model = cd_fast.enet_coordinate_descent(\n",
      "/opt/anaconda3/lib/python3.8/site-packages/sklearn/linear_model/_coordinate_descent.py:529: ConvergenceWarning: Objective did not converge. You might want to increase the number of iterations. Duality gap: 74586282295.14505, tolerance: 738496359.7062885\n",
      "  model = cd_fast.enet_coordinate_descent(\n"
     ]
    },
    {
     "name": "stdout",
     "output_type": "stream",
     "text": [
      "The best parameters are:  {'alpha': 0.0075, 'l1_ratio': 0.625, 'max_iter': 10000}\n",
      "The score r2 score of the final model:  0.914398915491417\n"
     ]
    }
   ],
   "source": [
    "gs = GridSearchCV(elasticnet, params, scoring=\"r2\")\n",
    "gs.fit(X_train, y_train)\n",
    "print(\"The best parameters are: \", gs.best_params_)\n",
    "print(\"The score r2 score of the final model: \", gs.score(X_test, y_test))"
   ]
  },
  {
   "cell_type": "code",
   "execution_count": 11,
   "metadata": {},
   "outputs": [],
   "source": [
    "from sklearn.metrics import mean_squared_error"
   ]
  },
  {
   "cell_type": "code",
   "execution_count": 14,
   "metadata": {},
   "outputs": [
    {
     "data": {
      "text/plain": [
       "601084103.6224115"
      ]
     },
     "execution_count": 14,
     "metadata": {},
     "output_type": "execute_result"
    }
   ],
   "source": [
    "mean_squared_error(y_train,gs.predict(X_train))"
   ]
  },
  {
   "cell_type": "code",
   "execution_count": 15,
   "metadata": {},
   "outputs": [
    {
     "data": {
      "text/plain": [
       "602425899.3322093"
      ]
     },
     "execution_count": 15,
     "metadata": {},
     "output_type": "execute_result"
    }
   ],
   "source": [
    "mean_squared_error(y_test,gs.predict(X_test))"
   ]
  },
  {
   "cell_type": "code",
   "execution_count": 16,
   "metadata": {},
   "outputs": [
    {
     "name": "stdout",
     "output_type": "stream",
     "text": [
      "The score r2 score of the final model:  0.9143988232948108\n"
     ]
    }
   ],
   "source": [
    "elasticnet.set_params(alpha= .00625, l1_ratio = .55, max_iter = 10000)\n",
    "elasticnet.fit(X_train, y_train)\n",
    "print(\"The score r2 score of the final model: \", gs.score(X_test, y_test))"
   ]
  },
  {
   "cell_type": "code",
   "execution_count": null,
   "metadata": {},
   "outputs": [],
   "source": []
  }
 ],
 "metadata": {
  "kernelspec": {
   "display_name": "Python 3",
   "language": "python",
   "name": "python3"
  },
  "language_info": {
   "codemirror_mode": {
    "name": "ipython",
    "version": 3
   },
   "file_extension": ".py",
   "mimetype": "text/x-python",
   "name": "python",
   "nbconvert_exporter": "python",
   "pygments_lexer": "ipython3",
   "version": "3.8.3"
  }
 },
 "nbformat": 4,
 "nbformat_minor": 4
}

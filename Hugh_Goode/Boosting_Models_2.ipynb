{
 "cells": [
  {
   "cell_type": "code",
   "execution_count": 1,
   "metadata": {},
   "outputs": [],
   "source": [
    "import numpy as np\n",
    "import pandas as pd\n",
    "%matplotlib inline\n",
    "import matplotlib.pyplot as plt\n",
    "from sklearn.ensemble import GradientBoostingRegressor, AdaBoostRegressor\n",
    "from sklearn.model_selection import train_test_split, GridSearchCV\n",
    "from data_preprocessing_final import initiate_data"
   ]
  },
  {
   "cell_type": "code",
   "execution_count": 2,
   "metadata": {},
   "outputs": [],
   "source": [
    "data = pd.read_csv('Ames_HousePrice.csv', index_col=0)"
   ]
  },
  {
   "cell_type": "code",
   "execution_count": 3,
   "metadata": {},
   "outputs": [],
   "source": [
    "train_data_linear, train_target_linear, test_data_linear, test_target_linear, train_data_tree, train_target_tree, test_data_tree, test_target_tree = initiate_data(data)"
   ]
  },
  {
   "cell_type": "code",
   "execution_count": 4,
   "metadata": {},
   "outputs": [
    {
     "data": {
      "text/html": [
       "<div>\n",
       "<style scoped>\n",
       "    .dataframe tbody tr th:only-of-type {\n",
       "        vertical-align: middle;\n",
       "    }\n",
       "\n",
       "    .dataframe tbody tr th {\n",
       "        vertical-align: top;\n",
       "    }\n",
       "\n",
       "    .dataframe thead th {\n",
       "        text-align: right;\n",
       "    }\n",
       "</style>\n",
       "<table border=\"1\" class=\"dataframe\">\n",
       "  <thead>\n",
       "    <tr style=\"text-align: right;\">\n",
       "      <th></th>\n",
       "      <th>MSZoning</th>\n",
       "      <th>LotShape</th>\n",
       "      <th>LandContour</th>\n",
       "      <th>LotConfig</th>\n",
       "      <th>LandSlope</th>\n",
       "      <th>Neighborhood</th>\n",
       "      <th>Condition1</th>\n",
       "      <th>BldgType</th>\n",
       "      <th>HouseStyle</th>\n",
       "      <th>RoofStyle</th>\n",
       "      <th>...</th>\n",
       "      <th>GarageYrBlt</th>\n",
       "      <th>GarageArea</th>\n",
       "      <th>WoodDeckSF</th>\n",
       "      <th>OpenPorchSF</th>\n",
       "      <th>EnclosedPorch</th>\n",
       "      <th>3SsnPorch</th>\n",
       "      <th>ScreenPorch</th>\n",
       "      <th>TotalBath</th>\n",
       "      <th>Bsmt_Unfin_Ratio</th>\n",
       "      <th>TotalLivArea</th>\n",
       "    </tr>\n",
       "  </thead>\n",
       "  <tbody>\n",
       "    <tr>\n",
       "      <th>0</th>\n",
       "      <td>0.0</td>\n",
       "      <td>1.0</td>\n",
       "      <td>3.0</td>\n",
       "      <td>4.0</td>\n",
       "      <td>0.0</td>\n",
       "      <td>14.0</td>\n",
       "      <td>0.0</td>\n",
       "      <td>0.0</td>\n",
       "      <td>2.0</td>\n",
       "      <td>0.0</td>\n",
       "      <td>...</td>\n",
       "      <td>0.491228</td>\n",
       "      <td>0.181452</td>\n",
       "      <td>0.000000</td>\n",
       "      <td>0.000000</td>\n",
       "      <td>0.133399</td>\n",
       "      <td>0.0</td>\n",
       "      <td>0.000000</td>\n",
       "      <td>0.083333</td>\n",
       "      <td>0.000000</td>\n",
       "      <td>0.207745</td>\n",
       "    </tr>\n",
       "    <tr>\n",
       "      <th>1</th>\n",
       "      <td>6.0</td>\n",
       "      <td>1.0</td>\n",
       "      <td>3.0</td>\n",
       "      <td>4.0</td>\n",
       "      <td>0.0</td>\n",
       "      <td>20.0</td>\n",
       "      <td>2.0</td>\n",
       "      <td>0.0</td>\n",
       "      <td>2.0</td>\n",
       "      <td>0.0</td>\n",
       "      <td>...</td>\n",
       "      <td>0.350877</td>\n",
       "      <td>0.322581</td>\n",
       "      <td>0.000000</td>\n",
       "      <td>0.000000</td>\n",
       "      <td>0.181818</td>\n",
       "      <td>0.0</td>\n",
       "      <td>0.000000</td>\n",
       "      <td>0.000000</td>\n",
       "      <td>1.000000</td>\n",
       "      <td>0.262882</td>\n",
       "    </tr>\n",
       "    <tr>\n",
       "      <th>2</th>\n",
       "      <td>6.0</td>\n",
       "      <td>1.0</td>\n",
       "      <td>3.0</td>\n",
       "      <td>0.0</td>\n",
       "      <td>0.0</td>\n",
       "      <td>20.0</td>\n",
       "      <td>2.0</td>\n",
       "      <td>0.0</td>\n",
       "      <td>5.0</td>\n",
       "      <td>0.0</td>\n",
       "      <td>...</td>\n",
       "      <td>0.789474</td>\n",
       "      <td>0.290323</td>\n",
       "      <td>0.000000</td>\n",
       "      <td>0.503509</td>\n",
       "      <td>0.000000</td>\n",
       "      <td>0.0</td>\n",
       "      <td>0.000000</td>\n",
       "      <td>0.166667</td>\n",
       "      <td>1.000000</td>\n",
       "      <td>0.497539</td>\n",
       "    </tr>\n",
       "    <tr>\n",
       "      <th>3</th>\n",
       "      <td>5.0</td>\n",
       "      <td>0.0</td>\n",
       "      <td>3.0</td>\n",
       "      <td>4.0</td>\n",
       "      <td>0.0</td>\n",
       "      <td>19.0</td>\n",
       "      <td>2.0</td>\n",
       "      <td>0.0</td>\n",
       "      <td>2.0</td>\n",
       "      <td>1.0</td>\n",
       "      <td>...</td>\n",
       "      <td>0.991228</td>\n",
       "      <td>0.622984</td>\n",
       "      <td>0.117978</td>\n",
       "      <td>0.078947</td>\n",
       "      <td>0.000000</td>\n",
       "      <td>0.0</td>\n",
       "      <td>0.000000</td>\n",
       "      <td>0.333333</td>\n",
       "      <td>0.416331</td>\n",
       "      <td>0.516574</td>\n",
       "    </tr>\n",
       "    <tr>\n",
       "      <th>4</th>\n",
       "      <td>5.0</td>\n",
       "      <td>1.0</td>\n",
       "      <td>3.0</td>\n",
       "      <td>4.0</td>\n",
       "      <td>0.0</td>\n",
       "      <td>7.0</td>\n",
       "      <td>2.0</td>\n",
       "      <td>0.0</td>\n",
       "      <td>0.0</td>\n",
       "      <td>0.0</td>\n",
       "      <td>...</td>\n",
       "      <td>0.701754</td>\n",
       "      <td>0.387097</td>\n",
       "      <td>0.000000</td>\n",
       "      <td>0.000000</td>\n",
       "      <td>0.042490</td>\n",
       "      <td>0.0</td>\n",
       "      <td>0.204082</td>\n",
       "      <td>0.166667</td>\n",
       "      <td>0.739179</td>\n",
       "      <td>0.314736</td>\n",
       "    </tr>\n",
       "    <tr>\n",
       "      <th>...</th>\n",
       "      <td>...</td>\n",
       "      <td>...</td>\n",
       "      <td>...</td>\n",
       "      <td>...</td>\n",
       "      <td>...</td>\n",
       "      <td>...</td>\n",
       "      <td>...</td>\n",
       "      <td>...</td>\n",
       "      <td>...</td>\n",
       "      <td>...</td>\n",
       "      <td>...</td>\n",
       "      <td>...</td>\n",
       "      <td>...</td>\n",
       "      <td>...</td>\n",
       "      <td>...</td>\n",
       "      <td>...</td>\n",
       "      <td>...</td>\n",
       "      <td>...</td>\n",
       "      <td>...</td>\n",
       "      <td>...</td>\n",
       "      <td>...</td>\n",
       "    </tr>\n",
       "    <tr>\n",
       "      <th>1921</th>\n",
       "      <td>5.0</td>\n",
       "      <td>0.0</td>\n",
       "      <td>3.0</td>\n",
       "      <td>4.0</td>\n",
       "      <td>0.0</td>\n",
       "      <td>5.0</td>\n",
       "      <td>2.0</td>\n",
       "      <td>0.0</td>\n",
       "      <td>2.0</td>\n",
       "      <td>0.0</td>\n",
       "      <td>...</td>\n",
       "      <td>0.982456</td>\n",
       "      <td>0.580645</td>\n",
       "      <td>0.117978</td>\n",
       "      <td>0.052632</td>\n",
       "      <td>0.000000</td>\n",
       "      <td>0.0</td>\n",
       "      <td>0.000000</td>\n",
       "      <td>0.166667</td>\n",
       "      <td>1.000000</td>\n",
       "      <td>0.475222</td>\n",
       "    </tr>\n",
       "    <tr>\n",
       "      <th>1922</th>\n",
       "      <td>5.0</td>\n",
       "      <td>0.0</td>\n",
       "      <td>0.0</td>\n",
       "      <td>4.0</td>\n",
       "      <td>1.0</td>\n",
       "      <td>21.0</td>\n",
       "      <td>2.0</td>\n",
       "      <td>0.0</td>\n",
       "      <td>0.0</td>\n",
       "      <td>0.0</td>\n",
       "      <td>...</td>\n",
       "      <td>0.394737</td>\n",
       "      <td>0.155242</td>\n",
       "      <td>0.000000</td>\n",
       "      <td>0.000000</td>\n",
       "      <td>0.044466</td>\n",
       "      <td>0.0</td>\n",
       "      <td>0.000000</td>\n",
       "      <td>0.000000</td>\n",
       "      <td>0.386667</td>\n",
       "      <td>0.194454</td>\n",
       "    </tr>\n",
       "    <tr>\n",
       "      <th>1923</th>\n",
       "      <td>5.0</td>\n",
       "      <td>1.0</td>\n",
       "      <td>0.0</td>\n",
       "      <td>4.0</td>\n",
       "      <td>1.0</td>\n",
       "      <td>22.0</td>\n",
       "      <td>3.0</td>\n",
       "      <td>0.0</td>\n",
       "      <td>2.0</td>\n",
       "      <td>1.0</td>\n",
       "      <td>...</td>\n",
       "      <td>0.535088</td>\n",
       "      <td>0.217070</td>\n",
       "      <td>0.000000</td>\n",
       "      <td>0.000000</td>\n",
       "      <td>0.000000</td>\n",
       "      <td>0.0</td>\n",
       "      <td>0.000000</td>\n",
       "      <td>0.166667</td>\n",
       "      <td>0.267742</td>\n",
       "      <td>0.374303</td>\n",
       "    </tr>\n",
       "    <tr>\n",
       "      <th>1924</th>\n",
       "      <td>5.0</td>\n",
       "      <td>1.0</td>\n",
       "      <td>3.0</td>\n",
       "      <td>4.0</td>\n",
       "      <td>0.0</td>\n",
       "      <td>15.0</td>\n",
       "      <td>2.0</td>\n",
       "      <td>0.0</td>\n",
       "      <td>2.0</td>\n",
       "      <td>0.0</td>\n",
       "      <td>...</td>\n",
       "      <td>0.500000</td>\n",
       "      <td>0.161290</td>\n",
       "      <td>0.000000</td>\n",
       "      <td>0.000000</td>\n",
       "      <td>0.000000</td>\n",
       "      <td>0.0</td>\n",
       "      <td>0.000000</td>\n",
       "      <td>0.166667</td>\n",
       "      <td>0.794444</td>\n",
       "      <td>0.208074</td>\n",
       "    </tr>\n",
       "    <tr>\n",
       "      <th>1925</th>\n",
       "      <td>5.0</td>\n",
       "      <td>0.0</td>\n",
       "      <td>2.0</td>\n",
       "      <td>4.0</td>\n",
       "      <td>1.0</td>\n",
       "      <td>5.0</td>\n",
       "      <td>2.0</td>\n",
       "      <td>0.0</td>\n",
       "      <td>7.0</td>\n",
       "      <td>0.0</td>\n",
       "      <td>...</td>\n",
       "      <td>0.754386</td>\n",
       "      <td>0.387097</td>\n",
       "      <td>0.000000</td>\n",
       "      <td>0.000000</td>\n",
       "      <td>0.033597</td>\n",
       "      <td>0.0</td>\n",
       "      <td>0.000000</td>\n",
       "      <td>0.166667</td>\n",
       "      <td>0.000000</td>\n",
       "      <td>0.267804</td>\n",
       "    </tr>\n",
       "  </tbody>\n",
       "</table>\n",
       "<p>1926 rows × 55 columns</p>\n",
       "</div>"
      ],
      "text/plain": [
       "      MSZoning  LotShape  LandContour  LotConfig  LandSlope  Neighborhood  \\\n",
       "0          0.0       1.0          3.0        4.0        0.0          14.0   \n",
       "1          6.0       1.0          3.0        4.0        0.0          20.0   \n",
       "2          6.0       1.0          3.0        0.0        0.0          20.0   \n",
       "3          5.0       0.0          3.0        4.0        0.0          19.0   \n",
       "4          5.0       1.0          3.0        4.0        0.0           7.0   \n",
       "...        ...       ...          ...        ...        ...           ...   \n",
       "1921       5.0       0.0          3.0        4.0        0.0           5.0   \n",
       "1922       5.0       0.0          0.0        4.0        1.0          21.0   \n",
       "1923       5.0       1.0          0.0        4.0        1.0          22.0   \n",
       "1924       5.0       1.0          3.0        4.0        0.0          15.0   \n",
       "1925       5.0       0.0          2.0        4.0        1.0           5.0   \n",
       "\n",
       "      Condition1  BldgType  HouseStyle  RoofStyle  ...  GarageYrBlt  \\\n",
       "0            0.0       0.0         2.0        0.0  ...     0.491228   \n",
       "1            2.0       0.0         2.0        0.0  ...     0.350877   \n",
       "2            2.0       0.0         5.0        0.0  ...     0.789474   \n",
       "3            2.0       0.0         2.0        1.0  ...     0.991228   \n",
       "4            2.0       0.0         0.0        0.0  ...     0.701754   \n",
       "...          ...       ...         ...        ...  ...          ...   \n",
       "1921         2.0       0.0         2.0        0.0  ...     0.982456   \n",
       "1922         2.0       0.0         0.0        0.0  ...     0.394737   \n",
       "1923         3.0       0.0         2.0        1.0  ...     0.535088   \n",
       "1924         2.0       0.0         2.0        0.0  ...     0.500000   \n",
       "1925         2.0       0.0         7.0        0.0  ...     0.754386   \n",
       "\n",
       "      GarageArea  WoodDeckSF  OpenPorchSF  EnclosedPorch  3SsnPorch  \\\n",
       "0       0.181452    0.000000     0.000000       0.133399        0.0   \n",
       "1       0.322581    0.000000     0.000000       0.181818        0.0   \n",
       "2       0.290323    0.000000     0.503509       0.000000        0.0   \n",
       "3       0.622984    0.117978     0.078947       0.000000        0.0   \n",
       "4       0.387097    0.000000     0.000000       0.042490        0.0   \n",
       "...          ...         ...          ...            ...        ...   \n",
       "1921    0.580645    0.117978     0.052632       0.000000        0.0   \n",
       "1922    0.155242    0.000000     0.000000       0.044466        0.0   \n",
       "1923    0.217070    0.000000     0.000000       0.000000        0.0   \n",
       "1924    0.161290    0.000000     0.000000       0.000000        0.0   \n",
       "1925    0.387097    0.000000     0.000000       0.033597        0.0   \n",
       "\n",
       "      ScreenPorch  TotalBath  Bsmt_Unfin_Ratio  TotalLivArea  \n",
       "0        0.000000   0.083333          0.000000      0.207745  \n",
       "1        0.000000   0.000000          1.000000      0.262882  \n",
       "2        0.000000   0.166667          1.000000      0.497539  \n",
       "3        0.000000   0.333333          0.416331      0.516574  \n",
       "4        0.204082   0.166667          0.739179      0.314736  \n",
       "...           ...        ...               ...           ...  \n",
       "1921     0.000000   0.166667          1.000000      0.475222  \n",
       "1922     0.000000   0.000000          0.386667      0.194454  \n",
       "1923     0.000000   0.166667          0.267742      0.374303  \n",
       "1924     0.000000   0.166667          0.794444      0.208074  \n",
       "1925     0.000000   0.166667          0.000000      0.267804  \n",
       "\n",
       "[1926 rows x 55 columns]"
      ]
     },
     "execution_count": 4,
     "metadata": {},
     "output_type": "execute_result"
    }
   ],
   "source": [
    "train_data_tree = train_data_tree.drop('PID', axis = 1)\n",
    "test_data_tree = test_data_tree.drop('PID', axis = 1)\n",
    "train_data_tree"
   ]
  },
  {
   "cell_type": "code",
   "execution_count": 5,
   "metadata": {},
   "outputs": [
    {
     "data": {
      "text/plain": [
       "0      183500.0\n",
       "1      133500.0\n",
       "2      175900.0\n",
       "3      100000.0\n",
       "4      124000.0\n",
       "         ...   \n",
       "477    192500.0\n",
       "478    181900.0\n",
       "479    139000.0\n",
       "480    217000.0\n",
       "481    221000.0\n",
       "Name: SalePrice, Length: 482, dtype: float64"
      ]
     },
     "execution_count": 5,
     "metadata": {},
     "output_type": "execute_result"
    }
   ],
   "source": [
    "train_target_tree = np.exp(train_target_tree)\n",
    "test_target_tree = np.exp(test_target_tree)\n",
    "test_target_tree"
   ]
  },
  {
   "cell_type": "code",
   "execution_count": 6,
   "metadata": {},
   "outputs": [
    {
     "name": "stdout",
     "output_type": "stream",
     "text": [
      "0.9676756802598898\n",
      "0.9314940076729377\n"
     ]
    }
   ],
   "source": [
    "gbm = GradientBoostingRegressor()\n",
    "gbm.fit(train_data_tree, train_target_tree)\n",
    "print(gbm.score(train_data_tree, train_target_tree))\n",
    "print(gbm.score(test_data_tree, test_target_tree))"
   ]
  },
  {
   "cell_type": "code",
   "execution_count": 7,
   "metadata": {},
   "outputs": [
    {
     "name": "stdout",
     "output_type": "stream",
     "text": [
      "0.9959581063628195\n",
      "0.9382561022476547\n"
     ]
    }
   ],
   "source": [
    "gbm = GradientBoostingRegressor(n_estimators = 1000)\n",
    "gbm.fit(train_data_tree, train_target_tree)\n",
    "print(gbm.score(train_data_tree, train_target_tree))\n",
    "print(gbm.score(test_data_tree, test_target_tree))"
   ]
  },
  {
   "cell_type": "code",
   "execution_count": 8,
   "metadata": {},
   "outputs": [
    {
     "name": "stdout",
     "output_type": "stream",
     "text": [
      "0.985494367436235\n",
      "0.9390614199820946\n"
     ]
    }
   ],
   "source": [
    "gbm = GradientBoostingRegressor(n_estimators = 1000, max_depth = 2)\n",
    "gbm.fit(train_data_tree, train_target_tree)\n",
    "print(gbm.score(train_data_tree, train_target_tree))\n",
    "print(gbm.score(test_data_tree, test_target_tree))"
   ]
  },
  {
   "cell_type": "code",
   "execution_count": 11,
   "metadata": {},
   "outputs": [
    {
     "name": "stdout",
     "output_type": "stream",
     "text": [
      "0.887738470194798\n",
      "0.8454010236825729\n"
     ]
    }
   ],
   "source": [
    "abm = AdaBoostRegressor(n_estimators = 41)\n",
    "abm.fit(train_data_tree, train_target_tree)\n",
    "print(abm.score(train_data_tree, train_target_tree))\n",
    "print(abm.score(test_data_tree, test_target_tree))"
   ]
  },
  {
   "cell_type": "code",
   "execution_count": 10,
   "metadata": {},
   "outputs": [
    {
     "data": {
      "image/png": "[encoded data removed]",
      "text/plain": [
       "<Figure size 432x288 with 1 Axes>"
      ]
     },
     "metadata": {
      "needs_background": "light"
     },
     "output_type": "display_data"
    }
   ],
   "source": [
    "test_accs = []\n",
    "for num_learners in range(1,51):\n",
    "    # Train a boosting model on the dataset\n",
    "    abm = AdaBoostRegressor(n_estimators=num_learners,random_state=0)\n",
    "    abm.fit(train_data_tree, train_target_tree)\n",
    "\n",
    "    # Calculate the accuracy on the test set\n",
    "    test_accs.append(abm.score(test_data_tree, test_target_tree))\n",
    "\n",
    "plt.plot(test_accs)\n",
    "plt.xlabel('num_learners')\n",
    "plt.ylabel('accuracy on test set')\n",
    "opt_num_learners = range(1,51)[np.argmax(test_accs)]\n",
    "plt.title('optimal num_learners is {}'.format(opt_num_learners))\n",
    "plt.show()"
   ]
  },
  {
   "cell_type": "code",
   "execution_count": 12,
   "metadata": {},
   "outputs": [
    {
     "data": {
      "text/plain": [
       "{'learning_rate': 0.1, 'max_depth': 2, 'n_estimators': 1000}"
      ]
     },
     "execution_count": 12,
     "metadata": {},
     "output_type": "execute_result"
    }
   ],
   "source": [
    "params = {'learning_rate':[0.1, .05, .01, .001],'max_depth':[1,2,3], 'n_estimators' : [1000]}\n",
    "\n",
    "gbm = GradientBoostingRegressor()\n",
    "grid_search = GridSearchCV(gbm,params)\n",
    "grid_search.fit(train_data_tree, train_target_tree)\n",
    "\n",
    "grid_search.best_params_"
   ]
  },
  {
   "cell_type": "code",
   "execution_count": 13,
   "metadata": {},
   "outputs": [
    {
     "data": {
      "text/plain": [
       "0.9373368226400023"
      ]
     },
     "execution_count": 13,
     "metadata": {},
     "output_type": "execute_result"
    }
   ],
   "source": [
    "grid_search.best_score_"
   ]
  },
  {
   "cell_type": "code",
   "execution_count": 14,
   "metadata": {},
   "outputs": [
    {
     "name": "stdout",
     "output_type": "stream",
     "text": [
      "0.985494367436235\n",
      "0.9383502101976606\n"
     ]
    }
   ],
   "source": [
    "gbm = GradientBoostingRegressor(n_estimators = 1000, max_depth = 2, learning_rate = 0.1)\n",
    "gbm.fit(train_data_tree, train_target_tree)\n",
    "print(gbm.score(train_data_tree, train_target_tree))\n",
    "print(gbm.score(test_data_tree, test_target_tree))"
   ]
  },
  {
   "cell_type": "code",
   "execution_count": null,
   "metadata": {},
   "outputs": [],
   "source": [
    "params = {'learning_rate':[.1, .2, .3],'max_depth':[1,2,3], 'n_estimators':[1000]}\n",
    "\n",
    "gbm = GradientBoostingRegressor()\n",
    "grid_search = GridSearchCV(gbm,params)\n",
    "grid_search.fit(train_data_tree, train_target_tree)\n",
    "\n",
    "grid_search.best_params_"
   ]
  },
  {
   "cell_type": "code",
   "execution_count": 16,
   "metadata": {},
   "outputs": [
    {
     "name": "stdout",
     "output_type": "stream",
     "text": [
      "0.9994895371535105\n",
      "0.9278570484385701\n"
     ]
    }
   ],
   "source": [
    "gbm = GradientBoostingRegressor(n_estimators = 1000, max_depth = 4, learning_rate = 0.1)\n",
    "gbm.fit(train_data_tree, train_target_tree)\n",
    "print(gbm.score(train_data_tree, train_target_tree))\n",
    "print(gbm.score(test_data_tree, test_target_tree))"
   ]
  },
  {
   "cell_type": "code",
   "execution_count": 17,
   "metadata": {},
   "outputs": [
    {
     "data": {
      "text/plain": [
       "{'learning_rate': 0.2, 'max_depth': 3}"
      ]
     },
     "execution_count": 17,
     "metadata": {},
     "output_type": "execute_result"
    }
   ],
   "source": [
    "params = {'learning_rate':[.3, .2, .1],'max_depth':[3]}\n",
    "\n",
    "gbm = GradientBoostingRegressor()\n",
    "grid_search = GridSearchCV(gbm,params)\n",
    "grid_search.fit(train_data_tree, train_target_tree)\n",
    "\n",
    "grid_search.best_params_"
   ]
  },
  {
   "cell_type": "code",
   "execution_count": 20,
   "metadata": {},
   "outputs": [
    {
     "name": "stdout",
     "output_type": "stream",
     "text": [
      "0.985494367436235\n",
      "0.9386707454723833\n"
     ]
    }
   ],
   "source": [
    "gbm = GradientBoostingRegressor(n_estimators = 1000, max_depth = 2, learning_rate = 0.1)\n",
    "gbm.fit(train_data_tree, train_target_tree)\n",
    "print(gbm.score(train_data_tree, train_target_tree))\n",
    "print(gbm.score(test_data_tree, test_target_tree))"
   ]
  },
  {
   "cell_type": "code",
   "execution_count": 22,
   "metadata": {},
   "outputs": [],
   "source": [
    "import pickle\n",
    "pickle.dump(gbm, open('gbm_model.pkl', 'wb'))"
   ]
  },
  {
   "cell_type": "code",
   "execution_count": 23,
   "metadata": {},
   "outputs": [
    {
     "name": "stdout",
     "output_type": "stream",
     "text": [
      "0.989141558315933\n",
      "0.937993907156269\n"
     ]
    }
   ],
   "source": [
    "gbm = GradientBoostingRegressor(learning_rate=0.025, max_depth=4, max_features=8, n_estimators=1000, subsample=0.8)\n",
    "gbm.fit(train_data_tree, train_target_tree)\n",
    "print(gbm.score(train_data_tree, train_target_tree))\n",
    "print(gbm.score(test_data_tree, test_target_tree))"
   ]
  },
  {
   "cell_type": "code",
   "execution_count": null,
   "metadata": {},
   "outputs": [],
   "source": []
  }
 ],
 "metadata": {
  "kernelspec": {
   "display_name": "Python 3",
   "language": "python",
   "name": "python3"
  },
  "language_info": {
   "codemirror_mode": {
    "name": "ipython",
    "version": 3
   },
   "file_extension": ".py",
   "mimetype": "text/x-python",
   "name": "python",
   "nbconvert_exporter": "python",
   "pygments_lexer": "ipython3",
   "version": "3.8.3"
  }
 },
 "nbformat": 4,
 "nbformat_minor": 4
}

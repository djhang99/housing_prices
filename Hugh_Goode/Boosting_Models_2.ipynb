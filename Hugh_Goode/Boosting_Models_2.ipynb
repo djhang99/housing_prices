{
 "cells": [
  {
   "cell_type": "code",
   "execution_count": 13,
   "metadata": {},
   "outputs": [],
   "source": [
    "import numpy as np\n",
    "import pandas as pd\n",
    "%matplotlib inline\n",
    "import matplotlib.pyplot as plt\n",
    "from sklearn.ensemble import GradientBoostingRegressor, AdaBoostRegressor\n",
    "from sklearn.model_selection import train_test_split, GridSearchCV\n",
    "from data_preprocessing_final import initiate_data"
   ]
  },
  {
   "cell_type": "code",
   "execution_count": 25,
   "metadata": {},
   "outputs": [],
   "source": [
    "data = pd.read_csv('Ames_HousePrice.csv', index_col=0)"
   ]
  },
  {
   "cell_type": "code",
   "execution_count": 26,
   "metadata": {},
   "outputs": [],
   "source": [
    "train_data_linear, train_target_linear, test_data_linear, test_target_linear, train_data_tree, train_target_tree, test_data_tree, test_target_tree = initiate_data(data)"
   ]
  },
  {
   "cell_type": "code",
   "execution_count": 27,
   "metadata": {},
   "outputs": [
    {
     "data": {
      "text/html": [
       "<div>\n",
       "<style scoped>\n",
       "    .dataframe tbody tr th:only-of-type {\n",
       "        vertical-align: middle;\n",
       "    }\n",
       "\n",
       "    .dataframe tbody tr th {\n",
       "        vertical-align: top;\n",
       "    }\n",
       "\n",
       "    .dataframe thead th {\n",
       "        text-align: right;\n",
       "    }\n",
       "</style>\n",
       "<table border=\"1\" class=\"dataframe\">\n",
       "  <thead>\n",
       "    <tr style=\"text-align: right;\">\n",
       "      <th></th>\n",
       "      <th>MSZoning</th>\n",
       "      <th>LotShape</th>\n",
       "      <th>LandContour</th>\n",
       "      <th>LotConfig</th>\n",
       "      <th>LandSlope</th>\n",
       "      <th>Neighborhood</th>\n",
       "      <th>Condition1</th>\n",
       "      <th>BldgType</th>\n",
       "      <th>HouseStyle</th>\n",
       "      <th>RoofStyle</th>\n",
       "      <th>...</th>\n",
       "      <th>Fireplaces</th>\n",
       "      <th>GarageYrBlt</th>\n",
       "      <th>GarageArea</th>\n",
       "      <th>WoodDeckSF</th>\n",
       "      <th>OpenPorchSF</th>\n",
       "      <th>EnclosedPorch</th>\n",
       "      <th>3SsnPorch</th>\n",
       "      <th>ScreenPorch</th>\n",
       "      <th>Bsmt_Unfin_Ratio</th>\n",
       "      <th>TotalLivArea</th>\n",
       "    </tr>\n",
       "  </thead>\n",
       "  <tbody>\n",
       "    <tr>\n",
       "      <th>0</th>\n",
       "      <td>5.0</td>\n",
       "      <td>0.0</td>\n",
       "      <td>2.0</td>\n",
       "      <td>1.0</td>\n",
       "      <td>2.0</td>\n",
       "      <td>4.0</td>\n",
       "      <td>2.0</td>\n",
       "      <td>0.0</td>\n",
       "      <td>5.0</td>\n",
       "      <td>2.0</td>\n",
       "      <td>...</td>\n",
       "      <td>0.000000</td>\n",
       "      <td>0.626087</td>\n",
       "      <td>0.361559</td>\n",
       "      <td>0.341292</td>\n",
       "      <td>0.000000</td>\n",
       "      <td>0.000000</td>\n",
       "      <td>0.0</td>\n",
       "      <td>0.390625</td>\n",
       "      <td>0.000000</td>\n",
       "      <td>0.350875</td>\n",
       "    </tr>\n",
       "    <tr>\n",
       "      <th>1</th>\n",
       "      <td>5.0</td>\n",
       "      <td>0.0</td>\n",
       "      <td>3.0</td>\n",
       "      <td>0.0</td>\n",
       "      <td>0.0</td>\n",
       "      <td>15.0</td>\n",
       "      <td>2.0</td>\n",
       "      <td>0.0</td>\n",
       "      <td>2.0</td>\n",
       "      <td>1.0</td>\n",
       "      <td>...</td>\n",
       "      <td>0.000000</td>\n",
       "      <td>0.547826</td>\n",
       "      <td>0.209677</td>\n",
       "      <td>0.275983</td>\n",
       "      <td>0.063158</td>\n",
       "      <td>0.000000</td>\n",
       "      <td>0.0</td>\n",
       "      <td>0.000000</td>\n",
       "      <td>0.305493</td>\n",
       "      <td>0.284088</td>\n",
       "    </tr>\n",
       "    <tr>\n",
       "      <th>2</th>\n",
       "      <td>5.0</td>\n",
       "      <td>1.0</td>\n",
       "      <td>3.0</td>\n",
       "      <td>4.0</td>\n",
       "      <td>0.0</td>\n",
       "      <td>22.0</td>\n",
       "      <td>5.0</td>\n",
       "      <td>0.0</td>\n",
       "      <td>2.0</td>\n",
       "      <td>0.0</td>\n",
       "      <td>...</td>\n",
       "      <td>0.333333</td>\n",
       "      <td>0.678261</td>\n",
       "      <td>0.225806</td>\n",
       "      <td>0.292135</td>\n",
       "      <td>0.252632</td>\n",
       "      <td>0.000000</td>\n",
       "      <td>0.0</td>\n",
       "      <td>0.000000</td>\n",
       "      <td>0.250559</td>\n",
       "      <td>0.163288</td>\n",
       "    </tr>\n",
       "    <tr>\n",
       "      <th>3</th>\n",
       "      <td>5.0</td>\n",
       "      <td>0.0</td>\n",
       "      <td>3.0</td>\n",
       "      <td>4.0</td>\n",
       "      <td>0.0</td>\n",
       "      <td>22.0</td>\n",
       "      <td>2.0</td>\n",
       "      <td>0.0</td>\n",
       "      <td>2.0</td>\n",
       "      <td>0.0</td>\n",
       "      <td>...</td>\n",
       "      <td>0.333333</td>\n",
       "      <td>0.634783</td>\n",
       "      <td>0.295699</td>\n",
       "      <td>0.000000</td>\n",
       "      <td>0.168421</td>\n",
       "      <td>0.177866</td>\n",
       "      <td>0.0</td>\n",
       "      <td>0.000000</td>\n",
       "      <td>0.609856</td>\n",
       "      <td>0.356845</td>\n",
       "    </tr>\n",
       "    <tr>\n",
       "      <th>4</th>\n",
       "      <td>5.0</td>\n",
       "      <td>0.0</td>\n",
       "      <td>3.0</td>\n",
       "      <td>1.0</td>\n",
       "      <td>0.0</td>\n",
       "      <td>19.0</td>\n",
       "      <td>2.0</td>\n",
       "      <td>0.0</td>\n",
       "      <td>2.0</td>\n",
       "      <td>1.0</td>\n",
       "      <td>...</td>\n",
       "      <td>0.333333</td>\n",
       "      <td>0.973913</td>\n",
       "      <td>0.788978</td>\n",
       "      <td>0.134831</td>\n",
       "      <td>0.052632</td>\n",
       "      <td>0.000000</td>\n",
       "      <td>0.0</td>\n",
       "      <td>0.000000</td>\n",
       "      <td>0.274138</td>\n",
       "      <td>0.555124</td>\n",
       "    </tr>\n",
       "    <tr>\n",
       "      <th>...</th>\n",
       "      <td>...</td>\n",
       "      <td>...</td>\n",
       "      <td>...</td>\n",
       "      <td>...</td>\n",
       "      <td>...</td>\n",
       "      <td>...</td>\n",
       "      <td>...</td>\n",
       "      <td>...</td>\n",
       "      <td>...</td>\n",
       "      <td>...</td>\n",
       "      <td>...</td>\n",
       "      <td>...</td>\n",
       "      <td>...</td>\n",
       "      <td>...</td>\n",
       "      <td>...</td>\n",
       "      <td>...</td>\n",
       "      <td>...</td>\n",
       "      <td>...</td>\n",
       "      <td>...</td>\n",
       "      <td>...</td>\n",
       "      <td>...</td>\n",
       "    </tr>\n",
       "    <tr>\n",
       "      <th>2055</th>\n",
       "      <td>5.0</td>\n",
       "      <td>1.0</td>\n",
       "      <td>3.0</td>\n",
       "      <td>4.0</td>\n",
       "      <td>0.0</td>\n",
       "      <td>15.0</td>\n",
       "      <td>2.0</td>\n",
       "      <td>0.0</td>\n",
       "      <td>0.0</td>\n",
       "      <td>0.0</td>\n",
       "      <td>...</td>\n",
       "      <td>0.000000</td>\n",
       "      <td>0.452174</td>\n",
       "      <td>0.225806</td>\n",
       "      <td>0.110955</td>\n",
       "      <td>0.000000</td>\n",
       "      <td>0.100791</td>\n",
       "      <td>0.0</td>\n",
       "      <td>0.000000</td>\n",
       "      <td>0.468750</td>\n",
       "      <td>0.199389</td>\n",
       "    </tr>\n",
       "    <tr>\n",
       "      <th>2056</th>\n",
       "      <td>5.0</td>\n",
       "      <td>0.0</td>\n",
       "      <td>3.0</td>\n",
       "      <td>1.0</td>\n",
       "      <td>0.0</td>\n",
       "      <td>22.0</td>\n",
       "      <td>5.0</td>\n",
       "      <td>0.0</td>\n",
       "      <td>5.0</td>\n",
       "      <td>0.0</td>\n",
       "      <td>...</td>\n",
       "      <td>0.000000</td>\n",
       "      <td>0.704348</td>\n",
       "      <td>0.319220</td>\n",
       "      <td>0.000000</td>\n",
       "      <td>0.077193</td>\n",
       "      <td>0.000000</td>\n",
       "      <td>0.0</td>\n",
       "      <td>0.000000</td>\n",
       "      <td>0.264828</td>\n",
       "      <td>0.221050</td>\n",
       "    </tr>\n",
       "    <tr>\n",
       "      <th>2057</th>\n",
       "      <td>5.0</td>\n",
       "      <td>0.0</td>\n",
       "      <td>3.0</td>\n",
       "      <td>4.0</td>\n",
       "      <td>0.0</td>\n",
       "      <td>7.0</td>\n",
       "      <td>2.0</td>\n",
       "      <td>0.0</td>\n",
       "      <td>0.0</td>\n",
       "      <td>0.0</td>\n",
       "      <td>...</td>\n",
       "      <td>0.000000</td>\n",
       "      <td>0.521739</td>\n",
       "      <td>0.201613</td>\n",
       "      <td>0.084972</td>\n",
       "      <td>0.000000</td>\n",
       "      <td>0.000000</td>\n",
       "      <td>0.0</td>\n",
       "      <td>0.460069</td>\n",
       "      <td>1.000000</td>\n",
       "      <td>0.221744</td>\n",
       "    </tr>\n",
       "    <tr>\n",
       "      <th>2058</th>\n",
       "      <td>6.0</td>\n",
       "      <td>1.0</td>\n",
       "      <td>3.0</td>\n",
       "      <td>4.0</td>\n",
       "      <td>0.0</td>\n",
       "      <td>3.0</td>\n",
       "      <td>2.0</td>\n",
       "      <td>0.0</td>\n",
       "      <td>0.0</td>\n",
       "      <td>0.0</td>\n",
       "      <td>...</td>\n",
       "      <td>0.333333</td>\n",
       "      <td>0.304348</td>\n",
       "      <td>0.322581</td>\n",
       "      <td>0.000000</td>\n",
       "      <td>0.017544</td>\n",
       "      <td>0.000000</td>\n",
       "      <td>0.0</td>\n",
       "      <td>0.000000</td>\n",
       "      <td>0.517241</td>\n",
       "      <td>0.257151</td>\n",
       "    </tr>\n",
       "    <tr>\n",
       "      <th>2059</th>\n",
       "      <td>5.0</td>\n",
       "      <td>0.0</td>\n",
       "      <td>0.0</td>\n",
       "      <td>2.0</td>\n",
       "      <td>0.0</td>\n",
       "      <td>8.0</td>\n",
       "      <td>1.0</td>\n",
       "      <td>0.0</td>\n",
       "      <td>2.0</td>\n",
       "      <td>1.0</td>\n",
       "      <td>...</td>\n",
       "      <td>0.666667</td>\n",
       "      <td>0.495652</td>\n",
       "      <td>0.332661</td>\n",
       "      <td>0.000000</td>\n",
       "      <td>0.000000</td>\n",
       "      <td>0.142292</td>\n",
       "      <td>0.0</td>\n",
       "      <td>0.000000</td>\n",
       "      <td>1.000000</td>\n",
       "      <td>0.346293</td>\n",
       "    </tr>\n",
       "  </tbody>\n",
       "</table>\n",
       "<p>2060 rows × 54 columns</p>\n",
       "</div>"
      ],
      "text/plain": [
       "      MSZoning  LotShape  LandContour  LotConfig  LandSlope  Neighborhood  \\\n",
       "0          5.0       0.0          2.0        1.0        2.0           4.0   \n",
       "1          5.0       0.0          3.0        0.0        0.0          15.0   \n",
       "2          5.0       1.0          3.0        4.0        0.0          22.0   \n",
       "3          5.0       0.0          3.0        4.0        0.0          22.0   \n",
       "4          5.0       0.0          3.0        1.0        0.0          19.0   \n",
       "...        ...       ...          ...        ...        ...           ...   \n",
       "2055       5.0       1.0          3.0        4.0        0.0          15.0   \n",
       "2056       5.0       0.0          3.0        1.0        0.0          22.0   \n",
       "2057       5.0       0.0          3.0        4.0        0.0           7.0   \n",
       "2058       6.0       1.0          3.0        4.0        0.0           3.0   \n",
       "2059       5.0       0.0          0.0        2.0        0.0           8.0   \n",
       "\n",
       "      Condition1  BldgType  HouseStyle  RoofStyle  ...  Fireplaces  \\\n",
       "0            2.0       0.0         5.0        2.0  ...    0.000000   \n",
       "1            2.0       0.0         2.0        1.0  ...    0.000000   \n",
       "2            5.0       0.0         2.0        0.0  ...    0.333333   \n",
       "3            2.0       0.0         2.0        0.0  ...    0.333333   \n",
       "4            2.0       0.0         2.0        1.0  ...    0.333333   \n",
       "...          ...       ...         ...        ...  ...         ...   \n",
       "2055         2.0       0.0         0.0        0.0  ...    0.000000   \n",
       "2056         5.0       0.0         5.0        0.0  ...    0.000000   \n",
       "2057         2.0       0.0         0.0        0.0  ...    0.000000   \n",
       "2058         2.0       0.0         0.0        0.0  ...    0.333333   \n",
       "2059         1.0       0.0         2.0        1.0  ...    0.666667   \n",
       "\n",
       "      GarageYrBlt  GarageArea  WoodDeckSF  OpenPorchSF  EnclosedPorch  \\\n",
       "0        0.626087    0.361559    0.341292     0.000000       0.000000   \n",
       "1        0.547826    0.209677    0.275983     0.063158       0.000000   \n",
       "2        0.678261    0.225806    0.292135     0.252632       0.000000   \n",
       "3        0.634783    0.295699    0.000000     0.168421       0.177866   \n",
       "4        0.973913    0.788978    0.134831     0.052632       0.000000   \n",
       "...           ...         ...         ...          ...            ...   \n",
       "2055     0.452174    0.225806    0.110955     0.000000       0.100791   \n",
       "2056     0.704348    0.319220    0.000000     0.077193       0.000000   \n",
       "2057     0.521739    0.201613    0.084972     0.000000       0.000000   \n",
       "2058     0.304348    0.322581    0.000000     0.017544       0.000000   \n",
       "2059     0.495652    0.332661    0.000000     0.000000       0.142292   \n",
       "\n",
       "      3SsnPorch  ScreenPorch  Bsmt_Unfin_Ratio  TotalLivArea  \n",
       "0           0.0     0.390625          0.000000      0.350875  \n",
       "1           0.0     0.000000          0.305493      0.284088  \n",
       "2           0.0     0.000000          0.250559      0.163288  \n",
       "3           0.0     0.000000          0.609856      0.356845  \n",
       "4           0.0     0.000000          0.274138      0.555124  \n",
       "...         ...          ...               ...           ...  \n",
       "2055        0.0     0.000000          0.468750      0.199389  \n",
       "2056        0.0     0.000000          0.264828      0.221050  \n",
       "2057        0.0     0.460069          1.000000      0.221744  \n",
       "2058        0.0     0.000000          0.517241      0.257151  \n",
       "2059        0.0     0.000000          1.000000      0.346293  \n",
       "\n",
       "[2060 rows x 54 columns]"
      ]
     },
     "execution_count": 27,
     "metadata": {},
     "output_type": "execute_result"
    }
   ],
   "source": [
    "train_data_tree = train_data_tree.drop('PID', axis = 1)\n",
    "test_data_tree = test_data_tree.drop('PID', axis = 1)\n",
    "train_data_tree"
   ]
  },
  {
   "cell_type": "code",
   "execution_count": 28,
   "metadata": {},
   "outputs": [
    {
     "data": {
      "text/plain": [
       "0       98000.0\n",
       "1      342000.0\n",
       "2      133700.0\n",
       "3       98000.0\n",
       "4      171000.0\n",
       "         ...   \n",
       "510    195000.0\n",
       "511    128000.0\n",
       "512    218836.0\n",
       "513     97900.0\n",
       "514    196000.0\n",
       "Name: SalePrice, Length: 515, dtype: float64"
      ]
     },
     "execution_count": 28,
     "metadata": {},
     "output_type": "execute_result"
    }
   ],
   "source": [
    "train_target_tree = np.exp(train_target_tree)\n",
    "test_target_tree = np.exp(test_target_tree)\n",
    "test_target_tree"
   ]
  },
  {
   "cell_type": "code",
   "execution_count": 29,
   "metadata": {},
   "outputs": [
    {
     "data": {
      "text/plain": [
       "0.9259230405302022"
      ]
     },
     "execution_count": 29,
     "metadata": {},
     "output_type": "execute_result"
    }
   ],
   "source": [
    "gbm = GradientBoostingRegressor()\n",
    "gbm.fit(train_data_tree, train_target_tree)\n",
    "gbm.score(test_data_tree, test_target_tree)"
   ]
  },
  {
   "cell_type": "code",
   "execution_count": 30,
   "metadata": {},
   "outputs": [
    {
     "data": {
      "text/plain": [
       "0.9308077599542132"
      ]
     },
     "execution_count": 30,
     "metadata": {},
     "output_type": "execute_result"
    }
   ],
   "source": [
    "gbm = GradientBoostingRegressor(n_estimators = 1000)\n",
    "gbm.fit(train_data_tree, train_target_tree)\n",
    "gbm.score(test_data_tree, test_target_tree)"
   ]
  },
  {
   "cell_type": "code",
   "execution_count": 8,
   "metadata": {},
   "outputs": [
    {
     "data": {
      "text/plain": [
       "0.897318174642158"
      ]
     },
     "execution_count": 8,
     "metadata": {},
     "output_type": "execute_result"
    }
   ],
   "source": [
    "gbm = GradientBoostingRegressor(n_estimators = 1000, max_depth = 2)\n",
    "gbm.fit(train_data_tree, train_target_tree)\n",
    "gbm.score(test_data_tree, test_target_tree)"
   ]
  },
  {
   "cell_type": "code",
   "execution_count": 31,
   "metadata": {},
   "outputs": [
    {
     "data": {
      "text/plain": [
       "0.8544446130865638"
      ]
     },
     "execution_count": 31,
     "metadata": {},
     "output_type": "execute_result"
    }
   ],
   "source": [
    "abm = AdaBoostRegressor(n_estimators = 43)\n",
    "abm.fit(train_data_tree, train_target_tree)\n",
    "abm.score(test_data_tree, test_target_tree)"
   ]
  },
  {
   "cell_type": "code",
   "execution_count": 32,
   "metadata": {},
   "outputs": [
    {
     "data": {
      "image/png": "[encoded data removed]",
      "text/plain": [
       "<Figure size 432x288 with 1 Axes>"
      ]
     },
     "metadata": {
      "needs_background": "light"
     },
     "output_type": "display_data"
    }
   ],
   "source": [
    "test_accs = []\n",
    "for num_learners in range(1,51):\n",
    "    # Train a boosting model on the dataset\n",
    "    abm = AdaBoostRegressor(n_estimators=num_learners,random_state=0)\n",
    "    abm.fit(train_data_tree, train_target_tree)\n",
    "\n",
    "    # Calculate the accuracy on the test set\n",
    "    test_accs.append(abm.score(test_data_tree, test_target_tree))\n",
    "\n",
    "plt.plot(test_accs)\n",
    "plt.xlabel('num_learners')\n",
    "plt.ylabel('accuracy on test set')\n",
    "opt_num_learners = range(1,51)[np.argmax(test_accs)]\n",
    "plt.title('optimal num_learners is {}'.format(opt_num_learners))\n",
    "plt.show()"
   ]
  },
  {
   "cell_type": "code",
   "execution_count": 33,
   "metadata": {},
   "outputs": [
    {
     "data": {
      "text/plain": [
       "{'learning_rate': 0.05, 'max_depth': 3}"
      ]
     },
     "execution_count": 33,
     "metadata": {},
     "output_type": "execute_result"
    }
   ],
   "source": [
    "params = {'learning_rate':[.05, .01, .001],'max_depth':[1,2,3]}\n",
    "\n",
    "gbm = GradientBoostingRegressor()\n",
    "grid_search = GridSearchCV(gbm,params)\n",
    "grid_search.fit(train_data_tree, train_target_tree)\n",
    "\n",
    "grid_search.best_params_"
   ]
  },
  {
   "cell_type": "code",
   "execution_count": 34,
   "metadata": {},
   "outputs": [
    {
     "data": {
      "text/plain": [
       "0.8888990785108122"
      ]
     },
     "execution_count": 34,
     "metadata": {},
     "output_type": "execute_result"
    }
   ],
   "source": [
    "grid_search.best_score_"
   ]
  },
  {
   "cell_type": "code",
   "execution_count": 39,
   "metadata": {},
   "outputs": [
    {
     "data": {
      "text/plain": [
       "0.9303541877857526"
      ]
     },
     "execution_count": 39,
     "metadata": {},
     "output_type": "execute_result"
    }
   ],
   "source": [
    "gbm = GradientBoostingRegressor(n_estimators = 1000, max_depth = 3, learning_rate = 0.05)\n",
    "gbm.fit(train_data_tree, train_target_tree)\n",
    "gbm.score(test_data_tree, test_target_tree)"
   ]
  },
  {
   "cell_type": "code",
   "execution_count": 36,
   "metadata": {},
   "outputs": [
    {
     "data": {
      "text/plain": [
       "{'learning_rate': 0.1, 'max_depth': 3}"
      ]
     },
     "execution_count": 36,
     "metadata": {},
     "output_type": "execute_result"
    }
   ],
   "source": [
    "params = {'learning_rate':[.01, .05, .1],'max_depth':[2,3,4]}\n",
    "\n",
    "gbm = GradientBoostingRegressor()\n",
    "grid_search = GridSearchCV(gbm,params)\n",
    "grid_search.fit(train_data_tree, train_target_tree)\n",
    "\n",
    "grid_search.best_params_"
   ]
  },
  {
   "cell_type": "code",
   "execution_count": 37,
   "metadata": {},
   "outputs": [
    {
     "data": {
      "text/plain": [
       "0.931648010346241"
      ]
     },
     "execution_count": 37,
     "metadata": {},
     "output_type": "execute_result"
    }
   ],
   "source": [
    "gbm = GradientBoostingRegressor(n_estimators = 1000, max_depth = 3, learning_rate = 0.1)\n",
    "gbm.fit(train_data_tree, train_target_tree)\n",
    "gbm.score(test_data_tree, test_target_tree)"
   ]
  },
  {
   "cell_type": "code",
   "execution_count": 40,
   "metadata": {},
   "outputs": [
    {
     "data": {
      "text/plain": [
       "{'learning_rate': 0.1, 'max_depth': 3}"
      ]
     },
     "execution_count": 40,
     "metadata": {},
     "output_type": "execute_result"
    }
   ],
   "source": [
    "params = {'learning_rate':[.3, .2, .1],'max_depth':[3]}\n",
    "\n",
    "gbm = GradientBoostingRegressor()\n",
    "grid_search = GridSearchCV(gbm,params)\n",
    "grid_search.fit(train_data_tree, train_target_tree)\n",
    "\n",
    "grid_search.best_params_"
   ]
  },
  {
   "cell_type": "code",
   "execution_count": null,
   "metadata": {},
   "outputs": [],
   "source": []
  }
 ],
 "metadata": {
  "kernelspec": {
   "display_name": "Python 3",
   "language": "python",
   "name": "python3"
  },
  "language_info": {
   "codemirror_mode": {
    "name": "ipython",
    "version": 3
   },
   "file_extension": ".py",
   "mimetype": "text/x-python",
   "name": "python",
   "nbconvert_exporter": "python",
   "pygments_lexer": "ipython3",
   "version": "3.8.3"
  }
 },
 "nbformat": 4,
 "nbformat_minor": 4
}

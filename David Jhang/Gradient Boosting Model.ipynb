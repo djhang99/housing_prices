{
 "cells": [
  {
   "cell_type": "code",
   "execution_count": 10,
   "metadata": {},
   "outputs": [],
   "source": [
    "import numpy as np\n",
    "import pandas as pd\n",
    "import matplotlib.pyplot as plt\n",
    "from sklearn.ensemble import GradientBoostingRegressor, AdaBoostRegressor\n",
    "from sklearn.model_selection import train_test_split, GridSearchCV, KFold\n",
    "from data_preprocessing_final2 import *"
   ]
  },
  {
   "cell_type": "code",
   "execution_count": null,
   "metadata": {},
   "outputs": [],
   "source": [
    "#set columns\n",
    "pd.set_option(\"display.max_columns\",None)\n",
    "\n",
    "#set rows\n",
    "pd.set_option(\"display.max_rows\",None)"
   ]
  },
  {
   "cell_type": "markdown",
   "metadata": {},
   "source": [
    "### read our file and clean, re-classify, train/test split, and scale our data "
   ]
  },
  {
   "cell_type": "code",
   "execution_count": 3,
   "metadata": {},
   "outputs": [],
   "source": [
    "# read our original data file\n",
    "data = pd.read_csv('./data/Ames_Housing_Price_Data.csv', index_col=0)"
   ]
  },
  {
   "cell_type": "code",
   "execution_count": 4,
   "metadata": {},
   "outputs": [],
   "source": [
    "# taking only Normal Sale conditions to make apples to apples comparison for Sales Price (majority were Normal)\n",
    "data = data[data['SaleCondition'] == 'Normal']"
   ]
  },
  {
   "cell_type": "code",
   "execution_count": 5,
   "metadata": {},
   "outputs": [],
   "source": [
    "# this function will clean, dummify/ord, test/train split, and scale all our data\n",
    "train_data_linear, train_target_linear, test_data_linear, test_target_linear, train_data_tree, train_target_tree, test_data_tree, test_target_tree = initiate_data(data)"
   ]
  },
  {
   "cell_type": "markdown",
   "metadata": {},
   "source": [
    "### Checking our new train/test target and feature variables\n",
    "- take out the PID so we can run our boosting models"
   ]
  },
  {
   "cell_type": "code",
   "execution_count": 6,
   "metadata": {},
   "outputs": [
    {
     "data": {
      "text/html": [
       "<div>\n",
       "<style scoped>\n",
       "    .dataframe tbody tr th:only-of-type {\n",
       "        vertical-align: middle;\n",
       "    }\n",
       "\n",
       "    .dataframe tbody tr th {\n",
       "        vertical-align: top;\n",
       "    }\n",
       "\n",
       "    .dataframe thead th {\n",
       "        text-align: right;\n",
       "    }\n",
       "</style>\n",
       "<table border=\"1\" class=\"dataframe\">\n",
       "  <thead>\n",
       "    <tr style=\"text-align: right;\">\n",
       "      <th></th>\n",
       "      <th>PID</th>\n",
       "      <th>MSZoning_C (all)</th>\n",
       "      <th>MSZoning_FV</th>\n",
       "      <th>MSZoning_I (all)</th>\n",
       "      <th>MSZoning_RH</th>\n",
       "      <th>MSZoning_RL</th>\n",
       "      <th>MSZoning_RM</th>\n",
       "      <th>LotShape_Reg</th>\n",
       "      <th>LandContour_HLS</th>\n",
       "      <th>LandContour_Low</th>\n",
       "      <th>...</th>\n",
       "      <th>GarageYrBlt</th>\n",
       "      <th>GarageArea</th>\n",
       "      <th>WoodDeckSF</th>\n",
       "      <th>OpenPorchSF</th>\n",
       "      <th>EnclosedPorch</th>\n",
       "      <th>3SsnPorch</th>\n",
       "      <th>ScreenPorch</th>\n",
       "      <th>TotalBath</th>\n",
       "      <th>Bsmt_Unfin_Ratio</th>\n",
       "      <th>TotalLivArea</th>\n",
       "    </tr>\n",
       "  </thead>\n",
       "  <tbody>\n",
       "    <tr>\n",
       "      <th>0</th>\n",
       "      <td>527325110</td>\n",
       "      <td>0</td>\n",
       "      <td>0</td>\n",
       "      <td>0</td>\n",
       "      <td>0</td>\n",
       "      <td>1</td>\n",
       "      <td>0</td>\n",
       "      <td>1</td>\n",
       "      <td>0</td>\n",
       "      <td>0</td>\n",
       "      <td>...</td>\n",
       "      <td>0.719298</td>\n",
       "      <td>0.393805</td>\n",
       "      <td>0.000000</td>\n",
       "      <td>0.000000</td>\n",
       "      <td>0.000000</td>\n",
       "      <td>0.0</td>\n",
       "      <td>0.563265</td>\n",
       "      <td>0.250000</td>\n",
       "      <td>1.000000</td>\n",
       "      <td>0.400886</td>\n",
       "    </tr>\n",
       "    <tr>\n",
       "      <th>1</th>\n",
       "      <td>534129370</td>\n",
       "      <td>0</td>\n",
       "      <td>0</td>\n",
       "      <td>0</td>\n",
       "      <td>0</td>\n",
       "      <td>1</td>\n",
       "      <td>0</td>\n",
       "      <td>1</td>\n",
       "      <td>0</td>\n",
       "      <td>0</td>\n",
       "      <td>...</td>\n",
       "      <td>0.649123</td>\n",
       "      <td>0.370206</td>\n",
       "      <td>0.219101</td>\n",
       "      <td>0.019298</td>\n",
       "      <td>0.000000</td>\n",
       "      <td>0.0</td>\n",
       "      <td>0.000000</td>\n",
       "      <td>0.250000</td>\n",
       "      <td>0.456522</td>\n",
       "      <td>0.375779</td>\n",
       "    </tr>\n",
       "    <tr>\n",
       "      <th>2</th>\n",
       "      <td>534451110</td>\n",
       "      <td>0</td>\n",
       "      <td>0</td>\n",
       "      <td>0</td>\n",
       "      <td>0</td>\n",
       "      <td>1</td>\n",
       "      <td>0</td>\n",
       "      <td>0</td>\n",
       "      <td>0</td>\n",
       "      <td>0</td>\n",
       "      <td>...</td>\n",
       "      <td>0.482456</td>\n",
       "      <td>0.259587</td>\n",
       "      <td>0.000000</td>\n",
       "      <td>0.000000</td>\n",
       "      <td>0.245059</td>\n",
       "      <td>0.0</td>\n",
       "      <td>0.000000</td>\n",
       "      <td>0.166667</td>\n",
       "      <td>0.739069</td>\n",
       "      <td>0.258943</td>\n",
       "    </tr>\n",
       "    <tr>\n",
       "      <th>3</th>\n",
       "      <td>903401070</td>\n",
       "      <td>0</td>\n",
       "      <td>0</td>\n",
       "      <td>0</td>\n",
       "      <td>0</td>\n",
       "      <td>1</td>\n",
       "      <td>0</td>\n",
       "      <td>1</td>\n",
       "      <td>0</td>\n",
       "      <td>0</td>\n",
       "      <td>...</td>\n",
       "      <td>0.719298</td>\n",
       "      <td>0.424779</td>\n",
       "      <td>0.000000</td>\n",
       "      <td>0.094737</td>\n",
       "      <td>0.142292</td>\n",
       "      <td>0.0</td>\n",
       "      <td>0.000000</td>\n",
       "      <td>0.000000</td>\n",
       "      <td>1.000000</td>\n",
       "      <td>0.297013</td>\n",
       "    </tr>\n",
       "    <tr>\n",
       "      <th>4</th>\n",
       "      <td>534176250</td>\n",
       "      <td>0</td>\n",
       "      <td>0</td>\n",
       "      <td>0</td>\n",
       "      <td>0</td>\n",
       "      <td>1</td>\n",
       "      <td>0</td>\n",
       "      <td>1</td>\n",
       "      <td>0</td>\n",
       "      <td>0</td>\n",
       "      <td>...</td>\n",
       "      <td>0.649123</td>\n",
       "      <td>0.389381</td>\n",
       "      <td>0.000000</td>\n",
       "      <td>0.000000</td>\n",
       "      <td>0.000000</td>\n",
       "      <td>0.0</td>\n",
       "      <td>0.000000</td>\n",
       "      <td>0.083333</td>\n",
       "      <td>1.000000</td>\n",
       "      <td>0.327207</td>\n",
       "    </tr>\n",
       "  </tbody>\n",
       "</table>\n",
       "<p>5 rows × 236 columns</p>\n",
       "</div>"
      ],
      "text/plain": [
       "         PID  MSZoning_C (all)  MSZoning_FV  MSZoning_I (all)  MSZoning_RH  \\\n",
       "0  527325110                 0            0                 0            0   \n",
       "1  534129370                 0            0                 0            0   \n",
       "2  534451110                 0            0                 0            0   \n",
       "3  903401070                 0            0                 0            0   \n",
       "4  534176250                 0            0                 0            0   \n",
       "\n",
       "   MSZoning_RL  MSZoning_RM  LotShape_Reg  LandContour_HLS  LandContour_Low  \\\n",
       "0            1            0             1                0                0   \n",
       "1            1            0             1                0                0   \n",
       "2            1            0             0                0                0   \n",
       "3            1            0             1                0                0   \n",
       "4            1            0             1                0                0   \n",
       "\n",
       "   ...  GarageYrBlt  GarageArea  WoodDeckSF  OpenPorchSF  EnclosedPorch  \\\n",
       "0  ...     0.719298    0.393805    0.000000     0.000000       0.000000   \n",
       "1  ...     0.649123    0.370206    0.219101     0.019298       0.000000   \n",
       "2  ...     0.482456    0.259587    0.000000     0.000000       0.245059   \n",
       "3  ...     0.719298    0.424779    0.000000     0.094737       0.142292   \n",
       "4  ...     0.649123    0.389381    0.000000     0.000000       0.000000   \n",
       "\n",
       "   3SsnPorch  ScreenPorch  TotalBath  Bsmt_Unfin_Ratio  TotalLivArea  \n",
       "0        0.0     0.563265   0.250000          1.000000      0.400886  \n",
       "1        0.0     0.000000   0.250000          0.456522      0.375779  \n",
       "2        0.0     0.000000   0.166667          0.739069      0.258943  \n",
       "3        0.0     0.000000   0.000000          1.000000      0.297013  \n",
       "4        0.0     0.000000   0.083333          1.000000      0.327207  \n",
       "\n",
       "[5 rows x 236 columns]"
      ]
     },
     "execution_count": 6,
     "metadata": {},
     "output_type": "execute_result"
    }
   ],
   "source": [
    "train_data_linear.head()"
   ]
  },
  {
   "cell_type": "code",
   "execution_count": 7,
   "metadata": {},
   "outputs": [
    {
     "data": {
      "text/plain": [
       "(1926, 236)"
      ]
     },
     "execution_count": 7,
     "metadata": {},
     "output_type": "execute_result"
    }
   ],
   "source": [
    "train_data_linear.shape"
   ]
  },
  {
   "cell_type": "code",
   "execution_count": 8,
   "metadata": {},
   "outputs": [
    {
     "data": {
      "text/plain": [
       "<matplotlib.axes._subplots.AxesSubplot at 0x1baf06afc10>"
      ]
     },
     "execution_count": 8,
     "metadata": {},
     "output_type": "execute_result"
    },
    {
     "data": {
      "image/png": "[encoded data removed]",
      "text/plain": [
       "<Figure size 432x288 with 1 Axes>"
      ]
     },
     "metadata": {
      "needs_background": "light"
     },
     "output_type": "display_data"
    }
   ],
   "source": [
    "train_target_tree.hist()"
   ]
  },
  {
   "cell_type": "code",
   "execution_count": 9,
   "metadata": {},
   "outputs": [],
   "source": [
    "# need to delete PID to run the Regression models\n",
    "del train_data_tree['PID']\n",
    "del test_data_tree['PID']\n",
    "\n",
    "# model was built out using these variables so going to redefine our \n",
    "# train_data_linear, train_target_linear, test_data_linear, test_target_linear\n",
    "x_train = train_data_tree\n",
    "Y_train = train_target_tree\n",
    "\n",
    "x_test = test_data_tree\n",
    "Y_test = test_target_tree"
   ]
  },
  {
   "cell_type": "markdown",
   "metadata": {},
   "source": [
    "### Attempt on Gradient Boosting"
   ]
  },
  {
   "cell_type": "code",
   "execution_count": 11,
   "metadata": {},
   "outputs": [],
   "source": [
    "gbm = GradientBoostingRegressor()"
   ]
  },
  {
   "cell_type": "code",
   "execution_count": 29,
   "metadata": {},
   "outputs": [
    {
     "data": {
      "text/plain": [
       "GradientBoostingRegressor(learning_rate=0.001, max_depth=4, n_estimators=10000)"
      ]
     },
     "execution_count": 29,
     "metadata": {},
     "output_type": "execute_result"
    }
   ],
   "source": [
    "## let's setup some basic parameters\n",
    "learning_rate=0.001\n",
    "max_depth=4\n",
    "\n",
    "gbm.set_params(learning_rate=learning_rate, n_estimators=10000, max_depth=max_depth)"
   ]
  },
  {
   "cell_type": "code",
   "execution_count": 13,
   "metadata": {},
   "outputs": [
    {
     "data": {
      "text/plain": [
       "GradientBoostingRegressor(learning_rate=0.001, max_depth=4, n_estimators=10000)"
      ]
     },
     "execution_count": 13,
     "metadata": {},
     "output_type": "execute_result"
    }
   ],
   "source": [
    "gbm.fit(x_train,Y_train)"
   ]
  },
  {
   "cell_type": "code",
   "execution_count": 17,
   "metadata": {},
   "outputs": [
    {
     "name": "stdout",
     "output_type": "stream",
     "text": [
      "The score for train:  0.9761028117115509\n",
      "The score for test:  0.9361917654194201\n"
     ]
    }
   ],
   "source": [
    "print(\"The score for train: \", gbm.score(x_train,Y_train))\n",
    "print(\"The score for test: \", gbm.score(x_test,Y_test))"
   ]
  },
  {
   "cell_type": "code",
   "execution_count": 27,
   "metadata": {
    "scrolled": true
   },
   "outputs": [
    {
     "name": "stdout",
     "output_type": "stream",
     "text": [
      "TotalLivArea        0.485691\n",
      "OverallQual         0.199031\n",
      "TotalBath           0.055613\n",
      "ExterQual           0.036758\n",
      "GarageArea          0.031443\n",
      "YearBuilt           0.025070\n",
      "YearRemodAdd        0.024206\n",
      "OverallCond         0.019440\n",
      "Fireplaces          0.018344\n",
      "KitchenQual         0.017833\n",
      "LotArea             0.016877\n",
      "CentralAir          0.012229\n",
      "GarageType          0.006403\n",
      "Neighborhood        0.004922\n",
      "BsmtFinType1        0.003970\n",
      "GarageYrBlt         0.003724\n",
      "ExterCond           0.003625\n",
      "MSZoning            0.003594\n",
      "MSSubClass          0.003569\n",
      "Bsmt_Unfin_Ratio    0.003053\n",
      "Condition1          0.002604\n",
      "LotFrontage         0.002309\n",
      "BsmtQual            0.002254\n",
      "MasVnrArea          0.001930\n",
      "Functional          0.001888\n",
      "WoodDeckSF          0.001539\n",
      "PavedDrive          0.001505\n",
      "ScreenPorch         0.000978\n",
      "BsmtExposure        0.000949\n",
      "OpenPorchSF         0.000915\n",
      "BedroomAbvGr        0.000913\n",
      "Exterior1st         0.000698\n",
      "TotRmsAbvGrd        0.000647\n",
      "EnclosedPorch       0.000634\n",
      "MasVnrType          0.000539\n",
      "MoSold              0.000491\n",
      "HouseStyle          0.000442\n",
      "LandContour         0.000379\n",
      "GarageFinish        0.000372\n",
      "RoofStyle           0.000349\n",
      "HeatingQC           0.000324\n",
      "BldgType            0.000288\n",
      "FireplaceQu         0.000278\n",
      "BsmtCond            0.000198\n",
      "GarageQual          0.000197\n",
      "YrSold              0.000191\n",
      "LotShape            0.000183\n",
      "Foundation          0.000162\n",
      "Exterior2nd         0.000150\n",
      "LandSlope           0.000088\n",
      "LotConfig           0.000079\n",
      "BsmtFinType2        0.000058\n",
      "3SsnPorch           0.000050\n",
      "Fence               0.000023\n",
      "SaleCondition       0.000000\n",
      "dtype: float64\n"
     ]
    }
   ],
   "source": [
    "feature_importance = pd.Series(gbm.feature_importances_, index=x_train.columns).sort_values(ascending=False)\n",
    "print(feature_importance)"
   ]
  },
  {
   "cell_type": "markdown",
   "metadata": {},
   "source": [
    "### Using GridSearch with Gradient Boosting"
   ]
  },
  {
   "cell_type": "code",
   "execution_count": 48,
   "metadata": {},
   "outputs": [],
   "source": [
    "# setting our parameters up for Grid\n",
    "paramDict = {'learning_rate': [0.01,0.1,0.2],\n",
    "             'n_estimators': [10000], \n",
    "             'max_depth': list(range(1,3))}"
   ]
  },
  {
   "cell_type": "code",
   "execution_count": 55,
   "metadata": {},
   "outputs": [
    {
     "data": {
      "text/plain": [
       "GridSearchCV(cv=2,\n",
       "             estimator=GradientBoostingRegressor(learning_rate=0.001,\n",
       "                                                 max_depth=4,\n",
       "                                                 n_estimators=10000),\n",
       "             param_grid={'learning_rate': [0.01, 0.1, 0.2],\n",
       "                         'max_depth': [1, 2, 3, 4, 5],\n",
       "                         'n_estimators': [10000]})"
      ]
     },
     "execution_count": 55,
     "metadata": {},
     "output_type": "execute_result"
    }
   ],
   "source": [
    "grid = GridSearchCV(gbm, paramDict, cv=2)\n",
    "grid.fit(x_train,Y_train)"
   ]
  },
  {
   "cell_type": "code",
   "execution_count": 56,
   "metadata": {},
   "outputs": [
    {
     "data": {
      "text/plain": [
       "{'learning_rate': 0.01, 'max_depth': 2, 'n_estimators': 10000}"
      ]
     },
     "execution_count": 56,
     "metadata": {},
     "output_type": "execute_result"
    }
   ],
   "source": [
    "grid.best_params_"
   ]
  },
  {
   "cell_type": "code",
   "execution_count": 57,
   "metadata": {},
   "outputs": [
    {
     "name": "stdout",
     "output_type": "stream",
     "text": [
      "The score for train:  0.9805940101449411\n",
      "The score for test:  0.9390077934119152\n"
     ]
    }
   ],
   "source": [
    "print(\"The score for train: \", grid.score(x_train,Y_train))\n",
    "print(\"The score for test: \", grid.score(x_test,Y_test))"
   ]
  },
  {
   "cell_type": "code",
   "execution_count": null,
   "metadata": {},
   "outputs": [],
   "source": []
  }
 ],
 "metadata": {
  "kernelspec": {
   "display_name": "Python 3",
   "language": "python",
   "name": "python3"
  },
  "language_info": {
   "codemirror_mode": {
    "name": "ipython",
    "version": 3
   },
   "file_extension": ".py",
   "mimetype": "text/x-python",
   "name": "python",
   "nbconvert_exporter": "python",
   "pygments_lexer": "ipython3",
   "version": "3.8.3"
  }
 },
 "nbformat": 4,
 "nbformat_minor": 4
}

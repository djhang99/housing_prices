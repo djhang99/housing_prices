{
 "cells": [
  {
   "cell_type": "code",
   "execution_count": 2,
   "metadata": {},
   "outputs": [],
   "source": [
    "import  numpy as np\n",
    "import pandas as pd\n",
    "from sklearn.svm import SVC, SVR\n",
    "from sklearn.metrics import confusion_matrix\n",
    "from sklearn.model_selection import  GridSearchCV\n",
    "from data_preprocessing_final2 import *"
   ]
  },
  {
   "cell_type": "code",
   "execution_count": null,
   "metadata": {},
   "outputs": [],
   "source": [
    "#set columns\n",
    "pd.set_option(\"display.max_columns\",None)\n",
    "\n",
    "#set rows\n",
    "pd.set_option(\"display.max_rows\",None)"
   ]
  },
  {
   "cell_type": "markdown",
   "metadata": {},
   "source": [
    "### read our file and clean, re-classify, train/test split, and scale our data "
   ]
  },
  {
   "cell_type": "code",
   "execution_count": 4,
   "metadata": {},
   "outputs": [],
   "source": [
    "# read our original data file\n",
    "data = pd.read_csv('./data/Ames_Housing_Price_Data.csv', index_col=0)"
   ]
  },
  {
   "cell_type": "code",
   "execution_count": 5,
   "metadata": {},
   "outputs": [],
   "source": [
    "# taking only Normal Sale conditions to make apples to apples comparison for Sales Price (majority were Normal)\n",
    "data = data[data['SaleCondition'] == 'Normal']"
   ]
  },
  {
   "cell_type": "code",
   "execution_count": 6,
   "metadata": {},
   "outputs": [],
   "source": [
    "# this function will clean, dummify/ord, test/train split, and scale all our data\n",
    "train_data_linear, train_target_linear, test_data_linear, test_target_linear, train_data_tree, train_target_tree, test_data_tree, test_target_tree = initiate_data(data)"
   ]
  },
  {
   "cell_type": "markdown",
   "metadata": {},
   "source": [
    "### Checking our new train/test target and feature variables\n",
    "- take out the PID so we can run our SVR model"
   ]
  },
  {
   "cell_type": "code",
   "execution_count": 7,
   "metadata": {},
   "outputs": [
    {
     "data": {
      "text/html": [
       "<div>\n",
       "<style scoped>\n",
       "    .dataframe tbody tr th:only-of-type {\n",
       "        vertical-align: middle;\n",
       "    }\n",
       "\n",
       "    .dataframe tbody tr th {\n",
       "        vertical-align: top;\n",
       "    }\n",
       "\n",
       "    .dataframe thead th {\n",
       "        text-align: right;\n",
       "    }\n",
       "</style>\n",
       "<table border=\"1\" class=\"dataframe\">\n",
       "  <thead>\n",
       "    <tr style=\"text-align: right;\">\n",
       "      <th></th>\n",
       "      <th>PID</th>\n",
       "      <th>MSZoning_C (all)</th>\n",
       "      <th>MSZoning_FV</th>\n",
       "      <th>MSZoning_I (all)</th>\n",
       "      <th>MSZoning_RH</th>\n",
       "      <th>MSZoning_RL</th>\n",
       "      <th>MSZoning_RM</th>\n",
       "      <th>LotShape_Reg</th>\n",
       "      <th>LandContour_HLS</th>\n",
       "      <th>LandContour_Low</th>\n",
       "      <th>...</th>\n",
       "      <th>GarageYrBlt</th>\n",
       "      <th>GarageArea</th>\n",
       "      <th>WoodDeckSF</th>\n",
       "      <th>OpenPorchSF</th>\n",
       "      <th>EnclosedPorch</th>\n",
       "      <th>3SsnPorch</th>\n",
       "      <th>ScreenPorch</th>\n",
       "      <th>TotalBath</th>\n",
       "      <th>Bsmt_Unfin_Ratio</th>\n",
       "      <th>TotalLivArea</th>\n",
       "    </tr>\n",
       "  </thead>\n",
       "  <tbody>\n",
       "    <tr>\n",
       "      <th>0</th>\n",
       "      <td>528235180</td>\n",
       "      <td>0</td>\n",
       "      <td>0</td>\n",
       "      <td>0</td>\n",
       "      <td>0</td>\n",
       "      <td>1</td>\n",
       "      <td>0</td>\n",
       "      <td>0</td>\n",
       "      <td>0</td>\n",
       "      <td>0</td>\n",
       "      <td>...</td>\n",
       "      <td>0.964912</td>\n",
       "      <td>0.294985</td>\n",
       "      <td>0.148876</td>\n",
       "      <td>0.000000</td>\n",
       "      <td>0.000000</td>\n",
       "      <td>0.0</td>\n",
       "      <td>0.0</td>\n",
       "      <td>0.333333</td>\n",
       "      <td>0.234813</td>\n",
       "      <td>0.242435</td>\n",
       "    </tr>\n",
       "    <tr>\n",
       "      <th>1</th>\n",
       "      <td>902109160</td>\n",
       "      <td>0</td>\n",
       "      <td>0</td>\n",
       "      <td>0</td>\n",
       "      <td>0</td>\n",
       "      <td>0</td>\n",
       "      <td>1</td>\n",
       "      <td>1</td>\n",
       "      <td>0</td>\n",
       "      <td>0</td>\n",
       "      <td>...</td>\n",
       "      <td>0.219298</td>\n",
       "      <td>0.165929</td>\n",
       "      <td>0.000000</td>\n",
       "      <td>0.000000</td>\n",
       "      <td>0.233202</td>\n",
       "      <td>0.0</td>\n",
       "      <td>0.0</td>\n",
       "      <td>0.000000</td>\n",
       "      <td>0.615385</td>\n",
       "      <td>0.354883</td>\n",
       "    </tr>\n",
       "    <tr>\n",
       "      <th>2</th>\n",
       "      <td>911104060</td>\n",
       "      <td>1</td>\n",
       "      <td>0</td>\n",
       "      <td>0</td>\n",
       "      <td>0</td>\n",
       "      <td>0</td>\n",
       "      <td>0</td>\n",
       "      <td>1</td>\n",
       "      <td>0</td>\n",
       "      <td>0</td>\n",
       "      <td>...</td>\n",
       "      <td>0.394737</td>\n",
       "      <td>0.147493</td>\n",
       "      <td>0.000000</td>\n",
       "      <td>0.000000</td>\n",
       "      <td>0.071146</td>\n",
       "      <td>0.0</td>\n",
       "      <td>0.0</td>\n",
       "      <td>0.000000</td>\n",
       "      <td>1.000000</td>\n",
       "      <td>0.091472</td>\n",
       "    </tr>\n",
       "    <tr>\n",
       "      <th>3</th>\n",
       "      <td>916460020</td>\n",
       "      <td>0</td>\n",
       "      <td>0</td>\n",
       "      <td>0</td>\n",
       "      <td>0</td>\n",
       "      <td>1</td>\n",
       "      <td>0</td>\n",
       "      <td>0</td>\n",
       "      <td>0</td>\n",
       "      <td>0</td>\n",
       "      <td>...</td>\n",
       "      <td>0.885965</td>\n",
       "      <td>0.421091</td>\n",
       "      <td>0.000000</td>\n",
       "      <td>0.063985</td>\n",
       "      <td>0.000000</td>\n",
       "      <td>0.0</td>\n",
       "      <td>0.0</td>\n",
       "      <td>0.166667</td>\n",
       "      <td>1.000000</td>\n",
       "      <td>0.407497</td>\n",
       "    </tr>\n",
       "    <tr>\n",
       "      <th>4</th>\n",
       "      <td>527404180</td>\n",
       "      <td>0</td>\n",
       "      <td>0</td>\n",
       "      <td>0</td>\n",
       "      <td>0</td>\n",
       "      <td>1</td>\n",
       "      <td>0</td>\n",
       "      <td>1</td>\n",
       "      <td>0</td>\n",
       "      <td>0</td>\n",
       "      <td>...</td>\n",
       "      <td>0.877193</td>\n",
       "      <td>0.424779</td>\n",
       "      <td>0.044242</td>\n",
       "      <td>0.000000</td>\n",
       "      <td>0.000000</td>\n",
       "      <td>0.0</td>\n",
       "      <td>0.0</td>\n",
       "      <td>0.083333</td>\n",
       "      <td>0.259259</td>\n",
       "      <td>0.193604</td>\n",
       "    </tr>\n",
       "  </tbody>\n",
       "</table>\n",
       "<p>5 rows × 236 columns</p>\n",
       "</div>"
      ],
      "text/plain": [
       "         PID  MSZoning_C (all)  MSZoning_FV  MSZoning_I (all)  MSZoning_RH  \\\n",
       "0  528235180                 0            0                 0            0   \n",
       "1  902109160                 0            0                 0            0   \n",
       "2  911104060                 1            0                 0            0   \n",
       "3  916460020                 0            0                 0            0   \n",
       "4  527404180                 0            0                 0            0   \n",
       "\n",
       "   MSZoning_RL  MSZoning_RM  LotShape_Reg  LandContour_HLS  LandContour_Low  \\\n",
       "0            1            0             0                0                0   \n",
       "1            0            1             1                0                0   \n",
       "2            0            0             1                0                0   \n",
       "3            1            0             0                0                0   \n",
       "4            1            0             1                0                0   \n",
       "\n",
       "   ...  GarageYrBlt  GarageArea  WoodDeckSF  OpenPorchSF  EnclosedPorch  \\\n",
       "0  ...     0.964912    0.294985    0.148876     0.000000       0.000000   \n",
       "1  ...     0.219298    0.165929    0.000000     0.000000       0.233202   \n",
       "2  ...     0.394737    0.147493    0.000000     0.000000       0.071146   \n",
       "3  ...     0.885965    0.421091    0.000000     0.063985       0.000000   \n",
       "4  ...     0.877193    0.424779    0.044242     0.000000       0.000000   \n",
       "\n",
       "   3SsnPorch  ScreenPorch  TotalBath  Bsmt_Unfin_Ratio  TotalLivArea  \n",
       "0        0.0          0.0   0.333333          0.234813      0.242435  \n",
       "1        0.0          0.0   0.000000          0.615385      0.354883  \n",
       "2        0.0          0.0   0.000000          1.000000      0.091472  \n",
       "3        0.0          0.0   0.166667          1.000000      0.407497  \n",
       "4        0.0          0.0   0.083333          0.259259      0.193604  \n",
       "\n",
       "[5 rows x 236 columns]"
      ]
     },
     "execution_count": 7,
     "metadata": {},
     "output_type": "execute_result"
    }
   ],
   "source": [
    "train_data_linear.head()"
   ]
  },
  {
   "cell_type": "code",
   "execution_count": 8,
   "metadata": {},
   "outputs": [
    {
     "data": {
      "text/plain": [
       "(1926, 236)"
      ]
     },
     "execution_count": 8,
     "metadata": {},
     "output_type": "execute_result"
    }
   ],
   "source": [
    "train_data_linear.shape"
   ]
  },
  {
   "cell_type": "code",
   "execution_count": 9,
   "metadata": {},
   "outputs": [
    {
     "data": {
      "text/plain": [
       "<matplotlib.axes._subplots.AxesSubplot at 0x21c9e77bb80>"
      ]
     },
     "execution_count": 9,
     "metadata": {},
     "output_type": "execute_result"
    },
    {
     "data": {
      "image/png": "[encoded data removed]",
      "text/plain": [
       "<Figure size 432x288 with 1 Axes>"
      ]
     },
     "metadata": {
      "needs_background": "light"
     },
     "output_type": "display_data"
    }
   ],
   "source": [
    "train_target_linear.hist()"
   ]
  },
  {
   "cell_type": "code",
   "execution_count": 10,
   "metadata": {},
   "outputs": [],
   "source": [
    "# need to delete PID to run the Regression models\n",
    "del train_data_linear['PID']\n",
    "del test_data_linear['PID']\n",
    "\n",
    "# model was built out using these variables so going to redefine our \n",
    "# train_data_linear, train_target_linear, test_data_linear, test_target_linear\n",
    "x_train = train_data_linear\n",
    "Y_train = train_target_linear\n",
    "\n",
    "x_test = test_data_linear\n",
    "Y_test = test_target_linear"
   ]
  },
  {
   "cell_type": "markdown",
   "metadata": {},
   "source": [
    "# Attempt on SVR\n",
    "- first attempt just setting gamma0.01 and epsilon=0.001"
   ]
  },
  {
   "cell_type": "code",
   "execution_count": 13,
   "metadata": {},
   "outputs": [
    {
     "data": {
      "text/plain": [
       "SVR(kernel='linear')"
      ]
     },
     "execution_count": 13,
     "metadata": {},
     "output_type": "execute_result"
    }
   ],
   "source": [
    "# creating SVR object\n",
    "svr = SVR()\n",
    "svr.set_params(kernel='linear', gamma=0.01, epsilon=0.001) # remember that Radial Basis Function used for non-linear problems (non-linear kernel)"
   ]
  },
  {
   "cell_type": "code",
   "execution_count": 40,
   "metadata": {},
   "outputs": [
    {
     "name": "stdout",
     "output_type": "stream",
     "text": [
      "Train score: 0.9504075984133956\n",
      "Test score: 0.9292788885561097\n"
     ]
    }
   ],
   "source": [
    "svr.fit(train_data_linear, train_target_linear)\n",
    "print(\"Train score:\", svr.score(train_data_linear, train_target_linear))\n",
    "print(\"Test score:\", svr.score(test_data_linear, test_target_linear))"
   ]
  },
  {
   "cell_type": "markdown",
   "metadata": {},
   "source": [
    "### GridSearch with SVR\n",
    "- with linear kernel\n",
    "- going to try to test using gamma and epsilon and C with GridSearch\n",
    "- Gamma = DO NOT NEED if you are using RBF, LINEAR, or POLYNOMIAL Kernel if you are using C? (read this)\n",
    "- (Gamma is basically the curvature of the line that is making the split in your kernel) - Low Gamma, high Spread\n",
    "- Epsilon = is the size of the tube\n",
    "- C = controls error, the higher the C the more it will let certain points be misclassified"
   ]
  },
  {
   "cell_type": "code",
   "execution_count": 28,
   "metadata": {},
   "outputs": [],
   "source": [
    "# setting our parameters up for Grid\n",
    "paramDict = {'kernel': ['linear'],\n",
    "#              'C': np.linspace(0.1, 1, 10), \n",
    "             'gamma': np.linspace(1e-4, 1, 10), \n",
    "             'epsilon': np.linspace(0.001, 0.1, 2)}"
   ]
  },
  {
   "cell_type": "code",
   "execution_count": 29,
   "metadata": {},
   "outputs": [
    {
     "data": {
      "text/plain": [
       "GridSearchCV(cv=3, estimator=SVR(kernel='linear'),\n",
       "             param_grid={'epsilon': array([0.001, 0.1  ]),\n",
       "                         'gamma': array([1.000e-04, 1.112e-01, 2.223e-01, 3.334e-01, 4.445e-01, 5.556e-01,\n",
       "       6.667e-01, 7.778e-01, 8.889e-01, 1.000e+00]),\n",
       "                         'kernel': ['linear']},\n",
       "             return_train_score=True)"
      ]
     },
     "execution_count": 29,
     "metadata": {},
     "output_type": "execute_result"
    }
   ],
   "source": [
    "grid = GridSearchCV(svr, paramDict, cv=3, return_train_score = True)\n",
    "grid.fit(train_data_linear, train_target_linear)"
   ]
  },
  {
   "cell_type": "code",
   "execution_count": 30,
   "metadata": {},
   "outputs": [
    {
     "data": {
      "text/plain": [
       "{'epsilon': 0.001, 'gamma': 0.0001, 'kernel': 'linear'}"
      ]
     },
     "execution_count": 30,
     "metadata": {},
     "output_type": "execute_result"
    }
   ],
   "source": [
    "#shows the best parameters from the GridSearch\n",
    "grid.best_params_"
   ]
  },
  {
   "cell_type": "code",
   "execution_count": 31,
   "metadata": {},
   "outputs": [
    {
     "data": {
      "text/plain": [
       "0.9268637499037458"
      ]
     },
     "execution_count": 31,
     "metadata": {},
     "output_type": "execute_result"
    }
   ],
   "source": [
    "# our best score\n",
    "grid.best_score_"
   ]
  },
  {
   "cell_type": "markdown",
   "metadata": {},
   "source": [
    "### GridSearch with SVR (Part 2)\n",
    "- using kernel = poly"
   ]
  },
  {
   "cell_type": "code",
   "execution_count": 32,
   "metadata": {},
   "outputs": [],
   "source": [
    "# setting our parameters up for Grid\n",
    "paramDict = {'kernel': ['poly'],\n",
    "#              'C': np.linspace(0.1, 1, 10), \n",
    "             'gamma': np.linspace(1e-4, 1, 10), \n",
    "             'epsilon': np.linspace(0.001, 0.1, 2)}"
   ]
  },
  {
   "cell_type": "code",
   "execution_count": 33,
   "metadata": {},
   "outputs": [
    {
     "data": {
      "text/plain": [
       "GridSearchCV(cv=3, estimator=SVR(kernel='linear'),\n",
       "             param_grid={'epsilon': array([0.001, 0.1  ]),\n",
       "                         'gamma': array([1.000e-04, 1.112e-01, 2.223e-01, 3.334e-01, 4.445e-01, 5.556e-01,\n",
       "       6.667e-01, 7.778e-01, 8.889e-01, 1.000e+00]),\n",
       "                         'kernel': ['poly']},\n",
       "             return_train_score=True)"
      ]
     },
     "execution_count": 33,
     "metadata": {},
     "output_type": "execute_result"
    }
   ],
   "source": [
    "grid1 = GridSearchCV(svr, paramDict, cv=3, return_train_score=True)\n",
    "grid1.fit(train_data_linear, train_target_linear)"
   ]
  },
  {
   "cell_type": "code",
   "execution_count": 34,
   "metadata": {},
   "outputs": [
    {
     "data": {
      "text/plain": [
       "{'epsilon': 0.001, 'gamma': 0.11120000000000001, 'kernel': 'poly'}"
      ]
     },
     "execution_count": 34,
     "metadata": {},
     "output_type": "execute_result"
    }
   ],
   "source": [
    "#shows the best parameters from the GridSearch\n",
    "grid1.best_params_"
   ]
  },
  {
   "cell_type": "code",
   "execution_count": 35,
   "metadata": {},
   "outputs": [
    {
     "data": {
      "text/plain": [
       "0.8866384387398499"
      ]
     },
     "execution_count": 35,
     "metadata": {},
     "output_type": "execute_result"
    }
   ],
   "source": [
    "# our best score\n",
    "grid1.best_score_"
   ]
  },
  {
   "cell_type": "markdown",
   "metadata": {},
   "source": [
    "### GridSearch with SVR (Part 3)\n",
    "- using kernel = rbf"
   ]
  },
  {
   "cell_type": "code",
   "execution_count": 36,
   "metadata": {},
   "outputs": [],
   "source": [
    "# setting our parameters up for Grid\n",
    "paramDict = {'kernel': ['rbf'],\n",
    "#              'C': np.linspace(0.1, 1, 10), \n",
    "             'gamma': np.linspace(1e-4, 1, 10), \n",
    "             'epsilon': np.linspace(0.001, 0.1, 2)}"
   ]
  },
  {
   "cell_type": "code",
   "execution_count": 37,
   "metadata": {},
   "outputs": [
    {
     "data": {
      "text/plain": [
       "GridSearchCV(cv=3, estimator=SVR(kernel='linear'),\n",
       "             param_grid={'epsilon': array([0.001, 0.1  ]),\n",
       "                         'gamma': array([1.000e-04, 1.112e-01, 2.223e-01, 3.334e-01, 4.445e-01, 5.556e-01,\n",
       "       6.667e-01, 7.778e-01, 8.889e-01, 1.000e+00]),\n",
       "                         'kernel': ['rbf']},\n",
       "             return_train_score=True)"
      ]
     },
     "execution_count": 37,
     "metadata": {},
     "output_type": "execute_result"
    }
   ],
   "source": [
    "grid2 = GridSearchCV(svr, paramDict, cv=3, return_train_score=True)\n",
    "grid2.fit(train_data_linear, train_target_linear)"
   ]
  },
  {
   "cell_type": "code",
   "execution_count": 38,
   "metadata": {},
   "outputs": [
    {
     "data": {
      "text/plain": [
       "{'epsilon': 0.001, 'gamma': 0.11120000000000001, 'kernel': 'rbf'}"
      ]
     },
     "execution_count": 38,
     "metadata": {},
     "output_type": "execute_result"
    }
   ],
   "source": [
    "#shows the best parameters from the GridSearch\n",
    "grid2.best_params_"
   ]
  },
  {
   "cell_type": "code",
   "execution_count": 39,
   "metadata": {},
   "outputs": [
    {
     "data": {
      "text/plain": [
       "0.8242576728663439"
      ]
     },
     "execution_count": 39,
     "metadata": {},
     "output_type": "execute_result"
    }
   ],
   "source": [
    "# our best score\n",
    "grid2.best_score_"
   ]
  },
  {
   "cell_type": "markdown",
   "metadata": {},
   "source": [
    "### Taking the Best Kernel and Parameters"
   ]
  },
  {
   "cell_type": "code",
   "execution_count": 43,
   "metadata": {},
   "outputs": [
    {
     "data": {
      "text/plain": [
       "SVR(epsilon=0.001, gamma=0.0001, kernel='linear')"
      ]
     },
     "execution_count": 43,
     "metadata": {},
     "output_type": "execute_result"
    }
   ],
   "source": [
    "# creating SVR object\n",
    "svr_final = SVR()\n",
    "svr_final.set_params(kernel='linear', gamma=0.0001, epsilon=0.001)"
   ]
  },
  {
   "cell_type": "code",
   "execution_count": 44,
   "metadata": {},
   "outputs": [
    {
     "name": "stdout",
     "output_type": "stream",
     "text": [
      "Train score: 0.9506118045728822\n",
      "Test score: 0.9373203201275402\n"
     ]
    }
   ],
   "source": [
    "svr_final.fit(train_data_linear, train_target_linear)\n",
    "print(\"Train score:\", svr_final.score(train_data_linear, train_target_linear))\n",
    "print(\"Test score:\", svr_final.score(test_data_linear, test_target_linear))"
   ]
  },
  {
   "cell_type": "code",
   "execution_count": null,
   "metadata": {},
   "outputs": [],
   "source": []
  }
 ],
 "metadata": {
  "kernelspec": {
   "display_name": "Python 3",
   "language": "python",
   "name": "python3"
  },
  "language_info": {
   "codemirror_mode": {
    "name": "ipython",
    "version": 3
   },
   "file_extension": ".py",
   "mimetype": "text/x-python",
   "name": "python",
   "nbconvert_exporter": "python",
   "pygments_lexer": "ipython3",
   "version": "3.8.3"
  }
 },
 "nbformat": 4,
 "nbformat_minor": 4
}

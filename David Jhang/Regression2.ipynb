{
 "cells": [
  {
   "cell_type": "markdown",
   "metadata": {},
   "source": [
    "# Regression 2 - using new cleaning and dummifying methods\n",
    "- will also include removed columns and new columns we added as discussed in our group meeting"
   ]
  },
  {
   "cell_type": "code",
   "execution_count": 1,
   "metadata": {},
   "outputs": [],
   "source": [
    "import numpy as np\n",
    "import pandas as pd\n",
    "import matplotlib.pyplot as plt\n",
    "from sklearn.ensemble import VotingRegressor\n",
    "from sklearn.linear_model import LinearRegression, Ridge, Lasso, ElasticNet\n",
    "from sklearn.preprocessing import StandardScaler, MinMaxScaler\n",
    "from sklearn.model_selection import train_test_split, GridSearchCV, KFold\n",
    "from data_preprocessing_final2 import *"
   ]
  },
  {
   "cell_type": "code",
   "execution_count": 70,
   "metadata": {},
   "outputs": [],
   "source": [
    "#set columns\n",
    "pd.set_option(\"display.max_columns\",None)\n",
    "\n",
    "#set rows\n",
    "pd.set_option(\"display.max_rows\",None)"
   ]
  },
  {
   "cell_type": "markdown",
   "metadata": {},
   "source": [
    "### read our file and clean, re-classify, train/test split, and scale our data "
   ]
  },
  {
   "cell_type": "code",
   "execution_count": 2,
   "metadata": {},
   "outputs": [],
   "source": [
    "# read our original data file\n",
    "data = pd.read_csv('./data/Ames_Housing_Price_Data.csv', index_col=0)"
   ]
  },
  {
   "cell_type": "code",
   "execution_count": 3,
   "metadata": {},
   "outputs": [],
   "source": [
    "# taking only Normal Sale conditions to make apples to apples comparison for Sales Price (majority were Normal)\n",
    "data = data[data['SaleCondition'] == 'Normal']"
   ]
  },
  {
   "cell_type": "code",
   "execution_count": 4,
   "metadata": {},
   "outputs": [],
   "source": [
    "# this function will clean, dummify/ord, test/train split, and scale all our data\n",
    "train_data_linear, train_target_linear, test_data_linear, test_target_linear, train_data_tree, train_target_tree, test_data_tree, test_target_tree = initiate_data(data)"
   ]
  },
  {
   "cell_type": "code",
   "execution_count": 5,
   "metadata": {},
   "outputs": [
    {
     "data": {
      "text/html": [
       "<div>\n",
       "<style scoped>\n",
       "    .dataframe tbody tr th:only-of-type {\n",
       "        vertical-align: middle;\n",
       "    }\n",
       "\n",
       "    .dataframe tbody tr th {\n",
       "        vertical-align: top;\n",
       "    }\n",
       "\n",
       "    .dataframe thead th {\n",
       "        text-align: right;\n",
       "    }\n",
       "</style>\n",
       "<table border=\"1\" class=\"dataframe\">\n",
       "  <thead>\n",
       "    <tr style=\"text-align: right;\">\n",
       "      <th></th>\n",
       "      <th>PID</th>\n",
       "      <th>MSZoning_C (all)</th>\n",
       "      <th>MSZoning_FV</th>\n",
       "      <th>MSZoning_I (all)</th>\n",
       "      <th>MSZoning_RH</th>\n",
       "      <th>MSZoning_RL</th>\n",
       "      <th>MSZoning_RM</th>\n",
       "      <th>LotShape_Reg</th>\n",
       "      <th>LandContour_HLS</th>\n",
       "      <th>LandContour_Low</th>\n",
       "      <th>...</th>\n",
       "      <th>GarageYrBlt</th>\n",
       "      <th>GarageArea</th>\n",
       "      <th>WoodDeckSF</th>\n",
       "      <th>OpenPorchSF</th>\n",
       "      <th>EnclosedPorch</th>\n",
       "      <th>3SsnPorch</th>\n",
       "      <th>ScreenPorch</th>\n",
       "      <th>TotalBath</th>\n",
       "      <th>Bsmt_Unfin_Ratio</th>\n",
       "      <th>TotalLivArea</th>\n",
       "    </tr>\n",
       "  </thead>\n",
       "  <tbody>\n",
       "    <tr>\n",
       "      <th>0</th>\n",
       "      <td>531450030</td>\n",
       "      <td>0</td>\n",
       "      <td>0</td>\n",
       "      <td>0</td>\n",
       "      <td>0</td>\n",
       "      <td>1</td>\n",
       "      <td>0</td>\n",
       "      <td>1</td>\n",
       "      <td>0</td>\n",
       "      <td>0</td>\n",
       "      <td>...</td>\n",
       "      <td>0.844037</td>\n",
       "      <td>0.340054</td>\n",
       "      <td>0.134831</td>\n",
       "      <td>0.149123</td>\n",
       "      <td>0.0</td>\n",
       "      <td>0.0</td>\n",
       "      <td>0.0</td>\n",
       "      <td>0.333333</td>\n",
       "      <td>0.525120</td>\n",
       "      <td>0.348428</td>\n",
       "    </tr>\n",
       "    <tr>\n",
       "      <th>1</th>\n",
       "      <td>535476360</td>\n",
       "      <td>0</td>\n",
       "      <td>0</td>\n",
       "      <td>0</td>\n",
       "      <td>0</td>\n",
       "      <td>1</td>\n",
       "      <td>0</td>\n",
       "      <td>1</td>\n",
       "      <td>0</td>\n",
       "      <td>0</td>\n",
       "      <td>...</td>\n",
       "      <td>0.587156</td>\n",
       "      <td>0.295699</td>\n",
       "      <td>0.167837</td>\n",
       "      <td>0.073684</td>\n",
       "      <td>0.0</td>\n",
       "      <td>0.0</td>\n",
       "      <td>0.0</td>\n",
       "      <td>0.250000</td>\n",
       "      <td>0.205596</td>\n",
       "      <td>0.363990</td>\n",
       "    </tr>\n",
       "    <tr>\n",
       "      <th>2</th>\n",
       "      <td>905109170</td>\n",
       "      <td>0</td>\n",
       "      <td>0</td>\n",
       "      <td>0</td>\n",
       "      <td>0</td>\n",
       "      <td>1</td>\n",
       "      <td>0</td>\n",
       "      <td>0</td>\n",
       "      <td>0</td>\n",
       "      <td>1</td>\n",
       "      <td>...</td>\n",
       "      <td>0.706422</td>\n",
       "      <td>0.463710</td>\n",
       "      <td>0.348315</td>\n",
       "      <td>0.000000</td>\n",
       "      <td>0.0</td>\n",
       "      <td>0.0</td>\n",
       "      <td>0.0</td>\n",
       "      <td>0.250000</td>\n",
       "      <td>0.230986</td>\n",
       "      <td>0.399782</td>\n",
       "    </tr>\n",
       "    <tr>\n",
       "      <th>3</th>\n",
       "      <td>535101110</td>\n",
       "      <td>0</td>\n",
       "      <td>0</td>\n",
       "      <td>0</td>\n",
       "      <td>0</td>\n",
       "      <td>1</td>\n",
       "      <td>0</td>\n",
       "      <td>0</td>\n",
       "      <td>0</td>\n",
       "      <td>0</td>\n",
       "      <td>...</td>\n",
       "      <td>0.614679</td>\n",
       "      <td>0.340054</td>\n",
       "      <td>0.000000</td>\n",
       "      <td>0.000000</td>\n",
       "      <td>0.0</td>\n",
       "      <td>0.0</td>\n",
       "      <td>0.0</td>\n",
       "      <td>0.166667</td>\n",
       "      <td>1.000000</td>\n",
       "      <td>0.441021</td>\n",
       "    </tr>\n",
       "    <tr>\n",
       "      <th>4</th>\n",
       "      <td>528228565</td>\n",
       "      <td>0</td>\n",
       "      <td>0</td>\n",
       "      <td>0</td>\n",
       "      <td>0</td>\n",
       "      <td>1</td>\n",
       "      <td>0</td>\n",
       "      <td>1</td>\n",
       "      <td>0</td>\n",
       "      <td>0</td>\n",
       "      <td>...</td>\n",
       "      <td>0.963303</td>\n",
       "      <td>0.295699</td>\n",
       "      <td>0.099719</td>\n",
       "      <td>0.035088</td>\n",
       "      <td>0.0</td>\n",
       "      <td>0.0</td>\n",
       "      <td>0.0</td>\n",
       "      <td>0.166667</td>\n",
       "      <td>0.988253</td>\n",
       "      <td>0.394336</td>\n",
       "    </tr>\n",
       "  </tbody>\n",
       "</table>\n",
       "<p>5 rows × 236 columns</p>\n",
       "</div>"
      ],
      "text/plain": [
       "         PID  MSZoning_C (all)  MSZoning_FV  MSZoning_I (all)  MSZoning_RH  \\\n",
       "0  531450030                 0            0                 0            0   \n",
       "1  535476360                 0            0                 0            0   \n",
       "2  905109170                 0            0                 0            0   \n",
       "3  535101110                 0            0                 0            0   \n",
       "4  528228565                 0            0                 0            0   \n",
       "\n",
       "   MSZoning_RL  MSZoning_RM  LotShape_Reg  LandContour_HLS  LandContour_Low  \\\n",
       "0            1            0             1                0                0   \n",
       "1            1            0             1                0                0   \n",
       "2            1            0             0                0                1   \n",
       "3            1            0             0                0                0   \n",
       "4            1            0             1                0                0   \n",
       "\n",
       "   ...  GarageYrBlt  GarageArea  WoodDeckSF  OpenPorchSF  EnclosedPorch  \\\n",
       "0  ...     0.844037    0.340054    0.134831     0.149123            0.0   \n",
       "1  ...     0.587156    0.295699    0.167837     0.073684            0.0   \n",
       "2  ...     0.706422    0.463710    0.348315     0.000000            0.0   \n",
       "3  ...     0.614679    0.340054    0.000000     0.000000            0.0   \n",
       "4  ...     0.963303    0.295699    0.099719     0.035088            0.0   \n",
       "\n",
       "   3SsnPorch  ScreenPorch  TotalBath  Bsmt_Unfin_Ratio  TotalLivArea  \n",
       "0        0.0          0.0   0.333333          0.525120      0.348428  \n",
       "1        0.0          0.0   0.250000          0.205596      0.363990  \n",
       "2        0.0          0.0   0.250000          0.230986      0.399782  \n",
       "3        0.0          0.0   0.166667          1.000000      0.441021  \n",
       "4        0.0          0.0   0.166667          0.988253      0.394336  \n",
       "\n",
       "[5 rows x 236 columns]"
      ]
     },
     "execution_count": 5,
     "metadata": {},
     "output_type": "execute_result"
    }
   ],
   "source": [
    "train_data_linear.head()"
   ]
  },
  {
   "cell_type": "markdown",
   "metadata": {},
   "source": [
    "### new calling method for our train/test split and clean\n",
    "- this will be a linear regression model\n",
    "\n",
    "only using:\n",
    "- train_data_linear, train_target_linear\n",
    "- test_data_linear, test_target_linear"
   ]
  },
  {
   "cell_type": "code",
   "execution_count": 6,
   "metadata": {},
   "outputs": [
    {
     "data": {
      "text/plain": [
       "(1926, 236)"
      ]
     },
     "execution_count": 6,
     "metadata": {},
     "output_type": "execute_result"
    }
   ],
   "source": [
    "train_data_linear.shape"
   ]
  },
  {
   "cell_type": "code",
   "execution_count": 7,
   "metadata": {
    "scrolled": true
   },
   "outputs": [
    {
     "data": {
      "text/plain": [
       "<matplotlib.axes._subplots.AxesSubplot at 0x1c0aa90dc10>"
      ]
     },
     "execution_count": 7,
     "metadata": {},
     "output_type": "execute_result"
    },
    {
     "data": {
      "image/png": "[encoded data removed]",
      "text/plain": [
       "<Figure size 432x288 with 1 Axes>"
      ]
     },
     "metadata": {
      "needs_background": "light"
     },
     "output_type": "display_data"
    }
   ],
   "source": [
    "train_target_linear.hist()"
   ]
  },
  {
   "cell_type": "code",
   "execution_count": 8,
   "metadata": {},
   "outputs": [],
   "source": [
    "# need to delete PID to run the Regression models\n",
    "del train_data_linear['PID']\n",
    "del test_data_linear['PID']\n",
    "\n",
    "# model was built out using these variables so going to redefine our \n",
    "# train_data_linear, train_target_linear, test_data_linear, test_target_linear\n",
    "x_train = train_data_linear\n",
    "Y_train = train_target_linear\n",
    "\n",
    "x_test = test_data_linear\n",
    "Y_test = test_target_linear"
   ]
  },
  {
   "cell_type": "markdown",
   "metadata": {},
   "source": [
    "# Attempt on Ridge Regression\n",
    "- using our own alpharange\n",
    "- using GridSearch"
   ]
  },
  {
   "cell_type": "markdown",
   "metadata": {},
   "source": [
    "### Manually setting AlphaRange\n",
    "- selecting 1e-3 to 200 with 1000 #s as my alpha testing\n",
    "- graphs to show coefficient and R2 against alpha"
   ]
  },
  {
   "cell_type": "code",
   "execution_count": 9,
   "metadata": {},
   "outputs": [],
   "source": [
    "ridge = Ridge()"
   ]
  },
  {
   "cell_type": "code",
   "execution_count": 10,
   "metadata": {
    "scrolled": true
   },
   "outputs": [],
   "source": [
    "coefs = []\n",
    "intercepts = []\n",
    "train_R2  = []\n",
    "test_R2 = []\n",
    "alphaRange = np.linspace(1e-3,200,1000)\n",
    "for alpha in alphaRange:\n",
    "          ridge.set_params(alpha=alpha, normalize=False)  \n",
    "          ridge.fit(x_train,Y_train)\n",
    "          intercepts.append(ridge.intercept_)\n",
    "          coefs.append(ridge.coef_)\n",
    "          train_R2.append(ridge.score(x_train,Y_train))\n",
    "          test_R2.append(ridge.score(x_test,Y_test))"
   ]
  },
  {
   "cell_type": "code",
   "execution_count": 11,
   "metadata": {},
   "outputs": [],
   "source": [
    "# creating default graph settings\n",
    "plt.style.use('ggplot')\n",
    "plt.rcParams['figure.figsize'] = (7,7)"
   ]
  },
  {
   "cell_type": "markdown",
   "metadata": {},
   "source": [
    "### Trying to find optimal Alpha where train/test R2 converge\n",
    "- print out list of coefficients to compare\n",
    "- check our r-squared values for our train/test data after selecting an optimal alpha"
   ]
  },
  {
   "cell_type": "code",
   "execution_count": 12,
   "metadata": {},
   "outputs": [
    {
     "data": {
      "text/plain": [
       "<matplotlib.legend.Legend at 0x1c0acd5c400>"
      ]
     },
     "execution_count": 12,
     "metadata": {},
     "output_type": "execute_result"
    },
    {
     "data": {
      "image/png": "[encoded data removed]",
      "text/plain": [
       "<Figure size 504x504 with 1 Axes>"
      ]
     },
     "metadata": {},
     "output_type": "display_data"
    }
   ],
   "source": [
    "plt.plot(alphaRange, train_R2, label=r'train set $R^2$')\n",
    "plt.plot(alphaRange, test_R2, label=r'test set $R^2$')\n",
    "plt.legend(loc=4)\n",
    "\n",
    "# MUCH closer than before.. less overfitting it looks like\n",
    "# assume alpha is optimal at 5?"
   ]
  },
  {
   "cell_type": "markdown",
   "metadata": {},
   "source": [
    "### List of Coefficients"
   ]
  },
  {
   "cell_type": "code",
   "execution_count": 13,
   "metadata": {},
   "outputs": [
    {
     "name": "stdout",
     "output_type": "stream",
     "text": [
      "The intercept is 11.6401\n",
      "The slopes are \n",
      " MSZoning_C (all)   -0.061053\n",
      "MSZoning_FV         0.047988\n",
      "MSZoning_I (all)    0.000000\n",
      "MSZoning_RH         0.021347\n",
      "MSZoning_RL         0.040697\n",
      "                      ...   \n",
      "3SsnPorch           0.001633\n",
      "ScreenPorch         0.037726\n",
      "TotalBath           0.135327\n",
      "Bsmt_Unfin_Ratio   -0.025937\n",
      "TotalLivArea        0.296769\n",
      "Length: 235, dtype: float64\n"
     ]
    }
   ],
   "source": [
    "ridge.set_params(alpha=5)\n",
    "ridge.fit(x_test, Y_test)\n",
    "coefDF = pd.Series(ridge.coef_.reshape(-1,), index=x_test.columns) #not sure why this wasn't working\n",
    "print('The intercept is %.4f' %(ridge.intercept_))\n",
    "print('The slopes are \\n %s' %(coefDF))"
   ]
  },
  {
   "cell_type": "code",
   "execution_count": 14,
   "metadata": {},
   "outputs": [],
   "source": [
    "df_coef = pd.DataFrame(coefDF, columns = ['Coefficient'])"
   ]
  },
  {
   "cell_type": "code",
   "execution_count": 15,
   "metadata": {},
   "outputs": [
    {
     "data": {
      "text/html": [
       "<div>\n",
       "<style scoped>\n",
       "    .dataframe tbody tr th:only-of-type {\n",
       "        vertical-align: middle;\n",
       "    }\n",
       "\n",
       "    .dataframe tbody tr th {\n",
       "        vertical-align: top;\n",
       "    }\n",
       "\n",
       "    .dataframe thead th {\n",
       "        text-align: right;\n",
       "    }\n",
       "</style>\n",
       "<table border=\"1\" class=\"dataframe\">\n",
       "  <thead>\n",
       "    <tr style=\"text-align: right;\">\n",
       "      <th></th>\n",
       "      <th>Coefficient</th>\n",
       "    </tr>\n",
       "  </thead>\n",
       "  <tbody>\n",
       "    <tr>\n",
       "      <th>OverallQual_4</th>\n",
       "      <td>-0.132528</td>\n",
       "    </tr>\n",
       "    <tr>\n",
       "      <th>OverallCond_3</th>\n",
       "      <td>-0.121805</td>\n",
       "    </tr>\n",
       "    <tr>\n",
       "      <th>BldgType_Twnhs</th>\n",
       "      <td>-0.078781</td>\n",
       "    </tr>\n",
       "    <tr>\n",
       "      <th>FireplaceQu_No_Fireplace</th>\n",
       "      <td>-0.075615</td>\n",
       "    </tr>\n",
       "    <tr>\n",
       "      <th>KitchenQual_TA</th>\n",
       "      <td>-0.070024</td>\n",
       "    </tr>\n",
       "    <tr>\n",
       "      <th>...</th>\n",
       "      <td>...</td>\n",
       "    </tr>\n",
       "    <tr>\n",
       "      <th>TotRmsAbvGrd</th>\n",
       "      <td>0.133216</td>\n",
       "    </tr>\n",
       "    <tr>\n",
       "      <th>TotalBath</th>\n",
       "      <td>0.135327</td>\n",
       "    </tr>\n",
       "    <tr>\n",
       "      <th>OverallQual_9</th>\n",
       "      <td>0.141184</td>\n",
       "    </tr>\n",
       "    <tr>\n",
       "      <th>GarageArea</th>\n",
       "      <td>0.164814</td>\n",
       "    </tr>\n",
       "    <tr>\n",
       "      <th>TotalLivArea</th>\n",
       "      <td>0.296769</td>\n",
       "    </tr>\n",
       "  </tbody>\n",
       "</table>\n",
       "<p>235 rows × 1 columns</p>\n",
       "</div>"
      ],
      "text/plain": [
       "                          Coefficient\n",
       "OverallQual_4               -0.132528\n",
       "OverallCond_3               -0.121805\n",
       "BldgType_Twnhs              -0.078781\n",
       "FireplaceQu_No_Fireplace    -0.075615\n",
       "KitchenQual_TA              -0.070024\n",
       "...                               ...\n",
       "TotRmsAbvGrd                 0.133216\n",
       "TotalBath                    0.135327\n",
       "OverallQual_9                0.141184\n",
       "GarageArea                   0.164814\n",
       "TotalLivArea                 0.296769\n",
       "\n",
       "[235 rows x 1 columns]"
      ]
     },
     "execution_count": 15,
     "metadata": {},
     "output_type": "execute_result"
    }
   ],
   "source": [
    "df_coef.sort_values(by=['Coefficient'])"
   ]
  },
  {
   "cell_type": "code",
   "execution_count": 16,
   "metadata": {},
   "outputs": [
    {
     "name": "stdout",
     "output_type": "stream",
     "text": [
      "{'alpha': 5, 'copy_X': True, 'fit_intercept': True, 'max_iter': None, 'normalize': False, 'random_state': None, 'solver': 'auto', 'tol': 0.001}\n",
      "Train R-Squared: 0.9450048752971545\n",
      "Test R-Squared: 0.9300092086327935\n"
     ]
    }
   ],
   "source": [
    "# Fit our model to the optimal alpha=5 and see what our R-Squared is\n",
    "ridge.set_params(alpha=5)\n",
    "ridge.fit(x_train, Y_train)\n",
    "print(ridge.get_params())\n",
    "print(\"Train R-Squared:\", ridge.score(x_train,Y_train))\n",
    "print(\"Test R-Squared:\", ridge.score(x_test,Y_test))\n",
    "\n",
    "# .935 test!"
   ]
  },
  {
   "cell_type": "markdown",
   "metadata": {},
   "source": [
    "### Using GridSearch \n",
    "- do the same as above but using GridSearch\n",
    "- setting a different alphaRange for this one, 0.001 to 100 with 1000 numbers"
   ]
  },
  {
   "cell_type": "code",
   "execution_count": 17,
   "metadata": {},
   "outputs": [],
   "source": [
    "alphaRange = np.linspace(0.001,100,1000)\n",
    "\n",
    "#setting our params using alphaRange for our GridSearch\n",
    "params = {'alpha': alphaRange, 'max_iter': [1000000]}"
   ]
  },
  {
   "cell_type": "code",
   "execution_count": 18,
   "metadata": {},
   "outputs": [
    {
     "data": {
      "text/plain": [
       "GridSearchCV(cv=5, estimator=Ridge(alpha=5),\n",
       "             param_grid={'alpha': array([1.00000000e-03, 1.01099099e-01, 2.01198198e-01, 3.01297297e-01,\n",
       "       4.01396396e-01, 5.01495495e-01, 6.01594595e-01, 7.01693694e-01,\n",
       "       8.01792793e-01, 9.01891892e-01, 1.00199099e+00, 1.10209009e+00,\n",
       "       1.20218919e+00, 1.30228829e+00, 1.40238739e+00, 1.50248649e+00,\n",
       "       1.60258559e+00, 1.70268468e+00, 1.80278378...\n",
       "       9.76977207e+01, 9.77978198e+01, 9.78979189e+01, 9.79980180e+01,\n",
       "       9.80981171e+01, 9.81982162e+01, 9.82983153e+01, 9.83984144e+01,\n",
       "       9.84985135e+01, 9.85986126e+01, 9.86987117e+01, 9.87988108e+01,\n",
       "       9.88989099e+01, 9.89990090e+01, 9.90991081e+01, 9.91992072e+01,\n",
       "       9.92993063e+01, 9.93994054e+01, 9.94995045e+01, 9.95996036e+01,\n",
       "       9.96997027e+01, 9.97998018e+01, 9.98999009e+01, 1.00000000e+02]),\n",
       "                         'max_iter': [1000000]},\n",
       "             scoring='r2')"
      ]
     },
     "execution_count": 18,
     "metadata": {},
     "output_type": "execute_result"
    }
   ],
   "source": [
    "#creating grid object\n",
    "grid = GridSearchCV(ridge, params, cv=5, scoring = 'r2')\n",
    "\n",
    "#fitting it to our training data\n",
    "grid.fit(x_train, Y_train)"
   ]
  },
  {
   "cell_type": "code",
   "execution_count": 20,
   "metadata": {},
   "outputs": [
    {
     "name": "stdout",
     "output_type": "stream",
     "text": [
      "{'alpha': 0.3012972972972973, 'max_iter': 1000000}\n"
     ]
    }
   ],
   "source": [
    "print(grid.best_params_) #0.7016936936936937 is the best alpha according to gridSearch"
   ]
  },
  {
   "cell_type": "code",
   "execution_count": 21,
   "metadata": {},
   "outputs": [
    {
     "name": "stdout",
     "output_type": "stream",
     "text": [
      "{'alpha': 0.7016936936936937, 'copy_X': True, 'fit_intercept': True, 'max_iter': None, 'normalize': False, 'random_state': None, 'solver': 'auto', 'tol': 0.001}\n",
      "Train R-Squared: 0.9538486975270881\n",
      "Test R-Squared: 0.9366406387334304\n"
     ]
    }
   ],
   "source": [
    "# re-fitting our ridge using the new alpha\n",
    "ridge.set_params(alpha=0.7016936936936937)\n",
    "ridge.fit(x_train, Y_train)\n",
    "print(ridge.get_params())\n",
    "print(\"Train R-Squared:\", ridge.score(x_train,Y_train))\n",
    "print(\"Test R-Squared:\", ridge.score(x_test,Y_test))\n",
    "\n",
    "## for VotingRegressor\n",
    "ridge_optimal = Ridge(alpha=0.7016936936936937, max_iter=1000000)\n",
    "\n",
    "# testing has a 0.938!"
   ]
  },
  {
   "cell_type": "markdown",
   "metadata": {},
   "source": [
    "# Attempt on Lasso Regression\n",
    "- trying it with setting our alpharange manually\n",
    "- then trying to see how it compares to GridSearch"
   ]
  },
  {
   "cell_type": "code",
   "execution_count": 19,
   "metadata": {},
   "outputs": [],
   "source": [
    "#create our lasso object\n",
    "lasso = Lasso()"
   ]
  },
  {
   "cell_type": "code",
   "execution_count": 25,
   "metadata": {},
   "outputs": [],
   "source": [
    "coefs1 = []\n",
    "intercepts1 = []\n",
    "train_R2a  = []\n",
    "test_R2a = []\n",
    "alphaRange1 = np.linspace(1e-3,0.03,1000)\n",
    "for alpha in alphaRange1:\n",
    "          lasso.set_params(alpha=alpha, normalize=False)  \n",
    "          lasso.fit(x_train,Y_train)\n",
    "          intercepts1.append(lasso.intercept_)\n",
    "          coefs1.append(lasso.coef_)\n",
    "          train_R2a.append(lasso.score(x_train,Y_train))\n",
    "          test_R2a.append(lasso.score(x_test,Y_test))"
   ]
  },
  {
   "cell_type": "code",
   "execution_count": 26,
   "metadata": {},
   "outputs": [
    {
     "data": {
      "text/plain": [
       "<matplotlib.legend.Legend at 0x201949b4b80>"
      ]
     },
     "execution_count": 26,
     "metadata": {},
     "output_type": "execute_result"
    },
    {
     "data": {
      "image/png": "[encoded data removed]",
      "text/plain": [
       "<Figure size 504x504 with 1 Axes>"
      ]
     },
     "metadata": {},
     "output_type": "display_data"
    }
   ],
   "source": [
    "plt.plot(alphaRange1, train_R2a, label=r'train set $R^2$')\n",
    "plt.plot(alphaRange1, test_R2a, label=r'test set $R^2$')\n",
    "plt.legend(loc=4)\n",
    "\n",
    "# can't really tell where Alpha is optimal, will use GridSearch\n",
    "# chart is even better after our feature selection process"
   ]
  },
  {
   "cell_type": "markdown",
   "metadata": {},
   "source": [
    "### GridSearch for Lasso"
   ]
  },
  {
   "cell_type": "code",
   "execution_count": 28,
   "metadata": {},
   "outputs": [],
   "source": [
    "alphaRange1 = np.linspace(1e-3,0.05,1000)\n",
    "\n",
    "#setting our params using alphaRange for our GridSearch\n",
    "params1 = {'alpha': alphaRange1, 'max_iter' : [1000000]}"
   ]
  },
  {
   "cell_type": "code",
   "execution_count": 29,
   "metadata": {},
   "outputs": [
    {
     "data": {
      "text/plain": [
       "GridSearchCV(cv=5, estimator=Lasso(alpha=0.03),\n",
       "             param_grid={'alpha': array([0.001     , 0.00104905, 0.0010981 , 0.00114715, 0.0011962 ,\n",
       "       0.00124525, 0.00129429, 0.00134334, 0.00139239, 0.00144144,\n",
       "       0.00149049, 0.00153954, 0.00158859, 0.00163764, 0.00168669,\n",
       "       0.00173574, 0.00178478, 0.00183383, 0.00188288, 0.00193193,\n",
       "       0.00198098, 0.00203003, 0.00207908, 0.00212813, 0.00217718,\n",
       "       0.0022262...\n",
       "       0.04857758, 0.04862663, 0.04867568, 0.04872472, 0.04877377,\n",
       "       0.04882282, 0.04887187, 0.04892092, 0.04896997, 0.04901902,\n",
       "       0.04906807, 0.04911712, 0.04916617, 0.04921522, 0.04926426,\n",
       "       0.04931331, 0.04936236, 0.04941141, 0.04946046, 0.04950951,\n",
       "       0.04955856, 0.04960761, 0.04965666, 0.04970571, 0.04975475,\n",
       "       0.0498038 , 0.04985285, 0.0499019 , 0.04995095, 0.05      ]),\n",
       "                         'max_iter': [1000000]},\n",
       "             scoring='r2')"
      ]
     },
     "execution_count": 29,
     "metadata": {},
     "output_type": "execute_result"
    }
   ],
   "source": [
    "#creating grid object\n",
    "grid1 = GridSearchCV(lasso, params1, cv=5, scoring = 'r2')\n",
    "\n",
    "#fitting it to our training data\n",
    "grid1.fit(x_train, Y_train)"
   ]
  },
  {
   "cell_type": "code",
   "execution_count": 30,
   "metadata": {},
   "outputs": [
    {
     "name": "stdout",
     "output_type": "stream",
     "text": [
      "{'alpha': 0.001, 'max_iter': 1000000}\n"
     ]
    }
   ],
   "source": [
    "print(grid1.best_params_) #0.001 is the best alpha according to gridSearch"
   ]
  },
  {
   "cell_type": "code",
   "execution_count": 31,
   "metadata": {},
   "outputs": [
    {
     "name": "stdout",
     "output_type": "stream",
     "text": [
      "{'alpha': 0.001, 'copy_X': True, 'fit_intercept': True, 'max_iter': 1000, 'normalize': False, 'positive': False, 'precompute': False, 'random_state': None, 'selection': 'cyclic', 'tol': 0.0001, 'warm_start': False}\n",
      "Train R-Squared: 0.9289129159748201\n",
      "Test R-Squared: 0.9270027362907779\n"
     ]
    }
   ],
   "source": [
    "# re-fitting our lasso using the new alpha\n",
    "lasso.set_params(alpha=0.001)\n",
    "lasso.fit(x_train, Y_train)\n",
    "print(lasso.get_params())\n",
    "print(\"Train R-Squared:\", lasso.score(x_train,Y_train))\n",
    "print(\"Test R-Squared:\", lasso.score(x_test,Y_test))\n",
    "\n",
    "## for VotingRegressor\n",
    "lasso_optimal = Lasso(alpha=0.001, max_iter=1000000)\n",
    "\n",
    "# test score of 0.927"
   ]
  },
  {
   "cell_type": "code",
   "execution_count": 32,
   "metadata": {},
   "outputs": [
    {
     "name": "stdout",
     "output_type": "stream",
     "text": [
      "The intercept is 11.2709\n",
      "The slopes are \n",
      " MSZoning_C (all)   -0.000000\n",
      "MSZoning_FV         0.038005\n",
      "MSZoning_I (all)   -0.000000\n",
      "MSZoning_RH        -0.000000\n",
      "MSZoning_RL         0.053029\n",
      "                      ...   \n",
      "3SsnPorch           0.000000\n",
      "ScreenPorch         0.005145\n",
      "TotalBath           0.118574\n",
      "Bsmt_Unfin_Ratio   -0.062507\n",
      "TotalLivArea        1.311514\n",
      "Length: 235, dtype: float64\n"
     ]
    }
   ],
   "source": [
    "coefDF1 = pd.Series(lasso.coef_.reshape(-1,), index=x_train.columns)\n",
    "print('The intercept is %.4f' %(lasso.intercept_))\n",
    "print('The slopes are \\n %s' %(coefDF1))"
   ]
  },
  {
   "cell_type": "code",
   "execution_count": 33,
   "metadata": {},
   "outputs": [
    {
     "data": {
      "text/html": [
       "<div>\n",
       "<style scoped>\n",
       "    .dataframe tbody tr th:only-of-type {\n",
       "        vertical-align: middle;\n",
       "    }\n",
       "\n",
       "    .dataframe tbody tr th {\n",
       "        vertical-align: top;\n",
       "    }\n",
       "\n",
       "    .dataframe thead th {\n",
       "        text-align: right;\n",
       "    }\n",
       "</style>\n",
       "<table border=\"1\" class=\"dataframe\">\n",
       "  <thead>\n",
       "    <tr style=\"text-align: right;\">\n",
       "      <th></th>\n",
       "      <th>Coefficient</th>\n",
       "    </tr>\n",
       "  </thead>\n",
       "  <tbody>\n",
       "    <tr>\n",
       "      <th>OverallCond_3</th>\n",
       "      <td>-0.145873</td>\n",
       "    </tr>\n",
       "    <tr>\n",
       "      <th>OverallQual_2</th>\n",
       "      <td>-0.081035</td>\n",
       "    </tr>\n",
       "    <tr>\n",
       "      <th>MSSubClass_30</th>\n",
       "      <td>-0.077760</td>\n",
       "    </tr>\n",
       "    <tr>\n",
       "      <th>OverallQual_4</th>\n",
       "      <td>-0.072245</td>\n",
       "    </tr>\n",
       "    <tr>\n",
       "      <th>OverallCond_4</th>\n",
       "      <td>-0.072163</td>\n",
       "    </tr>\n",
       "    <tr>\n",
       "      <th>...</th>\n",
       "      <td>...</td>\n",
       "    </tr>\n",
       "    <tr>\n",
       "      <th>OverallQual_8</th>\n",
       "      <td>0.098370</td>\n",
       "    </tr>\n",
       "    <tr>\n",
       "      <th>TotalBath</th>\n",
       "      <td>0.118574</td>\n",
       "    </tr>\n",
       "    <tr>\n",
       "      <th>OverallQual_9</th>\n",
       "      <td>0.190293</td>\n",
       "    </tr>\n",
       "    <tr>\n",
       "      <th>GarageArea</th>\n",
       "      <td>0.222283</td>\n",
       "    </tr>\n",
       "    <tr>\n",
       "      <th>TotalLivArea</th>\n",
       "      <td>1.311514</td>\n",
       "    </tr>\n",
       "  </tbody>\n",
       "</table>\n",
       "<p>235 rows × 1 columns</p>\n",
       "</div>"
      ],
      "text/plain": [
       "               Coefficient\n",
       "OverallCond_3    -0.145873\n",
       "OverallQual_2    -0.081035\n",
       "MSSubClass_30    -0.077760\n",
       "OverallQual_4    -0.072245\n",
       "OverallCond_4    -0.072163\n",
       "...                    ...\n",
       "OverallQual_8     0.098370\n",
       "TotalBath         0.118574\n",
       "OverallQual_9     0.190293\n",
       "GarageArea        0.222283\n",
       "TotalLivArea      1.311514\n",
       "\n",
       "[235 rows x 1 columns]"
      ]
     },
     "execution_count": 33,
     "metadata": {},
     "output_type": "execute_result"
    }
   ],
   "source": [
    "df_coef1 = pd.DataFrame(coefDF1, columns = ['Coefficient']).sort_values(by=['Coefficient'])\n",
    "df_coef1"
   ]
  },
  {
   "cell_type": "code",
   "execution_count": 34,
   "metadata": {
    "scrolled": true
   },
   "outputs": [
    {
     "name": "stdout",
     "output_type": "stream",
     "text": [
      "(235, 1)\n",
      "(150, 1)\n"
     ]
    },
    {
     "data": {
      "text/html": [
       "<div>\n",
       "<style scoped>\n",
       "    .dataframe tbody tr th:only-of-type {\n",
       "        vertical-align: middle;\n",
       "    }\n",
       "\n",
       "    .dataframe tbody tr th {\n",
       "        vertical-align: top;\n",
       "    }\n",
       "\n",
       "    .dataframe thead th {\n",
       "        text-align: right;\n",
       "    }\n",
       "</style>\n",
       "<table border=\"1\" class=\"dataframe\">\n",
       "  <thead>\n",
       "    <tr style=\"text-align: right;\">\n",
       "      <th></th>\n",
       "      <th>Coefficient</th>\n",
       "    </tr>\n",
       "  </thead>\n",
       "  <tbody>\n",
       "    <tr>\n",
       "      <th>HeatingQC_Po</th>\n",
       "      <td>0.0</td>\n",
       "    </tr>\n",
       "    <tr>\n",
       "      <th>GarageType_CarPort</th>\n",
       "      <td>0.0</td>\n",
       "    </tr>\n",
       "    <tr>\n",
       "      <th>BsmtCond_No_Basement</th>\n",
       "      <td>0.0</td>\n",
       "    </tr>\n",
       "    <tr>\n",
       "      <th>GarageType_Basment</th>\n",
       "      <td>-0.0</td>\n",
       "    </tr>\n",
       "    <tr>\n",
       "      <th>FireplaceQu_TA</th>\n",
       "      <td>-0.0</td>\n",
       "    </tr>\n",
       "    <tr>\n",
       "      <th>...</th>\n",
       "      <td>...</td>\n",
       "    </tr>\n",
       "    <tr>\n",
       "      <th>Exterior1st_Stucco</th>\n",
       "      <td>0.0</td>\n",
       "    </tr>\n",
       "    <tr>\n",
       "      <th>Exterior1st_HdBoard</th>\n",
       "      <td>-0.0</td>\n",
       "    </tr>\n",
       "    <tr>\n",
       "      <th>Exterior1st_WdShing</th>\n",
       "      <td>0.0</td>\n",
       "    </tr>\n",
       "    <tr>\n",
       "      <th>Exterior1st_Plywood</th>\n",
       "      <td>-0.0</td>\n",
       "    </tr>\n",
       "    <tr>\n",
       "      <th>Exterior1st_MetalSd</th>\n",
       "      <td>0.0</td>\n",
       "    </tr>\n",
       "  </tbody>\n",
       "</table>\n",
       "<p>150 rows × 1 columns</p>\n",
       "</div>"
      ],
      "text/plain": [
       "                      Coefficient\n",
       "HeatingQC_Po                  0.0\n",
       "GarageType_CarPort            0.0\n",
       "BsmtCond_No_Basement          0.0\n",
       "GarageType_Basment           -0.0\n",
       "FireplaceQu_TA               -0.0\n",
       "...                           ...\n",
       "Exterior1st_Stucco            0.0\n",
       "Exterior1st_HdBoard          -0.0\n",
       "Exterior1st_WdShing           0.0\n",
       "Exterior1st_Plywood          -0.0\n",
       "Exterior1st_MetalSd           0.0\n",
       "\n",
       "[150 rows x 1 columns]"
      ]
     },
     "execution_count": 34,
     "metadata": {},
     "output_type": "execute_result"
    }
   ],
   "source": [
    "# let's all find all the 0 coefficients\n",
    "print(df_coef1.shape)\n",
    "print(df_coef1[df_coef1['Coefficient'] == 0].shape)\n",
    "df_coef1[df_coef1['Coefficient'] == 0]"
   ]
  },
  {
   "cell_type": "markdown",
   "metadata": {},
   "source": [
    "# Attempt on ElasticNet\n",
    "- repeating analysis with ElasticNet\n",
    "- using GridSearch"
   ]
  },
  {
   "cell_type": "code",
   "execution_count": 35,
   "metadata": {},
   "outputs": [],
   "source": [
    "#create our lasso object\n",
    "enet = ElasticNet()"
   ]
  },
  {
   "cell_type": "markdown",
   "metadata": {},
   "source": [
    "### ElasticNet with GridSearch"
   ]
  },
  {
   "cell_type": "code",
   "execution_count": 36,
   "metadata": {},
   "outputs": [],
   "source": [
    "#what we used previously\n",
    "alphaSize = 200\n",
    "rhoSize = 10\n",
    "alphaRange2 = np.linspace(1e-3,100, alphaSize)\n",
    "rhoRange = np.linspace(0.01, 1, rhoSize)\n",
    "\n",
    "\n",
    "#setting our params using alphaRange for our GridSearch\n",
    "params2 = {'alpha': alphaRange2, 'l1_ratio': rhoRange, 'max_iter' : [1000000]}"
   ]
  },
  {
   "cell_type": "code",
   "execution_count": 38,
   "metadata": {},
   "outputs": [
    {
     "data": {
      "text/plain": [
       "GridSearchCV(cv=5, estimator=ElasticNet(),\n",
       "             param_grid={'alpha': array([1.00000000e-03, 5.03507538e-01, 1.00601508e+00, 1.50852261e+00,\n",
       "       2.01103015e+00, 2.51353769e+00, 3.01604523e+00, 3.51855276e+00,\n",
       "       4.02106030e+00, 4.52356784e+00, 5.02607538e+00, 5.52858291e+00,\n",
       "       6.03109045e+00, 6.53359799e+00, 7.03610553e+00, 7.53861307e+00,\n",
       "       8.04112060e+00, 8.54362814e+00, 9.04613568e+...\n",
       "       9.04523568e+01, 9.09548643e+01, 9.14573719e+01, 9.19598794e+01,\n",
       "       9.24623869e+01, 9.29648945e+01, 9.34674020e+01, 9.39699095e+01,\n",
       "       9.44724171e+01, 9.49749246e+01, 9.54774322e+01, 9.59799397e+01,\n",
       "       9.64824472e+01, 9.69849548e+01, 9.74874623e+01, 9.79899698e+01,\n",
       "       9.84924774e+01, 9.89949849e+01, 9.94974925e+01, 1.00000000e+02]),\n",
       "                         'l1_ratio': array([0.01, 0.12, 0.23, 0.34, 0.45, 0.56, 0.67, 0.78, 0.89, 1.  ]),\n",
       "                         'max_iter': [1000000]},\n",
       "             scoring='r2')"
      ]
     },
     "execution_count": 38,
     "metadata": {},
     "output_type": "execute_result"
    }
   ],
   "source": [
    "#creating grid object\n",
    "grid2 = GridSearchCV(enet, params2, cv=5, scoring = 'r2')\n",
    "\n",
    "#fitting it to our training data\n",
    "grid2.fit(x_train, Y_train)"
   ]
  },
  {
   "cell_type": "code",
   "execution_count": 39,
   "metadata": {},
   "outputs": [
    {
     "name": "stdout",
     "output_type": "stream",
     "text": [
      "{'alpha': 0.001, 'l1_ratio': 0.12, 'max_iter': 1000000}\n"
     ]
    }
   ],
   "source": [
    "print(grid2.best_params_) #0.001 is the best alpha with a l1_ratio of 0.12"
   ]
  },
  {
   "cell_type": "code",
   "execution_count": 40,
   "metadata": {},
   "outputs": [
    {
     "name": "stdout",
     "output_type": "stream",
     "text": [
      "{'alpha': 0.001, 'copy_X': True, 'fit_intercept': True, 'l1_ratio': 0.01, 'max_iter': 1000, 'normalize': False, 'positive': False, 'precompute': False, 'random_state': None, 'selection': 'cyclic', 'tol': 0.0001, 'warm_start': False}\n",
      "Train R-Squared: 0.9510883237675039\n",
      "Test R-Squared: 0.9390747194358329\n"
     ]
    }
   ],
   "source": [
    "# re-fitting our ElasticNet using the new alpha and rho\n",
    "enet.set_params(alpha=0.001, l1_ratio=0.01)\n",
    "enet.fit(x_train, Y_train)\n",
    "print(enet.get_params())\n",
    "print(\"Train R-Squared:\", enet.score(x_train,Y_train))\n",
    "print(\"Test R-Squared:\", enet.score(x_test,Y_test))\n",
    "\n",
    "## for VotingRegressor\n",
    "enet_optimal = ElasticNet(alpha=0.001, l1_ratio=0.12, max_iter=1000000)\n",
    "\n",
    "# pretty close with Ridge, 0.939!"
   ]
  },
  {
   "cell_type": "markdown",
   "metadata": {},
   "source": [
    "### VotingRegressor\n",
    "- using the VotingRegressor with Lasso, Ridge and ElasticNet\n",
    "\n",
    "\n",
    "#### VotingRegressor:\n",
    "- Prediction voting regressor for unfitted estimators.\n",
    "- A voting regressor is an ensemble meta-estimator that fits several base regressors, each on the whole dataset. Then it averages the individual predictions to form a final prediction."
   ]
  },
  {
   "cell_type": "code",
   "execution_count": 41,
   "metadata": {},
   "outputs": [
    {
     "data": {
      "text/plain": [
       "0.940393727584611"
      ]
     },
     "execution_count": 41,
     "metadata": {},
     "output_type": "execute_result"
    }
   ],
   "source": [
    "vr = VotingRegressor([('lasso', lasso_optimal), ('ridge', ridge_optimal), ('elasticnet', enet_optimal)])\n",
    "\n",
    "vr.fit(x_train, Y_train)\n",
    "vr.score(x_test, Y_test)\n",
    "\n",
    "## VotingRegressor gave a score of 0.94!"
   ]
  }
 ],
 "metadata": {
  "kernelspec": {
   "display_name": "Python 3",
   "language": "python",
   "name": "python3"
  },
  "language_info": {
   "codemirror_mode": {
    "name": "ipython",
    "version": 3
   },
   "file_extension": ".py",
   "mimetype": "text/x-python",
   "name": "python",
   "nbconvert_exporter": "python",
   "pygments_lexer": "ipython3",
   "version": "3.8.3"
  }
 },
 "nbformat": 4,
 "nbformat_minor": 4
}

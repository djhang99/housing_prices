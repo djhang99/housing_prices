{
 "cells": [
  {
   "cell_type": "markdown",
   "metadata": {},
   "source": [
    "# Regression 2 - using new cleaning and dummifying methods\n",
    "- will also include removed columns and new columns we added as discussed in our group meeting"
   ]
  },
  {
   "cell_type": "code",
   "execution_count": 1,
   "metadata": {},
   "outputs": [],
   "source": [
    "import numpy as np\n",
    "import pandas as pd\n",
    "import matplotlib.pyplot as plt\n",
    "from sklearn.ensemble import VotingRegressor\n",
    "from sklearn.linear_model import LinearRegression, Ridge, Lasso, ElasticNet\n",
    "from sklearn.preprocessing import StandardScaler, MinMaxScaler\n",
    "from sklearn.model_selection import train_test_split, GridSearchCV, KFold\n",
    "from data_preprocessing_final2 import *"
   ]
  },
  {
   "cell_type": "code",
   "execution_count": 70,
   "metadata": {},
   "outputs": [],
   "source": [
    "#set columns\n",
    "pd.set_option(\"display.max_columns\",None)\n",
    "\n",
    "#set rows\n",
    "pd.set_option(\"display.max_rows\",None)"
   ]
  },
  {
   "cell_type": "markdown",
   "metadata": {},
   "source": [
    "### read our file and clean, re-classify, train/test split, and scale our data "
   ]
  },
  {
   "cell_type": "code",
   "execution_count": 2,
   "metadata": {},
   "outputs": [],
   "source": [
    "# read our original data file\n",
    "data = pd.read_csv('./data/Ames_Housing_Price_Data.csv', index_col=0)"
   ]
  },
  {
   "cell_type": "code",
   "execution_count": 3,
   "metadata": {},
   "outputs": [],
   "source": [
    "# taking only Normal Sale conditions to make apples to apples comparison for Sales Price (majority were Normal)\n",
    "data = data[data['SaleCondition'] == 'Normal']"
   ]
  },
  {
   "cell_type": "code",
   "execution_count": 4,
   "metadata": {},
   "outputs": [],
   "source": [
    "# this function will clean, dummify/ord, test/train split, and scale all our data\n",
    "train_data_linear, train_target_linear, test_data_linear, test_target_linear, train_data_tree, train_target_tree, test_data_tree, test_target_tree = initiate_data(data)"
   ]
  },
  {
   "cell_type": "code",
   "execution_count": 5,
   "metadata": {},
   "outputs": [
    {
     "data": {
      "text/html": [
       "<div>\n",
       "<style scoped>\n",
       "    .dataframe tbody tr th:only-of-type {\n",
       "        vertical-align: middle;\n",
       "    }\n",
       "\n",
       "    .dataframe tbody tr th {\n",
       "        vertical-align: top;\n",
       "    }\n",
       "\n",
       "    .dataframe thead th {\n",
       "        text-align: right;\n",
       "    }\n",
       "</style>\n",
       "<table border=\"1\" class=\"dataframe\">\n",
       "  <thead>\n",
       "    <tr style=\"text-align: right;\">\n",
       "      <th></th>\n",
       "      <th>PID</th>\n",
       "      <th>MSZoning_C (all)</th>\n",
       "      <th>MSZoning_FV</th>\n",
       "      <th>MSZoning_I (all)</th>\n",
       "      <th>MSZoning_RH</th>\n",
       "      <th>MSZoning_RL</th>\n",
       "      <th>MSZoning_RM</th>\n",
       "      <th>LotShape_Reg</th>\n",
       "      <th>LandContour_HLS</th>\n",
       "      <th>LandContour_Low</th>\n",
       "      <th>...</th>\n",
       "      <th>GarageYrBlt</th>\n",
       "      <th>GarageArea</th>\n",
       "      <th>WoodDeckSF</th>\n",
       "      <th>OpenPorchSF</th>\n",
       "      <th>EnclosedPorch</th>\n",
       "      <th>3SsnPorch</th>\n",
       "      <th>ScreenPorch</th>\n",
       "      <th>TotalBath</th>\n",
       "      <th>Bsmt_Unfin_Ratio</th>\n",
       "      <th>TotalLivArea</th>\n",
       "    </tr>\n",
       "  </thead>\n",
       "  <tbody>\n",
       "    <tr>\n",
       "      <th>0</th>\n",
       "      <td>528435050</td>\n",
       "      <td>0</td>\n",
       "      <td>0</td>\n",
       "      <td>0</td>\n",
       "      <td>0</td>\n",
       "      <td>1</td>\n",
       "      <td>0</td>\n",
       "      <td>1</td>\n",
       "      <td>0</td>\n",
       "      <td>0</td>\n",
       "      <td>...</td>\n",
       "      <td>0.981651</td>\n",
       "      <td>0.567204</td>\n",
       "      <td>0.000000</td>\n",
       "      <td>0.121053</td>\n",
       "      <td>0.0</td>\n",
       "      <td>0.0</td>\n",
       "      <td>0.0</td>\n",
       "      <td>0.333333</td>\n",
       "      <td>0.239718</td>\n",
       "      <td>0.451634</td>\n",
       "    </tr>\n",
       "    <tr>\n",
       "      <th>1</th>\n",
       "      <td>527162090</td>\n",
       "      <td>0</td>\n",
       "      <td>0</td>\n",
       "      <td>0</td>\n",
       "      <td>0</td>\n",
       "      <td>1</td>\n",
       "      <td>0</td>\n",
       "      <td>1</td>\n",
       "      <td>0</td>\n",
       "      <td>0</td>\n",
       "      <td>...</td>\n",
       "      <td>0.871560</td>\n",
       "      <td>0.270161</td>\n",
       "      <td>0.154494</td>\n",
       "      <td>0.036842</td>\n",
       "      <td>0.0</td>\n",
       "      <td>0.0</td>\n",
       "      <td>0.0</td>\n",
       "      <td>0.166667</td>\n",
       "      <td>1.000000</td>\n",
       "      <td>0.302288</td>\n",
       "    </tr>\n",
       "    <tr>\n",
       "      <th>2</th>\n",
       "      <td>534403370</td>\n",
       "      <td>0</td>\n",
       "      <td>0</td>\n",
       "      <td>0</td>\n",
       "      <td>0</td>\n",
       "      <td>1</td>\n",
       "      <td>0</td>\n",
       "      <td>0</td>\n",
       "      <td>0</td>\n",
       "      <td>0</td>\n",
       "      <td>...</td>\n",
       "      <td>0.587156</td>\n",
       "      <td>0.433468</td>\n",
       "      <td>0.126404</td>\n",
       "      <td>0.000000</td>\n",
       "      <td>0.0</td>\n",
       "      <td>0.0</td>\n",
       "      <td>0.0</td>\n",
       "      <td>0.083333</td>\n",
       "      <td>0.499556</td>\n",
       "      <td>0.315686</td>\n",
       "    </tr>\n",
       "    <tr>\n",
       "      <th>3</th>\n",
       "      <td>534102025</td>\n",
       "      <td>0</td>\n",
       "      <td>1</td>\n",
       "      <td>0</td>\n",
       "      <td>0</td>\n",
       "      <td>0</td>\n",
       "      <td>0</td>\n",
       "      <td>1</td>\n",
       "      <td>0</td>\n",
       "      <td>0</td>\n",
       "      <td>...</td>\n",
       "      <td>0.935780</td>\n",
       "      <td>0.400538</td>\n",
       "      <td>0.194522</td>\n",
       "      <td>0.240351</td>\n",
       "      <td>0.0</td>\n",
       "      <td>0.0</td>\n",
       "      <td>0.0</td>\n",
       "      <td>0.333333</td>\n",
       "      <td>0.441689</td>\n",
       "      <td>0.383007</td>\n",
       "    </tr>\n",
       "    <tr>\n",
       "      <th>4</th>\n",
       "      <td>527356060</td>\n",
       "      <td>0</td>\n",
       "      <td>0</td>\n",
       "      <td>0</td>\n",
       "      <td>0</td>\n",
       "      <td>1</td>\n",
       "      <td>0</td>\n",
       "      <td>1</td>\n",
       "      <td>0</td>\n",
       "      <td>0</td>\n",
       "      <td>...</td>\n",
       "      <td>0.688073</td>\n",
       "      <td>0.291667</td>\n",
       "      <td>0.146770</td>\n",
       "      <td>0.364912</td>\n",
       "      <td>0.0</td>\n",
       "      <td>0.0</td>\n",
       "      <td>0.0</td>\n",
       "      <td>0.416667</td>\n",
       "      <td>0.228612</td>\n",
       "      <td>0.265523</td>\n",
       "    </tr>\n",
       "  </tbody>\n",
       "</table>\n",
       "<p>5 rows × 236 columns</p>\n",
       "</div>"
      ],
      "text/plain": [
       "         PID  MSZoning_C (all)  MSZoning_FV  MSZoning_I (all)  MSZoning_RH  \\\n",
       "0  528435050                 0            0                 0            0   \n",
       "1  527162090                 0            0                 0            0   \n",
       "2  534403370                 0            0                 0            0   \n",
       "3  534102025                 0            1                 0            0   \n",
       "4  527356060                 0            0                 0            0   \n",
       "\n",
       "   MSZoning_RL  MSZoning_RM  LotShape_Reg  LandContour_HLS  LandContour_Low  \\\n",
       "0            1            0             1                0                0   \n",
       "1            1            0             1                0                0   \n",
       "2            1            0             0                0                0   \n",
       "3            0            0             1                0                0   \n",
       "4            1            0             1                0                0   \n",
       "\n",
       "   ...  GarageYrBlt  GarageArea  WoodDeckSF  OpenPorchSF  EnclosedPorch  \\\n",
       "0  ...     0.981651    0.567204    0.000000     0.121053            0.0   \n",
       "1  ...     0.871560    0.270161    0.154494     0.036842            0.0   \n",
       "2  ...     0.587156    0.433468    0.126404     0.000000            0.0   \n",
       "3  ...     0.935780    0.400538    0.194522     0.240351            0.0   \n",
       "4  ...     0.688073    0.291667    0.146770     0.364912            0.0   \n",
       "\n",
       "   3SsnPorch  ScreenPorch  TotalBath  Bsmt_Unfin_Ratio  TotalLivArea  \n",
       "0        0.0          0.0   0.333333          0.239718      0.451634  \n",
       "1        0.0          0.0   0.166667          1.000000      0.302288  \n",
       "2        0.0          0.0   0.083333          0.499556      0.315686  \n",
       "3        0.0          0.0   0.333333          0.441689      0.383007  \n",
       "4        0.0          0.0   0.416667          0.228612      0.265523  \n",
       "\n",
       "[5 rows x 236 columns]"
      ]
     },
     "execution_count": 5,
     "metadata": {},
     "output_type": "execute_result"
    }
   ],
   "source": [
    "train_data_linear.head()"
   ]
  },
  {
   "cell_type": "markdown",
   "metadata": {},
   "source": [
    "### new calling method for our train/test split and clean\n",
    "- this will be a linear regression model\n",
    "\n",
    "only using:\n",
    "- train_data_linear, train_target_linear\n",
    "- test_data_linear, test_target_linear"
   ]
  },
  {
   "cell_type": "code",
   "execution_count": 10,
   "metadata": {},
   "outputs": [
    {
     "data": {
      "text/plain": [
       "(2060, 241)"
      ]
     },
     "execution_count": 10,
     "metadata": {},
     "output_type": "execute_result"
    }
   ],
   "source": [
    "train_data_linear.shape"
   ]
  },
  {
   "cell_type": "code",
   "execution_count": 12,
   "metadata": {
    "scrolled": true
   },
   "outputs": [
    {
     "data": {
      "text/plain": [
       "<matplotlib.axes._subplots.AxesSubplot at 0x2a48d527ee0>"
      ]
     },
     "execution_count": 12,
     "metadata": {},
     "output_type": "execute_result"
    },
    {
     "data": {
      "image/png": "[encoded data removed]",
      "text/plain": [
       "<Figure size 432x288 with 1 Axes>"
      ]
     },
     "metadata": {
      "needs_background": "light"
     },
     "output_type": "display_data"
    }
   ],
   "source": [
    "train_target_linear.hist()"
   ]
  },
  {
   "cell_type": "code",
   "execution_count": 20,
   "metadata": {},
   "outputs": [],
   "source": [
    "# need to delete PID to run the Regression models\n",
    "del train_data_linear['PID']\n",
    "del test_data_linear['PID']\n",
    "\n",
    "# model was built out using these variables so going to redefine our \n",
    "# train_data_linear, train_target_linear, test_data_linear, test_target_linear\n",
    "x_train = train_data_linear\n",
    "Y_train = train_target_linear\n",
    "\n",
    "x_test = test_data_linear\n",
    "Y_test = test_target_linear"
   ]
  },
  {
   "cell_type": "markdown",
   "metadata": {},
   "source": [
    "# Attempt on Ridge Regression\n",
    "- using our own alpharange\n",
    "- using GridSearch"
   ]
  },
  {
   "cell_type": "markdown",
   "metadata": {},
   "source": [
    "### Manually setting AlphaRange\n",
    "- selecting 1e-3 to 200 with 1000 #s as my alpha testing\n",
    "- graphs to show coefficient and R2 against alpha"
   ]
  },
  {
   "cell_type": "code",
   "execution_count": 25,
   "metadata": {},
   "outputs": [],
   "source": [
    "ridge = Ridge()"
   ]
  },
  {
   "cell_type": "code",
   "execution_count": 26,
   "metadata": {
    "scrolled": true
   },
   "outputs": [],
   "source": [
    "coefs = []\n",
    "intercepts = []\n",
    "train_R2  = []\n",
    "test_R2 = []\n",
    "alphaRange = np.linspace(1e-3,200,1000)\n",
    "for alpha in alphaRange:\n",
    "          ridge.set_params(alpha=alpha, normalize=False)  \n",
    "          ridge.fit(x_train,Y_train)\n",
    "          intercepts.append(ridge.intercept_)\n",
    "          coefs.append(ridge.coef_)\n",
    "          train_R2.append(ridge.score(x_train,Y_train))\n",
    "          test_R2.append(ridge.score(x_test,Y_test))"
   ]
  },
  {
   "cell_type": "code",
   "execution_count": 27,
   "metadata": {},
   "outputs": [],
   "source": [
    "# creating default graph settings\n",
    "plt.style.use('ggplot')\n",
    "plt.rcParams['figure.figsize'] = (7,7)"
   ]
  },
  {
   "cell_type": "markdown",
   "metadata": {},
   "source": [
    "### Trying to find optimal Alpha where train/test R2 converge\n",
    "- print out list of coefficients to compare\n",
    "- check our r-squared values for our train/test data after selecting an optimal alpha"
   ]
  },
  {
   "cell_type": "code",
   "execution_count": 30,
   "metadata": {},
   "outputs": [
    {
     "data": {
      "text/plain": [
       "<matplotlib.legend.Legend at 0x2a48f08c1f0>"
      ]
     },
     "execution_count": 30,
     "metadata": {},
     "output_type": "execute_result"
    },
    {
     "data": {
      "image/png": "[encoded data removed]",
      "text/plain": [
       "<Figure size 504x504 with 1 Axes>"
      ]
     },
     "metadata": {},
     "output_type": "display_data"
    }
   ],
   "source": [
    "plt.plot(alphaRange, train_R2, label=r'train set $R^2$')\n",
    "plt.plot(alphaRange, test_R2, label=r'test set $R^2$')\n",
    "plt.legend(loc=4)\n",
    "\n",
    "# MUCH closer than before.. less overfitting it looks like\n",
    "# assume alpha is optimal at 5?"
   ]
  },
  {
   "cell_type": "markdown",
   "metadata": {},
   "source": [
    "### List of Coefficients"
   ]
  },
  {
   "cell_type": "code",
   "execution_count": 32,
   "metadata": {},
   "outputs": [
    {
     "name": "stdout",
     "output_type": "stream",
     "text": [
      "The intercept is 11.5260\n",
      "The slopes are \n",
      " MSZoning_C (all)   -0.077292\n",
      "MSZoning_FV         0.028367\n",
      "MSZoning_I (all)    0.000000\n",
      "MSZoning_RH         0.004433\n",
      "MSZoning_RL         0.037797\n",
      "                      ...   \n",
      "EnclosedPorch       0.007772\n",
      "3SsnPorch           0.067318\n",
      "ScreenPorch         0.100195\n",
      "Bsmt_Unfin_Ratio   -0.059759\n",
      "TotalLivArea        0.304364\n",
      "Length: 240, dtype: float64\n"
     ]
    }
   ],
   "source": [
    "ridge.set_params(alpha=5)\n",
    "ridge.fit(x_test, Y_test)\n",
    "coefDF = pd.Series(ridge.coef_.reshape(-1,), index=x_test.columns) #not sure why this wasn't working\n",
    "print('The intercept is %.4f' %(ridge.intercept_))\n",
    "print('The slopes are \\n %s' %(coefDF))"
   ]
  },
  {
   "cell_type": "code",
   "execution_count": 33,
   "metadata": {},
   "outputs": [],
   "source": [
    "df_coef = pd.DataFrame(coefDF, columns = ['Coefficient'])"
   ]
  },
  {
   "cell_type": "code",
   "execution_count": 34,
   "metadata": {},
   "outputs": [
    {
     "data": {
      "text/html": [
       "<div>\n",
       "<style scoped>\n",
       "    .dataframe tbody tr th:only-of-type {\n",
       "        vertical-align: middle;\n",
       "    }\n",
       "\n",
       "    .dataframe tbody tr th {\n",
       "        vertical-align: top;\n",
       "    }\n",
       "\n",
       "    .dataframe thead th {\n",
       "        text-align: right;\n",
       "    }\n",
       "</style>\n",
       "<table border=\"1\" class=\"dataframe\">\n",
       "  <thead>\n",
       "    <tr style=\"text-align: right;\">\n",
       "      <th></th>\n",
       "      <th>Coefficient</th>\n",
       "    </tr>\n",
       "  </thead>\n",
       "  <tbody>\n",
       "    <tr>\n",
       "      <th>OverallCond_3</th>\n",
       "      <td>-0.141375</td>\n",
       "    </tr>\n",
       "    <tr>\n",
       "      <th>OverallQual_2</th>\n",
       "      <td>-0.114257</td>\n",
       "    </tr>\n",
       "    <tr>\n",
       "      <th>OverallQual_3</th>\n",
       "      <td>-0.112935</td>\n",
       "    </tr>\n",
       "    <tr>\n",
       "      <th>KitchenQual_TA</th>\n",
       "      <td>-0.102605</td>\n",
       "    </tr>\n",
       "    <tr>\n",
       "      <th>OverallQual_4</th>\n",
       "      <td>-0.102550</td>\n",
       "    </tr>\n",
       "    <tr>\n",
       "      <th>...</th>\n",
       "      <td>...</td>\n",
       "    </tr>\n",
       "    <tr>\n",
       "      <th>OverallQual_8</th>\n",
       "      <td>0.119202</td>\n",
       "    </tr>\n",
       "    <tr>\n",
       "      <th>OverallQual_10</th>\n",
       "      <td>0.122122</td>\n",
       "    </tr>\n",
       "    <tr>\n",
       "      <th>TotRmsAbvGrd</th>\n",
       "      <td>0.146279</td>\n",
       "    </tr>\n",
       "    <tr>\n",
       "      <th>GarageArea</th>\n",
       "      <td>0.180688</td>\n",
       "    </tr>\n",
       "    <tr>\n",
       "      <th>TotalLivArea</th>\n",
       "      <td>0.304364</td>\n",
       "    </tr>\n",
       "  </tbody>\n",
       "</table>\n",
       "<p>240 rows × 1 columns</p>\n",
       "</div>"
      ],
      "text/plain": [
       "                Coefficient\n",
       "OverallCond_3     -0.141375\n",
       "OverallQual_2     -0.114257\n",
       "OverallQual_3     -0.112935\n",
       "KitchenQual_TA    -0.102605\n",
       "OverallQual_4     -0.102550\n",
       "...                     ...\n",
       "OverallQual_8      0.119202\n",
       "OverallQual_10     0.122122\n",
       "TotRmsAbvGrd       0.146279\n",
       "GarageArea         0.180688\n",
       "TotalLivArea       0.304364\n",
       "\n",
       "[240 rows x 1 columns]"
      ]
     },
     "execution_count": 34,
     "metadata": {},
     "output_type": "execute_result"
    }
   ],
   "source": [
    "df_coef.sort_values(by=['Coefficient'])"
   ]
  },
  {
   "cell_type": "code",
   "execution_count": 35,
   "metadata": {},
   "outputs": [
    {
     "name": "stdout",
     "output_type": "stream",
     "text": [
      "{'alpha': 5, 'copy_X': True, 'fit_intercept': True, 'max_iter': None, 'normalize': False, 'random_state': None, 'solver': 'auto', 'tol': 0.001}\n",
      "Train R-Squared: 0.9287021785611012\n",
      "Test R-Squared: 0.9128510983394174\n"
     ]
    }
   ],
   "source": [
    "# Fit our model to the optimal alpha=5 and see what our R-Squared is\n",
    "ridge.set_params(alpha=5)\n",
    "ridge.fit(x_train, Y_train)\n",
    "print(ridge.get_params())\n",
    "print(\"Train R-Squared:\", ridge.score(x_train,Y_train))\n",
    "print(\"Test R-Squared:\", ridge.score(x_test,Y_test))"
   ]
  },
  {
   "cell_type": "markdown",
   "metadata": {},
   "source": [
    "### Using GridSearch \n",
    "- do the same as above but using GridSearch\n",
    "- setting a different alphaRange for this one, 0.001 to 100 with 1000 numbers"
   ]
  },
  {
   "cell_type": "code",
   "execution_count": 36,
   "metadata": {},
   "outputs": [],
   "source": [
    "alphaRange = np.linspace(0.001,100,1000)\n",
    "\n",
    "#setting our params using alphaRange for our GridSearch\n",
    "params = {'alpha': alphaRange, 'max_iter' : [1000000]}"
   ]
  },
  {
   "cell_type": "code",
   "execution_count": 37,
   "metadata": {},
   "outputs": [
    {
     "data": {
      "text/plain": [
       "GridSearchCV(estimator=Ridge(alpha=5),\n",
       "             param_grid={'alpha': array([1.00000000e-03, 1.01099099e-01, 2.01198198e-01, 3.01297297e-01,\n",
       "       4.01396396e-01, 5.01495495e-01, 6.01594595e-01, 7.01693694e-01,\n",
       "       8.01792793e-01, 9.01891892e-01, 1.00199099e+00, 1.10209009e+00,\n",
       "       1.20218919e+00, 1.30228829e+00, 1.40238739e+00, 1.50248649e+00,\n",
       "       1.60258559e+00, 1.70268468e+00, 1.80278378e+00,...\n",
       "       9.76977207e+01, 9.77978198e+01, 9.78979189e+01, 9.79980180e+01,\n",
       "       9.80981171e+01, 9.81982162e+01, 9.82983153e+01, 9.83984144e+01,\n",
       "       9.84985135e+01, 9.85986126e+01, 9.86987117e+01, 9.87988108e+01,\n",
       "       9.88989099e+01, 9.89990090e+01, 9.90991081e+01, 9.91992072e+01,\n",
       "       9.92993063e+01, 9.93994054e+01, 9.94995045e+01, 9.95996036e+01,\n",
       "       9.96997027e+01, 9.97998018e+01, 9.98999009e+01, 1.00000000e+02]),\n",
       "                         'max_iter': [1000000]},\n",
       "             scoring='r2')"
      ]
     },
     "execution_count": 37,
     "metadata": {},
     "output_type": "execute_result"
    }
   ],
   "source": [
    "#creating grid object\n",
    "grid = GridSearchCV(ridge, params, scoring = 'r2')\n",
    "\n",
    "#fitting it to our training data\n",
    "grid.fit(x_train, Y_train)"
   ]
  },
  {
   "cell_type": "code",
   "execution_count": 38,
   "metadata": {},
   "outputs": [
    {
     "name": "stdout",
     "output_type": "stream",
     "text": [
      "{'alpha': 1.2021891891891892, 'max_iter': 1000000}\n"
     ]
    }
   ],
   "source": [
    "print(grid.best_params_) #1.2021891891891892 is the best alpha according to gridSearch"
   ]
  },
  {
   "cell_type": "code",
   "execution_count": 66,
   "metadata": {},
   "outputs": [
    {
     "name": "stdout",
     "output_type": "stream",
     "text": [
      "{'alpha': 1.2021891891891892, 'copy_X': True, 'fit_intercept': True, 'max_iter': None, 'normalize': False, 'random_state': None, 'solver': 'auto', 'tol': 0.001}\n",
      "Train R-Squared: 0.9370541517293949\n",
      "Test R-Squared: 0.9204850197515294\n"
     ]
    }
   ],
   "source": [
    "# re-fitting our ridge using the new alpha\n",
    "ridge.set_params(alpha=1.2021891891891892)\n",
    "ridge.fit(x_train, Y_train)\n",
    "print(ridge.get_params())\n",
    "print(\"Train R-Squared:\", ridge.score(x_train,Y_train))\n",
    "print(\"Test R-Squared:\", ridge.score(x_test,Y_test))\n",
    "\n",
    "## for VotingRegressor\n",
    "ridge_optimal = Ridge(alpha=1.2021891891891892, max_iter=1000000)\n",
    "\n",
    "# testing has a 0.92!!"
   ]
  },
  {
   "cell_type": "markdown",
   "metadata": {},
   "source": [
    "# Attempt on Lasso Regression\n",
    "- trying it with setting our alpharange manually\n",
    "- then trying to see how it compares to GridSearch"
   ]
  },
  {
   "cell_type": "code",
   "execution_count": 40,
   "metadata": {},
   "outputs": [],
   "source": [
    "#create our lasso object\n",
    "lasso = Lasso()"
   ]
  },
  {
   "cell_type": "code",
   "execution_count": 41,
   "metadata": {},
   "outputs": [],
   "source": [
    "coefs1 = []\n",
    "intercepts1 = []\n",
    "train_R2a  = []\n",
    "test_R2a = []\n",
    "alphaRange1 = np.linspace(1e-3,0.03,1000)\n",
    "for alpha in alphaRange1:\n",
    "          lasso.set_params(alpha=alpha, normalize=False)  \n",
    "          lasso.fit(x_train,Y_train)\n",
    "          intercepts1.append(lasso.intercept_)\n",
    "          coefs1.append(lasso.coef_)\n",
    "          train_R2a.append(lasso.score(x_train,Y_train))\n",
    "          test_R2a.append(lasso.score(x_test,Y_test))"
   ]
  },
  {
   "cell_type": "code",
   "execution_count": 43,
   "metadata": {},
   "outputs": [
    {
     "data": {
      "text/plain": [
       "<matplotlib.legend.Legend at 0x2a48f1f7700>"
      ]
     },
     "execution_count": 43,
     "metadata": {},
     "output_type": "execute_result"
    },
    {
     "data": {
      "image/png": "[encoded data removed]",
      "text/plain": [
       "<Figure size 504x504 with 1 Axes>"
      ]
     },
     "metadata": {},
     "output_type": "display_data"
    }
   ],
   "source": [
    "plt.plot(alphaRange1, train_R2a, label=r'train set $R^2$')\n",
    "plt.plot(alphaRange1, test_R2a, label=r'test set $R^2$')\n",
    "plt.legend(loc=4)\n",
    "\n",
    "# can't really tell where Alpha is optimal, will use GridSearch\n",
    "# chart is even better after our feature selection process"
   ]
  },
  {
   "cell_type": "markdown",
   "metadata": {},
   "source": [
    "### GridSearch for Lasso"
   ]
  },
  {
   "cell_type": "code",
   "execution_count": 44,
   "metadata": {},
   "outputs": [],
   "source": [
    "alphaRange1 = np.linspace(1e-3,0.05,1000)\n",
    "\n",
    "#setting our params using alphaRange for our GridSearch\n",
    "params1 = {'alpha': alphaRange1, 'max_iter' : [1000000]}"
   ]
  },
  {
   "cell_type": "code",
   "execution_count": 45,
   "metadata": {},
   "outputs": [
    {
     "data": {
      "text/plain": [
       "GridSearchCV(estimator=Lasso(alpha=0.03),\n",
       "             param_grid={'alpha': array([0.001     , 0.00104905, 0.0010981 , 0.00114715, 0.0011962 ,\n",
       "       0.00124525, 0.00129429, 0.00134334, 0.00139239, 0.00144144,\n",
       "       0.00149049, 0.00153954, 0.00158859, 0.00163764, 0.00168669,\n",
       "       0.00173574, 0.00178478, 0.00183383, 0.00188288, 0.00193193,\n",
       "       0.00198098, 0.00203003, 0.00207908, 0.00212813, 0.00217718,\n",
       "       0.00222623, 0.0...\n",
       "       0.04857758, 0.04862663, 0.04867568, 0.04872472, 0.04877377,\n",
       "       0.04882282, 0.04887187, 0.04892092, 0.04896997, 0.04901902,\n",
       "       0.04906807, 0.04911712, 0.04916617, 0.04921522, 0.04926426,\n",
       "       0.04931331, 0.04936236, 0.04941141, 0.04946046, 0.04950951,\n",
       "       0.04955856, 0.04960761, 0.04965666, 0.04970571, 0.04975475,\n",
       "       0.0498038 , 0.04985285, 0.0499019 , 0.04995095, 0.05      ]),\n",
       "                         'max_iter': [1000000]},\n",
       "             scoring='r2')"
      ]
     },
     "execution_count": 45,
     "metadata": {},
     "output_type": "execute_result"
    }
   ],
   "source": [
    "#creating grid object\n",
    "grid1 = GridSearchCV(lasso, params1, scoring = 'r2')\n",
    "\n",
    "#fitting it to our training data\n",
    "grid1.fit(x_train, Y_train)"
   ]
  },
  {
   "cell_type": "code",
   "execution_count": 46,
   "metadata": {},
   "outputs": [
    {
     "name": "stdout",
     "output_type": "stream",
     "text": [
      "{'alpha': 0.001, 'max_iter': 1000000}\n"
     ]
    }
   ],
   "source": [
    "print(grid1.best_params_) #0.001 is the best alpha according to gridSearch"
   ]
  },
  {
   "cell_type": "code",
   "execution_count": 65,
   "metadata": {},
   "outputs": [
    {
     "name": "stdout",
     "output_type": "stream",
     "text": [
      "{'alpha': 0.001, 'copy_X': True, 'fit_intercept': True, 'max_iter': 1000, 'normalize': False, 'positive': False, 'precompute': False, 'random_state': None, 'selection': 'cyclic', 'tol': 0.0001, 'warm_start': False}\n",
      "Train R-Squared: 0.914043194405753\n",
      "Test R-Squared: 0.9106487870168924\n"
     ]
    }
   ],
   "source": [
    "# re-fitting our lasso using the new alpha\n",
    "lasso.set_params(alpha=0.001)\n",
    "lasso.fit(x_train, Y_train)\n",
    "print(lasso.get_params())\n",
    "print(\"Train R-Squared:\", lasso.score(x_train,Y_train))\n",
    "print(\"Test R-Squared:\", lasso.score(x_test,Y_test))\n",
    "\n",
    "## for VotingRegressor\n",
    "lasso_optimal = Lasso(alpha=0.001, max_iter=1000000)\n",
    "\n",
    "# ridge is much better"
   ]
  },
  {
   "cell_type": "code",
   "execution_count": 49,
   "metadata": {},
   "outputs": [
    {
     "name": "stdout",
     "output_type": "stream",
     "text": [
      "The intercept is 11.2508\n",
      "The slopes are \n",
      " MSZoning_C (all)   -0.022037\n",
      "MSZoning_FV         0.029596\n",
      "MSZoning_I (all)   -0.000000\n",
      "MSZoning_RH         0.000000\n",
      "MSZoning_RL         0.062375\n",
      "                      ...   \n",
      "EnclosedPorch       0.000000\n",
      "3SsnPorch           0.000000\n",
      "ScreenPorch         0.028740\n",
      "Bsmt_Unfin_Ratio   -0.073196\n",
      "TotalLivArea        1.422517\n",
      "Length: 240, dtype: float64\n"
     ]
    }
   ],
   "source": [
    "coefDF1 = pd.Series(lasso.coef_.reshape(-1,), index=x_train.columns)\n",
    "print('The intercept is %.4f' %(lasso.intercept_))\n",
    "print('The slopes are \\n %s' %(coefDF1))"
   ]
  },
  {
   "cell_type": "code",
   "execution_count": 50,
   "metadata": {},
   "outputs": [
    {
     "data": {
      "text/html": [
       "<div>\n",
       "<style scoped>\n",
       "    .dataframe tbody tr th:only-of-type {\n",
       "        vertical-align: middle;\n",
       "    }\n",
       "\n",
       "    .dataframe tbody tr th {\n",
       "        vertical-align: top;\n",
       "    }\n",
       "\n",
       "    .dataframe thead th {\n",
       "        text-align: right;\n",
       "    }\n",
       "</style>\n",
       "<table border=\"1\" class=\"dataframe\">\n",
       "  <thead>\n",
       "    <tr style=\"text-align: right;\">\n",
       "      <th></th>\n",
       "      <th>Coefficient</th>\n",
       "    </tr>\n",
       "  </thead>\n",
       "  <tbody>\n",
       "    <tr>\n",
       "      <th>OverallQual_2</th>\n",
       "      <td>-0.234161</td>\n",
       "    </tr>\n",
       "    <tr>\n",
       "      <th>OverallCond_3</th>\n",
       "      <td>-0.121634</td>\n",
       "    </tr>\n",
       "    <tr>\n",
       "      <th>OverallQual_4</th>\n",
       "      <td>-0.091844</td>\n",
       "    </tr>\n",
       "    <tr>\n",
       "      <th>OverallCond_2</th>\n",
       "      <td>-0.089411</td>\n",
       "    </tr>\n",
       "    <tr>\n",
       "      <th>ExterCond_Fa</th>\n",
       "      <td>-0.086522</td>\n",
       "    </tr>\n",
       "    <tr>\n",
       "      <th>...</th>\n",
       "      <td>...</td>\n",
       "    </tr>\n",
       "    <tr>\n",
       "      <th>YearRemodAdd</th>\n",
       "      <td>0.098528</td>\n",
       "    </tr>\n",
       "    <tr>\n",
       "      <th>Neighborhood_Crawfor</th>\n",
       "      <td>0.105586</td>\n",
       "    </tr>\n",
       "    <tr>\n",
       "      <th>OverallQual_9</th>\n",
       "      <td>0.179233</td>\n",
       "    </tr>\n",
       "    <tr>\n",
       "      <th>GarageArea</th>\n",
       "      <td>0.219387</td>\n",
       "    </tr>\n",
       "    <tr>\n",
       "      <th>TotalLivArea</th>\n",
       "      <td>1.422517</td>\n",
       "    </tr>\n",
       "  </tbody>\n",
       "</table>\n",
       "<p>240 rows × 1 columns</p>\n",
       "</div>"
      ],
      "text/plain": [
       "                      Coefficient\n",
       "OverallQual_2           -0.234161\n",
       "OverallCond_3           -0.121634\n",
       "OverallQual_4           -0.091844\n",
       "OverallCond_2           -0.089411\n",
       "ExterCond_Fa            -0.086522\n",
       "...                           ...\n",
       "YearRemodAdd             0.098528\n",
       "Neighborhood_Crawfor     0.105586\n",
       "OverallQual_9            0.179233\n",
       "GarageArea               0.219387\n",
       "TotalLivArea             1.422517\n",
       "\n",
       "[240 rows x 1 columns]"
      ]
     },
     "execution_count": 50,
     "metadata": {},
     "output_type": "execute_result"
    }
   ],
   "source": [
    "df_coef1 = pd.DataFrame(coefDF1, columns = ['Coefficient']).sort_values(by=['Coefficient'])\n",
    "df_coef1"
   ]
  },
  {
   "cell_type": "code",
   "execution_count": 51,
   "metadata": {
    "scrolled": true
   },
   "outputs": [
    {
     "name": "stdout",
     "output_type": "stream",
     "text": [
      "(240, 1)\n",
      "(150, 1)\n"
     ]
    },
    {
     "data": {
      "text/html": [
       "<div>\n",
       "<style scoped>\n",
       "    .dataframe tbody tr th:only-of-type {\n",
       "        vertical-align: middle;\n",
       "    }\n",
       "\n",
       "    .dataframe tbody tr th {\n",
       "        vertical-align: top;\n",
       "    }\n",
       "\n",
       "    .dataframe thead th {\n",
       "        text-align: right;\n",
       "    }\n",
       "</style>\n",
       "<table border=\"1\" class=\"dataframe\">\n",
       "  <thead>\n",
       "    <tr style=\"text-align: right;\">\n",
       "      <th></th>\n",
       "      <th>Coefficient</th>\n",
       "    </tr>\n",
       "  </thead>\n",
       "  <tbody>\n",
       "    <tr>\n",
       "      <th>Functional_Mod</th>\n",
       "      <td>0.0</td>\n",
       "    </tr>\n",
       "    <tr>\n",
       "      <th>Functional_Min2</th>\n",
       "      <td>0.0</td>\n",
       "    </tr>\n",
       "    <tr>\n",
       "      <th>FireplaceQu_Fa</th>\n",
       "      <td>-0.0</td>\n",
       "    </tr>\n",
       "    <tr>\n",
       "      <th>Functional_Min1</th>\n",
       "      <td>-0.0</td>\n",
       "    </tr>\n",
       "    <tr>\n",
       "      <th>Functional_Maj2</th>\n",
       "      <td>-0.0</td>\n",
       "    </tr>\n",
       "    <tr>\n",
       "      <th>...</th>\n",
       "      <td>...</td>\n",
       "    </tr>\n",
       "    <tr>\n",
       "      <th>Exterior1st_ImStucc</th>\n",
       "      <td>0.0</td>\n",
       "    </tr>\n",
       "    <tr>\n",
       "      <th>BsmtQual_Po</th>\n",
       "      <td>-0.0</td>\n",
       "    </tr>\n",
       "    <tr>\n",
       "      <th>Exterior1st_Plywood</th>\n",
       "      <td>-0.0</td>\n",
       "    </tr>\n",
       "    <tr>\n",
       "      <th>Exterior1st_Stucco</th>\n",
       "      <td>0.0</td>\n",
       "    </tr>\n",
       "    <tr>\n",
       "      <th>Exterior1st_WdShing</th>\n",
       "      <td>0.0</td>\n",
       "    </tr>\n",
       "  </tbody>\n",
       "</table>\n",
       "<p>150 rows × 1 columns</p>\n",
       "</div>"
      ],
      "text/plain": [
       "                     Coefficient\n",
       "Functional_Mod               0.0\n",
       "Functional_Min2              0.0\n",
       "FireplaceQu_Fa              -0.0\n",
       "Functional_Min1             -0.0\n",
       "Functional_Maj2             -0.0\n",
       "...                          ...\n",
       "Exterior1st_ImStucc          0.0\n",
       "BsmtQual_Po                 -0.0\n",
       "Exterior1st_Plywood         -0.0\n",
       "Exterior1st_Stucco           0.0\n",
       "Exterior1st_WdShing          0.0\n",
       "\n",
       "[150 rows x 1 columns]"
      ]
     },
     "execution_count": 51,
     "metadata": {},
     "output_type": "execute_result"
    }
   ],
   "source": [
    "# let's all find all the 0 coefficients\n",
    "print(df_coef1.shape)\n",
    "print(df_coef1[df_coef1['Coefficient'] == 0].shape)\n",
    "df_coef1[df_coef1['Coefficient'] == 0]"
   ]
  },
  {
   "cell_type": "markdown",
   "metadata": {},
   "source": [
    "# Attempt on ElasticNet\n",
    "- repeating analysis with ElasticNet\n",
    "- using GridSearch"
   ]
  },
  {
   "cell_type": "code",
   "execution_count": 52,
   "metadata": {},
   "outputs": [],
   "source": [
    "#create our lasso object\n",
    "enet = ElasticNet()"
   ]
  },
  {
   "cell_type": "markdown",
   "metadata": {},
   "source": [
    "### ElasticNet with GridSearch"
   ]
  },
  {
   "cell_type": "code",
   "execution_count": 53,
   "metadata": {},
   "outputs": [],
   "source": [
    "#what we used previously\n",
    "alphaSize = 200\n",
    "rhoSize = 10\n",
    "alphaRange2 = np.linspace(1e-3,100, alphaSize)\n",
    "rhoRange = np.linspace(0.01, 1, rhoSize)\n",
    "\n",
    "\n",
    "#setting our params using alphaRange for our GridSearch\n",
    "params2 = {'alpha': alphaRange2, 'l1_ratio': rhoRange, 'max_iter' : [1000000]}"
   ]
  },
  {
   "cell_type": "code",
   "execution_count": 54,
   "metadata": {},
   "outputs": [
    {
     "data": {
      "text/plain": [
       "GridSearchCV(estimator=ElasticNet(),\n",
       "             param_grid={'alpha': array([1.00000000e-03, 5.03507538e-01, 1.00601508e+00, 1.50852261e+00,\n",
       "       2.01103015e+00, 2.51353769e+00, 3.01604523e+00, 3.51855276e+00,\n",
       "       4.02106030e+00, 4.52356784e+00, 5.02607538e+00, 5.52858291e+00,\n",
       "       6.03109045e+00, 6.53359799e+00, 7.03610553e+00, 7.53861307e+00,\n",
       "       8.04112060e+00, 8.54362814e+00, 9.04613568e+00, 9....\n",
       "       9.04523568e+01, 9.09548643e+01, 9.14573719e+01, 9.19598794e+01,\n",
       "       9.24623869e+01, 9.29648945e+01, 9.34674020e+01, 9.39699095e+01,\n",
       "       9.44724171e+01, 9.49749246e+01, 9.54774322e+01, 9.59799397e+01,\n",
       "       9.64824472e+01, 9.69849548e+01, 9.74874623e+01, 9.79899698e+01,\n",
       "       9.84924774e+01, 9.89949849e+01, 9.94974925e+01, 1.00000000e+02]),\n",
       "                         'l1_ratio': array([0.01, 0.12, 0.23, 0.34, 0.45, 0.56, 0.67, 0.78, 0.89, 1.  ]),\n",
       "                         'max_iter': [1000000]},\n",
       "             scoring='r2')"
      ]
     },
     "execution_count": 54,
     "metadata": {},
     "output_type": "execute_result"
    }
   ],
   "source": [
    "#creating grid object\n",
    "grid2 = GridSearchCV(enet, params2, scoring = 'r2')\n",
    "\n",
    "#fitting it to our training data\n",
    "grid2.fit(x_train, Y_train)"
   ]
  },
  {
   "cell_type": "code",
   "execution_count": 55,
   "metadata": {},
   "outputs": [
    {
     "name": "stdout",
     "output_type": "stream",
     "text": [
      "{'alpha': 0.001, 'l1_ratio': 0.12, 'max_iter': 1000000}\n"
     ]
    }
   ],
   "source": [
    "print(grid2.best_params_) #0.001 is the best alpha with a l1_ratio of 0.12"
   ]
  },
  {
   "cell_type": "code",
   "execution_count": 63,
   "metadata": {},
   "outputs": [
    {
     "name": "stdout",
     "output_type": "stream",
     "text": [
      "{'alpha': 0.001, 'copy_X': True, 'fit_intercept': True, 'l1_ratio': 0.12, 'max_iter': 1000, 'normalize': False, 'positive': False, 'precompute': False, 'random_state': None, 'selection': 'cyclic', 'tol': 0.0001, 'warm_start': False}\n",
      "Train R-Squared: 0.9327518555300054\n",
      "Test R-Squared: 0.9189905558626879\n"
     ]
    }
   ],
   "source": [
    "# re-fitting our ElasticNet using the new alpha and rho\n",
    "enet.set_params(alpha=0.001, l1_ratio=0.12)\n",
    "enet.fit(x_train, Y_train)\n",
    "print(enet.get_params())\n",
    "print(\"Train R-Squared:\", enet.score(x_train,Y_train))\n",
    "print(\"Test R-Squared:\", enet.score(x_test,Y_test))\n",
    "\n",
    "## for VotingRegressor\n",
    "enet_optimal = ElasticNet(alpha=0.001, l1_ratio=0.12, max_iter=1000000)\n",
    "\n",
    "# Ridge is the winner"
   ]
  },
  {
   "cell_type": "markdown",
   "metadata": {},
   "source": [
    "### VotingRegressor\n",
    "- using the VotingRegressor with Lasso, Ridge and ElasticNet\n",
    "\n",
    "\n",
    "#### VotingRegressor:\n",
    "- Prediction voting regressor for unfitted estimators.\n",
    "- A voting regressor is an ensemble meta-estimator that fits several base regressors, each on the whole dataset. Then it averages the individual predictions to form a final prediction."
   ]
  },
  {
   "cell_type": "code",
   "execution_count": 68,
   "metadata": {},
   "outputs": [
    {
     "data": {
      "text/plain": [
       "0.9211677378415517"
      ]
     },
     "execution_count": 68,
     "metadata": {},
     "output_type": "execute_result"
    }
   ],
   "source": [
    "vr = VotingRegressor([('lasso', lasso_optimal), ('ridge', ridge_optimal), ('elasticnet', enet_optimal)])\n",
    "\n",
    "vr.fit(x_train, Y_train)\n",
    "vr.score(x_test, Y_test)"
   ]
  },
  {
   "cell_type": "code",
   "execution_count": null,
   "metadata": {},
   "outputs": [],
   "source": []
  }
 ],
 "metadata": {
  "kernelspec": {
   "display_name": "Python 3",
   "language": "python",
   "name": "python3"
  },
  "language_info": {
   "codemirror_mode": {
    "name": "ipython",
    "version": 3
   },
   "file_extension": ".py",
   "mimetype": "text/x-python",
   "name": "python",
   "nbconvert_exporter": "python",
   "pygments_lexer": "ipython3",
   "version": "3.8.3"
  }
 },
 "nbformat": 4,
 "nbformat_minor": 4
}

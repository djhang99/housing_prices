{
 "cells": [
  {
   "cell_type": "markdown",
   "metadata": {},
   "source": [
    "# Housing Regression Maching Learning Project"
   ]
  },
  {
   "cell_type": "markdown",
   "metadata": {},
   "source": [
    "### Imports (Data and Packages)"
   ]
  },
  {
   "cell_type": "code",
   "execution_count": 238,
   "metadata": {},
   "outputs": [],
   "source": [
    "import numpy as np\n",
    "import pandas as pd\n",
    "import seaborn as sns\n",
    "import matplotlib.pyplot as plt\n",
    "from sklearn.pipeline import Pipeline\n",
    "from data_preprocessing_final import cleaning, dummify, scale_data, ord_encoding, initiate_data\n",
    "from sklearn.preprocessing import StandardScaler, MinMaxScaler, OrdinalEncoder\n",
    "from sklearn.model_selection import train_test_split, GridSearchCV, KFold\n",
    "from sklearn.tree import DecisionTreeClassifier, DecisionTreeRegressor, plot_tree\n",
    "from sklearn.ensemble import RandomForestRegressor\n",
    "from sklearn.metrics import mean_squared_error\n",
    "%matplotlib inline "
   ]
  },
  {
   "cell_type": "code",
   "execution_count": 239,
   "metadata": {},
   "outputs": [],
   "source": [
    "housing = pd.read_csv('./data/Ames_Housing_Price_Data.csv', index_col=0)\n",
    "housing = housing[housing['SaleCondition'] == 'Normal']\n",
    "train_data_linear, train_target_linear, test_data_linear, test_target_linear, train_data_tree, train_target_tree, test_data_tree, test_target_tree = initiate_data(housing)\n"
   ]
  },
  {
   "cell_type": "markdown",
   "metadata": {},
   "source": [
    "### Lasso Regression"
   ]
  },
  {
   "cell_type": "code",
   "execution_count": 240,
   "metadata": {},
   "outputs": [],
   "source": [
    "## Working on Lasso Regression\n",
    "from sklearn.linear_model import Lasso\n",
    "lasso = Lasso()"
   ]
  },
  {
   "cell_type": "code",
   "execution_count": 241,
   "metadata": {},
   "outputs": [],
   "source": [
    "alphaRange = np.linspace(0,0.0005,5)\n",
    "params = {'alpha': alphaRange, 'max_iter' : [10000]}"
   ]
  },
  {
   "cell_type": "code",
   "execution_count": 242,
   "metadata": {},
   "outputs": [
    {
     "name": "stderr",
     "output_type": "stream",
     "text": [
      "C:\\Users\\jackc\\anaconda3\\lib\\site-packages\\sklearn\\model_selection\\_validation.py:593: UserWarning: With alpha=0, this algorithm does not converge well. You are advised to use the LinearRegression estimator\n",
      "  estimator.fit(X_train, y_train, **fit_params)\n",
      "C:\\Users\\jackc\\anaconda3\\lib\\site-packages\\sklearn\\linear_model\\_coordinate_descent.py:530: UserWarning: Coordinate descent with no regularization may lead to unexpected results and is discouraged.\n",
      "  model = cd_fast.enet_coordinate_descent(\n",
      "C:\\Users\\jackc\\anaconda3\\lib\\site-packages\\sklearn\\linear_model\\_coordinate_descent.py:530: ConvergenceWarning: Objective did not converge. You might want to increase the number of iterations. Duality gap: 3.9699060489539377, tolerance: 0.021091979940010448\n",
      "  model = cd_fast.enet_coordinate_descent(\n",
      "C:\\Users\\jackc\\anaconda3\\lib\\site-packages\\sklearn\\model_selection\\_validation.py:593: UserWarning: With alpha=0, this algorithm does not converge well. You are advised to use the LinearRegression estimator\n",
      "  estimator.fit(X_train, y_train, **fit_params)\n",
      "C:\\Users\\jackc\\anaconda3\\lib\\site-packages\\sklearn\\linear_model\\_coordinate_descent.py:530: UserWarning: Coordinate descent with no regularization may lead to unexpected results and is discouraged.\n",
      "  model = cd_fast.enet_coordinate_descent(\n",
      "C:\\Users\\jackc\\anaconda3\\lib\\site-packages\\sklearn\\linear_model\\_coordinate_descent.py:530: ConvergenceWarning: Objective did not converge. You might want to increase the number of iterations. Duality gap: 4.309322637907146, tolerance: 0.02138191850283444\n",
      "  model = cd_fast.enet_coordinate_descent(\n",
      "C:\\Users\\jackc\\anaconda3\\lib\\site-packages\\sklearn\\model_selection\\_validation.py:593: UserWarning: With alpha=0, this algorithm does not converge well. You are advised to use the LinearRegression estimator\n",
      "  estimator.fit(X_train, y_train, **fit_params)\n",
      "C:\\Users\\jackc\\anaconda3\\lib\\site-packages\\sklearn\\linear_model\\_coordinate_descent.py:530: UserWarning: Coordinate descent with no regularization may lead to unexpected results and is discouraged.\n",
      "  model = cd_fast.enet_coordinate_descent(\n",
      "C:\\Users\\jackc\\anaconda3\\lib\\site-packages\\sklearn\\linear_model\\_coordinate_descent.py:530: ConvergenceWarning: Objective did not converge. You might want to increase the number of iterations. Duality gap: 4.0228562960022085, tolerance: 0.02113459704014632\n",
      "  model = cd_fast.enet_coordinate_descent(\n",
      "C:\\Users\\jackc\\anaconda3\\lib\\site-packages\\sklearn\\model_selection\\_validation.py:593: UserWarning: With alpha=0, this algorithm does not converge well. You are advised to use the LinearRegression estimator\n",
      "  estimator.fit(X_train, y_train, **fit_params)\n",
      "C:\\Users\\jackc\\anaconda3\\lib\\site-packages\\sklearn\\linear_model\\_coordinate_descent.py:530: UserWarning: Coordinate descent with no regularization may lead to unexpected results and is discouraged.\n",
      "  model = cd_fast.enet_coordinate_descent(\n",
      "C:\\Users\\jackc\\anaconda3\\lib\\site-packages\\sklearn\\linear_model\\_coordinate_descent.py:530: ConvergenceWarning: Objective did not converge. You might want to increase the number of iterations. Duality gap: 4.396683646559273, tolerance: 0.021193084766415404\n",
      "  model = cd_fast.enet_coordinate_descent(\n",
      "C:\\Users\\jackc\\anaconda3\\lib\\site-packages\\sklearn\\model_selection\\_validation.py:593: UserWarning: With alpha=0, this algorithm does not converge well. You are advised to use the LinearRegression estimator\n",
      "  estimator.fit(X_train, y_train, **fit_params)\n",
      "C:\\Users\\jackc\\anaconda3\\lib\\site-packages\\sklearn\\linear_model\\_coordinate_descent.py:530: UserWarning: Coordinate descent with no regularization may lead to unexpected results and is discouraged.\n",
      "  model = cd_fast.enet_coordinate_descent(\n",
      "C:\\Users\\jackc\\anaconda3\\lib\\site-packages\\sklearn\\linear_model\\_coordinate_descent.py:530: ConvergenceWarning: Objective did not converge. You might want to increase the number of iterations. Duality gap: 4.449697024532709, tolerance: 0.020733324637823222\n",
      "  model = cd_fast.enet_coordinate_descent(\n"
     ]
    },
    {
     "data": {
      "text/plain": [
       "GridSearchCV(cv=5, estimator=Lasso(),\n",
       "             param_grid={'alpha': array([0.      , 0.000125, 0.00025 , 0.000375, 0.0005  ]),\n",
       "                         'max_iter': [10000]},\n",
       "             scoring='r2')"
      ]
     },
     "execution_count": 242,
     "metadata": {},
     "output_type": "execute_result"
    }
   ],
   "source": [
    "gs = GridSearchCV(lasso, params, scoring = 'r2', cv=5)\n",
    "gs.fit(train_data_linear, train_target_linear)"
   ]
  },
  {
   "cell_type": "code",
   "execution_count": 243,
   "metadata": {},
   "outputs": [
    {
     "data": {
      "text/plain": [
       "{'alpha': 0.000125, 'max_iter': 10000}"
      ]
     },
     "execution_count": 243,
     "metadata": {},
     "output_type": "execute_result"
    }
   ],
   "source": [
    "gs.best_params_"
   ]
  },
  {
   "cell_type": "code",
   "execution_count": 244,
   "metadata": {},
   "outputs": [
    {
     "data": {
      "text/plain": [
       "0.9545579884273443"
      ]
     },
     "execution_count": 244,
     "metadata": {},
     "output_type": "execute_result"
    }
   ],
   "source": [
    "gs.score(train_data_linear, train_target_linear)"
   ]
  },
  {
   "cell_type": "code",
   "execution_count": 245,
   "metadata": {},
   "outputs": [
    {
     "data": {
      "text/plain": [
       "0.9264335892752044"
      ]
     },
     "execution_count": 245,
     "metadata": {},
     "output_type": "execute_result"
    }
   ],
   "source": [
    "gs.score(test_data_linear, test_target_linear)\n"
   ]
  },
  {
   "cell_type": "code",
   "execution_count": 246,
   "metadata": {},
   "outputs": [],
   "source": [
    "predict = gs.predict(test_data_linear)\n",
    "predict = pd.DataFrame(predict)\n",
    "predict.columns = ['Prediction']"
   ]
  },
  {
   "cell_type": "code",
   "execution_count": null,
   "metadata": {},
   "outputs": [],
   "source": [
    "gs.best_estimator_.fit"
   ]
  },
  {
   "cell_type": "code",
   "execution_count": 280,
   "metadata": {},
   "outputs": [
    {
     "data": {
      "text/plain": [
       "[(1.1709392269564218, 'TotalLivArea'),\n",
       " (0.36889936776743576, 'Neighborhood_GrnHill'),\n",
       " (0.33541916720049003, 'LotArea'),\n",
       " (0.2574780935790777, 'OverallQual_10'),\n",
       " (0.22053324905373467, 'OverallQual_9'),\n",
       " (0.21177860249090497, 'GarageArea'),\n",
       " (0.20105311297850126, 'YearBuilt'),\n",
       " (0.13953074035421997, 'OverallQual_8'),\n",
       " (0.10304244632089829, 'OverallCond_9'),\n",
       " (0.09829152612963223, 'Neighborhood_Crawfor'),\n",
       " (0.09584294755237903, 'ScreenPorch'),\n",
       " (0.09357280151801396, 'LotFrontage'),\n",
       " (0.08426958805739247, 'MSZoning_FV'),\n",
       " (0.08343669595424139, 'MSSubClass_75'),\n",
       " (0.0826590070951037, 'Exterior1st_BrkFace'),\n",
       " (0.0824399196246224, 'OverallQual_7'),\n",
       " (0.07792391118915692, 'OverallCond_8'),\n",
       " (0.07057881717574435, 'OverallCond_7'),\n",
       " (0.062456016655503266, 'Fireplaces'),\n",
       " (0.062371379397394205, 'MSZoning_RL'),\n",
       " (0.055544087972762765, 'YearRemodAdd'),\n",
       " (0.05132941918547054, 'GarageType_BuiltIn'),\n",
       " (0.050658039823662564, 'Condition1_PosN'),\n",
       " (0.05022681058911188, 'Exterior1st_BrkComm'),\n",
       " (0.04954633181701721, 'Condition1_Norm'),\n",
       " (0.04881554287220024, 'Neighborhood_Veenker'),\n",
       " (0.04720240362833246, 'Functional_Typ'),\n",
       " (0.04678182142906687, 'MasVnrArea'),\n",
       " (0.04613183529482575, 'Neighborhood_ClearCr'),\n",
       " (0.04527601201921221, 'HouseStyle_2Story'),\n",
       " (0.04490509753847796, 'Neighborhood_StoneBr'),\n",
       " (0.04369692776485681, 'CentralAir_Y'),\n",
       " (0.04367888611786105, 'WoodDeckSF'),\n",
       " (0.04321918275389811, 'OpenPorchSF'),\n",
       " (0.042591718011388106, 'BsmtFinType2_GLQ'),\n",
       " (0.04245735446190352, 'GarageType_Attchd'),\n",
       " (0.03991464679470656, 'BsmtCond_Gd'),\n",
       " (0.03896736156162083, 'Neighborhood_Somerst'),\n",
       " (0.03658706015727899, 'OverallQual_6'),\n",
       " (0.03483121247549851, 'Neighborhood_NoRidge'),\n",
       " (0.032550642755947136, 'HouseStyle_SLvl'),\n",
       " (0.03172177697019934, 'BsmtExposure_Gd'),\n",
       " (0.031383695392571236, 'GarageYrBlt'),\n",
       " (0.031105856817200364, 'LotConfig_CulDSac'),\n",
       " (0.030160885208162885, 'GarageType_Detchd'),\n",
       " (0.028999022758424108, 'Condition1_PosA'),\n",
       " (0.028668809774346757, 'Neighborhood_BrkSide'),\n",
       " (0.02709770053895934, 'Neighborhood_NridgHt'),\n",
       " (0.02620213973541946, 'MSSubClass_50'),\n",
       " (0.025224881442217722, 'EnclosedPorch'),\n",
       " (0.024466218583842306, 'Exterior1st_MetalSd'),\n",
       " (0.022052656574072925, 'FireplaceQu_Gd'),\n",
       " (0.022038865746695724, 'OverallCond_6'),\n",
       " (0.0203996098577959, 'Foundation_PConc'),\n",
       " (0.018964606791443617, 'TotRmsAbvGrd'),\n",
       " (0.018618266251824084, 'Exterior2nd_Stucco'),\n",
       " (0.017523052387122075, 'PavedDrive_Y'),\n",
       " (0.016200173355480907, 'Exterior1st_WdShing'),\n",
       " (0.016183080455382987, 'BsmtFinType2_Unf'),\n",
       " (0.014743671647484326, 'MSSubClass_70'),\n",
       " (0.014644803806179456, 'FireplaceQu_TA'),\n",
       " (0.012629983267438331, 'Functional_Min1'),\n",
       " (0.012574808502013117, 'Exterior2nd_VinylSd'),\n",
       " (0.012027515470092941, 'HouseStyle_SFoyer'),\n",
       " (0.011670548258411358, 'MSSubClass_20'),\n",
       " (0.01087877498750939, 'MoSold_7'),\n",
       " (0.010214742213944956, 'Exterior1st_Stucco'),\n",
       " (0.009680194848712263, 'MoSold_9'),\n",
       " (0.009428063737244717, 'BsmtCond_TA'),\n",
       " (0.009317435717253901, 'LandContour_HLS'),\n",
       " (0.009094805882622818, 'BsmtFinType1_GLQ'),\n",
       " (0.008905426852688109, 'Neighborhood_Gilbert'),\n",
       " (0.007764390017982926, 'Functional_Min2'),\n",
       " (0.0077387811169032615, 'Exterior2nd_CmentBd'),\n",
       " (0.00670995674777177, 'Foundation_CBlock'),\n",
       " (0.00666012661191393, 'BedroomAbvGr'),\n",
       " (0.006365235127541305, 'LotConfig_Inside'),\n",
       " (0.0062890905262416655, 'LandSlope_Mod'),\n",
       " (0.00604033967590593, 'Exterior2nd_Wd Sdng'),\n",
       " (0.0057568942754949075, 'MasVnrType_Stone'),\n",
       " (0.0054337219561152285, 'MoSold_8'),\n",
       " (0.003526562549950605, 'RoofStyle_Other'),\n",
       " (0.0025170365283622804, 'LandContour_Lvl'),\n",
       " (0.002352047264456086, 'MSSubClass_85'),\n",
       " (0.0021983371704895455, 'ExterCond_TA'),\n",
       " (0.001944824636674483, 'Exterior2nd_Brk Cmn'),\n",
       " (0.001186085663017971, 'MasVnrType_BrkFace'),\n",
       " (7.904251158581195e-11, 'PID'),\n",
       " (-0.0, 'MSZoning_I (all)'),\n",
       " (0.0, 'MSZoning_RH'),\n",
       " (-0.0, 'MSZoning_RM'),\n",
       " (-0.0, 'LandContour_Low'),\n",
       " (-0.0, 'LotConfig_FR3'),\n",
       " (0.0, 'Neighborhood_Blueste'),\n",
       " (-0.0, 'Neighborhood_BrDale'),\n",
       " (0.0, 'Neighborhood_Greens'),\n",
       " (0.0, 'Neighborhood_IDOTRR'),\n",
       " (0.0, 'Neighborhood_Landmrk'),\n",
       " (0.0, 'Neighborhood_NPkVill'),\n",
       " (-0.0, 'Neighborhood_NWAmes'),\n",
       " (0.0, 'Condition1_Feedr'),\n",
       " (-0.0, 'Condition1_RRAe'),\n",
       " (0.0, 'Condition1_RRAn'),\n",
       " (0.0, 'Condition1_RRNe'),\n",
       " (0.0, 'Condition1_RRNn'),\n",
       " (-0.0, 'BldgType_2fmCon'),\n",
       " (0.0, 'BldgType_TwnhsE'),\n",
       " (-0.0, 'HouseStyle_1.5Unf'),\n",
       " (0.0, 'HouseStyle_2.5Fin'),\n",
       " (0.0, 'HouseStyle_2.5Unf'),\n",
       " (0.0, 'Exterior1st_AsphShn'),\n",
       " (-0.0, 'Exterior1st_CBlock'),\n",
       " (0.0, 'Exterior1st_CemntBd'),\n",
       " (-0.0, 'Exterior1st_ImStucc'),\n",
       " (-0.0, 'Exterior1st_Plywood'),\n",
       " (-0.0, 'Exterior1st_Wd Sdng'),\n",
       " (0.0, 'Exterior2nd_AsphShn'),\n",
       " (0.0, 'Exterior2nd_CBlock'),\n",
       " (-0.0, 'Exterior2nd_HdBoard'),\n",
       " (0.0, 'Exterior2nd_Stone'),\n",
       " (0.0, 'Exterior2nd_Wd Shng'),\n",
       " (-0.0, 'ExterQual_Fa'),\n",
       " (-0.0, 'ExterCond_Gd'),\n",
       " (0.0, 'ExterCond_Po'),\n",
       " (-0.0, 'Foundation_Slab'),\n",
       " (0.0, 'Foundation_Stone'),\n",
       " (0.0, 'BsmtQual_No_Basement'),\n",
       " (0.0, 'BsmtQual_Po'),\n",
       " (-0.0, 'BsmtCond_Fa'),\n",
       " (-0.0, 'BsmtCond_No_Basement'),\n",
       " (-0.0, 'BsmtCond_Po'),\n",
       " (-0.0, 'BsmtExposure_No_Basement'),\n",
       " (0.0, 'BsmtFinType1_No_Basement'),\n",
       " (0.0, 'BsmtFinType2_No_Basement'),\n",
       " (-0.0, 'HeatingQC_Po'),\n",
       " (0.0, 'Functional_Mod'),\n",
       " (-0.0, 'FireplaceQu_Fa'),\n",
       " (0.0, 'FireplaceQu_Po'),\n",
       " (-0.0, 'GarageType_Basment'),\n",
       " (-0.0, 'GarageType_CarPort'),\n",
       " (-0.0, 'GarageType_No_Garage'),\n",
       " (-0.0, 'GarageFinish_Unf'),\n",
       " (0.0, 'GarageQual_Gd'),\n",
       " (-0.0, 'GarageQual_Po'),\n",
       " (0.0, 'GarageQual_TA'),\n",
       " (-0.0, 'Fence_GdWo'),\n",
       " (-0.0, 'MSSubClass_150'),\n",
       " (-0.0, 'MSSubClass_40'),\n",
       " (-0.0, 'MSSubClass_60'),\n",
       " (0.0, 'MSSubClass_80'),\n",
       " (-0.0, 'OverallQual_5'),\n",
       " (0.0, 'OverallCond_5'),\n",
       " (-0.0, 'MoSold_5'),\n",
       " (0.0, 'YrSold_2010'),\n",
       " (0.0, '3SsnPorch'),\n",
       " (-5.734627159757145e-05, 'Foundation_Wood'),\n",
       " (-0.0004328373351905786, 'BsmtFinType2_LwQ'),\n",
       " (-0.0005193652594227991, 'GarageFinish_No_Garage'),\n",
       " (-0.0006520835836011238, 'MasVnrType_None'),\n",
       " (-0.000663146140085189, 'MSSubClass_45'),\n",
       " (-0.0011980502030744346, 'Exterior2nd_ImStucc'),\n",
       " (-0.001782467239890846, 'MoSold_6'),\n",
       " (-0.0023782385072417664, 'Neighborhood_Timber'),\n",
       " (-0.00249486104048519, 'GarageQual_No_Garage'),\n",
       " (-0.003191058558484699, 'BsmtExposure_No'),\n",
       " (-0.0032185246735614037, 'LotShape_Reg'),\n",
       " (-0.0037514211013730666, 'ExterQual_Gd'),\n",
       " (-0.00382228835820413, 'HeatingQC_Gd'),\n",
       " (-0.0041544893043010105, 'MoSold_4'),\n",
       " (-0.004209589680141958, 'BsmtFinType2_Rec'),\n",
       " (-0.004342902339143232, 'BsmtFinType1_Unf'),\n",
       " (-0.0046846243802027435, 'Fence_No_Fence'),\n",
       " (-0.005034350791074184, 'FireplaceQu_No_Fireplace'),\n",
       " (-0.005720771899272316, 'PavedDrive_P'),\n",
       " (-0.00572365640449538, 'GarageFinish_RFn'),\n",
       " (-0.006274581330848176, 'YrSold_2007'),\n",
       " (-0.006276183494214622, 'Exterior1st_HdBoard'),\n",
       " (-0.006332740437155697, 'YrSold_2008'),\n",
       " (-0.006336677758597179, 'Fence_MnPrv'),\n",
       " (-0.006761063638118385, 'Exterior1st_VinylSd'),\n",
       " (-0.007737748165589126, 'MoSold_10'),\n",
       " (-0.007937222599207806, 'BsmtFinType1_BLQ'),\n",
       " (-0.008165044481028906, 'RoofStyle_Hip'),\n",
       " (-0.00857189586657432, 'Neighborhood_OldTown'),\n",
       " (-0.009844812352160252, 'ExterQual_TA'),\n",
       " (-0.010408942482764383, 'Neighborhood_NAmes'),\n",
       " (-0.011140144769584292, 'MSSubClass_190'),\n",
       " (-0.011171350858202636, 'BsmtExposure_Mn'),\n",
       " (-0.011411588901179083, 'YrSold_2009'),\n",
       " (-0.011469312439745345, 'MoSold_2'),\n",
       " (-0.011976223906812192, 'LotConfig_FR2'),\n",
       " (-0.012053641959383809, 'HouseStyle_1Story'),\n",
       " (-0.0132798697370348, 'MoSold_11'),\n",
       " (-0.013576091220285991, 'Neighborhood_Sawyer'),\n",
       " (-0.01515192110153095, 'Neighborhood_SawyerW'),\n",
       " (-0.015197317234890161, 'MSSubClass_180'),\n",
       " (-0.015273239409134958, 'MoSold_3'),\n",
       " (-0.01627569027592955, 'Exterior2nd_Plywood'),\n",
       " (-0.0181769251715724, 'HeatingQC_TA'),\n",
       " (-0.01862259403547331, 'MoSold_12'),\n",
       " (-0.019081045378303692, 'Exterior2nd_MetalSd'),\n",
       " (-0.01914779700528134, 'GarageQual_Fa'),\n",
       " (-0.01976847669350849, 'BldgType_Duplex'),\n",
       " (-0.020557754143878133, 'HeatingQC_Fa'),\n",
       " (-0.021268428565320352, 'Fence_MnWw'),\n",
       " (-0.021678711636336074, 'BsmtQual_Gd'),\n",
       " (-0.022283031705673497, 'BsmtQual_TA'),\n",
       " (-0.02436754400703075, 'BsmtFinType2_BLQ'),\n",
       " (-0.02550259685666996, 'LandSlope_Sev'),\n",
       " (-0.028667252923044707, 'Neighborhood_Mitchel'),\n",
       " (-0.03064329174722192, 'ExterCond_Fa'),\n",
       " (-0.03189558117692112, 'BsmtQual_Fa'),\n",
       " (-0.03208905558228727, 'BsmtFinType1_Rec'),\n",
       " (-0.03288903055141498, 'Neighborhood_CollgCr'),\n",
       " (-0.03310449638931839, 'Neighborhood_SWISU'),\n",
       " (-0.0351269833567769, 'KitchenQual_Gd'),\n",
       " (-0.03711805568394863, 'OverallQual_4'),\n",
       " (-0.040105037840988976, 'Exterior2nd_BrkFace'),\n",
       " (-0.04023738447751368, 'BldgType_Twnhs'),\n",
       " (-0.041689583957546496, 'BsmtFinType1_LwQ'),\n",
       " (-0.05437225006719819, 'MSSubClass_90'),\n",
       " (-0.054695754643341594, 'KitchenQual_TA'),\n",
       " (-0.058230991949539034, 'MSSubClass_160'),\n",
       " (-0.06030040340503737, 'MSSubClass_30'),\n",
       " (-0.06216964746057344, 'OverallCond_4'),\n",
       " (-0.06674461542774728, 'KitchenQual_Fa'),\n",
       " (-0.06909260166221161, 'Neighborhood_Edwards'),\n",
       " (-0.07535705063170899, 'OverallQual_3'),\n",
       " (-0.07713221113015314, 'MSZoning_C (all)'),\n",
       " (-0.09067698864831421, 'Bsmt_Unfin_Ratio'),\n",
       " (-0.1103387478949394, 'Functional_Maj2'),\n",
       " (-0.14198419276151236, 'OverallCond_3'),\n",
       " (-0.14545773896313569, 'Neighborhood_MeadowV'),\n",
       " (-0.17653175459729947, 'OverallCond_2'),\n",
       " (-0.19168152833625668, 'OverallQual_2')]"
      ]
     },
     "execution_count": 280,
     "metadata": {},
     "output_type": "execute_result"
    }
   ],
   "source": [
    "sorted(list(zip(gs.best_estimator_.coef_, train_data_linear.columns)), key = lambda t: t[0], reverse=True)"
   ]
  },
  {
   "cell_type": "markdown",
   "metadata": {},
   "source": [
    "## Establish Connection with Tableau\n"
   ]
  },
  {
   "cell_type": "code",
   "execution_count": 288,
   "metadata": {},
   "outputs": [
    {
     "data": {
      "text/plain": [
       "MinMaxScaler()"
      ]
     },
     "execution_count": 288,
     "metadata": {},
     "output_type": "execute_result"
    }
   ],
   "source": [
    "## First need to train the scaler \n",
    "scale_trainer = train_data_linear.copy()\n",
    "scale_trainer = scale_trainer.reset_index() #duplicated index values in csv need to reset\n",
    "scale_trainer = scale_trainer.drop('index', axis = 1) # drop original index with duplicates\n",
    "scale_trainer_num = scale_trainer.select_dtypes(['int64', 'float64']) # Select numeric data types\n",
    "scale_trainer_num = scale_trainer_num.drop(['PID'], axis = 1) ## Drop PID and saleprice since they should not be scaled \n",
    "\n",
    "## Set up and train the scaler \n",
    "scaler = MinMaxScaler()\n",
    "scaler.fit(scale_trainer_num)\n"
   ]
  },
  {
   "cell_type": "code",
   "execution_count": 296,
   "metadata": {},
   "outputs": [],
   "source": [
    "import tabpy_client\n",
    "from tabpy.tabpy_tools.client import Client\n",
    "\n",
    "def predict_price(_arg1,_arg2,_arg3, _arg4):\n",
    "    scaler = MinMaxScaler()\n",
    "    test_nums = housing[['TotalLivArea', 'LotArea','GarageArea', 'YearBuilt']]\n",
    "    scaler.fit(test_nums)\n",
    "\n",
    "    row = train_data_linear[train_data_linear['PID'] == 1]\n",
    "    row = row.assign(TotalLivArea = _arg1)\n",
    "    row = row.assign(LotArea= _arg2)\n",
    "    row = row.assign(GarageArea = _arg3)\n",
    "    row = row.assign(YearBuilt = _arg4)\n",
    "\n",
    "    row_scale = row[['TotalLivArea', 'LotArea','GarageArea', 'YearBuilt']]\n",
    "    row.drop(columns = row_scale.columns, inplace = True, axis=1)\n",
    "    row_scaled = scaler.transform(row_scale)\n",
    "    row_scaled = pd.DataFrame(row_scaled, columns = row_scale.columns)\n",
    "    row_scaled['PID'] = 1\n",
    "    row = pd.merge(row, row_scaled, on = 'PID')\n",
    "\n",
    "    price = gs.best_estimator_.predict(row)\n",
    "    price = int(np.exp(price))\n",
    "    return price\n",
    "\n",
    "client = tabpy_client.Client('http://localhost:9004/')\n",
    "client.deploy('predict_price', predict_price, 'predicts price based on inputs', override = True)"
   ]
  },
  {
   "cell_type": "code",
   "execution_count": 34,
   "metadata": {},
   "outputs": [
    {
     "data": {
      "text/html": [
       "<div>\n",
       "<style scoped>\n",
       "    .dataframe tbody tr th:only-of-type {\n",
       "        vertical-align: middle;\n",
       "    }\n",
       "\n",
       "    .dataframe tbody tr th {\n",
       "        vertical-align: top;\n",
       "    }\n",
       "\n",
       "    .dataframe thead th {\n",
       "        text-align: right;\n",
       "    }\n",
       "</style>\n",
       "<table border=\"1\" class=\"dataframe\">\n",
       "  <thead>\n",
       "    <tr style=\"text-align: right;\">\n",
       "      <th></th>\n",
       "      <th>Prediction</th>\n",
       "      <th>PID</th>\n",
       "      <th>SalePrice</th>\n",
       "      <th>Pct_diff</th>\n",
       "    </tr>\n",
       "  </thead>\n",
       "  <tbody>\n",
       "    <tr>\n",
       "      <th>0</th>\n",
       "      <td>$131,567.89</td>\n",
       "      <td>908128050</td>\n",
       "      <td>$137,500.00</td>\n",
       "      <td>$-4.31</td>\n",
       "    </tr>\n",
       "    <tr>\n",
       "      <th>1</th>\n",
       "      <td>$134,791.43</td>\n",
       "      <td>535450070</td>\n",
       "      <td>$133,000.00</td>\n",
       "      <td>$1.35</td>\n",
       "    </tr>\n",
       "    <tr>\n",
       "      <th>2</th>\n",
       "      <td>$227,949.44</td>\n",
       "      <td>906223180</td>\n",
       "      <td>$215,000.00</td>\n",
       "      <td>$6.02</td>\n",
       "    </tr>\n",
       "    <tr>\n",
       "      <th>3</th>\n",
       "      <td>$146,896.75</td>\n",
       "      <td>909253180</td>\n",
       "      <td>$145,000.00</td>\n",
       "      <td>$1.31</td>\n",
       "    </tr>\n",
       "    <tr>\n",
       "      <th>4</th>\n",
       "      <td>$144,407.25</td>\n",
       "      <td>905103180</td>\n",
       "      <td>$132,000.00</td>\n",
       "      <td>$9.40</td>\n",
       "    </tr>\n",
       "    <tr>\n",
       "      <th>...</th>\n",
       "      <td>...</td>\n",
       "      <td>...</td>\n",
       "      <td>...</td>\n",
       "      <td>...</td>\n",
       "    </tr>\n",
       "    <tr>\n",
       "      <th>478</th>\n",
       "      <td>$210,358.60</td>\n",
       "      <td>903206120</td>\n",
       "      <td>$209,500.00</td>\n",
       "      <td>$0.41</td>\n",
       "    </tr>\n",
       "    <tr>\n",
       "      <th>479</th>\n",
       "      <td>$207,686.35</td>\n",
       "      <td>907290090</td>\n",
       "      <td>$213,000.00</td>\n",
       "      <td>$-2.49</td>\n",
       "    </tr>\n",
       "    <tr>\n",
       "      <th>480</th>\n",
       "      <td>$122,660.10</td>\n",
       "      <td>527450080</td>\n",
       "      <td>$125,500.00</td>\n",
       "      <td>$-2.26</td>\n",
       "    </tr>\n",
       "    <tr>\n",
       "      <th>481</th>\n",
       "      <td>$148,264.67</td>\n",
       "      <td>535402230</td>\n",
       "      <td>$147,000.00</td>\n",
       "      <td>$0.86</td>\n",
       "    </tr>\n",
       "    <tr>\n",
       "      <th>482</th>\n",
       "      <td>$151,627.24</td>\n",
       "      <td>534225120</td>\n",
       "      <td>$142,600.00</td>\n",
       "      <td>$6.33</td>\n",
       "    </tr>\n",
       "  </tbody>\n",
       "</table>\n",
       "<p>483 rows × 4 columns</p>\n",
       "</div>"
      ],
      "text/plain": [
       "     Prediction        PID   SalePrice  Pct_diff\n",
       "0   $131,567.89  908128050 $137,500.00    $-4.31\n",
       "1   $134,791.43  535450070 $133,000.00     $1.35\n",
       "2   $227,949.44  906223180 $215,000.00     $6.02\n",
       "3   $146,896.75  909253180 $145,000.00     $1.31\n",
       "4   $144,407.25  905103180 $132,000.00     $9.40\n",
       "..          ...        ...         ...       ...\n",
       "478 $210,358.60  903206120 $209,500.00     $0.41\n",
       "479 $207,686.35  907290090 $213,000.00    $-2.49\n",
       "480 $122,660.10  527450080 $125,500.00    $-2.26\n",
       "481 $148,264.67  535402230 $147,000.00     $0.86\n",
       "482 $151,627.24  534225120 $142,600.00     $6.33\n",
       "\n",
       "[483 rows x 4 columns]"
      ]
     },
     "execution_count": 34,
     "metadata": {},
     "output_type": "execute_result"
    }
   ],
   "source": [
    "# final = pd.concat([predict, test_data_linear, test_target_linear], axis =1)\n",
    "# pd.options.display.float_format = '${:,.2f}'.format\n",
    "# final['SalePrice'] = np.exp(final['SalePrice'])\n",
    "# final['Prediction'] = np.exp(final['Prediction'])\n",
    "# final['Pct_diff'] = ((final['Prediction'] - final['SalePrice'])/ final['SalePrice'])*100\n",
    "# final[['Prediction', 'PID','SalePrice', 'Pct_diff']]\n"
   ]
  },
  {
   "cell_type": "markdown",
   "metadata": {},
   "source": [
    "## Random Forrest   "
   ]
  },
  {
   "cell_type": "code",
   "execution_count": 13,
   "metadata": {},
   "outputs": [
    {
     "data": {
      "text/plain": [
       "RandomForestRegressor(random_state=0)"
      ]
     },
     "execution_count": 13,
     "metadata": {},
     "output_type": "execute_result"
    }
   ],
   "source": [
    "# rf_model = RandomForestRegressor(random_state=0)\n",
    "# # rf_model.fit(train_data_tree, train_target_tree)\n"
   ]
  },
  {
   "cell_type": "code",
   "execution_count": 14,
   "metadata": {},
   "outputs": [
    {
     "name": "stdout",
     "output_type": "stream",
     "text": [
      "Train set MSE is 0.002\n",
      "Train set R2 is 0.987\n",
      "Test set MSE is 0.014\n",
      "Test set R2 is 0.900\n"
     ]
    }
   ],
   "source": [
    "# train_preds = rf_model.predict(train_data_tree)\n",
    "# train_mse = mean_squared_error(train_target_tree, train_preds)\n",
    "# print('Train set MSE is {:.3f}'.format(train_mse))\n",
    "# print('Train set R2 is {:.3f}'.format(rf_model.score(train_data_tree, train_target_tree)))\n",
    "\n",
    "# train_preds_test = rf_model.predict(test_data_tree)\n",
    "# test_mse = mean_squared_error(test_target_tree, train_preds_test)\n",
    "# print('Test set MSE is {:.3f}'.format(test_mse))\n",
    "# print('Test set R2 is {:.3f}'.format(rf_model.score(test_data_tree, test_target_tree)))"
   ]
  },
  {
   "cell_type": "code",
   "execution_count": 15,
   "metadata": {},
   "outputs": [],
   "source": [
    "# predicted = pd.DataFrame(train_preds_test, columns = ['Prediction'])"
   ]
  },
  {
   "cell_type": "code",
   "execution_count": 16,
   "metadata": {},
   "outputs": [],
   "source": [
    "# final_tree = pd.concat([test_data_tree, predicted, test_target_tree], axis = 1)"
   ]
  },
  {
   "cell_type": "code",
   "execution_count": 17,
   "metadata": {},
   "outputs": [],
   "source": [
    "# final_tree['SalePrice'] = np.exp(final_tree['SalePrice'])\n",
    "# final_tree['Prediction'] = np.exp(final_tree['Prediction'])\n"
   ]
  },
  {
   "cell_type": "code",
   "execution_count": 19,
   "metadata": {},
   "outputs": [
    {
     "data": {
      "text/plain": [
       "[('TotalLivArea', 0.611769695940967),\n",
       " ('OverallQual', 0.08686860517170654),\n",
       " ('YearBuilt', 0.05478411049723338),\n",
       " ('ExterQual', 0.049732995132640796),\n",
       " ('GarageArea', 0.033503359751477224),\n",
       " ('LotArea', 0.01584924789713022),\n",
       " ('YearRemodAdd', 0.014954010733209075),\n",
       " ('OverallCond', 0.01378381832177892),\n",
       " ('GarageYrBlt', 0.009841980604745044),\n",
       " ('Fireplaces', 0.00858066722733795),\n",
       " ('Bsmt_Unfin_Ratio', 0.008524948559485133),\n",
       " ('KitchenQual', 0.007377373224292001),\n",
       " ('PID', 0.0066638062850456125),\n",
       " ('LotFrontage', 0.005476215459166589),\n",
       " ('Neighborhood', 0.004804537389080459),\n",
       " ('BsmtFinType1', 0.004671099787307095),\n",
       " ('GarageType', 0.0040362385248738355),\n",
       " ('MSSubClass', 0.004009441058954551),\n",
       " ('OpenPorchSF', 0.0038353831218833796),\n",
       " ('CentralAir', 0.0034308679995132658),\n",
       " ('MasVnrArea', 0.003281391509908226),\n",
       " ('MSZoning', 0.0030934202532820164),\n",
       " ('WoodDeckSF', 0.002615876766571731),\n",
       " ('MoSold', 0.0026002048637404837),\n",
       " ('EnclosedPorch', 0.0024281681202639863),\n",
       " ('BsmtQual', 0.0022498547293096686),\n",
       " ('PavedDrive', 0.0017897360765342229),\n",
       " ('Exterior2nd', 0.0017884314448188532),\n",
       " ('YrSold', 0.0017004589642014435),\n",
       " ('TotRmsAbvGrd', 0.0016950630354934432),\n",
       " ('BedroomAbvGr', 0.0016925787734640156),\n",
       " ('HouseStyle', 0.0016309739405735953),\n",
       " ('HeatingQC', 0.0016023044418268806),\n",
       " ('Exterior1st', 0.0015409506624618468),\n",
       " ('FireplaceQu', 0.0014426289907287628),\n",
       " ('BldgType', 0.001412564018458493),\n",
       " ('Condition1', 0.001291219755888969),\n",
       " ('LandContour', 0.001281205711673015),\n",
       " ('Functional', 0.0012637904658004946),\n",
       " ('RoofStyle', 0.0012105228785506952),\n",
       " ('GarageFinish', 0.0010845709982900099),\n",
       " ('BsmtExposure', 0.0010809616888953612),\n",
       " ('ExterCond', 0.000986654442348672),\n",
       " ('Foundation', 0.0008181897850172646),\n",
       " ('GarageQual', 0.0007666084615027086),\n",
       " ('BsmtCond', 0.0007509006448235793),\n",
       " ('ScreenPorch', 0.0007193811534902733),\n",
       " ('Fence', 0.0006867344540242103),\n",
       " ('LotConfig', 0.0006744629690918775),\n",
       " ('LotShape', 0.0006665997066992729),\n",
       " ('BsmtFinType2', 0.0005771943708851823),\n",
       " ('LandSlope', 0.0005427562694095757),\n",
       " ('MasVnrType', 0.0004968458513767149),\n",
       " ('3SsnPorch', 3.839111276645407e-05),\n",
       " ('SaleCondition', 0.0)]"
      ]
     },
     "execution_count": 19,
     "metadata": {},
     "output_type": "execute_result"
    }
   ],
   "source": [
    "# ## Look at which features had the most important coefficients \n",
    "# sorted(zip(train_data_tree.columns, rf_model.feature_importances_), key = lambda t: t[1], reverse=True)\n"
   ]
  }
 ],
 "metadata": {
  "interpreter": {
   "hash": "0361ced4ee9008cee796c675e99fc9755dfaef9b8a7e8c7e0212b1562f6bd272"
  },
  "kernelspec": {
   "display_name": "Python 3.8.8 64-bit ('base': conda)",
   "name": "python3"
  },
  "language_info": {
   "codemirror_mode": {
    "name": "ipython",
    "version": 3
   },
   "file_extension": ".py",
   "mimetype": "text/x-python",
   "name": "python",
   "nbconvert_exporter": "python",
   "pygments_lexer": "ipython3",
   "version": "3.8.8"
  }
 },
 "nbformat": 4,
 "nbformat_minor": 2
}

{
 "cells": [
  {
   "cell_type": "markdown",
   "metadata": {},
   "source": [
    "# Housing Regression Maching Learning Project"
   ]
  },
  {
   "cell_type": "markdown",
   "metadata": {},
   "source": [
    "### Imports (Data and Packages)"
   ]
  },
  {
   "cell_type": "code",
   "execution_count": 130,
   "metadata": {},
   "outputs": [],
   "source": [
    "import numpy as np\n",
    "import pandas as pd\n",
    "import seaborn as sns\n",
    "import matplotlib.pyplot as plt\n",
    "from sklearn.pipeline import Pipeline\n",
    "from data_preprocessing_final import cleaning, dummify, scale_data, ord_encoding, initiate_data\n",
    "from sklearn.preprocessing import StandardScaler, MinMaxScaler, OrdinalEncoder\n",
    "from sklearn.model_selection import train_test_split, GridSearchCV, KFold\n",
    "from sklearn.tree import DecisionTreeClassifier, DecisionTreeRegressor, plot_tree\n",
    "from sklearn.ensemble import RandomForestRegressor\n",
    "from sklearn.metrics import mean_squared_error\n",
    "%matplotlib inline "
   ]
  },
  {
   "cell_type": "code",
   "execution_count": 131,
   "metadata": {},
   "outputs": [],
   "source": [
    "housing = pd.read_csv('./data/Ames_Housing_Price_Data.csv', index_col=0)\n",
    "housing = housing[housing['SaleCondition'] == 'Normal']\n",
    "train_data_linear, train_target_linear, test_data_linear, test_target_linear, train_data_tree, train_target_tree, test_data_tree, test_target_tree = initiate_data(housing)\n"
   ]
  },
  {
   "cell_type": "markdown",
   "metadata": {},
   "source": [
    "### Lasso Regression"
   ]
  },
  {
   "cell_type": "code",
   "execution_count": 132,
   "metadata": {},
   "outputs": [],
   "source": [
    "## Working on Lasso Regression\n",
    "from sklearn.linear_model import Lasso\n",
    "lasso = Lasso()"
   ]
  },
  {
   "cell_type": "code",
   "execution_count": 133,
   "metadata": {},
   "outputs": [],
   "source": [
    "alphaRange = np.linspace(0,0.0005,5)\n",
    "params = {'alpha': alphaRange, 'max_iter' : [10000]}"
   ]
  },
  {
   "cell_type": "code",
   "execution_count": 134,
   "metadata": {},
   "outputs": [
    {
     "name": "stderr",
     "output_type": "stream",
     "text": [
      "C:\\Users\\jackc\\anaconda3\\lib\\site-packages\\sklearn\\model_selection\\_validation.py:593: UserWarning: With alpha=0, this algorithm does not converge well. You are advised to use the LinearRegression estimator\n",
      "  estimator.fit(X_train, y_train, **fit_params)\n",
      "C:\\Users\\jackc\\anaconda3\\lib\\site-packages\\sklearn\\linear_model\\_coordinate_descent.py:530: UserWarning: Coordinate descent with no regularization may lead to unexpected results and is discouraged.\n",
      "  model = cd_fast.enet_coordinate_descent(\n",
      "C:\\Users\\jackc\\anaconda3\\lib\\site-packages\\sklearn\\linear_model\\_coordinate_descent.py:530: ConvergenceWarning: Objective did not converge. You might want to increase the number of iterations. Duality gap: 4.309812260572043, tolerance: 0.020492732436991516\n",
      "  model = cd_fast.enet_coordinate_descent(\n",
      "C:\\Users\\jackc\\anaconda3\\lib\\site-packages\\sklearn\\model_selection\\_validation.py:593: UserWarning: With alpha=0, this algorithm does not converge well. You are advised to use the LinearRegression estimator\n",
      "  estimator.fit(X_train, y_train, **fit_params)\n",
      "C:\\Users\\jackc\\anaconda3\\lib\\site-packages\\sklearn\\linear_model\\_coordinate_descent.py:530: UserWarning: Coordinate descent with no regularization may lead to unexpected results and is discouraged.\n",
      "  model = cd_fast.enet_coordinate_descent(\n",
      "C:\\Users\\jackc\\anaconda3\\lib\\site-packages\\sklearn\\linear_model\\_coordinate_descent.py:530: ConvergenceWarning: Objective did not converge. You might want to increase the number of iterations. Duality gap: 5.120401389086078, tolerance: 0.021581775065294816\n",
      "  model = cd_fast.enet_coordinate_descent(\n",
      "C:\\Users\\jackc\\anaconda3\\lib\\site-packages\\sklearn\\model_selection\\_validation.py:593: UserWarning: With alpha=0, this algorithm does not converge well. You are advised to use the LinearRegression estimator\n",
      "  estimator.fit(X_train, y_train, **fit_params)\n",
      "C:\\Users\\jackc\\anaconda3\\lib\\site-packages\\sklearn\\linear_model\\_coordinate_descent.py:530: UserWarning: Coordinate descent with no regularization may lead to unexpected results and is discouraged.\n",
      "  model = cd_fast.enet_coordinate_descent(\n",
      "C:\\Users\\jackc\\anaconda3\\lib\\site-packages\\sklearn\\linear_model\\_coordinate_descent.py:530: ConvergenceWarning: Objective did not converge. You might want to increase the number of iterations. Duality gap: 4.567640634087329, tolerance: 0.020606344645973728\n",
      "  model = cd_fast.enet_coordinate_descent(\n",
      "C:\\Users\\jackc\\anaconda3\\lib\\site-packages\\sklearn\\model_selection\\_validation.py:593: UserWarning: With alpha=0, this algorithm does not converge well. You are advised to use the LinearRegression estimator\n",
      "  estimator.fit(X_train, y_train, **fit_params)\n",
      "C:\\Users\\jackc\\anaconda3\\lib\\site-packages\\sklearn\\linear_model\\_coordinate_descent.py:530: UserWarning: Coordinate descent with no regularization may lead to unexpected results and is discouraged.\n",
      "  model = cd_fast.enet_coordinate_descent(\n",
      "C:\\Users\\jackc\\anaconda3\\lib\\site-packages\\sklearn\\linear_model\\_coordinate_descent.py:530: ConvergenceWarning: Objective did not converge. You might want to increase the number of iterations. Duality gap: 4.58617431160487, tolerance: 0.020890343545657674\n",
      "  model = cd_fast.enet_coordinate_descent(\n",
      "C:\\Users\\jackc\\anaconda3\\lib\\site-packages\\sklearn\\model_selection\\_validation.py:593: UserWarning: With alpha=0, this algorithm does not converge well. You are advised to use the LinearRegression estimator\n",
      "  estimator.fit(X_train, y_train, **fit_params)\n",
      "C:\\Users\\jackc\\anaconda3\\lib\\site-packages\\sklearn\\linear_model\\_coordinate_descent.py:530: UserWarning: Coordinate descent with no regularization may lead to unexpected results and is discouraged.\n",
      "  model = cd_fast.enet_coordinate_descent(\n",
      "C:\\Users\\jackc\\anaconda3\\lib\\site-packages\\sklearn\\linear_model\\_coordinate_descent.py:530: ConvergenceWarning: Objective did not converge. You might want to increase the number of iterations. Duality gap: 4.846390975701618, tolerance: 0.02151504410675862\n",
      "  model = cd_fast.enet_coordinate_descent(\n"
     ]
    },
    {
     "data": {
      "text/plain": [
       "GridSearchCV(cv=5, estimator=Lasso(),\n",
       "             param_grid={'alpha': array([0.      , 0.000125, 0.00025 , 0.000375, 0.0005  ]),\n",
       "                         'max_iter': [10000]},\n",
       "             scoring='r2')"
      ]
     },
     "execution_count": 134,
     "metadata": {},
     "output_type": "execute_result"
    }
   ],
   "source": [
    "gs = GridSearchCV(lasso, params, scoring = 'r2', cv=5)\n",
    "gs.fit(train_data_linear, train_target_linear)"
   ]
  },
  {
   "cell_type": "code",
   "execution_count": 135,
   "metadata": {},
   "outputs": [
    {
     "data": {
      "text/plain": [
       "{'alpha': 0.000125, 'max_iter': 10000}"
      ]
     },
     "execution_count": 135,
     "metadata": {},
     "output_type": "execute_result"
    }
   ],
   "source": [
    "gs.best_params_"
   ]
  },
  {
   "cell_type": "code",
   "execution_count": 136,
   "metadata": {},
   "outputs": [
    {
     "data": {
      "text/plain": [
       "0.9496018044408772"
      ]
     },
     "execution_count": 136,
     "metadata": {},
     "output_type": "execute_result"
    }
   ],
   "source": [
    "gs.score(train_data_linear, train_target_linear)"
   ]
  },
  {
   "cell_type": "code",
   "execution_count": 137,
   "metadata": {},
   "outputs": [
    {
     "data": {
      "text/plain": [
       "0.949009299604709"
      ]
     },
     "execution_count": 137,
     "metadata": {},
     "output_type": "execute_result"
    }
   ],
   "source": [
    "gs.score(test_data_linear, test_target_linear)\n"
   ]
  },
  {
   "cell_type": "code",
   "execution_count": 138,
   "metadata": {},
   "outputs": [],
   "source": [
    "predict = gs.predict(test_data_linear)\n",
    "predict = pd.DataFrame(predict)\n",
    "predict.columns = ['Prediction']"
   ]
  },
  {
   "cell_type": "markdown",
   "metadata": {},
   "source": [
    "## Establish Connection with Tableau\n"
   ]
  },
  {
   "cell_type": "code",
   "execution_count": 174,
   "metadata": {},
   "outputs": [],
   "source": [
    "import tabpy_client\n",
    "from tabpy.tabpy_tools.client import Client\n",
    "\n",
    "def predict_price(_arg1,_arg2,_arg3):\n",
    "    row = test_data_linear[test_data_linear['PID'] == 527164090]\n",
    "    row = row.assign(TotalLivArea = _arg1)\n",
    "    row = row.assign( TotRmsAbvGrd= _arg2)\n",
    "    row = row.assign(GarageArea = _arg3)\n",
    "    price = gs.predict(row)\n",
    "    price = int(np.exp(price))\n",
    "    return price\n",
    "\n",
    "client = tabpy_client.Client('http://localhost:9004/')\n",
    "client.deploy('predict_price', predict_price, 'predicts price based on inputs', override = True)"
   ]
  },
  {
   "cell_type": "code",
   "execution_count": 34,
   "metadata": {},
   "outputs": [
    {
     "data": {
      "text/html": [
       "<div>\n",
       "<style scoped>\n",
       "    .dataframe tbody tr th:only-of-type {\n",
       "        vertical-align: middle;\n",
       "    }\n",
       "\n",
       "    .dataframe tbody tr th {\n",
       "        vertical-align: top;\n",
       "    }\n",
       "\n",
       "    .dataframe thead th {\n",
       "        text-align: right;\n",
       "    }\n",
       "</style>\n",
       "<table border=\"1\" class=\"dataframe\">\n",
       "  <thead>\n",
       "    <tr style=\"text-align: right;\">\n",
       "      <th></th>\n",
       "      <th>Prediction</th>\n",
       "      <th>PID</th>\n",
       "      <th>SalePrice</th>\n",
       "      <th>Pct_diff</th>\n",
       "    </tr>\n",
       "  </thead>\n",
       "  <tbody>\n",
       "    <tr>\n",
       "      <th>0</th>\n",
       "      <td>$131,567.89</td>\n",
       "      <td>908128050</td>\n",
       "      <td>$137,500.00</td>\n",
       "      <td>$-4.31</td>\n",
       "    </tr>\n",
       "    <tr>\n",
       "      <th>1</th>\n",
       "      <td>$134,791.43</td>\n",
       "      <td>535450070</td>\n",
       "      <td>$133,000.00</td>\n",
       "      <td>$1.35</td>\n",
       "    </tr>\n",
       "    <tr>\n",
       "      <th>2</th>\n",
       "      <td>$227,949.44</td>\n",
       "      <td>906223180</td>\n",
       "      <td>$215,000.00</td>\n",
       "      <td>$6.02</td>\n",
       "    </tr>\n",
       "    <tr>\n",
       "      <th>3</th>\n",
       "      <td>$146,896.75</td>\n",
       "      <td>909253180</td>\n",
       "      <td>$145,000.00</td>\n",
       "      <td>$1.31</td>\n",
       "    </tr>\n",
       "    <tr>\n",
       "      <th>4</th>\n",
       "      <td>$144,407.25</td>\n",
       "      <td>905103180</td>\n",
       "      <td>$132,000.00</td>\n",
       "      <td>$9.40</td>\n",
       "    </tr>\n",
       "    <tr>\n",
       "      <th>...</th>\n",
       "      <td>...</td>\n",
       "      <td>...</td>\n",
       "      <td>...</td>\n",
       "      <td>...</td>\n",
       "    </tr>\n",
       "    <tr>\n",
       "      <th>478</th>\n",
       "      <td>$210,358.60</td>\n",
       "      <td>903206120</td>\n",
       "      <td>$209,500.00</td>\n",
       "      <td>$0.41</td>\n",
       "    </tr>\n",
       "    <tr>\n",
       "      <th>479</th>\n",
       "      <td>$207,686.35</td>\n",
       "      <td>907290090</td>\n",
       "      <td>$213,000.00</td>\n",
       "      <td>$-2.49</td>\n",
       "    </tr>\n",
       "    <tr>\n",
       "      <th>480</th>\n",
       "      <td>$122,660.10</td>\n",
       "      <td>527450080</td>\n",
       "      <td>$125,500.00</td>\n",
       "      <td>$-2.26</td>\n",
       "    </tr>\n",
       "    <tr>\n",
       "      <th>481</th>\n",
       "      <td>$148,264.67</td>\n",
       "      <td>535402230</td>\n",
       "      <td>$147,000.00</td>\n",
       "      <td>$0.86</td>\n",
       "    </tr>\n",
       "    <tr>\n",
       "      <th>482</th>\n",
       "      <td>$151,627.24</td>\n",
       "      <td>534225120</td>\n",
       "      <td>$142,600.00</td>\n",
       "      <td>$6.33</td>\n",
       "    </tr>\n",
       "  </tbody>\n",
       "</table>\n",
       "<p>483 rows × 4 columns</p>\n",
       "</div>"
      ],
      "text/plain": [
       "     Prediction        PID   SalePrice  Pct_diff\n",
       "0   $131,567.89  908128050 $137,500.00    $-4.31\n",
       "1   $134,791.43  535450070 $133,000.00     $1.35\n",
       "2   $227,949.44  906223180 $215,000.00     $6.02\n",
       "3   $146,896.75  909253180 $145,000.00     $1.31\n",
       "4   $144,407.25  905103180 $132,000.00     $9.40\n",
       "..          ...        ...         ...       ...\n",
       "478 $210,358.60  903206120 $209,500.00     $0.41\n",
       "479 $207,686.35  907290090 $213,000.00    $-2.49\n",
       "480 $122,660.10  527450080 $125,500.00    $-2.26\n",
       "481 $148,264.67  535402230 $147,000.00     $0.86\n",
       "482 $151,627.24  534225120 $142,600.00     $6.33\n",
       "\n",
       "[483 rows x 4 columns]"
      ]
     },
     "execution_count": 34,
     "metadata": {},
     "output_type": "execute_result"
    }
   ],
   "source": [
    "# final = pd.concat([predict, test_data_linear, test_target_linear], axis =1)\n",
    "# pd.options.display.float_format = '${:,.2f}'.format\n",
    "# final['SalePrice'] = np.exp(final['SalePrice'])\n",
    "# final['Prediction'] = np.exp(final['Prediction'])\n",
    "# final['Pct_diff'] = ((final['Prediction'] - final['SalePrice'])/ final['SalePrice'])*100\n",
    "# final[['Prediction', 'PID','SalePrice', 'Pct_diff']]\n"
   ]
  },
  {
   "cell_type": "markdown",
   "metadata": {},
   "source": [
    "## Random Forrest   "
   ]
  },
  {
   "cell_type": "code",
   "execution_count": 13,
   "metadata": {},
   "outputs": [
    {
     "data": {
      "text/plain": [
       "RandomForestRegressor(random_state=0)"
      ]
     },
     "execution_count": 13,
     "metadata": {},
     "output_type": "execute_result"
    }
   ],
   "source": [
    "# rf_model = RandomForestRegressor(random_state=0)\n",
    "# # rf_model.fit(train_data_tree, train_target_tree)\n"
   ]
  },
  {
   "cell_type": "code",
   "execution_count": 14,
   "metadata": {},
   "outputs": [
    {
     "name": "stdout",
     "output_type": "stream",
     "text": [
      "Train set MSE is 0.002\n",
      "Train set R2 is 0.987\n",
      "Test set MSE is 0.014\n",
      "Test set R2 is 0.900\n"
     ]
    }
   ],
   "source": [
    "# train_preds = rf_model.predict(train_data_tree)\n",
    "# train_mse = mean_squared_error(train_target_tree, train_preds)\n",
    "# print('Train set MSE is {:.3f}'.format(train_mse))\n",
    "# print('Train set R2 is {:.3f}'.format(rf_model.score(train_data_tree, train_target_tree)))\n",
    "\n",
    "# train_preds_test = rf_model.predict(test_data_tree)\n",
    "# test_mse = mean_squared_error(test_target_tree, train_preds_test)\n",
    "# print('Test set MSE is {:.3f}'.format(test_mse))\n",
    "# print('Test set R2 is {:.3f}'.format(rf_model.score(test_data_tree, test_target_tree)))"
   ]
  },
  {
   "cell_type": "code",
   "execution_count": 15,
   "metadata": {},
   "outputs": [],
   "source": [
    "# predicted = pd.DataFrame(train_preds_test, columns = ['Prediction'])"
   ]
  },
  {
   "cell_type": "code",
   "execution_count": 16,
   "metadata": {},
   "outputs": [],
   "source": [
    "# final_tree = pd.concat([test_data_tree, predicted, test_target_tree], axis = 1)"
   ]
  },
  {
   "cell_type": "code",
   "execution_count": 17,
   "metadata": {},
   "outputs": [],
   "source": [
    "# final_tree['SalePrice'] = np.exp(final_tree['SalePrice'])\n",
    "# final_tree['Prediction'] = np.exp(final_tree['Prediction'])\n"
   ]
  },
  {
   "cell_type": "code",
   "execution_count": 19,
   "metadata": {},
   "outputs": [
    {
     "data": {
      "text/plain": [
       "[('TotalLivArea', 0.611769695940967),\n",
       " ('OverallQual', 0.08686860517170654),\n",
       " ('YearBuilt', 0.05478411049723338),\n",
       " ('ExterQual', 0.049732995132640796),\n",
       " ('GarageArea', 0.033503359751477224),\n",
       " ('LotArea', 0.01584924789713022),\n",
       " ('YearRemodAdd', 0.014954010733209075),\n",
       " ('OverallCond', 0.01378381832177892),\n",
       " ('GarageYrBlt', 0.009841980604745044),\n",
       " ('Fireplaces', 0.00858066722733795),\n",
       " ('Bsmt_Unfin_Ratio', 0.008524948559485133),\n",
       " ('KitchenQual', 0.007377373224292001),\n",
       " ('PID', 0.0066638062850456125),\n",
       " ('LotFrontage', 0.005476215459166589),\n",
       " ('Neighborhood', 0.004804537389080459),\n",
       " ('BsmtFinType1', 0.004671099787307095),\n",
       " ('GarageType', 0.0040362385248738355),\n",
       " ('MSSubClass', 0.004009441058954551),\n",
       " ('OpenPorchSF', 0.0038353831218833796),\n",
       " ('CentralAir', 0.0034308679995132658),\n",
       " ('MasVnrArea', 0.003281391509908226),\n",
       " ('MSZoning', 0.0030934202532820164),\n",
       " ('WoodDeckSF', 0.002615876766571731),\n",
       " ('MoSold', 0.0026002048637404837),\n",
       " ('EnclosedPorch', 0.0024281681202639863),\n",
       " ('BsmtQual', 0.0022498547293096686),\n",
       " ('PavedDrive', 0.0017897360765342229),\n",
       " ('Exterior2nd', 0.0017884314448188532),\n",
       " ('YrSold', 0.0017004589642014435),\n",
       " ('TotRmsAbvGrd', 0.0016950630354934432),\n",
       " ('BedroomAbvGr', 0.0016925787734640156),\n",
       " ('HouseStyle', 0.0016309739405735953),\n",
       " ('HeatingQC', 0.0016023044418268806),\n",
       " ('Exterior1st', 0.0015409506624618468),\n",
       " ('FireplaceQu', 0.0014426289907287628),\n",
       " ('BldgType', 0.001412564018458493),\n",
       " ('Condition1', 0.001291219755888969),\n",
       " ('LandContour', 0.001281205711673015),\n",
       " ('Functional', 0.0012637904658004946),\n",
       " ('RoofStyle', 0.0012105228785506952),\n",
       " ('GarageFinish', 0.0010845709982900099),\n",
       " ('BsmtExposure', 0.0010809616888953612),\n",
       " ('ExterCond', 0.000986654442348672),\n",
       " ('Foundation', 0.0008181897850172646),\n",
       " ('GarageQual', 0.0007666084615027086),\n",
       " ('BsmtCond', 0.0007509006448235793),\n",
       " ('ScreenPorch', 0.0007193811534902733),\n",
       " ('Fence', 0.0006867344540242103),\n",
       " ('LotConfig', 0.0006744629690918775),\n",
       " ('LotShape', 0.0006665997066992729),\n",
       " ('BsmtFinType2', 0.0005771943708851823),\n",
       " ('LandSlope', 0.0005427562694095757),\n",
       " ('MasVnrType', 0.0004968458513767149),\n",
       " ('3SsnPorch', 3.839111276645407e-05),\n",
       " ('SaleCondition', 0.0)]"
      ]
     },
     "execution_count": 19,
     "metadata": {},
     "output_type": "execute_result"
    }
   ],
   "source": [
    "# ## Look at which features had the most important coefficients \n",
    "# sorted(zip(train_data_tree.columns, rf_model.feature_importances_), key = lambda t: t[1], reverse=True)\n"
   ]
  }
 ],
 "metadata": {
  "interpreter": {
   "hash": "0361ced4ee9008cee796c675e99fc9755dfaef9b8a7e8c7e0212b1562f6bd272"
  },
  "kernelspec": {
   "display_name": "Python 3.8.8 64-bit ('base': conda)",
   "name": "python3"
  },
  "language_info": {
   "codemirror_mode": {
    "name": "ipython",
    "version": 3
   },
   "file_extension": ".py",
   "mimetype": "text/x-python",
   "name": "python",
   "nbconvert_exporter": "python",
   "pygments_lexer": "ipython3",
   "version": "3.8.8"
  }
 },
 "nbformat": 4,
 "nbformat_minor": 2
}

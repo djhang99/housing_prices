{
 "cells": [
  {
   "cell_type": "markdown",
   "metadata": {},
   "source": [
    "# Housing Regression Maching Learning Project"
   ]
  },
  {
   "cell_type": "markdown",
   "metadata": {},
   "source": [
    "### Imports (Data and Packages)"
   ]
  },
  {
   "cell_type": "code",
   "execution_count": 124,
   "metadata": {},
   "outputs": [],
   "source": [
    "import numpy as np\n",
    "import pandas as pd\n",
    "import seaborn as sns\n",
    "from sklearn.pipeline import Pipeline\n",
    "from data_preprocessing_final import cleaning, dummify_func\n",
    "from sklearn.preprocessing import StandardScaler, MinMaxScaler\n",
    "%matplotlib inline "
   ]
  },
  {
   "cell_type": "code",
   "execution_count": 125,
   "metadata": {},
   "outputs": [
    {
     "name": "stderr",
     "output_type": "stream",
     "text": [
      "C:\\Users\\jackc\\anaconda3\\lib\\site-packages\\IPython\\core\\interactiveshell.py:3165: DtypeWarning: Columns (36,40,81,87) have mixed types.Specify dtype option on import or set low_memory=False.\n",
      "  has_raised = await self.run_ast_nodes(code_ast.body, cell_name,\n"
     ]
    }
   ],
   "source": [
    "housing = pd.read_csv('./data/Ames_Housing_Price_Data.csv', index_col=0)\n",
    "housing = housing[housing['SaleCondition'] == 'Normal']\n",
    "real_estate = pd.read_csv('./data/Ames_Real_Estate_data.csv' , index_col = 0)"
   ]
  },
  {
   "cell_type": "code",
   "execution_count": 126,
   "metadata": {},
   "outputs": [],
   "source": [
    "housing = cleaning(housing)\n",
    "input, target = dummify_func(housing)"
   ]
  },
  {
   "cell_type": "markdown",
   "metadata": {},
   "source": [
    "### EDA"
   ]
  },
  {
   "cell_type": "code",
   "execution_count": 31,
   "metadata": {},
   "outputs": [
    {
     "data": {
      "text/plain": [
       "<AxesSubplot:>"
      ]
     },
     "execution_count": 31,
     "metadata": {},
     "output_type": "execute_result"
    },
    {
     "data": {
      "image/png": "[encoded data removed]",
      "text/plain": [
       "<Figure size 432x288 with 1 Axes>"
      ]
     },
     "metadata": {
      "needs_background": "light"
     },
     "output_type": "display_data"
    }
   ],
   "source": [
    "## First looking at Sale Price to see the features\n",
    "np.log(housing['SalePrice']).hist()\n",
    "\n",
    "## Histogram looks skewed right - is this going to be a problem? Maybe try a boxcox transformation or log? "
   ]
  },
  {
   "cell_type": "code",
   "execution_count": 40,
   "metadata": {},
   "outputs": [
    {
     "name": "stdout",
     "output_type": "stream",
     "text": [
      "Highly correlated variables are: \n",
      "GrLivArea      0.736040\n",
      "SalePrice      1.000000\n",
      "OverallQual    0.787266\n",
      "TotalBsmtSF    0.642555\n",
      "1stFlrSF       0.634755\n",
      "GarageCars     0.632217\n",
      "GarageArea     0.621855\n",
      "Name: SalePrice, dtype: float64\n",
      "------------------------------------------------------------------------------------------------------------------------------------------------------\n",
      "Medium correlated variables are: \n",
      "YearBuilt       0.533163\n",
      "YearRemodAdd    0.501543\n",
      "MasVnrArea      0.486528\n",
      "BsmtFinSF1      0.454164\n",
      "FullBath        0.548532\n",
      "TotRmsAbvGrd    0.496571\n",
      "Fireplaces      0.493448\n",
      "Name: SalePrice, dtype: float64\n",
      "------------------------------------------------------------------------------------------------------------------------------------------------------\n",
      "Low correlated variables are: \n",
      "PID             -0.207391\n",
      "MSSubClass      -0.075707\n",
      "LotFrontage      0.344709\n",
      "LotArea          0.275087\n",
      "OverallCond     -0.091298\n",
      "BsmtFinSF2       0.038297\n",
      "BsmtUnfSF        0.159640\n",
      "2ndFlrSF         0.293441\n",
      "LowQualFinSF    -0.025805\n",
      "BsmtFullBath     0.286967\n",
      "BsmtHalfBath    -0.029065\n",
      "HalfBath         0.292503\n",
      "BedroomAbvGr     0.183487\n",
      "KitchenAbvGr    -0.114423\n",
      "WoodDeckSF       0.350006\n",
      "OpenPorchSF      0.326376\n",
      "EnclosedPorch   -0.118043\n",
      "3SsnPorch        0.016043\n",
      "ScreenPorch      0.116738\n",
      "PoolArea         0.035699\n",
      "MiscVal         -0.016696\n",
      "MoSold           0.001308\n",
      "YrSold           0.022473\n",
      "Name: SalePrice, dtype: float64\n"
     ]
    }
   ],
   "source": [
    "## See correlations related to sale price and to eyeball which features might matter the most \n",
    "corrs = housing.corr()\n",
    "highly_correlated = corrs[np.abs(corrs['SalePrice']) >= .6]\n",
    "medium_correlated = corrs[np.abs(corrs['SalePrice']).between(.4,.6)] \n",
    "low_correlated = corrs[(np.abs(corrs['SalePrice']) < .4)] \n",
    "\n",
    "## Print out column headers that are going to have high and medium correlations to sales price \n",
    "print('Highly correlated variables are: ')\n",
    "print(highly_correlated['SalePrice'])\n",
    "print('-'*150)\n",
    "print('Medium correlated variables are: ')\n",
    "print(medium_correlated['SalePrice'])\n",
    "print('-'*150)\n",
    "print('Low correlated variables are: ')\n",
    "print(low_correlated['SalePrice'])"
   ]
  },
  {
   "cell_type": "markdown",
   "metadata": {},
   "source": [
    "### Start dummifying variables and look at multicollinearity"
   ]
  },
  {
   "cell_type": "code",
   "execution_count": 62,
   "metadata": {},
   "outputs": [],
   "source": [
    "## Identify Categorical Variables and create a list of them (With PID included so we can use as key later on)\n",
    "category_list = list(housing.select_dtypes('object').columns)\n",
    "category_list.append('PID')\n",
    "\n",
    "## Use the list above to create a dataframe with just the categorical variables and PID\n",
    "category_variables = housing[housing.columns.intersection(category_list)]\n",
    "\n",
    "## Dummify the categorical variables\n",
    "category = pd.get_dummies(data = category_variables, prefix_sep = '_' , drop_first=True)\n",
    "\n",
    "## Remove the original categorical values from the dataframe and merge the dummified and original values into a new dataframe called final\n",
    "housing.drop(columns = housing.select_dtypes('object').columns, axis =1, inplace=True)\n",
    "final = pd.merge(housing, category, on = 'PID')\n"
   ]
  },
  {
   "cell_type": "code",
   "execution_count": 63,
   "metadata": {},
   "outputs": [
    {
     "data": {
      "text/plain": [
       "0.8432074958089164"
      ]
     },
     "execution_count": 63,
     "metadata": {},
     "output_type": "execute_result"
    }
   ],
   "source": [
    "#Messing around with regression just to see\n",
    "\n",
    "from sklearn.linear_model import LinearRegression\n",
    "\n",
    "target = housing['SalePrice']\n",
    "housing.drop(['SalePrice'] , axis =1, inplace = True)\n",
    "for_model = housing[['GrLivArea', 'OverallQual', 'TotalBsmtSF' , '1stFlrSF' , 'GarageCars', 'GarageArea']]\n",
    "\n",
    "\n",
    "lm = LinearRegression()\n",
    "lm.fit(for_model, np.log(target))\n",
    "lm.score(for_model, np.log(target))\n"
   ]
  }
 ],
 "metadata": {
  "interpreter": {
   "hash": "0361ced4ee9008cee796c675e99fc9755dfaef9b8a7e8c7e0212b1562f6bd272"
  },
  "kernelspec": {
   "display_name": "Python 3.8.8 64-bit ('base': conda)",
   "name": "python3"
  },
  "language_info": {
   "codemirror_mode": {
    "name": "ipython",
    "version": 3
   },
   "file_extension": ".py",
   "mimetype": "text/x-python",
   "name": "python",
   "nbconvert_exporter": "python",
   "pygments_lexer": "ipython3",
   "version": "3.8.8"
  },
  "orig_nbformat": 4
 },
 "nbformat": 4,
 "nbformat_minor": 2
}

{
 "cells": [
  {
   "cell_type": "markdown",
   "metadata": {},
   "source": [
    "# Housing Regression Maching Learning Project"
   ]
  },
  {
   "cell_type": "markdown",
   "metadata": {},
   "source": [
    "### Imports (Data and Packages)"
   ]
  },
  {
   "cell_type": "code",
   "execution_count": 256,
   "metadata": {},
   "outputs": [],
   "source": [
    "import numpy as np\n",
    "import pandas as pd\n",
    "import seaborn as sns\n",
    "sns.set_theme(style=\"white\")\n",
    "%matplotlib inline "
   ]
  },
  {
   "cell_type": "code",
   "execution_count": 257,
   "metadata": {},
   "outputs": [
    {
     "name": "stderr",
     "output_type": "stream",
     "text": [
      "C:\\Users\\jackc\\anaconda3\\lib\\site-packages\\IPython\\core\\interactiveshell.py:3165: DtypeWarning: Columns (36,40,81,87) have mixed types.Specify dtype option on import or set low_memory=False.\n",
      "  has_raised = await self.run_ast_nodes(code_ast.body, cell_name,\n"
     ]
    }
   ],
   "source": [
    "housing = pd.read_csv('./data/Ames_Housing_Price_Data.csv', index_col=0)\n",
    "real_estate = pd.read_csv('./data/Ames_Real_Estate_data.csv' , index_col = 0)"
   ]
  },
  {
   "cell_type": "markdown",
   "metadata": {},
   "source": [
    "### Beginning to Clean Data and Handle Null Values"
   ]
  },
  {
   "cell_type": "code",
   "execution_count": 258,
   "metadata": {},
   "outputs": [
    {
     "name": "stdout",
     "output_type": "stream",
     "text": [
      "A total of 5 columns were removed from the dataset. The following columns were removed from the housing dataset: \n",
      "Alley\n",
      "FireplaceQu\n",
      "PoolQC\n",
      "Fence\n",
      "MiscFeature\n",
      "------------------------------------------------------------------------------------------------------------------------\n",
      "LotFrontage   462   float64\n",
      "MasVnrType   14   object\n",
      "MasVnrArea   14   float64\n",
      "BsmtQual   69   object\n",
      "BsmtCond   69   object\n",
      "BsmtExposure   71   object\n",
      "BsmtFinType1   69   object\n",
      "BsmtFinSF1   1   float64\n",
      "BsmtFinType2   70   object\n",
      "BsmtFinSF2   1   float64\n",
      "BsmtUnfSF   1   float64\n",
      "TotalBsmtSF   1   float64\n",
      "Electrical   1   object\n",
      "BsmtFullBath   2   float64\n",
      "BsmtHalfBath   2   float64\n",
      "GarageType   127   object\n",
      "GarageYrBlt   129   float64\n",
      "GarageFinish   129   object\n",
      "GarageCars   1   float64\n",
      "GarageArea   1   float64\n",
      "GarageQual   129   object\n",
      "GarageCond   129   object\n"
     ]
    }
   ],
   "source": [
    "## Checking for null values\n",
    "columns_with_nulls = {}\n",
    "for column in housing.columns:\n",
    "    if(housing[column].isnull().sum() > 0):\n",
    "        columns_with_nulls[column] = housing[column].isnull().sum()\n",
    "\n",
    "## Set a threshold for how many values will be allowed per column \n",
    "threshold = 500\n",
    "\n",
    "## Remove columns that have more null values than the threshold allows\n",
    "## For columns that have nulls, but less than the threshold, put in list to fill the nulls later\n",
    "cols_to_remove = []\n",
    "cols_to_fill = []\n",
    "[cols_to_remove.append(k) if v>=threshold else cols_to_fill.append(k) for k,v in columns_with_nulls.items()]\n",
    "housing.drop(cols_to_remove, axis = 1, inplace = True)\n",
    "\n",
    "## Print which columns were removed to ensure that there is nothing important that was removed \n",
    "print(\"A total of %s columns were removed from the dataset. The following columns were removed from the housing dataset: \" %len(cols_to_remove) )\n",
    "for col in cols_to_remove:\n",
    "    print(col)\n",
    "\n",
    "print('-'*120)\n",
    "\n",
    "## Look at Null values for other columns and see how to fill\n",
    "for col in cols_to_fill:\n",
    "    print(col , ' ' , housing[col].isnull().sum(),' ', housing[col].dtype)\n",
    "\n",
    "## For now, remove all nulls by row \n",
    "housing.dropna(axis = 0, inplace = True)\n"
   ]
  },
  {
   "cell_type": "markdown",
   "metadata": {},
   "source": [
    "### EDA"
   ]
  },
  {
   "cell_type": "code",
   "execution_count": 259,
   "metadata": {},
   "outputs": [
    {
     "data": {
      "text/plain": [
       "<AxesSubplot:>"
      ]
     },
     "execution_count": 259,
     "metadata": {},
     "output_type": "execute_result"
    },
    {
     "data": {
      "image/png": "[encoded data removed]",
      "text/plain": [
       "<Figure size 432x288 with 1 Axes>"
      ]
     },
     "metadata": {
      "needs_background": "light"
     },
     "output_type": "display_data"
    }
   ],
   "source": [
    "## First looking at Sale Price to see the features\n",
    "np.log(housing['SalePrice']).hist()\n",
    "\n",
    "## Histogram looks skewed right - is this going to be a problem? Maybe try a boxcox transformation or log? "
   ]
  },
  {
   "cell_type": "code",
   "execution_count": 260,
   "metadata": {},
   "outputs": [
    {
     "name": "stdout",
     "output_type": "stream",
     "text": [
      "Highly correlated variables are: \n",
      "GrLivArea      0.725921\n",
      "SalePrice      1.000000\n",
      "OverallQual    0.795455\n",
      "TotalBsmtSF    0.684205\n",
      "1stFlrSF       0.678018\n",
      "GarageCars     0.657739\n",
      "GarageArea     0.650319\n",
      "Name: SalePrice, dtype: float64\n",
      "------------------------------------------------------------------------------------------------------------------------------------------------------\n",
      "Medium correlated variables are: \n",
      "YearBuilt       0.543807\n",
      "YearRemodAdd    0.514073\n",
      "MasVnrArea      0.517313\n",
      "BsmtFinSF1      0.463311\n",
      "FullBath        0.549002\n",
      "TotRmsAbvGrd    0.516318\n",
      "Fireplaces      0.473911\n",
      "GarageYrBlt     0.529246\n",
      "Name: SalePrice, dtype: float64\n"
     ]
    }
   ],
   "source": [
    "## See correlations related to sale price and to eyeball which features might matter the most \n",
    "corrs = housing.corr()\n",
    "highly_correlated = corrs[np.abs(corrs['SalePrice']) >= .6]\n",
    "medium_correlated = corrs[np.abs(corrs['SalePrice']).between(.4,.6)] \n",
    "low_correlated = corrs[(np.abs(corrs['SalePrice']) < .4)] \n",
    "\n",
    "## Print out column headers that are going to have high and medium correlations to sales price \n",
    "print('Highly correlated variables are: ')\n",
    "print(highly_correlated['SalePrice'])\n",
    "print('-'*150)\n",
    "print('Medium correlated variables are: ')\n",
    "print(medium_correlated['SalePrice'])"
   ]
  },
  {
   "cell_type": "code",
   "execution_count": 265,
   "metadata": {},
   "outputs": [
    {
     "data": {
      "text/plain": [
       "0.8211859261626148"
      ]
     },
     "execution_count": 265,
     "metadata": {},
     "output_type": "execute_result"
    }
   ],
   "source": [
    "#Messing around with regression just to see\n",
    "\n",
    "from sklearn.linear_model import LinearRegression\n",
    "\n",
    "target = housing['SalePrice']\n",
    "housing.drop(['SalePrice'] , axis =1, inplace = True)\n",
    "for_model = housing[['GrLivArea', 'OverallQual', 'TotalBsmtSF' , '1stFlrSF' , 'GarageCars', 'GarageArea']]\n",
    "\n",
    "\n",
    "lm = LinearRegression()\n",
    "lm.fit(for_model, np.log(target))\n",
    "lm.score(for_model, np.log(target))\n"
   ]
  }
 ],
 "metadata": {
  "interpreter": {
   "hash": "0361ced4ee9008cee796c675e99fc9755dfaef9b8a7e8c7e0212b1562f6bd272"
  },
  "kernelspec": {
   "display_name": "Python 3.8.8 64-bit ('base': conda)",
   "name": "python3"
  },
  "language_info": {
   "codemirror_mode": {
    "name": "ipython",
    "version": 3
   },
   "file_extension": ".py",
   "mimetype": "text/x-python",
   "name": "python",
   "nbconvert_exporter": "python",
   "pygments_lexer": "ipython3",
   "version": "3.8.8"
  },
  "orig_nbformat": 4
 },
 "nbformat": 4,
 "nbformat_minor": 2
}

{
 "cells": [
  {
   "cell_type": "markdown",
   "metadata": {},
   "source": [
    "# Housing Regression Maching Learning Project"
   ]
  },
  {
   "cell_type": "markdown",
   "metadata": {},
   "source": [
    "### Imports (Data and Packages)"
   ]
  },
  {
   "cell_type": "code",
   "execution_count": 1,
   "metadata": {},
   "outputs": [],
   "source": [
    "import numpy as np\n",
    "import pandas as pd\n",
    "import seaborn as sns\n",
    "import matplotlib.pyplot as plt\n",
    "from sklearn.pipeline import Pipeline\n",
    "from data_preprocessing_final import cleaning, dummify, scale_data, ord_encoding, initiate_data\n",
    "from sklearn.preprocessing import StandardScaler, MinMaxScaler, OrdinalEncoder\n",
    "from sklearn.model_selection import train_test_split, GridSearchCV, KFold\n",
    "from sklearn.tree import DecisionTreeClassifier, DecisionTreeRegressor, plot_tree\n",
    "from sklearn.ensemble import RandomForestRegressor\n",
    "from sklearn.metrics import mean_squared_error\n",
    "%matplotlib inline "
   ]
  },
  {
   "cell_type": "code",
   "execution_count": 2,
   "metadata": {},
   "outputs": [],
   "source": [
    "housing = pd.read_csv('./data/Ames_Housing_Price_Data.csv', index_col=0)\n",
    "train_data_linear, train_target_linear, test_data_linear, test_target_linear, train_data_tree, train_target_tree, test_data_tree, test_target_tree = initiate_data(housing)\n"
   ]
  },
  {
   "cell_type": "code",
   "execution_count": 3,
   "metadata": {},
   "outputs": [
    {
     "data": {
      "text/plain": [
       "(2580, 57)"
      ]
     },
     "execution_count": 3,
     "metadata": {},
     "output_type": "execute_result"
    }
   ],
   "source": [
    "housing.shape"
   ]
  },
  {
   "cell_type": "markdown",
   "metadata": {},
   "source": [
    "### Lasso Regression"
   ]
  },
  {
   "cell_type": "code",
   "execution_count": 4,
   "metadata": {},
   "outputs": [],
   "source": [
    "## Working on Lasso Regression\n",
    "from sklearn.linear_model import Lasso\n",
    "lasso = Lasso()"
   ]
  },
  {
   "cell_type": "code",
   "execution_count": 5,
   "metadata": {},
   "outputs": [],
   "source": [
    "alphaRange = np.linspace(0,0.0005,5)\n",
    "params = {'alpha': alphaRange, 'max_iter' : [10000]}"
   ]
  },
  {
   "cell_type": "code",
   "execution_count": 6,
   "metadata": {},
   "outputs": [
    {
     "name": "stderr",
     "output_type": "stream",
     "text": [
      "C:\\Users\\jackc\\anaconda3\\lib\\site-packages\\sklearn\\model_selection\\_validation.py:593: UserWarning: With alpha=0, this algorithm does not converge well. You are advised to use the LinearRegression estimator\n",
      "  estimator.fit(X_train, y_train, **fit_params)\n",
      "C:\\Users\\jackc\\anaconda3\\lib\\site-packages\\sklearn\\linear_model\\_coordinate_descent.py:530: UserWarning: Coordinate descent with no regularization may lead to unexpected results and is discouraged.\n",
      "  model = cd_fast.enet_coordinate_descent(\n",
      "C:\\Users\\jackc\\anaconda3\\lib\\site-packages\\sklearn\\linear_model\\_coordinate_descent.py:530: ConvergenceWarning: Objective did not converge. You might want to increase the number of iterations. Duality gap: 3.8872676788667073, tolerance: 0.021091979940010448\n",
      "  model = cd_fast.enet_coordinate_descent(\n",
      "C:\\Users\\jackc\\anaconda3\\lib\\site-packages\\sklearn\\model_selection\\_validation.py:593: UserWarning: With alpha=0, this algorithm does not converge well. You are advised to use the LinearRegression estimator\n",
      "  estimator.fit(X_train, y_train, **fit_params)\n",
      "C:\\Users\\jackc\\anaconda3\\lib\\site-packages\\sklearn\\linear_model\\_coordinate_descent.py:530: UserWarning: Coordinate descent with no regularization may lead to unexpected results and is discouraged.\n",
      "  model = cd_fast.enet_coordinate_descent(\n",
      "C:\\Users\\jackc\\anaconda3\\lib\\site-packages\\sklearn\\linear_model\\_coordinate_descent.py:530: ConvergenceWarning: Objective did not converge. You might want to increase the number of iterations. Duality gap: 4.20759181772622, tolerance: 0.02138191850283444\n",
      "  model = cd_fast.enet_coordinate_descent(\n",
      "C:\\Users\\jackc\\anaconda3\\lib\\site-packages\\sklearn\\model_selection\\_validation.py:593: UserWarning: With alpha=0, this algorithm does not converge well. You are advised to use the LinearRegression estimator\n",
      "  estimator.fit(X_train, y_train, **fit_params)\n",
      "C:\\Users\\jackc\\anaconda3\\lib\\site-packages\\sklearn\\linear_model\\_coordinate_descent.py:530: UserWarning: Coordinate descent with no regularization may lead to unexpected results and is discouraged.\n",
      "  model = cd_fast.enet_coordinate_descent(\n",
      "C:\\Users\\jackc\\anaconda3\\lib\\site-packages\\sklearn\\linear_model\\_coordinate_descent.py:530: ConvergenceWarning: Objective did not converge. You might want to increase the number of iterations. Duality gap: 3.959354331078689, tolerance: 0.02113459704014632\n",
      "  model = cd_fast.enet_coordinate_descent(\n",
      "C:\\Users\\jackc\\anaconda3\\lib\\site-packages\\sklearn\\model_selection\\_validation.py:593: UserWarning: With alpha=0, this algorithm does not converge well. You are advised to use the LinearRegression estimator\n",
      "  estimator.fit(X_train, y_train, **fit_params)\n",
      "C:\\Users\\jackc\\anaconda3\\lib\\site-packages\\sklearn\\linear_model\\_coordinate_descent.py:530: UserWarning: Coordinate descent with no regularization may lead to unexpected results and is discouraged.\n",
      "  model = cd_fast.enet_coordinate_descent(\n",
      "C:\\Users\\jackc\\anaconda3\\lib\\site-packages\\sklearn\\linear_model\\_coordinate_descent.py:530: ConvergenceWarning: Objective did not converge. You might want to increase the number of iterations. Duality gap: 4.326753493571853, tolerance: 0.021193084766415404\n",
      "  model = cd_fast.enet_coordinate_descent(\n",
      "C:\\Users\\jackc\\anaconda3\\lib\\site-packages\\sklearn\\model_selection\\_validation.py:593: UserWarning: With alpha=0, this algorithm does not converge well. You are advised to use the LinearRegression estimator\n",
      "  estimator.fit(X_train, y_train, **fit_params)\n",
      "C:\\Users\\jackc\\anaconda3\\lib\\site-packages\\sklearn\\linear_model\\_coordinate_descent.py:530: UserWarning: Coordinate descent with no regularization may lead to unexpected results and is discouraged.\n",
      "  model = cd_fast.enet_coordinate_descent(\n",
      "C:\\Users\\jackc\\anaconda3\\lib\\site-packages\\sklearn\\linear_model\\_coordinate_descent.py:530: ConvergenceWarning: Objective did not converge. You might want to increase the number of iterations. Duality gap: 4.354664301348301, tolerance: 0.020733324637823222\n",
      "  model = cd_fast.enet_coordinate_descent(\n"
     ]
    },
    {
     "data": {
      "text/plain": [
       "GridSearchCV(cv=5, estimator=Lasso(),\n",
       "             param_grid={'alpha': array([0.      , 0.000125, 0.00025 , 0.000375, 0.0005  ]),\n",
       "                         'max_iter': [10000]},\n",
       "             scoring='r2')"
      ]
     },
     "execution_count": 6,
     "metadata": {},
     "output_type": "execute_result"
    }
   ],
   "source": [
    "gs = GridSearchCV(lasso, params, scoring = 'r2', cv=5)\n",
    "gs.fit(train_data_linear, train_target_linear)"
   ]
  },
  {
   "cell_type": "code",
   "execution_count": 8,
   "metadata": {},
   "outputs": [
    {
     "data": {
      "text/plain": [
       "{'alpha': 0.000125, 'max_iter': 10000}"
      ]
     },
     "execution_count": 8,
     "metadata": {},
     "output_type": "execute_result"
    }
   ],
   "source": [
    "gs.best_params_"
   ]
  },
  {
   "cell_type": "code",
   "execution_count": 9,
   "metadata": {},
   "outputs": [
    {
     "data": {
      "text/plain": [
       "0.954348900112792"
      ]
     },
     "execution_count": 9,
     "metadata": {},
     "output_type": "execute_result"
    }
   ],
   "source": [
    "gs.score(train_data_linear, train_target_linear)"
   ]
  },
  {
   "cell_type": "code",
   "execution_count": 10,
   "metadata": {},
   "outputs": [
    {
     "data": {
      "text/plain": [
       "0.9265749253857151"
      ]
     },
     "execution_count": 10,
     "metadata": {},
     "output_type": "execute_result"
    }
   ],
   "source": [
    "gs.score(test_data_linear, test_target_linear)\n"
   ]
  },
  {
   "cell_type": "code",
   "execution_count": 11,
   "metadata": {},
   "outputs": [],
   "source": [
    "predict = gs.predict(test_data_linear)\n",
    "predict = pd.DataFrame(predict)\n",
    "predict.columns = ['Prediction']"
   ]
  },
  {
   "cell_type": "code",
   "execution_count": 12,
   "metadata": {},
   "outputs": [
    {
     "data": {
      "text/html": [
       "<div>\n",
       "<style scoped>\n",
       "    .dataframe tbody tr th:only-of-type {\n",
       "        vertical-align: middle;\n",
       "    }\n",
       "\n",
       "    .dataframe tbody tr th {\n",
       "        vertical-align: top;\n",
       "    }\n",
       "\n",
       "    .dataframe thead th {\n",
       "        text-align: right;\n",
       "    }\n",
       "</style>\n",
       "<table border=\"1\" class=\"dataframe\">\n",
       "  <thead>\n",
       "    <tr style=\"text-align: right;\">\n",
       "      <th></th>\n",
       "      <th>Prediction</th>\n",
       "    </tr>\n",
       "  </thead>\n",
       "  <tbody>\n",
       "    <tr>\n",
       "      <th>0</th>\n",
       "      <td>12.381435</td>\n",
       "    </tr>\n",
       "    <tr>\n",
       "      <th>1</th>\n",
       "      <td>11.938058</td>\n",
       "    </tr>\n",
       "    <tr>\n",
       "      <th>2</th>\n",
       "      <td>11.810074</td>\n",
       "    </tr>\n",
       "    <tr>\n",
       "      <th>3</th>\n",
       "      <td>12.781388</td>\n",
       "    </tr>\n",
       "    <tr>\n",
       "      <th>4</th>\n",
       "      <td>11.625530</td>\n",
       "    </tr>\n",
       "    <tr>\n",
       "      <th>...</th>\n",
       "      <td>...</td>\n",
       "    </tr>\n",
       "    <tr>\n",
       "      <th>477</th>\n",
       "      <td>11.785136</td>\n",
       "    </tr>\n",
       "    <tr>\n",
       "      <th>478</th>\n",
       "      <td>12.140002</td>\n",
       "    </tr>\n",
       "    <tr>\n",
       "      <th>479</th>\n",
       "      <td>11.775398</td>\n",
       "    </tr>\n",
       "    <tr>\n",
       "      <th>480</th>\n",
       "      <td>11.789956</td>\n",
       "    </tr>\n",
       "    <tr>\n",
       "      <th>481</th>\n",
       "      <td>11.815776</td>\n",
       "    </tr>\n",
       "  </tbody>\n",
       "</table>\n",
       "<p>482 rows × 1 columns</p>\n",
       "</div>"
      ],
      "text/plain": [
       "     Prediction\n",
       "0     12.381435\n",
       "1     11.938058\n",
       "2     11.810074\n",
       "3     12.781388\n",
       "4     11.625530\n",
       "..          ...\n",
       "477   11.785136\n",
       "478   12.140002\n",
       "479   11.775398\n",
       "480   11.789956\n",
       "481   11.815776\n",
       "\n",
       "[482 rows x 1 columns]"
      ]
     },
     "execution_count": 12,
     "metadata": {},
     "output_type": "execute_result"
    }
   ],
   "source": [
    "predict"
   ]
  },
  {
   "cell_type": "code",
   "execution_count": 13,
   "metadata": {},
   "outputs": [
    {
     "data": {
      "text/plain": [
       "<bound method ElasticNet.fit of Lasso(alpha=0.000125, max_iter=10000)>"
      ]
     },
     "execution_count": 13,
     "metadata": {},
     "output_type": "execute_result"
    }
   ],
   "source": [
    "gs.best_estimator_.fit"
   ]
  },
  {
   "cell_type": "code",
   "execution_count": 14,
   "metadata": {},
   "outputs": [
    {
     "data": {
      "text/plain": [
       "[(0.3689666862194801, 'Neighborhood_GrnHill'),\n",
       " (0.32697842734499816, 'LotArea'),\n",
       " (0.25180221010104614, 'OverallQual_10'),\n",
       " (0.21775904121526882, 'OverallQual_9'),\n",
       " (0.20890428879858866, 'GarageArea'),\n",
       " (0.19903224010376344, 'YearBuilt'),\n",
       " (0.13612862865391676, 'OverallQual_8'),\n",
       " (0.10371639487857656, 'OverallCond_9'),\n",
       " (0.10052644957047902, 'Neighborhood_Crawfor'),\n",
       " (0.09569485200613721, 'ScreenPorch'),\n",
       " (0.09027385471571953, 'LotFrontage'),\n",
       " (0.08454230626549877, 'MSZoning_FV'),\n",
       " (0.08136082681376247, 'MSSubClass_75'),\n",
       " (0.08082313900419108, 'Exterior1st_BrkFace'),\n",
       " (0.08017440881506717, 'OverallQual_7'),\n",
       " (0.07819243932052941, 'OverallCond_8'),\n",
       " (0.07055225586432959, 'OverallCond_7'),\n",
       " (0.06118816468141264, 'Fireplaces'),\n",
       " (0.06076183884857238, 'MSZoning_RL'),\n",
       " (0.0552741152379173, 'YearRemodAdd'),\n",
       " (0.05150634325185812, 'Exterior1st_BrkComm'),\n",
       " (0.051075087390709255, 'GarageType_BuiltIn'),\n",
       " (0.050007309063840155, 'Neighborhood_Veenker'),\n",
       " (0.049750338328635874, 'Functional_Typ'),\n",
       " (0.049450598032682695, 'Condition1_PosN'),\n",
       " (0.04919350640514197, 'Condition1_Norm'),\n",
       " (0.047060736151041636, 'HouseStyle_2Story'),\n",
       " (0.04671328951201623, 'Neighborhood_ClearCr'),\n",
       " (0.043890210369106036, 'WoodDeckSF'),\n",
       " (0.043793066813282426, 'BsmtFinType2_GLQ'),\n",
       " (0.04356811497804595, 'MasVnrArea'),\n",
       " (0.043335348737218844, 'CentralAir_Y'),\n",
       " (0.04253846658295527, 'Neighborhood_StoneBr'),\n",
       " (0.04168881740428034, 'GarageType_Attchd'),\n",
       " (0.04075101368769918, 'OpenPorchSF'),\n",
       " (0.03901434028422131, 'Neighborhood_Somerst'),\n",
       " (0.03531575508674465, 'OverallQual_6'),\n",
       " (0.03451474906378343, 'HouseStyle_SLvl'),\n",
       " (0.0338668094880017, 'BsmtCond_Gd'),\n",
       " (0.03365262650370521, 'Neighborhood_NoRidge'),\n",
       " (0.03174806263959857, 'BsmtExposure_Gd'),\n",
       " (0.03132460177344991, 'GarageYrBlt'),\n",
       " (0.03083901179797377, 'LotConfig_CulDSac'),\n",
       " (0.029544146255433106, 'GarageType_Detchd'),\n",
       " (0.029498523361459666, 'Neighborhood_BrkSide'),\n",
       " (0.028912935303752888, 'Condition1_PosA'),\n",
       " (0.027058613489768565, 'Neighborhood_NridgHt'),\n",
       " (0.02459562735490992, 'MSSubClass_50'),\n",
       " (0.023212902067074777, 'EnclosedPorch'),\n",
       " (0.02282274009078407, 'Exterior1st_MetalSd'),\n",
       " (0.022758384505884452, 'OverallCond_6'),\n",
       " (0.021153300429147134, 'FireplaceQu_Gd'),\n",
       " (0.0199876926347448, 'Foundation_PConc'),\n",
       " (0.019642313868675834, 'Exterior2nd_Stucco'),\n",
       " (0.01807561168101049, 'HouseStyle_SFoyer'),\n",
       " (0.01687716515414645, 'PavedDrive_Y'),\n",
       " (0.01618898791469491, 'Exterior1st_WdShing'),\n",
       " (0.014495751621417639, 'FireplaceQu_TA'),\n",
       " (0.014357192322670922, 'Functional_Min1'),\n",
       " (0.012170208358442736, 'Exterior2nd_VinylSd'),\n",
       " (0.012145533376168631, 'MSSubClass_70'),\n",
       " (0.011218697088333812, 'BsmtFinType2_Unf'),\n",
       " (0.01105747957955531, 'MSSubClass_20'),\n",
       " (0.010813206436540393, 'Neighborhood_Gilbert'),\n",
       " (0.010349786631276699, 'MoSold_7'),\n",
       " (0.01001345042289139, 'TotRmsAbvGrd'),\n",
       " (0.009532513310875106, 'MoSold_9'),\n",
       " (0.00936624140719827, 'BsmtFinType1_GLQ'),\n",
       " (0.008972086228635186, 'LandContour_HLS'),\n",
       " (0.008948412158994942, 'Exterior1st_Stucco'),\n",
       " (0.00857862411073081, 'Functional_Min2'),\n",
       " (0.00801942761843129, 'Exterior2nd_CmentBd'),\n",
       " (0.007418102897135136, 'LandSlope_Mod'),\n",
       " (0.006887313128902219, 'Foundation_CBlock'),\n",
       " (0.006273274173304199, 'Exterior2nd_Wd Sdng'),\n",
       " (0.0062104571664939635, 'LotConfig_Inside'),\n",
       " (0.005256871878097955, 'MoSold_8'),\n",
       " (0.004780880645016194, 'MasVnrType_Stone'),\n",
       " (0.004043173492125787, 'RoofStyle_Other'),\n",
       " (0.003504848044683611, 'BsmtCond_TA'),\n",
       " (0.0018152168549019246, 'ExterCond_TA'),\n",
       " (0.001541669276628426, 'LandContour_Lvl'),\n",
       " (0.00037438119596029825, 'MSSubClass_85'),\n",
       " (0.00020725935074319832, 'TotalLivArea'),\n",
       " (7.587872662218627e-11, 'PID'),\n",
       " (-0.0, 'MSZoning_I (all)'),\n",
       " (0.0, 'MSZoning_RH'),\n",
       " (-0.0, 'MSZoning_RM'),\n",
       " (-0.0, 'LandContour_Low'),\n",
       " (-0.0, 'LotConfig_FR3'),\n",
       " (0.0, 'Neighborhood_Blueste'),\n",
       " (-0.0, 'Neighborhood_BrDale'),\n",
       " (0.0, 'Neighborhood_Greens'),\n",
       " (0.0, 'Neighborhood_IDOTRR'),\n",
       " (0.0, 'Neighborhood_Landmrk'),\n",
       " (0.0, 'Neighborhood_NPkVill'),\n",
       " (-0.0, 'Neighborhood_NWAmes'),\n",
       " (-0.0, 'Neighborhood_Timber'),\n",
       " (0.0, 'Condition1_Feedr'),\n",
       " (-0.0, 'Condition1_RRAe'),\n",
       " (0.0, 'Condition1_RRAn'),\n",
       " (0.0, 'Condition1_RRNe'),\n",
       " (0.0, 'Condition1_RRNn'),\n",
       " (-0.0, 'BldgType_2fmCon'),\n",
       " (0.0, 'BldgType_TwnhsE'),\n",
       " (-0.0, 'HouseStyle_1.5Unf'),\n",
       " (0.0, 'HouseStyle_2.5Fin'),\n",
       " (0.0, 'HouseStyle_2.5Unf'),\n",
       " (0.0, 'Exterior1st_AsphShn'),\n",
       " (-0.0, 'Exterior1st_CBlock'),\n",
       " (0.0, 'Exterior1st_CemntBd'),\n",
       " (0.0, 'Exterior1st_ImStucc'),\n",
       " (-0.0, 'Exterior1st_Plywood'),\n",
       " (-0.0, 'Exterior1st_Wd Sdng'),\n",
       " (0.0, 'Exterior2nd_AsphShn'),\n",
       " (0.0, 'Exterior2nd_Brk Cmn'),\n",
       " (0.0, 'Exterior2nd_CBlock'),\n",
       " (0.0, 'Exterior2nd_HdBoard'),\n",
       " (0.0, 'Exterior2nd_Stone'),\n",
       " (0.0, 'Exterior2nd_Wd Shng'),\n",
       " (0.0, 'MasVnrType_BrkFace'),\n",
       " (-0.0, 'ExterQual_Fa'),\n",
       " (-0.0, 'ExterCond_Gd'),\n",
       " (0.0, 'ExterCond_Po'),\n",
       " (-0.0, 'Foundation_Slab'),\n",
       " (0.0, 'Foundation_Stone'),\n",
       " (-0.0, 'Foundation_Wood'),\n",
       " (0.0, 'BsmtQual_No_Basement'),\n",
       " (0.0, 'BsmtQual_Po'),\n",
       " (-0.0, 'BsmtCond_No_Basement'),\n",
       " (-0.0, 'BsmtCond_Po'),\n",
       " (-0.0, 'BsmtExposure_No_Basement'),\n",
       " (0.0, 'BsmtFinType1_No_Basement'),\n",
       " (0.0, 'BsmtFinType2_No_Basement'),\n",
       " (-0.0, 'HeatingQC_Po'),\n",
       " (0.0, 'Functional_Mod'),\n",
       " (-0.0, 'FireplaceQu_Fa'),\n",
       " (0.0, 'FireplaceQu_Po'),\n",
       " (-0.0, 'GarageType_Basment'),\n",
       " (-0.0, 'GarageType_CarPort'),\n",
       " (-0.0, 'GarageType_No_Garage'),\n",
       " (-0.0, 'GarageFinish_Unf'),\n",
       " (0.0, 'GarageQual_Gd'),\n",
       " (-0.0, 'GarageQual_Po'),\n",
       " (0.0, 'GarageQual_TA'),\n",
       " (-0.0, 'MSSubClass_150'),\n",
       " (-0.0, 'MSSubClass_40'),\n",
       " (-0.0, 'MSSubClass_60'),\n",
       " (-0.0, 'MSSubClass_80'),\n",
       " (-0.0, 'OverallQual_5'),\n",
       " (0.0, 'OverallCond_5'),\n",
       " (0.0, 'MoSold_5'),\n",
       " (-0.0, 'YrSold_2010'),\n",
       " (0.0, 'BedroomAbvGr'),\n",
       " (0.0, '3SsnPorch'),\n",
       " (0.0, 'TotalBath'),\n",
       " (-0.00013183618266436814, 'Fence_GdWo'),\n",
       " (-0.00038791704748947643, 'Exterior2nd_ImStucc'),\n",
       " (-0.001252718358340607, 'MasVnrType_None'),\n",
       " (-0.0014211768878041576, 'BsmtFinType2_LwQ'),\n",
       " (-0.0019512420828853676, 'MoSold_6'),\n",
       " (-0.0022715795041955834, 'GarageFinish_No_Garage'),\n",
       " (-0.0026242182845453254, 'GarageQual_No_Garage'),\n",
       " (-0.0032564165426062068, 'LotShape_Reg'),\n",
       " (-0.0032868278968996197, 'ExterQual_Gd'),\n",
       " (-0.0037644566634089985, 'MSSubClass_45'),\n",
       " (-0.003852815870204916, 'HeatingQC_Gd'),\n",
       " (-0.004032412887392273, 'BsmtExposure_No'),\n",
       " (-0.004094688124871289, 'MoSold_4'),\n",
       " (-0.005214274609280857, 'Fence_No_Fence'),\n",
       " (-0.00546724373066706, 'FireplaceQu_No_Fireplace'),\n",
       " (-0.005633130411058585, 'BsmtCond_Fa'),\n",
       " (-0.0056644802638319775, 'Exterior1st_HdBoard'),\n",
       " (-0.006028629183221904, 'GarageFinish_RFn'),\n",
       " (-0.006142600778199143, 'Exterior1st_VinylSd'),\n",
       " (-0.0063114240200367435, 'Fence_MnPrv'),\n",
       " (-0.006311536614487082, 'YrSold_2008'),\n",
       " (-0.006438108860413877, 'YrSold_2007'),\n",
       " (-0.006530159129253171, 'BsmtFinType2_Rec'),\n",
       " (-0.006588593048633039, 'PavedDrive_P'),\n",
       " (-0.007852249113340636, 'RoofStyle_Hip'),\n",
       " (-0.008129507479258313, 'MoSold_10'),\n",
       " (-0.008834816252987108, 'Neighborhood_OldTown'),\n",
       " (-0.00889902285980419, 'BsmtFinType1_BLQ'),\n",
       " (-0.008938490655371374, 'Neighborhood_NAmes'),\n",
       " (-0.00918478661429055, 'ExterQual_TA'),\n",
       " (-0.010454755507444492, 'Neighborhood_Sawyer'),\n",
       " (-0.010465552905654422, 'MSSubClass_190'),\n",
       " (-0.011046071626535014, 'YrSold_2009'),\n",
       " (-0.011318673440620703, 'BsmtExposure_Mn'),\n",
       " (-0.012076476396428054, 'MoSold_2'),\n",
       " (-0.012096436920849388, 'HouseStyle_1Story'),\n",
       " (-0.012301299404730329, 'LotConfig_FR2'),\n",
       " (-0.013900282334727558, 'MoSold_11'),\n",
       " (-0.013959608332140888, 'Neighborhood_SawyerW'),\n",
       " (-0.015512683663615143, 'BsmtFinType1_Unf'),\n",
       " (-0.015709461348312366, 'MSSubClass_180'),\n",
       " (-0.01626909620130861, 'Exterior2nd_Plywood'),\n",
       " (-0.01650139834472449, 'MoSold_3'),\n",
       " (-0.017795946520147893, 'Exterior2nd_MetalSd'),\n",
       " (-0.018313719178021572, 'HeatingQC_TA'),\n",
       " (-0.018781160310940008, 'MoSold_12'),\n",
       " (-0.02008263830657414, 'GarageQual_Fa'),\n",
       " (-0.02027124346303412, 'HeatingQC_Fa'),\n",
       " (-0.02050304200872861, 'Fence_MnWw'),\n",
       " (-0.02245222732675656, 'LandSlope_Sev'),\n",
       " (-0.02363851991408291, 'BsmtQual_Gd'),\n",
       " (-0.023798193248990355, 'BldgType_Duplex'),\n",
       " (-0.023879432251502526, 'BsmtQual_TA'),\n",
       " (-0.026287929872242086, 'Neighborhood_Mitchel'),\n",
       " (-0.02762245935713161, 'BsmtFinType2_BLQ'),\n",
       " (-0.03047333088031438, 'Neighborhood_CollgCr'),\n",
       " (-0.03142266048453295, 'Neighborhood_SWISU'),\n",
       " (-0.031624177584594286, 'ExterCond_Fa'),\n",
       " (-0.031973884635516085, 'BsmtQual_Fa'),\n",
       " (-0.03385918367413801, 'KitchenQual_Gd'),\n",
       " (-0.03415870099406916, 'BsmtFinType1_Rec'),\n",
       " (-0.03705623329885862, 'OverallQual_4'),\n",
       " (-0.03951140145809124, 'BldgType_Twnhs'),\n",
       " (-0.04013490213173939, 'Exterior2nd_BrkFace'),\n",
       " (-0.04272700729952304, 'BsmtFinType1_LwQ'),\n",
       " (-0.05322798539091916, 'KitchenQual_TA'),\n",
       " (-0.05432345091595418, 'MSSubClass_90'),\n",
       " (-0.058703339639323324, 'MSSubClass_160'),\n",
       " (-0.06083554218999499, 'MSSubClass_30'),\n",
       " (-0.06275245594365143, 'OverallCond_4'),\n",
       " (-0.06656452683663834, 'KitchenQual_Fa'),\n",
       " (-0.06710720353254006, 'Neighborhood_Edwards'),\n",
       " (-0.07381291487458137, 'OverallQual_3'),\n",
       " (-0.07443514089383665, 'MSZoning_C (all)'),\n",
       " (-0.10832949617725783, 'Functional_Maj2'),\n",
       " (-0.1440360071200557, 'OverallCond_3'),\n",
       " (-0.14498219237992171, 'Neighborhood_MeadowV'),\n",
       " (-0.17741147090990142, 'OverallCond_2'),\n",
       " (-0.18603224639634153, 'OverallQual_2'),\n",
       " (-0.42718889313750996, 'Bsmt_Unfin_Ratio')]"
      ]
     },
     "execution_count": 14,
     "metadata": {},
     "output_type": "execute_result"
    }
   ],
   "source": [
    "sorted(list(zip(gs.best_estimator_.coef_, train_data_linear.columns)), key = lambda t: t[0], reverse=True)"
   ]
  },
  {
   "cell_type": "markdown",
   "metadata": {},
   "source": [
    "## Establish Connection with Tableau\n"
   ]
  },
  {
   "cell_type": "code",
   "execution_count": 15,
   "metadata": {},
   "outputs": [
    {
     "data": {
      "text/plain": [
       "MinMaxScaler()"
      ]
     },
     "execution_count": 15,
     "metadata": {},
     "output_type": "execute_result"
    }
   ],
   "source": [
    "## First need to train the scaler \n",
    "scale_trainer = train_data_linear.copy()\n",
    "scale_trainer = scale_trainer.reset_index() #duplicated index values in csv need to reset\n",
    "scale_trainer = scale_trainer.drop('index', axis = 1) # drop original index with duplicates\n",
    "scale_trainer_num = scale_trainer.select_dtypes(['int64', 'float64']) # Select numeric data types\n",
    "scale_trainer_num = scale_trainer_num.drop(['PID'], axis = 1) ## Drop PID and saleprice since they should not be scaled \n",
    "\n",
    "## Set up and train the scaler \n",
    "scaler = MinMaxScaler()\n",
    "scaler.fit(scale_trainer_num)\n"
   ]
  },
  {
   "cell_type": "code",
   "execution_count": 16,
   "metadata": {},
   "outputs": [],
   "source": [
    "import tabpy_client\n",
    "from tabpy.tabpy_tools.client import Client\n",
    "\n",
    "\n",
    "def predict_price(_arg1,_arg2,_arg3, _arg4):\n",
    "    scaler = MinMaxScaler()\n",
    "    test_nums = housing[['TotalLivArea', 'LotArea','GarageArea', 'YearBuilt']]\n",
    "    scaler.fit(test_nums)\n",
    "\n",
    "    row = train_data_linear[train_data_linear['PID'] == 1]\n",
    "    row = row.assign(TotalLivArea = _arg1)\n",
    "    row = row.assign(LotArea= _arg2)\n",
    "    row = row.assign(GarageArea = _arg3)\n",
    "    row = row.assign(YearBuilt = _arg4)\n",
    "\n",
    "    row_scale = row[['TotalLivArea', 'LotArea','GarageArea', 'YearBuilt']]\n",
    "    row.drop(columns = row_scale.columns, inplace = True, axis=1)\n",
    "    row_scaled = scaler.transform(row_scale)\n",
    "    row_scaled = pd.DataFrame(row_scaled, columns = row_scale.columns)\n",
    "    row_scaled['PID'] = 1\n",
    "    row = pd.merge(row, row_scaled, on = 'PID')\n",
    "\n",
    "    price = gs.best_estimator_.predict(row)\n",
    "    price = int(np.exp(price))\n",
    "    return price\n",
    "\n",
    "client = tabpy_client.Client('http://localhost:9004/')\n",
    "client.deploy('predict_price', predict_price, 'predicts price based on inputs', override = True)"
   ]
  },
  {
   "cell_type": "code",
   "execution_count": 34,
   "metadata": {},
   "outputs": [
    {
     "data": {
      "text/html": [
       "<div>\n",
       "<style scoped>\n",
       "    .dataframe tbody tr th:only-of-type {\n",
       "        vertical-align: middle;\n",
       "    }\n",
       "\n",
       "    .dataframe tbody tr th {\n",
       "        vertical-align: top;\n",
       "    }\n",
       "\n",
       "    .dataframe thead th {\n",
       "        text-align: right;\n",
       "    }\n",
       "</style>\n",
       "<table border=\"1\" class=\"dataframe\">\n",
       "  <thead>\n",
       "    <tr style=\"text-align: right;\">\n",
       "      <th></th>\n",
       "      <th>Prediction</th>\n",
       "      <th>PID</th>\n",
       "      <th>SalePrice</th>\n",
       "      <th>Pct_diff</th>\n",
       "    </tr>\n",
       "  </thead>\n",
       "  <tbody>\n",
       "    <tr>\n",
       "      <th>0</th>\n",
       "      <td>$131,567.89</td>\n",
       "      <td>908128050</td>\n",
       "      <td>$137,500.00</td>\n",
       "      <td>$-4.31</td>\n",
       "    </tr>\n",
       "    <tr>\n",
       "      <th>1</th>\n",
       "      <td>$134,791.43</td>\n",
       "      <td>535450070</td>\n",
       "      <td>$133,000.00</td>\n",
       "      <td>$1.35</td>\n",
       "    </tr>\n",
       "    <tr>\n",
       "      <th>2</th>\n",
       "      <td>$227,949.44</td>\n",
       "      <td>906223180</td>\n",
       "      <td>$215,000.00</td>\n",
       "      <td>$6.02</td>\n",
       "    </tr>\n",
       "    <tr>\n",
       "      <th>3</th>\n",
       "      <td>$146,896.75</td>\n",
       "      <td>909253180</td>\n",
       "      <td>$145,000.00</td>\n",
       "      <td>$1.31</td>\n",
       "    </tr>\n",
       "    <tr>\n",
       "      <th>4</th>\n",
       "      <td>$144,407.25</td>\n",
       "      <td>905103180</td>\n",
       "      <td>$132,000.00</td>\n",
       "      <td>$9.40</td>\n",
       "    </tr>\n",
       "    <tr>\n",
       "      <th>...</th>\n",
       "      <td>...</td>\n",
       "      <td>...</td>\n",
       "      <td>...</td>\n",
       "      <td>...</td>\n",
       "    </tr>\n",
       "    <tr>\n",
       "      <th>478</th>\n",
       "      <td>$210,358.60</td>\n",
       "      <td>903206120</td>\n",
       "      <td>$209,500.00</td>\n",
       "      <td>$0.41</td>\n",
       "    </tr>\n",
       "    <tr>\n",
       "      <th>479</th>\n",
       "      <td>$207,686.35</td>\n",
       "      <td>907290090</td>\n",
       "      <td>$213,000.00</td>\n",
       "      <td>$-2.49</td>\n",
       "    </tr>\n",
       "    <tr>\n",
       "      <th>480</th>\n",
       "      <td>$122,660.10</td>\n",
       "      <td>527450080</td>\n",
       "      <td>$125,500.00</td>\n",
       "      <td>$-2.26</td>\n",
       "    </tr>\n",
       "    <tr>\n",
       "      <th>481</th>\n",
       "      <td>$148,264.67</td>\n",
       "      <td>535402230</td>\n",
       "      <td>$147,000.00</td>\n",
       "      <td>$0.86</td>\n",
       "    </tr>\n",
       "    <tr>\n",
       "      <th>482</th>\n",
       "      <td>$151,627.24</td>\n",
       "      <td>534225120</td>\n",
       "      <td>$142,600.00</td>\n",
       "      <td>$6.33</td>\n",
       "    </tr>\n",
       "  </tbody>\n",
       "</table>\n",
       "<p>483 rows × 4 columns</p>\n",
       "</div>"
      ],
      "text/plain": [
       "     Prediction        PID   SalePrice  Pct_diff\n",
       "0   $131,567.89  908128050 $137,500.00    $-4.31\n",
       "1   $134,791.43  535450070 $133,000.00     $1.35\n",
       "2   $227,949.44  906223180 $215,000.00     $6.02\n",
       "3   $146,896.75  909253180 $145,000.00     $1.31\n",
       "4   $144,407.25  905103180 $132,000.00     $9.40\n",
       "..          ...        ...         ...       ...\n",
       "478 $210,358.60  903206120 $209,500.00     $0.41\n",
       "479 $207,686.35  907290090 $213,000.00    $-2.49\n",
       "480 $122,660.10  527450080 $125,500.00    $-2.26\n",
       "481 $148,264.67  535402230 $147,000.00     $0.86\n",
       "482 $151,627.24  534225120 $142,600.00     $6.33\n",
       "\n",
       "[483 rows x 4 columns]"
      ]
     },
     "execution_count": 34,
     "metadata": {},
     "output_type": "execute_result"
    }
   ],
   "source": [
    "# final = pd.concat([predict, test_data_linear, test_target_linear], axis =1)\n",
    "# pd.options.display.float_format = '${:,.2f}'.format\n",
    "# final['SalePrice'] = np.exp(final['SalePrice'])\n",
    "# final['Prediction'] = np.exp(final['Prediction'])\n",
    "# final['Pct_diff'] = ((final['Prediction'] - final['SalePrice'])/ final['SalePrice'])*100\n",
    "# final[['Prediction', 'PID','SalePrice', 'Pct_diff']]\n"
   ]
  },
  {
   "cell_type": "markdown",
   "metadata": {},
   "source": [
    "## Random Forrest   "
   ]
  },
  {
   "cell_type": "code",
   "execution_count": 13,
   "metadata": {},
   "outputs": [
    {
     "data": {
      "text/plain": [
       "RandomForestRegressor(random_state=0)"
      ]
     },
     "execution_count": 13,
     "metadata": {},
     "output_type": "execute_result"
    }
   ],
   "source": [
    "# rf_model = RandomForestRegressor(random_state=0)\n",
    "# # rf_model.fit(train_data_tree, train_target_tree)\n"
   ]
  },
  {
   "cell_type": "code",
   "execution_count": 14,
   "metadata": {},
   "outputs": [
    {
     "name": "stdout",
     "output_type": "stream",
     "text": [
      "Train set MSE is 0.002\n",
      "Train set R2 is 0.987\n",
      "Test set MSE is 0.014\n",
      "Test set R2 is 0.900\n"
     ]
    }
   ],
   "source": [
    "# train_preds = rf_model.predict(train_data_tree)\n",
    "# train_mse = mean_squared_error(train_target_tree, train_preds)\n",
    "# print('Train set MSE is {:.3f}'.format(train_mse))\n",
    "# print('Train set R2 is {:.3f}'.format(rf_model.score(train_data_tree, train_target_tree)))\n",
    "\n",
    "# train_preds_test = rf_model.predict(test_data_tree)\n",
    "# test_mse = mean_squared_error(test_target_tree, train_preds_test)\n",
    "# print('Test set MSE is {:.3f}'.format(test_mse))\n",
    "# print('Test set R2 is {:.3f}'.format(rf_model.score(test_data_tree, test_target_tree)))"
   ]
  },
  {
   "cell_type": "code",
   "execution_count": 15,
   "metadata": {},
   "outputs": [],
   "source": [
    "# predicted = pd.DataFrame(train_preds_test, columns = ['Prediction'])"
   ]
  },
  {
   "cell_type": "code",
   "execution_count": 16,
   "metadata": {},
   "outputs": [],
   "source": [
    "# final_tree = pd.concat([test_data_tree, predicted, test_target_tree], axis = 1)"
   ]
  },
  {
   "cell_type": "code",
   "execution_count": 17,
   "metadata": {},
   "outputs": [],
   "source": [
    "# final_tree['SalePrice'] = np.exp(final_tree['SalePrice'])\n",
    "# final_tree['Prediction'] = np.exp(final_tree['Prediction'])\n"
   ]
  },
  {
   "cell_type": "code",
   "execution_count": 19,
   "metadata": {},
   "outputs": [
    {
     "data": {
      "text/plain": [
       "[('TotalLivArea', 0.611769695940967),\n",
       " ('OverallQual', 0.08686860517170654),\n",
       " ('YearBuilt', 0.05478411049723338),\n",
       " ('ExterQual', 0.049732995132640796),\n",
       " ('GarageArea', 0.033503359751477224),\n",
       " ('LotArea', 0.01584924789713022),\n",
       " ('YearRemodAdd', 0.014954010733209075),\n",
       " ('OverallCond', 0.01378381832177892),\n",
       " ('GarageYrBlt', 0.009841980604745044),\n",
       " ('Fireplaces', 0.00858066722733795),\n",
       " ('Bsmt_Unfin_Ratio', 0.008524948559485133),\n",
       " ('KitchenQual', 0.007377373224292001),\n",
       " ('PID', 0.0066638062850456125),\n",
       " ('LotFrontage', 0.005476215459166589),\n",
       " ('Neighborhood', 0.004804537389080459),\n",
       " ('BsmtFinType1', 0.004671099787307095),\n",
       " ('GarageType', 0.0040362385248738355),\n",
       " ('MSSubClass', 0.004009441058954551),\n",
       " ('OpenPorchSF', 0.0038353831218833796),\n",
       " ('CentralAir', 0.0034308679995132658),\n",
       " ('MasVnrArea', 0.003281391509908226),\n",
       " ('MSZoning', 0.0030934202532820164),\n",
       " ('WoodDeckSF', 0.002615876766571731),\n",
       " ('MoSold', 0.0026002048637404837),\n",
       " ('EnclosedPorch', 0.0024281681202639863),\n",
       " ('BsmtQual', 0.0022498547293096686),\n",
       " ('PavedDrive', 0.0017897360765342229),\n",
       " ('Exterior2nd', 0.0017884314448188532),\n",
       " ('YrSold', 0.0017004589642014435),\n",
       " ('TotRmsAbvGrd', 0.0016950630354934432),\n",
       " ('BedroomAbvGr', 0.0016925787734640156),\n",
       " ('HouseStyle', 0.0016309739405735953),\n",
       " ('HeatingQC', 0.0016023044418268806),\n",
       " ('Exterior1st', 0.0015409506624618468),\n",
       " ('FireplaceQu', 0.0014426289907287628),\n",
       " ('BldgType', 0.001412564018458493),\n",
       " ('Condition1', 0.001291219755888969),\n",
       " ('LandContour', 0.001281205711673015),\n",
       " ('Functional', 0.0012637904658004946),\n",
       " ('RoofStyle', 0.0012105228785506952),\n",
       " ('GarageFinish', 0.0010845709982900099),\n",
       " ('BsmtExposure', 0.0010809616888953612),\n",
       " ('ExterCond', 0.000986654442348672),\n",
       " ('Foundation', 0.0008181897850172646),\n",
       " ('GarageQual', 0.0007666084615027086),\n",
       " ('BsmtCond', 0.0007509006448235793),\n",
       " ('ScreenPorch', 0.0007193811534902733),\n",
       " ('Fence', 0.0006867344540242103),\n",
       " ('LotConfig', 0.0006744629690918775),\n",
       " ('LotShape', 0.0006665997066992729),\n",
       " ('BsmtFinType2', 0.0005771943708851823),\n",
       " ('LandSlope', 0.0005427562694095757),\n",
       " ('MasVnrType', 0.0004968458513767149),\n",
       " ('3SsnPorch', 3.839111276645407e-05),\n",
       " ('SaleCondition', 0.0)]"
      ]
     },
     "execution_count": 19,
     "metadata": {},
     "output_type": "execute_result"
    }
   ],
   "source": [
    "# ## Look at which features had the most important coefficients \n",
    "# sorted(zip(train_data_tree.columns, rf_model.feature_importances_), key = lambda t: t[1], reverse=True)\n"
   ]
  }
 ],
 "metadata": {
  "interpreter": {
   "hash": "0361ced4ee9008cee796c675e99fc9755dfaef9b8a7e8c7e0212b1562f6bd272"
  },
  "kernelspec": {
   "display_name": "Python 3.8.8 64-bit ('base': conda)",
   "name": "python3"
  },
  "language_info": {
   "codemirror_mode": {
    "name": "ipython",
    "version": 3
   },
   "file_extension": ".py",
   "mimetype": "text/x-python",
   "name": "python",
   "nbconvert_exporter": "python",
   "pygments_lexer": "ipython3",
   "version": "3.8.8"
  }
 },
 "nbformat": 4,
 "nbformat_minor": 2
}

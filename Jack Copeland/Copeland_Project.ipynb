{
 "cells": [
  {
   "cell_type": "markdown",
   "metadata": {},
   "source": [
    "# Housing Regression Maching Learning Project"
   ]
  },
  {
   "cell_type": "markdown",
   "metadata": {},
   "source": [
    "### Imports (Data and Packages)"
   ]
  },
  {
   "cell_type": "code",
   "execution_count": 146,
   "metadata": {},
   "outputs": [],
   "source": [
    "import numpy as np\n",
    "import pandas as pd\n",
    "import seaborn as sns\n",
    "import matplotlib.pyplot as plt\n",
    "from sklearn.pipeline import Pipeline\n",
    "from data_preprocessing_final import cleaning, dummify_func\n",
    "from sklearn.preprocessing import StandardScaler, MinMaxScaler\n",
    "%matplotlib inline "
   ]
  },
  {
   "cell_type": "code",
   "execution_count": 147,
   "metadata": {},
   "outputs": [
    {
     "name": "stderr",
     "output_type": "stream",
     "text": [
      "C:\\Users\\jackc\\anaconda3\\lib\\site-packages\\IPython\\core\\interactiveshell.py:3165: DtypeWarning: Columns (36,40,81,87) have mixed types.Specify dtype option on import or set low_memory=False.\n",
      "  has_raised = await self.run_ast_nodes(code_ast.body, cell_name,\n"
     ]
    }
   ],
   "source": [
    "housing = pd.read_csv('./data/Ames_Housing_Price_Data.csv', index_col=0)\n",
    "housing = housing[housing['SaleCondition'] == 'Normal']\n",
    "real_estate = pd.read_csv('./data/Ames_Real_Estate_data.csv' , index_col = 0)"
   ]
  },
  {
   "cell_type": "code",
   "execution_count": 148,
   "metadata": {},
   "outputs": [],
   "source": [
    "housing = cleaning(housing)\n",
    "input, target = dummify_func(housing)\n",
    "target = np.log(target)"
   ]
  },
  {
   "cell_type": "code",
   "execution_count": 149,
   "metadata": {},
   "outputs": [
    {
     "data": {
      "text/plain": [
       "(2413, 423)"
      ]
     },
     "execution_count": 149,
     "metadata": {},
     "output_type": "execute_result"
    }
   ],
   "source": [
    "input.shape"
   ]
  },
  {
   "cell_type": "markdown",
   "metadata": {},
   "source": [
    "### EDA"
   ]
  },
  {
   "cell_type": "code",
   "execution_count": 134,
   "metadata": {},
   "outputs": [
    {
     "name": "stdout",
     "output_type": "stream",
     "text": [
      "Highly correlated variables are: \n",
      "GrLivArea      0.736040\n",
      "SalePrice      1.000000\n",
      "OverallQual    0.787266\n",
      "TotalBsmtSF    0.642555\n",
      "1stFlrSF       0.634755\n",
      "GarageCars     0.632217\n",
      "GarageArea     0.621855\n",
      "Name: SalePrice, dtype: float64\n",
      "------------------------------------------------------------------------------------------------------------------------------------------------------\n",
      "Medium correlated variables are: \n",
      "YearBuilt       0.533163\n",
      "YearRemodAdd    0.501543\n",
      "MasVnrArea      0.486528\n",
      "BsmtFinSF1      0.454164\n",
      "FullBath        0.548532\n",
      "TotRmsAbvGrd    0.496571\n",
      "Fireplaces      0.493448\n",
      "Name: SalePrice, dtype: float64\n",
      "------------------------------------------------------------------------------------------------------------------------------------------------------\n",
      "Low correlated variables are: \n",
      "PID             -0.207391\n",
      "MSSubClass      -0.075707\n",
      "LotFrontage      0.344709\n",
      "LotArea          0.275087\n",
      "OverallCond     -0.091298\n",
      "BsmtFinSF2       0.038297\n",
      "BsmtUnfSF        0.159640\n",
      "2ndFlrSF         0.293441\n",
      "LowQualFinSF    -0.025805\n",
      "BsmtFullBath     0.286967\n",
      "BsmtHalfBath    -0.029065\n",
      "HalfBath         0.292503\n",
      "BedroomAbvGr     0.183487\n",
      "KitchenAbvGr    -0.114423\n",
      "WoodDeckSF       0.350006\n",
      "OpenPorchSF      0.326376\n",
      "EnclosedPorch   -0.118043\n",
      "3SsnPorch        0.016043\n",
      "ScreenPorch      0.116738\n",
      "PoolArea         0.035699\n",
      "MiscVal         -0.016696\n",
      "MoSold           0.001308\n",
      "YrSold           0.022473\n",
      "Name: SalePrice, dtype: float64\n"
     ]
    }
   ],
   "source": [
    "## See correlations related to sale price and to eyeball which features might matter the most \n",
    "corrs = housing.corr()\n",
    "highly_correlated = corrs[np.abs(corrs['SalePrice']) >= .6]\n",
    "medium_correlated = corrs[np.abs(corrs['SalePrice']).between(.4,.6)] \n",
    "low_correlated = corrs[(np.abs(corrs['SalePrice']) < .4)] \n",
    "\n",
    "## Print out column headers that are going to have high and medium correlations to sales price \n",
    "print('Highly correlated variables are: ')\n",
    "print(highly_correlated['SalePrice'])\n",
    "print('-'*150)\n",
    "print('Medium correlated variables are: ')\n",
    "print(medium_correlated['SalePrice'])\n",
    "print('-'*150)\n",
    "print('Low correlated variables are: ')\n",
    "print(low_correlated['SalePrice'])"
   ]
  },
  {
   "cell_type": "markdown",
   "metadata": {},
   "source": [
    "### Start dummifying variables and look at multicollinearity"
   ]
  },
  {
   "cell_type": "code",
   "execution_count": 135,
   "metadata": {},
   "outputs": [],
   "source": [
    "## Identify Categorical Variables and create a list of them (With PID included so we can use as key later on)\n",
    "category_list = list(housing.select_dtypes('object').columns)\n",
    "category_list.append('PID')\n",
    "\n",
    "## Use the list above to create a dataframe with just the categorical variables and PID\n",
    "category_variables = housing[housing.columns.intersection(category_list)]\n",
    "\n",
    "## Dummify the categorical variables\n",
    "category = pd.get_dummies(data = category_variables, prefix_sep = '_' , drop_first=True)\n",
    "\n",
    "## Remove the original categorical values from the dataframe and merge the dummified and original values into a new dataframe called final\n",
    "housing.drop(columns = housing.select_dtypes('object').columns, axis =1, inplace=True)\n",
    "final = pd.merge(housing, category, on = 'PID')\n"
   ]
  },
  {
   "cell_type": "markdown",
   "metadata": {},
   "source": [
    "## Begin work on Lasso Regression"
   ]
  },
  {
   "cell_type": "code",
   "execution_count": 136,
   "metadata": {},
   "outputs": [],
   "source": [
    "## Working on Lasso Regression\n",
    "from sklearn.linear_model import Lasso\n",
    "lasso = Lasso()"
   ]
  },
  {
   "cell_type": "code",
   "execution_count": 137,
   "metadata": {},
   "outputs": [],
   "source": [
    "from sklearn.model_selection import train_test_split\n",
    "X_train, X_test, Y_train, Y_test = train_test_split(input,target,test_size=0.2)"
   ]
  },
  {
   "cell_type": "code",
   "execution_count": 138,
   "metadata": {},
   "outputs": [
    {
     "name": "stderr",
     "output_type": "stream",
     "text": [
      "<ipython-input-138-733b66012527>:8: UserWarning: With alpha=0, this algorithm does not converge well. You are advised to use the LinearRegression estimator\n",
      "  lasso.fit(X_train, Y_train)\n",
      "C:\\Users\\jackc\\anaconda3\\lib\\site-packages\\sklearn\\linear_model\\_coordinate_descent.py:530: UserWarning: Coordinate descent with no regularization may lead to unexpected results and is discouraged.\n",
      "  model = cd_fast.enet_coordinate_descent(\n",
      "C:\\Users\\jackc\\anaconda3\\lib\\site-packages\\sklearn\\linear_model\\_coordinate_descent.py:530: ConvergenceWarning: Objective did not converge. You might want to increase the number of iterations. Duality gap: 5.163377132683285, tolerance: 0.026677764686479925\n",
      "  model = cd_fast.enet_coordinate_descent(\n"
     ]
    }
   ],
   "source": [
    "## Find the right Alpha \n",
    "\n",
    "train_R2 = []\n",
    "test_R2  = []\n",
    "alphaRange = np.linspace(0,0.002,100)\n",
    "for alpha in alphaRange:\n",
    "    lasso.set_params(alpha=alpha, normalize=True, max_iter=2000)  \n",
    "    lasso.fit(X_train, Y_train)\n",
    "    train_R2.append(lasso.score(X_train, Y_train))\n",
    "    test_R2.append(lasso.score(X_test, Y_test))"
   ]
  },
  {
   "cell_type": "code",
   "execution_count": 139,
   "metadata": {},
   "outputs": [
    {
     "data": {
      "text/plain": [
       "<matplotlib.legend.Legend at 0x2ae22672c10>"
      ]
     },
     "execution_count": 139,
     "metadata": {},
     "output_type": "execute_result"
    },
    {
     "data": {
      "image/png": "[encoded data removed]",
      "text/plain": [
       "<Figure size 432x288 with 1 Axes>"
      ]
     },
     "metadata": {
      "needs_background": "light"
     },
     "output_type": "display_data"
    }
   ],
   "source": [
    "# Plot the train R2 and test R2 to see where they intersect\n",
    "\n",
    "plt.plot(alphaRange, train_R2, label=r'train set $R^2$')\n",
    "plt.plot(alphaRange, test_R2, label=r'test set $R^2$')\n",
    "plt.legend(loc=4)"
   ]
  },
  {
   "cell_type": "code",
   "execution_count": 140,
   "metadata": {},
   "outputs": [
    {
     "name": "stdout",
     "output_type": "stream",
     "text": [
      "The intercept is -3.0110\n",
      "The slopes are PID            -5.635350e-11\n",
      "GrLivArea       3.317619e-04\n",
      "LotArea         3.088379e-06\n",
      "YearBuilt       3.877151e-03\n",
      "YearRemodAdd    3.337950e-03\n",
      "                    ...     \n",
      "MiscVal_750    -0.000000e+00\n",
      "MiscVal_80      0.000000e+00\n",
      "MiscVal_800    -0.000000e+00\n",
      "MiscVal_8300   -0.000000e+00\n",
      "MiscVal_900    -0.000000e+00\n",
      "Length: 423, dtype: float64\n"
     ]
    }
   ],
   "source": [
    "#With alpha set to .012, use the lasso model\n",
    "\n",
    "lasso.set_params(alpha=.0125, normalize=False)\n",
    "lasso.fit(input, target)\n",
    "print('The intercept is %.4f' %(lasso.intercept_))\n",
    "lassoCoef = pd.Series(lasso.coef_, index=input.columns)\n",
    "print('The slopes are %s' %(lassoCoef))"
   ]
  },
  {
   "cell_type": "code",
   "execution_count": 141,
   "metadata": {},
   "outputs": [],
   "source": [
    "lasso_pd = pd.DataFrame(lassoCoef)"
   ]
  },
  {
   "cell_type": "code",
   "execution_count": 142,
   "metadata": {},
   "outputs": [],
   "source": [
    "lasso_pd.reset_index(inplace=True)\n",
    "lasso_pd.columns = ['Feature', 'Lasso_coef']"
   ]
  },
  {
   "cell_type": "code",
   "execution_count": 143,
   "metadata": {},
   "outputs": [
    {
     "data": {
      "text/html": [
       "<div>\n",
       "<style scoped>\n",
       "    .dataframe tbody tr th:only-of-type {\n",
       "        vertical-align: middle;\n",
       "    }\n",
       "\n",
       "    .dataframe tbody tr th {\n",
       "        vertical-align: top;\n",
       "    }\n",
       "\n",
       "    .dataframe thead th {\n",
       "        text-align: right;\n",
       "    }\n",
       "</style>\n",
       "<table border=\"1\" class=\"dataframe\">\n",
       "  <thead>\n",
       "    <tr style=\"text-align: right;\">\n",
       "      <th></th>\n",
       "      <th>Feature</th>\n",
       "      <th>Lasso_coef</th>\n",
       "    </tr>\n",
       "  </thead>\n",
       "  <tbody>\n",
       "    <tr>\n",
       "      <th>13</th>\n",
       "      <td>Fireplaces</td>\n",
       "      <td>3.222695e-02</td>\n",
       "    </tr>\n",
       "    <tr>\n",
       "      <th>166</th>\n",
       "      <td>BsmtFinType1_GLQ</td>\n",
       "      <td>6.384386e-03</td>\n",
       "    </tr>\n",
       "    <tr>\n",
       "      <th>3</th>\n",
       "      <td>YearBuilt</td>\n",
       "      <td>3.877151e-03</td>\n",
       "    </tr>\n",
       "    <tr>\n",
       "      <th>4</th>\n",
       "      <td>YearRemodAdd</td>\n",
       "      <td>3.337950e-03</td>\n",
       "    </tr>\n",
       "    <tr>\n",
       "      <th>18</th>\n",
       "      <td>ScreenPorch</td>\n",
       "      <td>4.833867e-04</td>\n",
       "    </tr>\n",
       "    <tr>\n",
       "      <th>...</th>\n",
       "      <td>...</td>\n",
       "      <td>...</td>\n",
       "    </tr>\n",
       "    <tr>\n",
       "      <th>142</th>\n",
       "      <td>ExterCond_Fa</td>\n",
       "      <td>-0.000000e+00</td>\n",
       "    </tr>\n",
       "    <tr>\n",
       "      <th>0</th>\n",
       "      <td>PID</td>\n",
       "      <td>-5.635350e-11</td>\n",
       "    </tr>\n",
       "    <tr>\n",
       "      <th>7</th>\n",
       "      <td>LowQualFinSF</td>\n",
       "      <td>-2.038813e-04</td>\n",
       "    </tr>\n",
       "    <tr>\n",
       "      <th>19</th>\n",
       "      <td>PoolArea</td>\n",
       "      <td>-3.211707e-04</td>\n",
       "    </tr>\n",
       "    <tr>\n",
       "      <th>10</th>\n",
       "      <td>BedroomAbvGr</td>\n",
       "      <td>-3.888323e-03</td>\n",
       "    </tr>\n",
       "  </tbody>\n",
       "</table>\n",
       "<p>423 rows × 2 columns</p>\n",
       "</div>"
      ],
      "text/plain": [
       "              Feature    Lasso_coef\n",
       "13         Fireplaces  3.222695e-02\n",
       "166  BsmtFinType1_GLQ  6.384386e-03\n",
       "3           YearBuilt  3.877151e-03\n",
       "4        YearRemodAdd  3.337950e-03\n",
       "18        ScreenPorch  4.833867e-04\n",
       "..                ...           ...\n",
       "142      ExterCond_Fa -0.000000e+00\n",
       "0                 PID -5.635350e-11\n",
       "7        LowQualFinSF -2.038813e-04\n",
       "19           PoolArea -3.211707e-04\n",
       "10       BedroomAbvGr -3.888323e-03\n",
       "\n",
       "[423 rows x 2 columns]"
      ]
     },
     "execution_count": 143,
     "metadata": {},
     "output_type": "execute_result"
    }
   ],
   "source": [
    "lasso_pd.sort_values(by = ['Lasso_coef'], ascending=False)"
   ]
  },
  {
   "cell_type": "code",
   "execution_count": 144,
   "metadata": {},
   "outputs": [
    {
     "data": {
      "text/plain": [
       "0.8184796674577385"
      ]
     },
     "execution_count": 144,
     "metadata": {},
     "output_type": "execute_result"
    }
   ],
   "source": [
    "lasso.score(X_train, Y_train)"
   ]
  },
  {
   "cell_type": "code",
   "execution_count": 145,
   "metadata": {},
   "outputs": [
    {
     "data": {
      "text/plain": [
       "0.8243065215713846"
      ]
     },
     "execution_count": 145,
     "metadata": {},
     "output_type": "execute_result"
    }
   ],
   "source": [
    "lasso.score(X_test, Y_test)"
   ]
  }
 ],
 "metadata": {
  "interpreter": {
   "hash": "0361ced4ee9008cee796c675e99fc9755dfaef9b8a7e8c7e0212b1562f6bd272"
  },
  "kernelspec": {
   "display_name": "Python 3.8.8 64-bit ('base': conda)",
   "name": "python3"
  },
  "language_info": {
   "codemirror_mode": {
    "name": "ipython",
    "version": 3
   },
   "file_extension": ".py",
   "mimetype": "text/x-python",
   "name": "python",
   "nbconvert_exporter": "python",
   "pygments_lexer": "ipython3",
   "version": "3.8.8"
  },
  "orig_nbformat": 4
 },
 "nbformat": 4,
 "nbformat_minor": 2
}

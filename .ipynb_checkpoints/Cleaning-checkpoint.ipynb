{
 "cells": [
  {
   "cell_type": "markdown",
   "metadata": {},
   "source": [
    "# Data Cleaning"
   ]
  },
  {
   "cell_type": "code",
   "execution_count": 1,
   "metadata": {},
   "outputs": [],
   "source": [
    "import numpy as np\n",
    "import pandas as pd\n",
    "from matplotlib import pyplot as plt"
   ]
  },
  {
   "cell_type": "markdown",
   "metadata": {},
   "source": [
    "Read both .csv files for cleaning\n",
    "* Ames Real Estate Data = data\n",
    "* Amex_HousePrice = house"
   ]
  },
  {
   "cell_type": "code",
   "execution_count": 7,
   "metadata": {},
   "outputs": [],
   "source": [
    "data = pd.read_csv(\"Ames Real Estate Data.csv\", index_col=0)\n",
    "house = pd.read_csv('Ames_HousePrice.csv', index_col=0)"
   ]
  },
  {
   "cell_type": "markdown",
   "metadata": {},
   "source": [
    "Start with data"
   ]
  },
  {
   "cell_type": "code",
   "execution_count": 10,
   "metadata": {},
   "outputs": [
    {
     "data": {
      "text/plain": [
       "Index(['GeoRefNo', 'Tier', 'Range', 'Prop_Addr', 'ZngCdPr', 'ZngCdSc',\n",
       "       'ZngOLPr', 'ZngOLSc', 'ClassPr_S', 'ClassSc_S', 'Legal_Pr', 'SchD_S',\n",
       "       'TxD_S', 'MA_Ownr1', 'MA_Ownr2', 'MA_Line1', 'MA_Line2', 'MA_City',\n",
       "       'MA_State', 'MA_Zip1', 'MA_Zip2', 'Rcrd_Yr', 'Rcrd_Mo', 'Inst1_No',\n",
       "       'Inst1_Yr', 'Inst1_Mo', 'Inst1TPr', 'LndAc_S', 'ImpAc_S', 'OthAc_S',\n",
       "       'TtlVal_AsrYr', 'ValType', 'X1TPr_D', 'X1TSc_D', 'X2TPr_D', 'X2TSc_D',\n",
       "       'X1TPr_S', 'X1TSc_S', 'X2TPr_S', 'X2TSc_S', 'LndAcX1S', 'ImpAcX1S',\n",
       "       'ImpAcX2S', 'HSTtl_D', 'MilVal_D', 'HSTtl_S', 'MilVal_S', 'AcreX_S1',\n",
       "       'AcreGr', 'AcreNt_S', 'Neighborhood', 'LotArea', 'ParType', 'BldgNo_S',\n",
       "       'DwlgNo_S', 'BldgType', 'YrBuilt', 'HouseStyle', 'Foundation',\n",
       "       'RoofMatl', 'Ext1', 'Ext2', 'MasVnrType', 'Heating', 'Central Air',\n",
       "       'GLA', 'TtlBsmtSF', 'TotRmsAbvGrd', 'Fireplaces', 'PoolArea',\n",
       "       'GarageType', 'GarYrBlt', 'Cars', 'GarageArea', 'YrSold_YYYY',\n",
       "       'MoSold_MM', 'SalePrice', 'SaleType', 'SaleCond', 'ParclRel', 'PA-Nmbr',\n",
       "       'PA-PreD', 'PA-Strt', 'PA-StSfx', 'PA-PostD', 'PA-UnTyp', 'PA-UntNo',\n",
       "       'Date', 'Source', 'NmbrBRs'],\n",
       "      dtype='object')"
      ]
     },
     "execution_count": 10,
     "metadata": {},
     "output_type": "execute_result"
    }
   ],
   "source": [
    "data.columns"
   ]
  },
  {
   "cell_type": "markdown",
   "metadata": {},
   "source": [
    "Checking for NAs"
   ]
  },
  {
   "cell_type": "code",
   "execution_count": 15,
   "metadata": {},
   "outputs": [
    {
     "data": {
      "text/plain": [
       "GeoRefNo         0\n",
       "Tier             0\n",
       "Range            0\n",
       "Prop_Addr       20\n",
       "ZngCdPr        106\n",
       "             ...  \n",
       "PA-UnTyp     14468\n",
       "PA-UntNo     14096\n",
       "Date             0\n",
       "Source           0\n",
       "NmbrBRs       4308\n",
       "Length: 90, dtype: int64"
      ]
     },
     "execution_count": 15,
     "metadata": {},
     "output_type": "execute_result"
    }
   ],
   "source": [
    "data.isnull().sum()"
   ]
  },
  {
   "cell_type": "code",
   "execution_count": 18,
   "metadata": {},
   "outputs": [
    {
     "data": {
      "text/plain": [
       "Index(['Prop_Addr', 'ZngCdPr', 'ZngCdSc', 'ZngOLPr', 'ZngOLSc', 'MA_Ownr2',\n",
       "       'MA_Line1', 'MA_Line2', 'MA_City', 'MA_State', 'MA_Zip1', 'MA_Zip2',\n",
       "       'Rcrd_Yr', 'Rcrd_Mo', 'Inst1_No', 'Inst1_Yr', 'Inst1_Mo', 'Inst1TPr',\n",
       "       'X1TPr_D', 'X1TSc_D', 'X2TPr_D', 'X2TSc_D', 'X1TPr_S', 'X1TSc_S',\n",
       "       'X2TPr_S', 'X2TSc_S', 'HSTtl_D', 'MilVal_D', 'HSTtl_S', 'MilVal_S',\n",
       "       'Neighborhood', 'LotArea', 'ParType', 'BldgType', 'YrBuilt',\n",
       "       'HouseStyle', 'Foundation', 'RoofMatl', 'Ext1', 'Ext2', 'MasVnrType',\n",
       "       'Heating', 'Central Air', 'GLA', 'TtlBsmtSF', 'TotRmsAbvGrd',\n",
       "       'Fireplaces', 'PoolArea', 'GarageType', 'GarYrBlt', 'Cars',\n",
       "       'GarageArea', 'YrSold_YYYY', 'MoSold_MM', 'SalePrice', 'SaleType',\n",
       "       'SaleCond', 'PA-Nmbr', 'PA-PreD', 'PA-Strt', 'PA-StSfx', 'PA-PostD',\n",
       "       'PA-UnTyp', 'PA-UntNo', 'NmbrBRs'],\n",
       "      dtype='object')"
      ]
     },
     "execution_count": 18,
     "metadata": {},
     "output_type": "execute_result"
    }
   ],
   "source": [
    "data.columns[data.isna().any()]"
   ]
  }
 ],
 "metadata": {
  "kernelspec": {
   "display_name": "Python 3",
   "language": "python",
   "name": "python3"
  },
  "language_info": {
   "codemirror_mode": {
    "name": "ipython",
    "version": 3
   },
   "file_extension": ".py",
   "mimetype": "text/x-python",
   "name": "python",
   "nbconvert_exporter": "python",
   "pygments_lexer": "ipython3",
   "version": "3.8.3"
  }
 },
 "nbformat": 4,
 "nbformat_minor": 4
}

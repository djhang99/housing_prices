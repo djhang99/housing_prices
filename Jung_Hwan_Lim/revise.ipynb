{
 "cells": [
  {
   "cell_type": "code",
   "execution_count": 1,
   "metadata": {},
   "outputs": [],
   "source": [
    "import pandas as pd"
   ]
  },
  {
   "cell_type": "code",
   "execution_count": 17,
   "metadata": {},
   "outputs": [],
   "source": [
    "housing = pd.read_csv('Ames_HousePrice.csv')"
   ]
  },
  {
   "cell_type": "code",
   "execution_count": 12,
   "metadata": {},
   "outputs": [],
   "source": [
    "# LotShape = split into Regular Irregular\n",
    "housing.loc[housing.LotShape == 'IR1', 'LotShape'] = 'IR'\n",
    "housing.loc[housing.LotShape == 'IR2', 'LotShape'] = 'IR'\n",
    "housing.loc[housing.LotShape == 'IR3', 'LotShape'] = 'IR'"
   ]
  },
  {
   "cell_type": "code",
   "execution_count": 13,
   "metadata": {},
   "outputs": [
    {
     "data": {
      "text/plain": [
       "<matplotlib.axes._subplots.AxesSubplot at 0x7fa44bf28dd0>"
      ]
     },
     "execution_count": 13,
     "metadata": {},
     "output_type": "execute_result"
    },
    {
     "data": {
      "image/png": "[encoded data removed]",
      "text/plain": [
       "<Figure size 720x360 with 1 Axes>"
      ]
     },
     "metadata": {
      "needs_background": "light"
     },
     "output_type": "display_data"
    }
   ],
   "source": [
    "# checking that the renaming worked \n",
    "\n",
    "import matplotlib.pyplot as plt\n",
    "import seaborn as sns\n",
    "\n",
    "lotcount  = housing['LotShape'].value_counts()\n",
    "plt.figure(figsize=(10,5))\n",
    "sns.barplot(lotcount.index, lotcount.values, alpha=0.8)"
   ]
  },
  {
   "cell_type": "code",
   "execution_count": 19,
   "metadata": {},
   "outputs": [],
   "source": [
    "# RoofStyle = Keep Hip/Gable, everything else \"other\"\n",
    "\n",
    "housing.loc[housing.RoofStyle == 'Gambrel', 'RoofStyle'] = 'Other'\n",
    "housing.loc[housing.RoofStyle == 'Flat', 'RoofStyle'] = 'Other'\n",
    "housing.loc[housing.RoofStyle == 'Mansard', 'RoofStyle'] = 'Other'\n",
    "housing.loc[housing.RoofStyle == 'Shed', 'RoofStyle'] = 'Other'"
   ]
  },
  {
   "cell_type": "code",
   "execution_count": 20,
   "metadata": {},
   "outputs": [
    {
     "data": {
      "text/plain": [
       "<matplotlib.axes._subplots.AxesSubplot at 0x7fa4491f53d0>"
      ]
     },
     "execution_count": 20,
     "metadata": {},
     "output_type": "execute_result"
    },
    {
     "data": {
      "image/png": "[encoded data removed]",
      "text/plain": [
       "<Figure size 720x360 with 1 Axes>"
      ]
     },
     "metadata": {
      "needs_background": "light"
     },
     "output_type": "display_data"
    }
   ],
   "source": [
    "roofcount  = housing['RoofStyle'].value_counts()\n",
    "plt.figure(figsize=(10,5))\n",
    "sns.barplot(roofcount.index, roofcount.values, alpha=0.8)"
   ]
  }
 ],
 "metadata": {
  "kernelspec": {
   "display_name": "Python 3",
   "language": "python",
   "name": "python3"
  },
  "language_info": {
   "codemirror_mode": {
    "name": "ipython",
    "version": 3
   },
   "file_extension": ".py",
   "mimetype": "text/x-python",
   "name": "python",
   "nbconvert_exporter": "python",
   "pygments_lexer": "ipython3",
   "version": "3.7.7"
  }
 },
 "nbformat": 4,
 "nbformat_minor": 4
}

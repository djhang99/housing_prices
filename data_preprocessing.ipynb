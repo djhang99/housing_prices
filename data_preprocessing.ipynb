{
 "cells": [
  {
   "cell_type": "markdown",
   "metadata": {},
   "source": [
    "## Functions"
   ]
  },
  {
   "cell_type": "markdown",
   "metadata": {},
   "source": [
    "#### This will serve as a uniform file we can all call to ensure our data is being cleaned the same way"
   ]
  },
  {
   "cell_type": "code",
   "execution_count": 4,
   "metadata": {},
   "outputs": [],
   "source": [
    "import numpy as np\n",
    "import pandas as pd"
   ]
  },
  {
   "cell_type": "code",
   "execution_count": 5,
   "metadata": {},
   "outputs": [],
   "source": [
    "## Cleaning is going to take the data and remove all null values \n",
    "\n",
    "def cleaning(dataframe):\n",
    "    ## Replace all null values based on context\n",
    "    housing = dataframe\n",
    "    ## LotFrontage -- replace with mean of the column \n",
    "    housing['LotFrontage'].fillna(value = housing['LotFrontage'].mean(), inplace = True)\n",
    "\n",
    "    ## Replace Nulls where NA just means that the house does not have the feature \n",
    "\n",
    "    ## Basement metrics\n",
    "    housing['BsmtQual'].fillna(value = 'No_Basement', inplace=True)\n",
    "    housing['BsmtCond'].fillna(value = 'No_Basement', inplace=True)\n",
    "    housing['BsmtExposure'].fillna(value = 'No_Basement', inplace=True)\n",
    "    housing['BsmtFinType1'].fillna(value = 'No_Basement', inplace=True)\n",
    "    housing['BsmtFinType2'].fillna(value = 'No_Basement', inplace=True)\n",
    "\n",
    "    ## Garage Type \n",
    "    housing['GarageType'].fillna(value = 'No_Garage', inplace=True)\n",
    "    housing['GarageYrBlt'].fillna(value = 'No_Garage', inplace=True)\n",
    "    housing['GarageFinish'].fillna(value = 'No_Garage', inplace=True)\n",
    "    housing['GarageQual'].fillna(value = 'No_Garage', inplace=True)\n",
    "    housing['GarageCond'].fillna(value = 'No_Garage', inplace=True)\n",
    "\n",
    "    ## Replace other nulls where null just means the feature is not there \n",
    "    housing['FireplaceQu'].fillna(value = 'No_Fireplace', inplace=True)\n",
    "    housing['PoolQC'].fillna(value = 'No_Pool', inplace=True)\n",
    "    housing['Fence'].fillna(value = 'No_Fence', inplace=True)\n",
    "    housing['MiscFeature'].fillna(value = 'No_Misc', inplace=True)\n",
    "    housing['Alley'].fillna(value = 'No_alley', inplace=True)\n",
    "\n",
    "    ##----------------------------------------------------------------##\n",
    "\n",
    "    ##Replacing nulls with 0s\n",
    "\n",
    "    housing['BsmtFinSF1'].fillna(value = 0, inplace=True)\n",
    "    housing['BsmtFinSF2'].fillna(value = 0, inplace=True)\n",
    "    housing['BsmtUnfSF'].fillna(value = 0, inplace=True)\n",
    "    housing['MasVnrType'].fillna(value = 0, inplace=True)\n",
    "    housing['TotalBsmtSF'].fillna(value = 0, inplace=True)\n",
    "    housing['MasVnrArea'].fillna(value = 0, inplace=True)\n",
    "    housing['BsmtFullBath'].fillna(value = 0, inplace=True)\n",
    "    housing['BsmtHalfBath'].fillna(value = 0, inplace=True)\n",
    "    housing['GarageCars'].fillna(value = 0, inplace=True)\n",
    "    housing['GarageArea'].fillna(value = 0, inplace=True)\n",
    "\n",
    "\n",
    "    ## At this point, only one null value remains in the \"Electric Column\". We will just remove that one row \n",
    "    housing.dropna(axis = 0, inplace = True)\n",
    "    return housing"
   ]
  }
 ],
 "metadata": {
  "interpreter": {
   "hash": "0361ced4ee9008cee796c675e99fc9755dfaef9b8a7e8c7e0212b1562f6bd272"
  },
  "kernelspec": {
   "display_name": "Python 3.8.8 64-bit ('base': conda)",
   "name": "python3"
  },
  "language_info": {
   "codemirror_mode": {
    "name": "ipython",
    "version": 3
   },
   "file_extension": ".py",
   "mimetype": "text/x-python",
   "name": "python",
   "nbconvert_exporter": "python",
   "pygments_lexer": "ipython3",
   "version": "3.8.8"
  },
  "orig_nbformat": 4
 },
 "nbformat": 4,
 "nbformat_minor": 2
}
